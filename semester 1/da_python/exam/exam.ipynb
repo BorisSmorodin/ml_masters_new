{
 "cells": [
  {
   "cell_type": "markdown",
   "metadata": {},
   "source": [
    "# Экзаменационное задание по курсу «Python для анализа данных»"
   ]
  },
  {
   "cell_type": "code",
   "execution_count": 2,
   "metadata": {},
   "outputs": [],
   "source": [
    "import numpy as np\n",
    "import pandas as pd\n",
    "import seaborn as sns\n",
    "import matplotlib.pyplot as plt"
   ]
  },
  {
   "cell_type": "markdown",
   "metadata": {},
   "source": [
    "## Задание 1: Работа с массивами NumPy\n",
    "Цель: Проверить знание методов NumPy для анализа данных.\n",
    "\n",
    "Задание:\n",
    "\n",
    "Создайте массив случайных чисел (50 элементов) из диапазона [10, 100].\n",
    "\n",
    "Найдите:\n",
    "- Среднее арифметическое массива.\n",
    "- Медиану.\n",
    "- Стандартное отклонение.\n",
    "- Создайте новый массив, где каждое число изначального массива делится на 3. Отфильтруйте числа, которые делятся без остатка.\n",
    "\n",
    "Ожидаемый ответ:\n",
    "\n",
    "- Вывод среднего, медианы, стандартного отклонения.\n",
    "- Новый массив и его фильтр.\n",
    "\n",
    "Балл: 6"
   ]
  },
  {
   "cell_type": "code",
   "execution_count": 14,
   "metadata": {},
   "outputs": [
    {
     "data": {
      "text/plain": [
       "array([ 12,  74,  45,  13,  26,  94,  79,  59,  63,  10,  15,  21,  43,\n",
       "        24,  21,  14,  18, 100,  63,  74,  37,  64,  74,  26,  36,  88,\n",
       "        24,  93,  56,  18,  87,  72,  28,  48,  70,  37,  93,  17,  46,\n",
       "        38,  26,  42,  98,  84,  59,  10,  49,  96,  43,  82])"
      ]
     },
     "metadata": {},
     "output_type": "display_data"
    },
    {
     "data": {
      "text/plain": [
       "50.18"
      ]
     },
     "metadata": {},
     "output_type": "display_data"
    },
    {
     "data": {
      "text/plain": [
       "45.5"
      ]
     },
     "metadata": {},
     "output_type": "display_data"
    },
    {
     "data": {
      "text/plain": [
       "28.118812208199692"
      ]
     },
     "metadata": {},
     "output_type": "display_data"
    },
    {
     "data": {
      "text/plain": [
       "array([ 4., 15., 21.,  5.,  7.,  8.,  7.,  6., 21., 12.,  8., 31.,  6.,\n",
       "       29., 24., 16., 31., 14., 28., 32.])"
      ]
     },
     "metadata": {},
     "output_type": "display_data"
    }
   ],
   "source": [
    "array = np.random.randint(10, 101, size=50)\n",
    "display(array)\n",
    "# Среднее арифметическое\n",
    "display(np.mean(array))\n",
    "# Медиана\n",
    "display(np.median(array))\n",
    "# Стандартное отклонение\n",
    "display(np.std(array))\n",
    "# Массив, разделённый на 3 и отфильтрованный согласно заданию\n",
    "display(array[array % 3 == 0] / 3)"
   ]
  },
  {
   "cell_type": "markdown",
   "metadata": {},
   "source": [
    "## Задание 2: Анализ данных с помощью Pandas\n",
    "Цель: Проверить навыки анализа и обработки данных.\n",
    "\n",
    "Данные: Используйте предоставленный CSV-файл (\"sales_data_large.csv\"), содержащий данные о продажах с полями:\n",
    "\n",
    "- date (дата продаж),\n",
    "- region (регион),\n",
    "- product (продукт),\n",
    "- sales (объем продаж).\n",
    "\n",
    "Задание:\n",
    "\n",
    "- Загрузите данные из файла.\n",
    "\n",
    "Определите:\n",
    "- Общее количество записей.\n",
    "- Какие регионы и продукты присутствуют в данных.\n",
    "\n",
    "Подсчитайте:\n",
    "- Общие продажи по регионам.\n",
    "- Средний объем продаж для каждого продукта.\n",
    "- Постройте сводную таблицу, показывающую средние продажи по регионам и продуктам.\n",
    "\n",
    "Ожидаемый ответ:\n",
    "\n",
    "- Итоги анализа данных.\n",
    "- Построенная сводная таблица.\n",
    "\n",
    "Балл: 9\n",
    "\n"
   ]
  },
  {
   "cell_type": "code",
   "execution_count": 39,
   "metadata": {},
   "outputs": [
    {
     "data": {
      "text/plain": [
       "500"
      ]
     },
     "metadata": {},
     "output_type": "display_data"
    },
    {
     "data": {
      "text/plain": [
       "array(['West', 'South', 'East', 'North'], dtype=object)"
      ]
     },
     "metadata": {},
     "output_type": "display_data"
    },
    {
     "data": {
      "text/html": [
       "<div>\n",
       "<style scoped>\n",
       "    .dataframe tbody tr th:only-of-type {\n",
       "        vertical-align: middle;\n",
       "    }\n",
       "\n",
       "    .dataframe tbody tr th {\n",
       "        vertical-align: top;\n",
       "    }\n",
       "\n",
       "    .dataframe thead th {\n",
       "        text-align: right;\n",
       "    }\n",
       "</style>\n",
       "<table border=\"1\" class=\"dataframe\">\n",
       "  <thead>\n",
       "    <tr style=\"text-align: right;\">\n",
       "      <th></th>\n",
       "      <th>sales</th>\n",
       "    </tr>\n",
       "    <tr>\n",
       "      <th>region</th>\n",
       "      <th></th>\n",
       "    </tr>\n",
       "  </thead>\n",
       "  <tbody>\n",
       "    <tr>\n",
       "      <th>East</th>\n",
       "      <td>29244</td>\n",
       "    </tr>\n",
       "    <tr>\n",
       "      <th>North</th>\n",
       "      <td>39605</td>\n",
       "    </tr>\n",
       "    <tr>\n",
       "      <th>South</th>\n",
       "      <td>33023</td>\n",
       "    </tr>\n",
       "    <tr>\n",
       "      <th>West</th>\n",
       "      <td>35171</td>\n",
       "    </tr>\n",
       "  </tbody>\n",
       "</table>\n",
       "</div>"
      ],
      "text/plain": [
       "        sales\n",
       "region       \n",
       "East    29244\n",
       "North   39605\n",
       "South   33023\n",
       "West    35171"
      ]
     },
     "metadata": {},
     "output_type": "display_data"
    },
    {
     "data": {
      "text/html": [
       "<div>\n",
       "<style scoped>\n",
       "    .dataframe tbody tr th:only-of-type {\n",
       "        vertical-align: middle;\n",
       "    }\n",
       "\n",
       "    .dataframe tbody tr th {\n",
       "        vertical-align: top;\n",
       "    }\n",
       "\n",
       "    .dataframe thead th {\n",
       "        text-align: right;\n",
       "    }\n",
       "</style>\n",
       "<table border=\"1\" class=\"dataframe\">\n",
       "  <thead>\n",
       "    <tr style=\"text-align: right;\">\n",
       "      <th></th>\n",
       "      <th>sales</th>\n",
       "    </tr>\n",
       "    <tr>\n",
       "      <th>product</th>\n",
       "      <th></th>\n",
       "    </tr>\n",
       "  </thead>\n",
       "  <tbody>\n",
       "    <tr>\n",
       "      <th>Widget A</th>\n",
       "      <td>275.424242</td>\n",
       "    </tr>\n",
       "    <tr>\n",
       "      <th>Widget B</th>\n",
       "      <td>268.331361</td>\n",
       "    </tr>\n",
       "    <tr>\n",
       "      <th>Widget C</th>\n",
       "      <td>278.614458</td>\n",
       "    </tr>\n",
       "  </tbody>\n",
       "</table>\n",
       "</div>"
      ],
      "text/plain": [
       "               sales\n",
       "product             \n",
       "Widget A  275.424242\n",
       "Widget B  268.331361\n",
       "Widget C  278.614458"
      ]
     },
     "metadata": {},
     "output_type": "display_data"
    },
    {
     "data": {
      "text/html": [
       "<div>\n",
       "<style scoped>\n",
       "    .dataframe tbody tr th:only-of-type {\n",
       "        vertical-align: middle;\n",
       "    }\n",
       "\n",
       "    .dataframe tbody tr th {\n",
       "        vertical-align: top;\n",
       "    }\n",
       "\n",
       "    .dataframe thead th {\n",
       "        text-align: right;\n",
       "    }\n",
       "</style>\n",
       "<table border=\"1\" class=\"dataframe\">\n",
       "  <thead>\n",
       "    <tr style=\"text-align: right;\">\n",
       "      <th>region</th>\n",
       "      <th>East</th>\n",
       "      <th>North</th>\n",
       "      <th>South</th>\n",
       "      <th>West</th>\n",
       "    </tr>\n",
       "    <tr>\n",
       "      <th>product</th>\n",
       "      <th></th>\n",
       "      <th></th>\n",
       "      <th></th>\n",
       "      <th></th>\n",
       "    </tr>\n",
       "  </thead>\n",
       "  <tbody>\n",
       "    <tr>\n",
       "      <th>Widget A</th>\n",
       "      <td>291.464286</td>\n",
       "      <td>289.145833</td>\n",
       "      <td>277.380952</td>\n",
       "      <td>250.106383</td>\n",
       "    </tr>\n",
       "    <tr>\n",
       "      <th>Widget B</th>\n",
       "      <td>263.116279</td>\n",
       "      <td>238.477273</td>\n",
       "      <td>282.833333</td>\n",
       "      <td>291.550000</td>\n",
       "    </tr>\n",
       "    <tr>\n",
       "      <th>Widget C</th>\n",
       "      <td>271.361111</td>\n",
       "      <td>304.660000</td>\n",
       "      <td>263.722222</td>\n",
       "      <td>267.136364</td>\n",
       "    </tr>\n",
       "  </tbody>\n",
       "</table>\n",
       "</div>"
      ],
      "text/plain": [
       "region          East       North       South        West\n",
       "product                                                 \n",
       "Widget A  291.464286  289.145833  277.380952  250.106383\n",
       "Widget B  263.116279  238.477273  282.833333  291.550000\n",
       "Widget C  271.361111  304.660000  263.722222  267.136364"
      ]
     },
     "execution_count": 39,
     "metadata": {},
     "output_type": "execute_result"
    }
   ],
   "source": [
    "# Считываем данные\n",
    "df = pd.read_csv(\"data/sales_data_large.csv\")\n",
    "# Определяем общее количество записей\n",
    "display(len(df))\n",
    "# Выводим уникальные регионы\n",
    "display(df.region.unique())\n",
    "# Общие продажи по регионам\n",
    "display(df[[\"region\", \"sales\"]].groupby(\"region\").sum())\n",
    "# Средний объём продаж для каждого продукета\n",
    "display(df[[\"product\", \"sales\"]].groupby(\"product\").mean())\n",
    "# Сводная таблица\n",
    "display(df.pivot_table(values=\"sales\", index=\"product\", columns=\"region\", aggfunc=\"mean\"))"
   ]
  },
  {
   "cell_type": "markdown",
   "metadata": {},
   "source": [
    "## Задание 3: Очистка данных и визуализация\n",
    "Цель: Проверить умение находить и исправлять ошибки в данных, а также визуализировать их.\n",
    "\n",
    "Данные: Используйте предоставленный CSV-файл (\"sales_cleaning_large.csv\"), содержащий данные о продажах с возможными пропущенными и некорректными значениями. \n",
    "\n",
    "Поля:\n",
    "\n",
    "- date (дата продаж),\n",
    "- sales (объем продаж),\n",
    "- region (регион).\n",
    "\n",
    "Задание:\n",
    "\n",
    "1. Найдите и устраните ошибки в данных:\n",
    "2. Заполните пропущенные даты.\n",
    "3. Удалите отрицательные значения в столбце sales или замените их на медиану столбца.\n",
    "4. Заполните пропущенные значения в sales средним значением.\n",
    "5. Постройте график продаж по датам. Убедитесь, что даты упорядочены.\n",
    "\n",
    "Ожидаемый ответ:\n",
    "\n",
    "- Обработанный DataFrame.\n",
    "- Построенный график.\n",
    "\n",
    "Балл: 10"
   ]
  },
  {
   "cell_type": "code",
   "execution_count": 94,
   "metadata": {},
   "outputs": [
    {
     "name": "stdout",
     "output_type": "stream",
     "text": [
      "<class 'pandas.core.frame.DataFrame'>\n",
      "Index: 111 entries, 1 to 195\n",
      "Data columns (total 3 columns):\n",
      " #   Column  Non-Null Count  Dtype  \n",
      "---  ------  --------------  -----  \n",
      " 0   date    107 non-null    object \n",
      " 1   sales   101 non-null    float64\n",
      " 2   region  111 non-null    object \n",
      "dtypes: float64(1), object(2)\n",
      "memory usage: 3.5+ KB\n"
     ]
    },
    {
     "data": {
      "text/plain": [
       "None"
      ]
     },
     "metadata": {},
     "output_type": "display_data"
    },
    {
     "name": "stdout",
     "output_type": "stream",
     "text": [
      "<class 'pandas.core.frame.DataFrame'>\n",
      "Index: 111 entries, 1 to 195\n",
      "Data columns (total 3 columns):\n",
      " #   Column  Non-Null Count  Dtype  \n",
      "---  ------  --------------  -----  \n",
      " 0   date    107 non-null    object \n",
      " 1   sales   101 non-null    float64\n",
      " 2   region  111 non-null    object \n",
      "dtypes: float64(1), object(2)\n",
      "memory usage: 3.5+ KB\n"
     ]
    },
    {
     "data": {
      "text/plain": [
       "None"
      ]
     },
     "metadata": {},
     "output_type": "display_data"
    },
    {
     "name": "stdout",
     "output_type": "stream",
     "text": [
      "<class 'pandas.core.frame.DataFrame'>\n",
      "Index: 111 entries, 1 to 195\n",
      "Data columns (total 3 columns):\n",
      " #   Column  Non-Null Count  Dtype  \n",
      "---  ------  --------------  -----  \n",
      " 0   date    111 non-null    object \n",
      " 1   sales   111 non-null    float64\n",
      " 2   region  111 non-null    object \n",
      "dtypes: float64(1), object(2)\n",
      "memory usage: 3.5+ KB\n"
     ]
    },
    {
     "data": {
      "text/plain": [
       "None"
      ]
     },
     "metadata": {},
     "output_type": "display_data"
    },
    {
     "data": {
      "image/png": "[encoded data removed]",
      "text/plain": [
       "<Figure size 640x480 with 1 Axes>"
      ]
     },
     "metadata": {},
     "output_type": "display_data"
    },
    {
     "data": {
      "image/png": "[encoded data removed]",
      "text/plain": [
       "<Figure size 640x480 with 1 Axes>"
      ]
     },
     "metadata": {},
     "output_type": "display_data"
    }
   ],
   "source": [
    "# Считываем данные\n",
    "df = pd.read_csv(\"data/sales_cleaning_large.csv\")\n",
    "# Удлаяем строки, содержащие отрицательные продажи\n",
    "df = df.drop(df[df['sales'] < 0].index)\n",
    "display(df.info())\n",
    "# Определяем пустые данные\n",
    "display(df.info())\n",
    "# Заполняем данные\n",
    "df.date = df.date.fillna(np.random.choice(df.date.dropna().unique()))\n",
    "df.sales = df.sales.fillna(df.sales.median())\n",
    "display(df.info())\n",
    "df.date = pd.to_datetime(df.date)\n",
    "# Графики продаж по датам\n",
    "fig_1 = sns.lineplot(\n",
    "    df[[\"date\", \"sales\"]],\n",
    "    x=df[\"date\"],\n",
    "    y=df[\"sales\"]\n",
    "    )\n",
    "plt.show()\n",
    "fig_2 = sns.barplot(\n",
    "    df[[\"date\", \"sales\"]],\n",
    "    x=df[\"date\"],\n",
    "    y=df[\"sales\"])\n",
    "plt.show()"
   ]
  },
  {
   "cell_type": "markdown",
   "metadata": {},
   "source": [
    "## Задание 4: Получение данных из API\n",
    "Цель: Проверить способность работать с веб-данными.\n",
    "\n",
    "Задание:\n",
    "\n",
    "1. Используйте открытое API (например, https://jsonplaceholder.typicode.com/users).\n",
    "2. Загрузите данные и создайте DataFrame с полями: id, name, email, company_name.\n",
    "3. Выведите таблицу с пользователями, работающими в компаниях, название которых содержит слово \"Group\".\n",
    "\n",
    "Ожидаемый ответ:\n",
    "\n",
    "- DataFrame с результатами фильтрации.\n",
    "Балл: 6\n",
    "\n"
   ]
  },
  {
   "cell_type": "markdown",
   "metadata": {},
   "source": [
    "$$\n",
    "\\begin{pmatrix}\n",
    "a_{11} & a_{12} \\\\\n",
    "a_{21} & a_{22}\n",
    "\\end{pmatrix}\n",
    "\\times\n",
    "\\begin{pmatrix}\n",
    "b_{11} & b_{12} \\\\\n",
    "b_{21} & b_{22}\n",
    "\\end{pmatrix}\n",
    "=\n",
    "\\begin{pmatrix}\n",
    "a_{11}b_{11} + a_{12}b_{21} & a_{11}b_{12} + a_{12}b_{22} \\\\\n",
    "a_{21}b_{11} + a_{22}b_{21} & a_{21}b_{12} + a_{22}b_{22}\n",
    "\\end{pmatrix}\n",
    "$$"
   ]
  },
  {
   "cell_type": "code",
   "execution_count": 100,
   "metadata": {},
   "outputs": [
    {
     "data": {
      "text/html": [
       "<div>\n",
       "<style scoped>\n",
       "    .dataframe tbody tr th:only-of-type {\n",
       "        vertical-align: middle;\n",
       "    }\n",
       "\n",
       "    .dataframe tbody tr th {\n",
       "        vertical-align: top;\n",
       "    }\n",
       "\n",
       "    .dataframe thead th {\n",
       "        text-align: right;\n",
       "    }\n",
       "</style>\n",
       "<table border=\"1\" class=\"dataframe\">\n",
       "  <thead>\n",
       "    <tr style=\"text-align: right;\">\n",
       "      <th></th>\n",
       "      <th>id</th>\n",
       "      <th>name</th>\n",
       "      <th>email</th>\n",
       "      <th>company_name</th>\n",
       "    </tr>\n",
       "  </thead>\n",
       "  <tbody>\n",
       "    <tr>\n",
       "      <th>6</th>\n",
       "      <td>7</td>\n",
       "      <td>Kurtis Weissnat</td>\n",
       "      <td>Telly.Hoeger@billy.biz</td>\n",
       "      <td>Johns Group</td>\n",
       "    </tr>\n",
       "    <tr>\n",
       "      <th>7</th>\n",
       "      <td>8</td>\n",
       "      <td>Nicholas Runolfsdottir V</td>\n",
       "      <td>Sherwood@rosamond.me</td>\n",
       "      <td>Abernathy Group</td>\n",
       "    </tr>\n",
       "  </tbody>\n",
       "</table>\n",
       "</div>"
      ],
      "text/plain": [
       "   id                      name                   email     company_name\n",
       "6   7           Kurtis Weissnat  Telly.Hoeger@billy.biz      Johns Group\n",
       "7   8  Nicholas Runolfsdottir V    Sherwood@rosamond.me  Abernathy Group"
      ]
     },
     "metadata": {},
     "output_type": "display_data"
    }
   ],
   "source": [
    "import requests\n",
    "# Загружаем данные\n",
    "url = \"https://jsonplaceholder.typicode.com/users\"\n",
    "json_data = requests.get(url).json()\n",
    "# Выбираем только необходимые поля из json'a\n",
    "df_data = [{\"id\": user[\"id\"], \"name\": user[\"name\"], \"email\": user[\"email\"], \"company_name\": user[\"company\"][\"name\"]} for user in json_data]\n",
    "# Загружаем в dataframe\n",
    "df = pd.DataFrame(df_data)\n",
    "# Вывод\n",
    "display(df[df[\"company_name\"].str.contains(\"Group\")])"
   ]
  }
 ],
 "metadata": {
  "kernelspec": {
   "display_name": "tf",
   "language": "python",
   "name": "python3"
  },
  "language_info": {
   "codemirror_mode": {
    "name": "ipython",
    "version": 3
   },
   "file_extension": ".py",
   "mimetype": "text/x-python",
   "name": "python",
   "nbconvert_exporter": "python",
   "pygments_lexer": "ipython3",
   "version": "3.11.0"
  }
 },
 "nbformat": 4,
 "nbformat_minor": 2
}
