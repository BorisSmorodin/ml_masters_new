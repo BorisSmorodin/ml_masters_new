{
 "cells": [
  {
   "cell_type": "markdown",
   "id": "9e334128",
   "metadata": {},
   "source": [
    "# Регрессия IC50"
   ]
  },
  {
   "cell_type": "code",
   "execution_count": 66,
   "id": "5f585e21",
   "metadata": {},
   "outputs": [],
   "source": [
    "import pandas as pd\n",
    "import matplotlib.pyplot as plt\n",
    "import seaborn as sns\n",
    "import numpy as np"
   ]
  },
  {
   "cell_type": "markdown",
   "id": "202cd2ba",
   "metadata": {},
   "source": [
    "## Загрузка данных и разделение на выборки"
   ]
  },
  {
   "cell_type": "code",
   "execution_count": 67,
   "id": "2fca8326",
   "metadata": {},
   "outputs": [],
   "source": [
    "from sklearn.model_selection import train_test_split"
   ]
  },
  {
   "cell_type": "code",
   "execution_count": 68,
   "id": "1635857c",
   "metadata": {},
   "outputs": [],
   "source": [
    "target = 'SI'"
   ]
  },
  {
   "cell_type": "code",
   "execution_count": 69,
   "id": "2eb23e9b",
   "metadata": {},
   "outputs": [],
   "source": [
    "df = pd.read_parquet(\"data/processed_data_full.parquet\")"
   ]
  },
  {
   "cell_type": "code",
   "execution_count": 70,
   "id": "00851146",
   "metadata": {},
   "outputs": [
    {
     "data": {
      "text/html": [
       "<div>\n",
       "<style scoped>\n",
       "    .dataframe tbody tr th:only-of-type {\n",
       "        vertical-align: middle;\n",
       "    }\n",
       "\n",
       "    .dataframe tbody tr th {\n",
       "        vertical-align: top;\n",
       "    }\n",
       "\n",
       "    .dataframe thead th {\n",
       "        text-align: right;\n",
       "    }\n",
       "</style>\n",
       "<table border=\"1\" class=\"dataframe\">\n",
       "  <thead>\n",
       "    <tr style=\"text-align: right;\">\n",
       "      <th></th>\n",
       "      <th>MaxAbsEStateIndex</th>\n",
       "      <th>MinAbsEStateIndex</th>\n",
       "      <th>MinEStateIndex</th>\n",
       "      <th>qed</th>\n",
       "      <th>SPS</th>\n",
       "      <th>MolWt</th>\n",
       "      <th>MaxPartialCharge</th>\n",
       "      <th>MinPartialCharge</th>\n",
       "      <th>FpDensityMorgan1</th>\n",
       "      <th>BCUT2D_MWHI</th>\n",
       "      <th>...</th>\n",
       "      <th>fr_sulfone</th>\n",
       "      <th>fr_term_acetylene</th>\n",
       "      <th>fr_tetrazole</th>\n",
       "      <th>fr_thiazole</th>\n",
       "      <th>fr_thiophene</th>\n",
       "      <th>fr_unbrch_alkane</th>\n",
       "      <th>fr_urea</th>\n",
       "      <th>IC50, mM</th>\n",
       "      <th>CC50, mM</th>\n",
       "      <th>SI</th>\n",
       "    </tr>\n",
       "  </thead>\n",
       "  <tbody>\n",
       "    <tr>\n",
       "      <th>0</th>\n",
       "      <td>-1.732405</td>\n",
       "      <td>1.222549</td>\n",
       "      <td>0.851581</td>\n",
       "      <td>-0.772814</td>\n",
       "      <td>1.052557</td>\n",
       "      <td>0.284504</td>\n",
       "      <td>-1.522105</td>\n",
       "      <td>1.500099</td>\n",
       "      <td>-2.075118</td>\n",
       "      <td>-0.576677</td>\n",
       "      <td>...</td>\n",
       "      <td>-0.095394</td>\n",
       "      <td>-0.03167</td>\n",
       "      <td>-0.03167</td>\n",
       "      <td>-0.234453</td>\n",
       "      <td>-0.274647</td>\n",
       "      <td>2.297254</td>\n",
       "      <td>-0.084045</td>\n",
       "      <td>6.239374</td>\n",
       "      <td>175.482382</td>\n",
       "      <td>28.125000</td>\n",
       "    </tr>\n",
       "    <tr>\n",
       "      <th>1</th>\n",
       "      <td>-2.074548</td>\n",
       "      <td>2.091417</td>\n",
       "      <td>0.943841</td>\n",
       "      <td>-0.560001</td>\n",
       "      <td>1.232249</td>\n",
       "      <td>0.316257</td>\n",
       "      <td>-1.722757</td>\n",
       "      <td>1.238276</td>\n",
       "      <td>-2.223551</td>\n",
       "      <td>-0.566152</td>\n",
       "      <td>...</td>\n",
       "      <td>-0.095394</td>\n",
       "      <td>-0.03167</td>\n",
       "      <td>-0.03167</td>\n",
       "      <td>-0.234453</td>\n",
       "      <td>-0.274647</td>\n",
       "      <td>2.297254</td>\n",
       "      <td>-0.084045</td>\n",
       "      <td>0.771831</td>\n",
       "      <td>5.402819</td>\n",
       "      <td>7.000000</td>\n",
       "    </tr>\n",
       "    <tr>\n",
       "      <th>2</th>\n",
       "      <td>-2.477594</td>\n",
       "      <td>2.146889</td>\n",
       "      <td>0.949731</td>\n",
       "      <td>-1.510821</td>\n",
       "      <td>0.994298</td>\n",
       "      <td>0.773991</td>\n",
       "      <td>-1.089544</td>\n",
       "      <td>1.078060</td>\n",
       "      <td>-2.409092</td>\n",
       "      <td>-0.540065</td>\n",
       "      <td>...</td>\n",
       "      <td>-0.095394</td>\n",
       "      <td>-0.03167</td>\n",
       "      <td>-0.03167</td>\n",
       "      <td>-0.234453</td>\n",
       "      <td>-0.274647</td>\n",
       "      <td>2.297254</td>\n",
       "      <td>-0.084045</td>\n",
       "      <td>223.808778</td>\n",
       "      <td>161.142320</td>\n",
       "      <td>0.720000</td>\n",
       "    </tr>\n",
       "    <tr>\n",
       "      <th>3</th>\n",
       "      <td>-1.731419</td>\n",
       "      <td>1.242563</td>\n",
       "      <td>0.853706</td>\n",
       "      <td>-0.959234</td>\n",
       "      <td>0.968714</td>\n",
       "      <td>0.394969</td>\n",
       "      <td>-1.522105</td>\n",
       "      <td>1.500099</td>\n",
       "      <td>-2.167248</td>\n",
       "      <td>-0.576750</td>\n",
       "      <td>...</td>\n",
       "      <td>-0.095394</td>\n",
       "      <td>-0.03167</td>\n",
       "      <td>-0.03167</td>\n",
       "      <td>-0.234453</td>\n",
       "      <td>-0.274647</td>\n",
       "      <td>3.119291</td>\n",
       "      <td>-0.084045</td>\n",
       "      <td>1.705624</td>\n",
       "      <td>107.855654</td>\n",
       "      <td>63.235294</td>\n",
       "    </tr>\n",
       "    <tr>\n",
       "      <th>4</th>\n",
       "      <td>-1.715364</td>\n",
       "      <td>0.530810</td>\n",
       "      <td>0.778129</td>\n",
       "      <td>-0.717729</td>\n",
       "      <td>0.548297</td>\n",
       "      <td>0.930745</td>\n",
       "      <td>-1.336166</td>\n",
       "      <td>1.977954</td>\n",
       "      <td>-2.253237</td>\n",
       "      <td>-0.576068</td>\n",
       "      <td>...</td>\n",
       "      <td>-0.095394</td>\n",
       "      <td>-0.03167</td>\n",
       "      <td>-0.03167</td>\n",
       "      <td>-0.234453</td>\n",
       "      <td>-0.274647</td>\n",
       "      <td>-0.168855</td>\n",
       "      <td>-0.084045</td>\n",
       "      <td>107.131532</td>\n",
       "      <td>139.270991</td>\n",
       "      <td>1.300000</td>\n",
       "    </tr>\n",
       "    <tr>\n",
       "      <th>...</th>\n",
       "      <td>...</td>\n",
       "      <td>...</td>\n",
       "      <td>...</td>\n",
       "      <td>...</td>\n",
       "      <td>...</td>\n",
       "      <td>...</td>\n",
       "      <td>...</td>\n",
       "      <td>...</td>\n",
       "      <td>...</td>\n",
       "      <td>...</td>\n",
       "      <td>...</td>\n",
       "      <td>...</td>\n",
       "      <td>...</td>\n",
       "      <td>...</td>\n",
       "      <td>...</td>\n",
       "      <td>...</td>\n",
       "      <td>...</td>\n",
       "      <td>...</td>\n",
       "      <td>...</td>\n",
       "      <td>...</td>\n",
       "      <td>...</td>\n",
       "    </tr>\n",
       "    <tr>\n",
       "      <th>993</th>\n",
       "      <td>0.636029</td>\n",
       "      <td>-0.787198</td>\n",
       "      <td>0.308399</td>\n",
       "      <td>-0.936087</td>\n",
       "      <td>1.540346</td>\n",
       "      <td>0.519892</td>\n",
       "      <td>0.634955</td>\n",
       "      <td>-0.805298</td>\n",
       "      <td>-0.036641</td>\n",
       "      <td>-0.455162</td>\n",
       "      <td>...</td>\n",
       "      <td>-0.095394</td>\n",
       "      <td>-0.03167</td>\n",
       "      <td>-0.03167</td>\n",
       "      <td>-0.234453</td>\n",
       "      <td>-0.274647</td>\n",
       "      <td>-0.168855</td>\n",
       "      <td>-0.084045</td>\n",
       "      <td>31.000104</td>\n",
       "      <td>34.999650</td>\n",
       "      <td>1.129017</td>\n",
       "    </tr>\n",
       "    <tr>\n",
       "      <th>994</th>\n",
       "      <td>0.847612</td>\n",
       "      <td>-0.892065</td>\n",
       "      <td>0.167966</td>\n",
       "      <td>-0.998958</td>\n",
       "      <td>1.179465</td>\n",
       "      <td>1.079648</td>\n",
       "      <td>0.709726</td>\n",
       "      <td>-0.790893</td>\n",
       "      <td>-0.234551</td>\n",
       "      <td>-0.455160</td>\n",
       "      <td>...</td>\n",
       "      <td>-0.095394</td>\n",
       "      <td>-0.03167</td>\n",
       "      <td>-0.03167</td>\n",
       "      <td>-0.234453</td>\n",
       "      <td>-0.274647</td>\n",
       "      <td>-0.168855</td>\n",
       "      <td>-0.084045</td>\n",
       "      <td>31.999934</td>\n",
       "      <td>33.999415</td>\n",
       "      <td>1.062484</td>\n",
       "    </tr>\n",
       "    <tr>\n",
       "      <th>995</th>\n",
       "      <td>0.955251</td>\n",
       "      <td>-0.914547</td>\n",
       "      <td>0.198520</td>\n",
       "      <td>-1.397599</td>\n",
       "      <td>0.977489</td>\n",
       "      <td>1.553108</td>\n",
       "      <td>0.712233</td>\n",
       "      <td>-0.790785</td>\n",
       "      <td>0.065439</td>\n",
       "      <td>0.617677</td>\n",
       "      <td>...</td>\n",
       "      <td>-0.095394</td>\n",
       "      <td>-0.03167</td>\n",
       "      <td>-0.03167</td>\n",
       "      <td>-0.234453</td>\n",
       "      <td>-0.274647</td>\n",
       "      <td>-0.168855</td>\n",
       "      <td>-0.084045</td>\n",
       "      <td>30.999883</td>\n",
       "      <td>33.999458</td>\n",
       "      <td>1.096761</td>\n",
       "    </tr>\n",
       "    <tr>\n",
       "      <th>996</th>\n",
       "      <td>0.906465</td>\n",
       "      <td>-0.203625</td>\n",
       "      <td>-0.278284</td>\n",
       "      <td>-0.941713</td>\n",
       "      <td>0.743712</td>\n",
       "      <td>1.371138</td>\n",
       "      <td>0.593365</td>\n",
       "      <td>-0.807503</td>\n",
       "      <td>-1.601738</td>\n",
       "      <td>-0.458386</td>\n",
       "      <td>...</td>\n",
       "      <td>-0.095394</td>\n",
       "      <td>-0.03167</td>\n",
       "      <td>-0.03167</td>\n",
       "      <td>-0.234453</td>\n",
       "      <td>-0.274647</td>\n",
       "      <td>-0.168855</td>\n",
       "      <td>-0.084045</td>\n",
       "      <td>31.998959</td>\n",
       "      <td>32.999644</td>\n",
       "      <td>1.031272</td>\n",
       "    </tr>\n",
       "    <tr>\n",
       "      <th>997</th>\n",
       "      <td>0.770742</td>\n",
       "      <td>-1.057401</td>\n",
       "      <td>0.326118</td>\n",
       "      <td>-0.606743</td>\n",
       "      <td>1.496896</td>\n",
       "      <td>0.614826</td>\n",
       "      <td>0.584103</td>\n",
       "      <td>-0.805298</td>\n",
       "      <td>-0.322653</td>\n",
       "      <td>-0.459408</td>\n",
       "      <td>...</td>\n",
       "      <td>-0.095394</td>\n",
       "      <td>-0.03167</td>\n",
       "      <td>-0.03167</td>\n",
       "      <td>-0.234453</td>\n",
       "      <td>-0.274647</td>\n",
       "      <td>-0.168855</td>\n",
       "      <td>-0.084045</td>\n",
       "      <td>99.999531</td>\n",
       "      <td>99.999531</td>\n",
       "      <td>1.000000</td>\n",
       "    </tr>\n",
       "  </tbody>\n",
       "</table>\n",
       "<p>998 rows × 148 columns</p>\n",
       "</div>"
      ],
      "text/plain": [
       "     MaxAbsEStateIndex  MinAbsEStateIndex  MinEStateIndex       qed       SPS  \\\n",
       "0            -1.732405           1.222549        0.851581 -0.772814  1.052557   \n",
       "1            -2.074548           2.091417        0.943841 -0.560001  1.232249   \n",
       "2            -2.477594           2.146889        0.949731 -1.510821  0.994298   \n",
       "3            -1.731419           1.242563        0.853706 -0.959234  0.968714   \n",
       "4            -1.715364           0.530810        0.778129 -0.717729  0.548297   \n",
       "..                 ...                ...             ...       ...       ...   \n",
       "993           0.636029          -0.787198        0.308399 -0.936087  1.540346   \n",
       "994           0.847612          -0.892065        0.167966 -0.998958  1.179465   \n",
       "995           0.955251          -0.914547        0.198520 -1.397599  0.977489   \n",
       "996           0.906465          -0.203625       -0.278284 -0.941713  0.743712   \n",
       "997           0.770742          -1.057401        0.326118 -0.606743  1.496896   \n",
       "\n",
       "        MolWt  MaxPartialCharge  MinPartialCharge  FpDensityMorgan1  \\\n",
       "0    0.284504         -1.522105          1.500099         -2.075118   \n",
       "1    0.316257         -1.722757          1.238276         -2.223551   \n",
       "2    0.773991         -1.089544          1.078060         -2.409092   \n",
       "3    0.394969         -1.522105          1.500099         -2.167248   \n",
       "4    0.930745         -1.336166          1.977954         -2.253237   \n",
       "..        ...               ...               ...               ...   \n",
       "993  0.519892          0.634955         -0.805298         -0.036641   \n",
       "994  1.079648          0.709726         -0.790893         -0.234551   \n",
       "995  1.553108          0.712233         -0.790785          0.065439   \n",
       "996  1.371138          0.593365         -0.807503         -1.601738   \n",
       "997  0.614826          0.584103         -0.805298         -0.322653   \n",
       "\n",
       "     BCUT2D_MWHI  ...  fr_sulfone  fr_term_acetylene  fr_tetrazole  \\\n",
       "0      -0.576677  ...   -0.095394           -0.03167      -0.03167   \n",
       "1      -0.566152  ...   -0.095394           -0.03167      -0.03167   \n",
       "2      -0.540065  ...   -0.095394           -0.03167      -0.03167   \n",
       "3      -0.576750  ...   -0.095394           -0.03167      -0.03167   \n",
       "4      -0.576068  ...   -0.095394           -0.03167      -0.03167   \n",
       "..           ...  ...         ...                ...           ...   \n",
       "993    -0.455162  ...   -0.095394           -0.03167      -0.03167   \n",
       "994    -0.455160  ...   -0.095394           -0.03167      -0.03167   \n",
       "995     0.617677  ...   -0.095394           -0.03167      -0.03167   \n",
       "996    -0.458386  ...   -0.095394           -0.03167      -0.03167   \n",
       "997    -0.459408  ...   -0.095394           -0.03167      -0.03167   \n",
       "\n",
       "     fr_thiazole  fr_thiophene  fr_unbrch_alkane   fr_urea    IC50, mM  \\\n",
       "0      -0.234453     -0.274647          2.297254 -0.084045    6.239374   \n",
       "1      -0.234453     -0.274647          2.297254 -0.084045    0.771831   \n",
       "2      -0.234453     -0.274647          2.297254 -0.084045  223.808778   \n",
       "3      -0.234453     -0.274647          3.119291 -0.084045    1.705624   \n",
       "4      -0.234453     -0.274647         -0.168855 -0.084045  107.131532   \n",
       "..           ...           ...               ...       ...         ...   \n",
       "993    -0.234453     -0.274647         -0.168855 -0.084045   31.000104   \n",
       "994    -0.234453     -0.274647         -0.168855 -0.084045   31.999934   \n",
       "995    -0.234453     -0.274647         -0.168855 -0.084045   30.999883   \n",
       "996    -0.234453     -0.274647         -0.168855 -0.084045   31.998959   \n",
       "997    -0.234453     -0.274647         -0.168855 -0.084045   99.999531   \n",
       "\n",
       "       CC50, mM         SI  \n",
       "0    175.482382  28.125000  \n",
       "1      5.402819   7.000000  \n",
       "2    161.142320   0.720000  \n",
       "3    107.855654  63.235294  \n",
       "4    139.270991   1.300000  \n",
       "..          ...        ...  \n",
       "993   34.999650   1.129017  \n",
       "994   33.999415   1.062484  \n",
       "995   33.999458   1.096761  \n",
       "996   32.999644   1.031272  \n",
       "997   99.999531   1.000000  \n",
       "\n",
       "[998 rows x 148 columns]"
      ]
     },
     "execution_count": 70,
     "metadata": {},
     "output_type": "execute_result"
    }
   ],
   "source": [
    "df"
   ]
  },
  {
   "cell_type": "code",
   "execution_count": 71,
   "id": "00e73eb6",
   "metadata": {},
   "outputs": [
    {
     "data": {
      "image/png": "[encoded data removed]",
      "text/plain": [
       "<Figure size 1200x400 with 1 Axes>"
      ]
     },
     "metadata": {},
     "output_type": "display_data"
    }
   ],
   "source": [
    "plt.figure(figsize=(12, 4))\n",
    "\n",
    "sns.boxplot(x=df[target])\n",
    "\n",
    "plt.title(f'Boxplot для {target}')\n",
    "plt.tight_layout()\n",
    "plt.show()"
   ]
  },
  {
   "cell_type": "code",
   "execution_count": 72,
   "id": "802f37d2",
   "metadata": {},
   "outputs": [],
   "source": [
    "df[\"log_10_SI\"] = np.log10(df[target])"
   ]
  },
  {
   "cell_type": "code",
   "execution_count": 73,
   "id": "b98cd722",
   "metadata": {},
   "outputs": [],
   "source": [
    "target_old = target\n",
    "target = \"log_10_SI\""
   ]
  },
  {
   "cell_type": "code",
   "execution_count": 74,
   "id": "213a4647",
   "metadata": {},
   "outputs": [],
   "source": [
    "target = target_old\n",
    "target_old = \"log_10_SI\""
   ]
  },
  {
   "cell_type": "code",
   "execution_count": 75,
   "id": "eef5637a",
   "metadata": {},
   "outputs": [
    {
     "name": "stdout",
     "output_type": "stream",
     "text": [
      "Выбросы по правилу 3 сигм:\n"
     ]
    },
    {
     "data": {
      "text/html": [
       "<div>\n",
       "<style scoped>\n",
       "    .dataframe tbody tr th:only-of-type {\n",
       "        vertical-align: middle;\n",
       "    }\n",
       "\n",
       "    .dataframe tbody tr th {\n",
       "        vertical-align: top;\n",
       "    }\n",
       "\n",
       "    .dataframe thead th {\n",
       "        text-align: right;\n",
       "    }\n",
       "</style>\n",
       "<table border=\"1\" class=\"dataframe\">\n",
       "  <thead>\n",
       "    <tr style=\"text-align: right;\">\n",
       "      <th></th>\n",
       "      <th>MaxAbsEStateIndex</th>\n",
       "      <th>MinAbsEStateIndex</th>\n",
       "      <th>MinEStateIndex</th>\n",
       "      <th>qed</th>\n",
       "      <th>SPS</th>\n",
       "      <th>MolWt</th>\n",
       "      <th>MaxPartialCharge</th>\n",
       "      <th>MinPartialCharge</th>\n",
       "      <th>FpDensityMorgan1</th>\n",
       "      <th>BCUT2D_MWHI</th>\n",
       "      <th>...</th>\n",
       "      <th>fr_term_acetylene</th>\n",
       "      <th>fr_tetrazole</th>\n",
       "      <th>fr_thiazole</th>\n",
       "      <th>fr_thiophene</th>\n",
       "      <th>fr_unbrch_alkane</th>\n",
       "      <th>fr_urea</th>\n",
       "      <th>IC50, mM</th>\n",
       "      <th>CC50, mM</th>\n",
       "      <th>SI</th>\n",
       "      <th>log_10_SI</th>\n",
       "    </tr>\n",
       "  </thead>\n",
       "  <tbody>\n",
       "    <tr>\n",
       "      <th>107</th>\n",
       "      <td>0.355556</td>\n",
       "      <td>-0.808845</td>\n",
       "      <td>0.580042</td>\n",
       "      <td>-0.047797</td>\n",
       "      <td>0.656361</td>\n",
       "      <td>-0.741293</td>\n",
       "      <td>0.972481</td>\n",
       "      <td>-0.660642</td>\n",
       "      <td>0.563687</td>\n",
       "      <td>-0.457965</td>\n",
       "      <td>...</td>\n",
       "      <td>-0.03167</td>\n",
       "      <td>-0.03167</td>\n",
       "      <td>-0.234453</td>\n",
       "      <td>-0.274647</td>\n",
       "      <td>-0.168855</td>\n",
       "      <td>-0.084045</td>\n",
       "      <td>0.393088</td>\n",
       "      <td>1965.439708</td>\n",
       "      <td>5000.000000</td>\n",
       "      <td>3.698970</td>\n",
       "    </tr>\n",
       "    <tr>\n",
       "      <th>768</th>\n",
       "      <td>0.137385</td>\n",
       "      <td>-0.946394</td>\n",
       "      <td>-0.012520</td>\n",
       "      <td>0.417083</td>\n",
       "      <td>-0.258633</td>\n",
       "      <td>-0.505339</td>\n",
       "      <td>0.735449</td>\n",
       "      <td>-0.927678</td>\n",
       "      <td>1.487269</td>\n",
       "      <td>-0.461165</td>\n",
       "      <td>...</td>\n",
       "      <td>-0.03167</td>\n",
       "      <td>-0.03167</td>\n",
       "      <td>-0.234453</td>\n",
       "      <td>-0.274647</td>\n",
       "      <td>-0.168855</td>\n",
       "      <td>-0.084045</td>\n",
       "      <td>0.003517</td>\n",
       "      <td>19.999437</td>\n",
       "      <td>5687.000000</td>\n",
       "      <td>3.754883</td>\n",
       "    </tr>\n",
       "    <tr>\n",
       "      <th>770</th>\n",
       "      <td>0.137385</td>\n",
       "      <td>-0.946394</td>\n",
       "      <td>-0.012520</td>\n",
       "      <td>0.417083</td>\n",
       "      <td>-0.258633</td>\n",
       "      <td>-0.505339</td>\n",
       "      <td>0.735449</td>\n",
       "      <td>-0.927678</td>\n",
       "      <td>1.487269</td>\n",
       "      <td>-0.461165</td>\n",
       "      <td>...</td>\n",
       "      <td>-0.03167</td>\n",
       "      <td>-0.03167</td>\n",
       "      <td>-0.234453</td>\n",
       "      <td>-0.274647</td>\n",
       "      <td>-0.168855</td>\n",
       "      <td>-0.084045</td>\n",
       "      <td>0.021100</td>\n",
       "      <td>250.001758</td>\n",
       "      <td>11848.333333</td>\n",
       "      <td>4.073657</td>\n",
       "    </tr>\n",
       "    <tr>\n",
       "      <th>793</th>\n",
       "      <td>0.339732</td>\n",
       "      <td>-0.708292</td>\n",
       "      <td>0.344044</td>\n",
       "      <td>0.519138</td>\n",
       "      <td>-0.371195</td>\n",
       "      <td>-0.284410</td>\n",
       "      <td>0.754228</td>\n",
       "      <td>-0.726871</td>\n",
       "      <td>0.920526</td>\n",
       "      <td>-0.458852</td>\n",
       "      <td>...</td>\n",
       "      <td>-0.03167</td>\n",
       "      <td>-0.03167</td>\n",
       "      <td>-0.234453</td>\n",
       "      <td>-0.274647</td>\n",
       "      <td>-0.168855</td>\n",
       "      <td>-0.084045</td>\n",
       "      <td>0.032009</td>\n",
       "      <td>128.090060</td>\n",
       "      <td>4001.700000</td>\n",
       "      <td>3.602245</td>\n",
       "    </tr>\n",
       "    <tr>\n",
       "      <th>796</th>\n",
       "      <td>0.339732</td>\n",
       "      <td>-0.708292</td>\n",
       "      <td>0.344044</td>\n",
       "      <td>0.519138</td>\n",
       "      <td>-0.371195</td>\n",
       "      <td>-0.284410</td>\n",
       "      <td>0.754228</td>\n",
       "      <td>-0.726871</td>\n",
       "      <td>0.920526</td>\n",
       "      <td>-0.458852</td>\n",
       "      <td>...</td>\n",
       "      <td>-0.03167</td>\n",
       "      <td>-0.03167</td>\n",
       "      <td>-0.234453</td>\n",
       "      <td>-0.274647</td>\n",
       "      <td>-0.168855</td>\n",
       "      <td>-0.084045</td>\n",
       "      <td>0.016004</td>\n",
       "      <td>249.999200</td>\n",
       "      <td>15620.600000</td>\n",
       "      <td>4.193698</td>\n",
       "    </tr>\n",
       "  </tbody>\n",
       "</table>\n",
       "<p>5 rows × 149 columns</p>\n",
       "</div>"
      ],
      "text/plain": [
       "     MaxAbsEStateIndex  MinAbsEStateIndex  MinEStateIndex       qed       SPS  \\\n",
       "107           0.355556          -0.808845        0.580042 -0.047797  0.656361   \n",
       "768           0.137385          -0.946394       -0.012520  0.417083 -0.258633   \n",
       "770           0.137385          -0.946394       -0.012520  0.417083 -0.258633   \n",
       "793           0.339732          -0.708292        0.344044  0.519138 -0.371195   \n",
       "796           0.339732          -0.708292        0.344044  0.519138 -0.371195   \n",
       "\n",
       "        MolWt  MaxPartialCharge  MinPartialCharge  FpDensityMorgan1  \\\n",
       "107 -0.741293          0.972481         -0.660642          0.563687   \n",
       "768 -0.505339          0.735449         -0.927678          1.487269   \n",
       "770 -0.505339          0.735449         -0.927678          1.487269   \n",
       "793 -0.284410          0.754228         -0.726871          0.920526   \n",
       "796 -0.284410          0.754228         -0.726871          0.920526   \n",
       "\n",
       "     BCUT2D_MWHI  ...  fr_term_acetylene  fr_tetrazole  fr_thiazole  \\\n",
       "107    -0.457965  ...           -0.03167      -0.03167    -0.234453   \n",
       "768    -0.461165  ...           -0.03167      -0.03167    -0.234453   \n",
       "770    -0.461165  ...           -0.03167      -0.03167    -0.234453   \n",
       "793    -0.458852  ...           -0.03167      -0.03167    -0.234453   \n",
       "796    -0.458852  ...           -0.03167      -0.03167    -0.234453   \n",
       "\n",
       "     fr_thiophene  fr_unbrch_alkane   fr_urea  IC50, mM     CC50, mM  \\\n",
       "107     -0.274647         -0.168855 -0.084045  0.393088  1965.439708   \n",
       "768     -0.274647         -0.168855 -0.084045  0.003517    19.999437   \n",
       "770     -0.274647         -0.168855 -0.084045  0.021100   250.001758   \n",
       "793     -0.274647         -0.168855 -0.084045  0.032009   128.090060   \n",
       "796     -0.274647         -0.168855 -0.084045  0.016004   249.999200   \n",
       "\n",
       "               SI  log_10_SI  \n",
       "107   5000.000000   3.698970  \n",
       "768   5687.000000   3.754883  \n",
       "770  11848.333333   4.073657  \n",
       "793   4001.700000   3.602245  \n",
       "796  15620.600000   4.193698  \n",
       "\n",
       "[5 rows x 149 columns]"
      ]
     },
     "execution_count": 75,
     "metadata": {},
     "output_type": "execute_result"
    }
   ],
   "source": [
    "mean = df[target].mean()\n",
    "std = df[target].std()\n",
    "lower_bound = mean - 3 * std\n",
    "upper_bound = mean + 3 * std\n",
    "\n",
    "outliers = df[(df[target] < lower_bound) | (df[target] > upper_bound)]\n",
    "\n",
    "print(\"Выбросы по правилу 3 сигм:\")\n",
    "outliers"
   ]
  },
  {
   "cell_type": "code",
   "execution_count": 76,
   "id": "b35cfbd7",
   "metadata": {},
   "outputs": [
    {
     "data": {
      "image/png": "[encoded data removed]",
      "text/plain": [
       "<Figure size 1000x400 with 1 Axes>"
      ]
     },
     "metadata": {},
     "output_type": "display_data"
    }
   ],
   "source": [
    "df['is_outlier_3σ'] = (df[target] < lower_bound) | (df[target] > upper_bound)\n",
    "\n",
    "plt.figure(figsize=(10, 4))\n",
    "plt.scatter(df.index, df[target], c=~df['is_outlier_3σ'], cmap='coolwarm', label='Значения')\n",
    "plt.axhline(y=lower_bound, color='r', linestyle='--', label='Нижняя граница (3σ)')\n",
    "plt.axhline(y=upper_bound, color='r', linestyle='--', label='Верхняя граница (3σ)')\n",
    "plt.legend()\n",
    "plt.title('Обнаружение выбросов по правилу 3 сигм')\n",
    "plt.show()"
   ]
  },
  {
   "cell_type": "code",
   "execution_count": 77,
   "id": "f33b53ce",
   "metadata": {},
   "outputs": [
    {
     "data": {
      "text/html": [
       "<div>\n",
       "<style scoped>\n",
       "    .dataframe tbody tr th:only-of-type {\n",
       "        vertical-align: middle;\n",
       "    }\n",
       "\n",
       "    .dataframe tbody tr th {\n",
       "        vertical-align: top;\n",
       "    }\n",
       "\n",
       "    .dataframe thead th {\n",
       "        text-align: right;\n",
       "    }\n",
       "</style>\n",
       "<table border=\"1\" class=\"dataframe\">\n",
       "  <thead>\n",
       "    <tr style=\"text-align: right;\">\n",
       "      <th></th>\n",
       "      <th>MaxAbsEStateIndex</th>\n",
       "      <th>MinAbsEStateIndex</th>\n",
       "      <th>MinEStateIndex</th>\n",
       "      <th>qed</th>\n",
       "      <th>SPS</th>\n",
       "      <th>MolWt</th>\n",
       "      <th>MaxPartialCharge</th>\n",
       "      <th>MinPartialCharge</th>\n",
       "      <th>FpDensityMorgan1</th>\n",
       "      <th>BCUT2D_MWHI</th>\n",
       "      <th>...</th>\n",
       "      <th>fr_thiazole</th>\n",
       "      <th>fr_thiophene</th>\n",
       "      <th>fr_unbrch_alkane</th>\n",
       "      <th>fr_urea</th>\n",
       "      <th>IC50, mM</th>\n",
       "      <th>CC50, mM</th>\n",
       "      <th>SI</th>\n",
       "      <th>log_10_SI</th>\n",
       "      <th>is_outlier_3σ</th>\n",
       "      <th>is_outlier_IQR</th>\n",
       "    </tr>\n",
       "  </thead>\n",
       "  <tbody>\n",
       "    <tr>\n",
       "      <th>3</th>\n",
       "      <td>-1.731419</td>\n",
       "      <td>1.242563</td>\n",
       "      <td>0.853706</td>\n",
       "      <td>-0.959234</td>\n",
       "      <td>0.968714</td>\n",
       "      <td>0.394969</td>\n",
       "      <td>-1.522105</td>\n",
       "      <td>1.500099</td>\n",
       "      <td>-2.167248</td>\n",
       "      <td>-0.576750</td>\n",
       "      <td>...</td>\n",
       "      <td>-0.234453</td>\n",
       "      <td>-0.274647</td>\n",
       "      <td>3.119291</td>\n",
       "      <td>-0.084045</td>\n",
       "      <td>1.705624</td>\n",
       "      <td>107.855654</td>\n",
       "      <td>63.235294</td>\n",
       "      <td>1.800960</td>\n",
       "      <td>False</td>\n",
       "      <td>True</td>\n",
       "    </tr>\n",
       "    <tr>\n",
       "      <th>9</th>\n",
       "      <td>-1.417714</td>\n",
       "      <td>0.345653</td>\n",
       "      <td>0.758468</td>\n",
       "      <td>-0.666417</td>\n",
       "      <td>0.539312</td>\n",
       "      <td>0.946275</td>\n",
       "      <td>-0.840004</td>\n",
       "      <td>-0.657698</td>\n",
       "      <td>-2.253237</td>\n",
       "      <td>-0.462484</td>\n",
       "      <td>...</td>\n",
       "      <td>-0.234453</td>\n",
       "      <td>-0.274647</td>\n",
       "      <td>-0.168855</td>\n",
       "      <td>-0.084045</td>\n",
       "      <td>6.400847</td>\n",
       "      <td>400.906360</td>\n",
       "      <td>62.633333</td>\n",
       "      <td>1.796806</td>\n",
       "      <td>False</td>\n",
       "      <td>True</td>\n",
       "    </tr>\n",
       "    <tr>\n",
       "      <th>41</th>\n",
       "      <td>-1.732405</td>\n",
       "      <td>1.222549</td>\n",
       "      <td>0.851581</td>\n",
       "      <td>-0.772814</td>\n",
       "      <td>1.052557</td>\n",
       "      <td>0.284504</td>\n",
       "      <td>-1.522105</td>\n",
       "      <td>1.500099</td>\n",
       "      <td>-2.075118</td>\n",
       "      <td>-0.576677</td>\n",
       "      <td>...</td>\n",
       "      <td>-0.234453</td>\n",
       "      <td>-0.274647</td>\n",
       "      <td>2.297254</td>\n",
       "      <td>-0.084045</td>\n",
       "      <td>15.078486</td>\n",
       "      <td>1344.065056</td>\n",
       "      <td>89.137931</td>\n",
       "      <td>1.950063</td>\n",
       "      <td>False</td>\n",
       "      <td>True</td>\n",
       "    </tr>\n",
       "    <tr>\n",
       "      <th>44</th>\n",
       "      <td>-1.731419</td>\n",
       "      <td>1.242563</td>\n",
       "      <td>0.853706</td>\n",
       "      <td>-0.959234</td>\n",
       "      <td>0.968714</td>\n",
       "      <td>0.394969</td>\n",
       "      <td>-1.522105</td>\n",
       "      <td>1.500099</td>\n",
       "      <td>-2.167248</td>\n",
       "      <td>-0.576750</td>\n",
       "      <td>...</td>\n",
       "      <td>-0.234453</td>\n",
       "      <td>-0.274647</td>\n",
       "      <td>3.119291</td>\n",
       "      <td>-0.084045</td>\n",
       "      <td>22.825266</td>\n",
       "      <td>1254.135512</td>\n",
       "      <td>54.945055</td>\n",
       "      <td>1.739929</td>\n",
       "      <td>False</td>\n",
       "      <td>True</td>\n",
       "    </tr>\n",
       "    <tr>\n",
       "      <th>47</th>\n",
       "      <td>-1.727458</td>\n",
       "      <td>1.290243</td>\n",
       "      <td>0.858769</td>\n",
       "      <td>-1.607705</td>\n",
       "      <td>0.623477</td>\n",
       "      <td>0.947291</td>\n",
       "      <td>-1.522105</td>\n",
       "      <td>1.500099</td>\n",
       "      <td>-2.546610</td>\n",
       "      <td>-0.576794</td>\n",
       "      <td>...</td>\n",
       "      <td>-0.234453</td>\n",
       "      <td>-0.274647</td>\n",
       "      <td>7.229473</td>\n",
       "      <td>-0.084045</td>\n",
       "      <td>45.006900</td>\n",
       "      <td>2216.216562</td>\n",
       "      <td>49.241706</td>\n",
       "      <td>1.692333</td>\n",
       "      <td>False</td>\n",
       "      <td>True</td>\n",
       "    </tr>\n",
       "    <tr>\n",
       "      <th>...</th>\n",
       "      <td>...</td>\n",
       "      <td>...</td>\n",
       "      <td>...</td>\n",
       "      <td>...</td>\n",
       "      <td>...</td>\n",
       "      <td>...</td>\n",
       "      <td>...</td>\n",
       "      <td>...</td>\n",
       "      <td>...</td>\n",
       "      <td>...</td>\n",
       "      <td>...</td>\n",
       "      <td>...</td>\n",
       "      <td>...</td>\n",
       "      <td>...</td>\n",
       "      <td>...</td>\n",
       "      <td>...</td>\n",
       "      <td>...</td>\n",
       "      <td>...</td>\n",
       "      <td>...</td>\n",
       "      <td>...</td>\n",
       "      <td>...</td>\n",
       "    </tr>\n",
       "    <tr>\n",
       "      <th>947</th>\n",
       "      <td>0.659083</td>\n",
       "      <td>0.730976</td>\n",
       "      <td>-0.432297</td>\n",
       "      <td>0.560932</td>\n",
       "      <td>-0.624908</td>\n",
       "      <td>-0.426982</td>\n",
       "      <td>0.861013</td>\n",
       "      <td>-0.437833</td>\n",
       "      <td>-0.779704</td>\n",
       "      <td>-0.445203</td>\n",
       "      <td>...</td>\n",
       "      <td>-0.234453</td>\n",
       "      <td>-0.274647</td>\n",
       "      <td>-0.168855</td>\n",
       "      <td>-0.084045</td>\n",
       "      <td>6.299480</td>\n",
       "      <td>500.000000</td>\n",
       "      <td>79.371629</td>\n",
       "      <td>1.899665</td>\n",
       "      <td>False</td>\n",
       "      <td>True</td>\n",
       "    </tr>\n",
       "    <tr>\n",
       "      <th>957</th>\n",
       "      <td>-1.609520</td>\n",
       "      <td>1.295864</td>\n",
       "      <td>0.859366</td>\n",
       "      <td>1.527934</td>\n",
       "      <td>0.515013</td>\n",
       "      <td>-0.268314</td>\n",
       "      <td>-0.457250</td>\n",
       "      <td>0.689062</td>\n",
       "      <td>0.164868</td>\n",
       "      <td>0.615412</td>\n",
       "      <td>...</td>\n",
       "      <td>-0.234453</td>\n",
       "      <td>3.641036</td>\n",
       "      <td>-0.168855</td>\n",
       "      <td>-0.084045</td>\n",
       "      <td>0.298932</td>\n",
       "      <td>99.999046</td>\n",
       "      <td>334.521277</td>\n",
       "      <td>2.524424</td>\n",
       "      <td>False</td>\n",
       "      <td>True</td>\n",
       "    </tr>\n",
       "    <tr>\n",
       "      <th>958</th>\n",
       "      <td>-1.609520</td>\n",
       "      <td>1.295864</td>\n",
       "      <td>0.859366</td>\n",
       "      <td>1.527934</td>\n",
       "      <td>0.515013</td>\n",
       "      <td>-0.268314</td>\n",
       "      <td>-0.457250</td>\n",
       "      <td>0.689062</td>\n",
       "      <td>0.164868</td>\n",
       "      <td>0.615412</td>\n",
       "      <td>...</td>\n",
       "      <td>-0.234453</td>\n",
       "      <td>3.641036</td>\n",
       "      <td>-0.168855</td>\n",
       "      <td>-0.084045</td>\n",
       "      <td>0.298932</td>\n",
       "      <td>99.999046</td>\n",
       "      <td>334.521277</td>\n",
       "      <td>2.524424</td>\n",
       "      <td>False</td>\n",
       "      <td>True</td>\n",
       "    </tr>\n",
       "    <tr>\n",
       "      <th>966</th>\n",
       "      <td>1.170154</td>\n",
       "      <td>-0.602861</td>\n",
       "      <td>-0.278145</td>\n",
       "      <td>-1.496614</td>\n",
       "      <td>-1.134865</td>\n",
       "      <td>2.459102</td>\n",
       "      <td>1.330155</td>\n",
       "      <td>-0.809777</td>\n",
       "      <td>-1.110305</td>\n",
       "      <td>-0.279200</td>\n",
       "      <td>...</td>\n",
       "      <td>-0.234453</td>\n",
       "      <td>-0.274647</td>\n",
       "      <td>-0.168855</td>\n",
       "      <td>-0.084045</td>\n",
       "      <td>1.900747</td>\n",
       "      <td>99.999546</td>\n",
       "      <td>52.610669</td>\n",
       "      <td>1.721074</td>\n",
       "      <td>False</td>\n",
       "      <td>True</td>\n",
       "    </tr>\n",
       "    <tr>\n",
       "      <th>982</th>\n",
       "      <td>-2.079059</td>\n",
       "      <td>1.921406</td>\n",
       "      <td>0.925788</td>\n",
       "      <td>1.305501</td>\n",
       "      <td>0.940250</td>\n",
       "      <td>-0.175001</td>\n",
       "      <td>-1.280198</td>\n",
       "      <td>1.331385</td>\n",
       "      <td>-0.128999</td>\n",
       "      <td>3.906015</td>\n",
       "      <td>...</td>\n",
       "      <td>-0.234453</td>\n",
       "      <td>3.641036</td>\n",
       "      <td>-0.168855</td>\n",
       "      <td>-0.084045</td>\n",
       "      <td>2.899119</td>\n",
       "      <td>123.197244</td>\n",
       "      <td>42.494715</td>\n",
       "      <td>1.628335</td>\n",
       "      <td>False</td>\n",
       "      <td>True</td>\n",
       "    </tr>\n",
       "  </tbody>\n",
       "</table>\n",
       "<p>124 rows × 151 columns</p>\n",
       "</div>"
      ],
      "text/plain": [
       "     MaxAbsEStateIndex  MinAbsEStateIndex  MinEStateIndex       qed       SPS  \\\n",
       "3            -1.731419           1.242563        0.853706 -0.959234  0.968714   \n",
       "9            -1.417714           0.345653        0.758468 -0.666417  0.539312   \n",
       "41           -1.732405           1.222549        0.851581 -0.772814  1.052557   \n",
       "44           -1.731419           1.242563        0.853706 -0.959234  0.968714   \n",
       "47           -1.727458           1.290243        0.858769 -1.607705  0.623477   \n",
       "..                 ...                ...             ...       ...       ...   \n",
       "947           0.659083           0.730976       -0.432297  0.560932 -0.624908   \n",
       "957          -1.609520           1.295864        0.859366  1.527934  0.515013   \n",
       "958          -1.609520           1.295864        0.859366  1.527934  0.515013   \n",
       "966           1.170154          -0.602861       -0.278145 -1.496614 -1.134865   \n",
       "982          -2.079059           1.921406        0.925788  1.305501  0.940250   \n",
       "\n",
       "        MolWt  MaxPartialCharge  MinPartialCharge  FpDensityMorgan1  \\\n",
       "3    0.394969         -1.522105          1.500099         -2.167248   \n",
       "9    0.946275         -0.840004         -0.657698         -2.253237   \n",
       "41   0.284504         -1.522105          1.500099         -2.075118   \n",
       "44   0.394969         -1.522105          1.500099         -2.167248   \n",
       "47   0.947291         -1.522105          1.500099         -2.546610   \n",
       "..        ...               ...               ...               ...   \n",
       "947 -0.426982          0.861013         -0.437833         -0.779704   \n",
       "957 -0.268314         -0.457250          0.689062          0.164868   \n",
       "958 -0.268314         -0.457250          0.689062          0.164868   \n",
       "966  2.459102          1.330155         -0.809777         -1.110305   \n",
       "982 -0.175001         -1.280198          1.331385         -0.128999   \n",
       "\n",
       "     BCUT2D_MWHI  ...  fr_thiazole  fr_thiophene  fr_unbrch_alkane   fr_urea  \\\n",
       "3      -0.576750  ...    -0.234453     -0.274647          3.119291 -0.084045   \n",
       "9      -0.462484  ...    -0.234453     -0.274647         -0.168855 -0.084045   \n",
       "41     -0.576677  ...    -0.234453     -0.274647          2.297254 -0.084045   \n",
       "44     -0.576750  ...    -0.234453     -0.274647          3.119291 -0.084045   \n",
       "47     -0.576794  ...    -0.234453     -0.274647          7.229473 -0.084045   \n",
       "..           ...  ...          ...           ...               ...       ...   \n",
       "947    -0.445203  ...    -0.234453     -0.274647         -0.168855 -0.084045   \n",
       "957     0.615412  ...    -0.234453      3.641036         -0.168855 -0.084045   \n",
       "958     0.615412  ...    -0.234453      3.641036         -0.168855 -0.084045   \n",
       "966    -0.279200  ...    -0.234453     -0.274647         -0.168855 -0.084045   \n",
       "982     3.906015  ...    -0.234453      3.641036         -0.168855 -0.084045   \n",
       "\n",
       "      IC50, mM     CC50, mM          SI  log_10_SI  is_outlier_3σ  \\\n",
       "3     1.705624   107.855654   63.235294   1.800960          False   \n",
       "9     6.400847   400.906360   62.633333   1.796806          False   \n",
       "41   15.078486  1344.065056   89.137931   1.950063          False   \n",
       "44   22.825266  1254.135512   54.945055   1.739929          False   \n",
       "47   45.006900  2216.216562   49.241706   1.692333          False   \n",
       "..         ...          ...         ...        ...            ...   \n",
       "947   6.299480   500.000000   79.371629   1.899665          False   \n",
       "957   0.298932    99.999046  334.521277   2.524424          False   \n",
       "958   0.298932    99.999046  334.521277   2.524424          False   \n",
       "966   1.900747    99.999546   52.610669   1.721074          False   \n",
       "982   2.899119   123.197244   42.494715   1.628335          False   \n",
       "\n",
       "     is_outlier_IQR  \n",
       "3              True  \n",
       "9              True  \n",
       "41             True  \n",
       "44             True  \n",
       "47             True  \n",
       "..              ...  \n",
       "947            True  \n",
       "957            True  \n",
       "958            True  \n",
       "966            True  \n",
       "982            True  \n",
       "\n",
       "[124 rows x 151 columns]"
      ]
     },
     "execution_count": 77,
     "metadata": {},
     "output_type": "execute_result"
    }
   ],
   "source": [
    "Q1 = df[target].quantile(0.25)\n",
    "Q3 = df[target].quantile(0.75)\n",
    "IQR = Q3 - Q1\n",
    "lower_bound = Q1 - 1.5 * IQR\n",
    "upper_bound = Q3 + 1.5 * IQR\n",
    "df[\"is_outlier_IQR\"] = (df[target] < lower_bound) | (df[target] > upper_bound)\n",
    "df[(df[target] < lower_bound) | (df[target] > upper_bound)]"
   ]
  },
  {
   "cell_type": "code",
   "execution_count": 78,
   "id": "de38bd43",
   "metadata": {},
   "outputs": [
    {
     "data": {
      "image/png": "[encoded data removed]",
      "text/plain": [
       "<Figure size 1000x400 with 1 Axes>"
      ]
     },
     "metadata": {},
     "output_type": "display_data"
    }
   ],
   "source": [
    "plt.figure(figsize=(10, 4))\n",
    "plt.scatter(df.index, df[target], c=~df['is_outlier_IQR'], cmap='coolwarm', label='Значения')\n",
    "plt.axhline(y=lower_bound, color='r', linestyle='--', label='Нижняя граница (IQR)')\n",
    "plt.axhline(y=upper_bound, color='r', linestyle='--', label='Верхняя граница (IQR)')\n",
    "plt.legend()\n",
    "plt.title('Обнаружение выбросов по правилу 3 сигм')\n",
    "plt.show()"
   ]
  },
  {
   "cell_type": "markdown",
   "id": "ca2a4176",
   "metadata": {},
   "source": [
    "Отбросим выбросов по 3-м сигмам значительно меньше, чем по правилу Тьюки. \n",
    "\n",
    "Данные распределены близко к нормальному распределнию, следовательно отбросим выбросы по 3 sigma"
   ]
  },
  {
   "cell_type": "code",
   "execution_count": 79,
   "id": "b9afbc07",
   "metadata": {},
   "outputs": [
    {
     "data": {
      "text/html": [
       "<div>\n",
       "<style scoped>\n",
       "    .dataframe tbody tr th:only-of-type {\n",
       "        vertical-align: middle;\n",
       "    }\n",
       "\n",
       "    .dataframe tbody tr th {\n",
       "        vertical-align: top;\n",
       "    }\n",
       "\n",
       "    .dataframe thead th {\n",
       "        text-align: right;\n",
       "    }\n",
       "</style>\n",
       "<table border=\"1\" class=\"dataframe\">\n",
       "  <thead>\n",
       "    <tr style=\"text-align: right;\">\n",
       "      <th></th>\n",
       "      <th>MaxAbsEStateIndex</th>\n",
       "      <th>MinAbsEStateIndex</th>\n",
       "      <th>MinEStateIndex</th>\n",
       "      <th>qed</th>\n",
       "      <th>SPS</th>\n",
       "      <th>MolWt</th>\n",
       "      <th>MaxPartialCharge</th>\n",
       "      <th>MinPartialCharge</th>\n",
       "      <th>FpDensityMorgan1</th>\n",
       "      <th>BCUT2D_MWHI</th>\n",
       "      <th>...</th>\n",
       "      <th>fr_thiazole</th>\n",
       "      <th>fr_thiophene</th>\n",
       "      <th>fr_unbrch_alkane</th>\n",
       "      <th>fr_urea</th>\n",
       "      <th>IC50, mM</th>\n",
       "      <th>CC50, mM</th>\n",
       "      <th>SI</th>\n",
       "      <th>log_10_SI</th>\n",
       "      <th>is_outlier_3σ</th>\n",
       "      <th>is_outlier_IQR</th>\n",
       "    </tr>\n",
       "  </thead>\n",
       "  <tbody>\n",
       "    <tr>\n",
       "      <th>0</th>\n",
       "      <td>-1.732405</td>\n",
       "      <td>1.222549</td>\n",
       "      <td>0.851581</td>\n",
       "      <td>-0.772814</td>\n",
       "      <td>1.052557</td>\n",
       "      <td>0.284504</td>\n",
       "      <td>-1.522105</td>\n",
       "      <td>1.500099</td>\n",
       "      <td>-2.075118</td>\n",
       "      <td>-0.576677</td>\n",
       "      <td>...</td>\n",
       "      <td>-0.234453</td>\n",
       "      <td>-0.274647</td>\n",
       "      <td>2.297254</td>\n",
       "      <td>-0.084045</td>\n",
       "      <td>6.239374</td>\n",
       "      <td>175.482382</td>\n",
       "      <td>28.125000</td>\n",
       "      <td>1.449093</td>\n",
       "      <td>False</td>\n",
       "      <td>False</td>\n",
       "    </tr>\n",
       "    <tr>\n",
       "      <th>1</th>\n",
       "      <td>-2.074548</td>\n",
       "      <td>2.091417</td>\n",
       "      <td>0.943841</td>\n",
       "      <td>-0.560001</td>\n",
       "      <td>1.232249</td>\n",
       "      <td>0.316257</td>\n",
       "      <td>-1.722757</td>\n",
       "      <td>1.238276</td>\n",
       "      <td>-2.223551</td>\n",
       "      <td>-0.566152</td>\n",
       "      <td>...</td>\n",
       "      <td>-0.234453</td>\n",
       "      <td>-0.274647</td>\n",
       "      <td>2.297254</td>\n",
       "      <td>-0.084045</td>\n",
       "      <td>0.771831</td>\n",
       "      <td>5.402819</td>\n",
       "      <td>7.000000</td>\n",
       "      <td>0.845098</td>\n",
       "      <td>False</td>\n",
       "      <td>False</td>\n",
       "    </tr>\n",
       "    <tr>\n",
       "      <th>2</th>\n",
       "      <td>-2.477594</td>\n",
       "      <td>2.146889</td>\n",
       "      <td>0.949731</td>\n",
       "      <td>-1.510821</td>\n",
       "      <td>0.994298</td>\n",
       "      <td>0.773991</td>\n",
       "      <td>-1.089544</td>\n",
       "      <td>1.078060</td>\n",
       "      <td>-2.409092</td>\n",
       "      <td>-0.540065</td>\n",
       "      <td>...</td>\n",
       "      <td>-0.234453</td>\n",
       "      <td>-0.274647</td>\n",
       "      <td>2.297254</td>\n",
       "      <td>-0.084045</td>\n",
       "      <td>223.808778</td>\n",
       "      <td>161.142320</td>\n",
       "      <td>0.720000</td>\n",
       "      <td>-0.142668</td>\n",
       "      <td>False</td>\n",
       "      <td>False</td>\n",
       "    </tr>\n",
       "    <tr>\n",
       "      <th>3</th>\n",
       "      <td>-1.731419</td>\n",
       "      <td>1.242563</td>\n",
       "      <td>0.853706</td>\n",
       "      <td>-0.959234</td>\n",
       "      <td>0.968714</td>\n",
       "      <td>0.394969</td>\n",
       "      <td>-1.522105</td>\n",
       "      <td>1.500099</td>\n",
       "      <td>-2.167248</td>\n",
       "      <td>-0.576750</td>\n",
       "      <td>...</td>\n",
       "      <td>-0.234453</td>\n",
       "      <td>-0.274647</td>\n",
       "      <td>3.119291</td>\n",
       "      <td>-0.084045</td>\n",
       "      <td>1.705624</td>\n",
       "      <td>107.855654</td>\n",
       "      <td>63.235294</td>\n",
       "      <td>1.800960</td>\n",
       "      <td>False</td>\n",
       "      <td>True</td>\n",
       "    </tr>\n",
       "    <tr>\n",
       "      <th>4</th>\n",
       "      <td>-1.715364</td>\n",
       "      <td>0.530810</td>\n",
       "      <td>0.778129</td>\n",
       "      <td>-0.717729</td>\n",
       "      <td>0.548297</td>\n",
       "      <td>0.930745</td>\n",
       "      <td>-1.336166</td>\n",
       "      <td>1.977954</td>\n",
       "      <td>-2.253237</td>\n",
       "      <td>-0.576068</td>\n",
       "      <td>...</td>\n",
       "      <td>-0.234453</td>\n",
       "      <td>-0.274647</td>\n",
       "      <td>-0.168855</td>\n",
       "      <td>-0.084045</td>\n",
       "      <td>107.131532</td>\n",
       "      <td>139.270991</td>\n",
       "      <td>1.300000</td>\n",
       "      <td>0.113943</td>\n",
       "      <td>False</td>\n",
       "      <td>False</td>\n",
       "    </tr>\n",
       "    <tr>\n",
       "      <th>...</th>\n",
       "      <td>...</td>\n",
       "      <td>...</td>\n",
       "      <td>...</td>\n",
       "      <td>...</td>\n",
       "      <td>...</td>\n",
       "      <td>...</td>\n",
       "      <td>...</td>\n",
       "      <td>...</td>\n",
       "      <td>...</td>\n",
       "      <td>...</td>\n",
       "      <td>...</td>\n",
       "      <td>...</td>\n",
       "      <td>...</td>\n",
       "      <td>...</td>\n",
       "      <td>...</td>\n",
       "      <td>...</td>\n",
       "      <td>...</td>\n",
       "      <td>...</td>\n",
       "      <td>...</td>\n",
       "      <td>...</td>\n",
       "      <td>...</td>\n",
       "    </tr>\n",
       "    <tr>\n",
       "      <th>993</th>\n",
       "      <td>0.636029</td>\n",
       "      <td>-0.787198</td>\n",
       "      <td>0.308399</td>\n",
       "      <td>-0.936087</td>\n",
       "      <td>1.540346</td>\n",
       "      <td>0.519892</td>\n",
       "      <td>0.634955</td>\n",
       "      <td>-0.805298</td>\n",
       "      <td>-0.036641</td>\n",
       "      <td>-0.455162</td>\n",
       "      <td>...</td>\n",
       "      <td>-0.234453</td>\n",
       "      <td>-0.274647</td>\n",
       "      <td>-0.168855</td>\n",
       "      <td>-0.084045</td>\n",
       "      <td>31.000104</td>\n",
       "      <td>34.999650</td>\n",
       "      <td>1.129017</td>\n",
       "      <td>0.052701</td>\n",
       "      <td>False</td>\n",
       "      <td>False</td>\n",
       "    </tr>\n",
       "    <tr>\n",
       "      <th>994</th>\n",
       "      <td>0.847612</td>\n",
       "      <td>-0.892065</td>\n",
       "      <td>0.167966</td>\n",
       "      <td>-0.998958</td>\n",
       "      <td>1.179465</td>\n",
       "      <td>1.079648</td>\n",
       "      <td>0.709726</td>\n",
       "      <td>-0.790893</td>\n",
       "      <td>-0.234551</td>\n",
       "      <td>-0.455160</td>\n",
       "      <td>...</td>\n",
       "      <td>-0.234453</td>\n",
       "      <td>-0.274647</td>\n",
       "      <td>-0.168855</td>\n",
       "      <td>-0.084045</td>\n",
       "      <td>31.999934</td>\n",
       "      <td>33.999415</td>\n",
       "      <td>1.062484</td>\n",
       "      <td>0.026322</td>\n",
       "      <td>False</td>\n",
       "      <td>False</td>\n",
       "    </tr>\n",
       "    <tr>\n",
       "      <th>995</th>\n",
       "      <td>0.955251</td>\n",
       "      <td>-0.914547</td>\n",
       "      <td>0.198520</td>\n",
       "      <td>-1.397599</td>\n",
       "      <td>0.977489</td>\n",
       "      <td>1.553108</td>\n",
       "      <td>0.712233</td>\n",
       "      <td>-0.790785</td>\n",
       "      <td>0.065439</td>\n",
       "      <td>0.617677</td>\n",
       "      <td>...</td>\n",
       "      <td>-0.234453</td>\n",
       "      <td>-0.274647</td>\n",
       "      <td>-0.168855</td>\n",
       "      <td>-0.084045</td>\n",
       "      <td>30.999883</td>\n",
       "      <td>33.999458</td>\n",
       "      <td>1.096761</td>\n",
       "      <td>0.040112</td>\n",
       "      <td>False</td>\n",
       "      <td>False</td>\n",
       "    </tr>\n",
       "    <tr>\n",
       "      <th>996</th>\n",
       "      <td>0.906465</td>\n",
       "      <td>-0.203625</td>\n",
       "      <td>-0.278284</td>\n",
       "      <td>-0.941713</td>\n",
       "      <td>0.743712</td>\n",
       "      <td>1.371138</td>\n",
       "      <td>0.593365</td>\n",
       "      <td>-0.807503</td>\n",
       "      <td>-1.601738</td>\n",
       "      <td>-0.458386</td>\n",
       "      <td>...</td>\n",
       "      <td>-0.234453</td>\n",
       "      <td>-0.274647</td>\n",
       "      <td>-0.168855</td>\n",
       "      <td>-0.084045</td>\n",
       "      <td>31.998959</td>\n",
       "      <td>32.999644</td>\n",
       "      <td>1.031272</td>\n",
       "      <td>0.013373</td>\n",
       "      <td>False</td>\n",
       "      <td>False</td>\n",
       "    </tr>\n",
       "    <tr>\n",
       "      <th>997</th>\n",
       "      <td>0.770742</td>\n",
       "      <td>-1.057401</td>\n",
       "      <td>0.326118</td>\n",
       "      <td>-0.606743</td>\n",
       "      <td>1.496896</td>\n",
       "      <td>0.614826</td>\n",
       "      <td>0.584103</td>\n",
       "      <td>-0.805298</td>\n",
       "      <td>-0.322653</td>\n",
       "      <td>-0.459408</td>\n",
       "      <td>...</td>\n",
       "      <td>-0.234453</td>\n",
       "      <td>-0.274647</td>\n",
       "      <td>-0.168855</td>\n",
       "      <td>-0.084045</td>\n",
       "      <td>99.999531</td>\n",
       "      <td>99.999531</td>\n",
       "      <td>1.000000</td>\n",
       "      <td>0.000000</td>\n",
       "      <td>False</td>\n",
       "      <td>False</td>\n",
       "    </tr>\n",
       "  </tbody>\n",
       "</table>\n",
       "<p>998 rows × 151 columns</p>\n",
       "</div>"
      ],
      "text/plain": [
       "     MaxAbsEStateIndex  MinAbsEStateIndex  MinEStateIndex       qed       SPS  \\\n",
       "0            -1.732405           1.222549        0.851581 -0.772814  1.052557   \n",
       "1            -2.074548           2.091417        0.943841 -0.560001  1.232249   \n",
       "2            -2.477594           2.146889        0.949731 -1.510821  0.994298   \n",
       "3            -1.731419           1.242563        0.853706 -0.959234  0.968714   \n",
       "4            -1.715364           0.530810        0.778129 -0.717729  0.548297   \n",
       "..                 ...                ...             ...       ...       ...   \n",
       "993           0.636029          -0.787198        0.308399 -0.936087  1.540346   \n",
       "994           0.847612          -0.892065        0.167966 -0.998958  1.179465   \n",
       "995           0.955251          -0.914547        0.198520 -1.397599  0.977489   \n",
       "996           0.906465          -0.203625       -0.278284 -0.941713  0.743712   \n",
       "997           0.770742          -1.057401        0.326118 -0.606743  1.496896   \n",
       "\n",
       "        MolWt  MaxPartialCharge  MinPartialCharge  FpDensityMorgan1  \\\n",
       "0    0.284504         -1.522105          1.500099         -2.075118   \n",
       "1    0.316257         -1.722757          1.238276         -2.223551   \n",
       "2    0.773991         -1.089544          1.078060         -2.409092   \n",
       "3    0.394969         -1.522105          1.500099         -2.167248   \n",
       "4    0.930745         -1.336166          1.977954         -2.253237   \n",
       "..        ...               ...               ...               ...   \n",
       "993  0.519892          0.634955         -0.805298         -0.036641   \n",
       "994  1.079648          0.709726         -0.790893         -0.234551   \n",
       "995  1.553108          0.712233         -0.790785          0.065439   \n",
       "996  1.371138          0.593365         -0.807503         -1.601738   \n",
       "997  0.614826          0.584103         -0.805298         -0.322653   \n",
       "\n",
       "     BCUT2D_MWHI  ...  fr_thiazole  fr_thiophene  fr_unbrch_alkane   fr_urea  \\\n",
       "0      -0.576677  ...    -0.234453     -0.274647          2.297254 -0.084045   \n",
       "1      -0.566152  ...    -0.234453     -0.274647          2.297254 -0.084045   \n",
       "2      -0.540065  ...    -0.234453     -0.274647          2.297254 -0.084045   \n",
       "3      -0.576750  ...    -0.234453     -0.274647          3.119291 -0.084045   \n",
       "4      -0.576068  ...    -0.234453     -0.274647         -0.168855 -0.084045   \n",
       "..           ...  ...          ...           ...               ...       ...   \n",
       "993    -0.455162  ...    -0.234453     -0.274647         -0.168855 -0.084045   \n",
       "994    -0.455160  ...    -0.234453     -0.274647         -0.168855 -0.084045   \n",
       "995     0.617677  ...    -0.234453     -0.274647         -0.168855 -0.084045   \n",
       "996    -0.458386  ...    -0.234453     -0.274647         -0.168855 -0.084045   \n",
       "997    -0.459408  ...    -0.234453     -0.274647         -0.168855 -0.084045   \n",
       "\n",
       "       IC50, mM    CC50, mM         SI  log_10_SI  is_outlier_3σ  \\\n",
       "0      6.239374  175.482382  28.125000   1.449093          False   \n",
       "1      0.771831    5.402819   7.000000   0.845098          False   \n",
       "2    223.808778  161.142320   0.720000  -0.142668          False   \n",
       "3      1.705624  107.855654  63.235294   1.800960          False   \n",
       "4    107.131532  139.270991   1.300000   0.113943          False   \n",
       "..          ...         ...        ...        ...            ...   \n",
       "993   31.000104   34.999650   1.129017   0.052701          False   \n",
       "994   31.999934   33.999415   1.062484   0.026322          False   \n",
       "995   30.999883   33.999458   1.096761   0.040112          False   \n",
       "996   31.998959   32.999644   1.031272   0.013373          False   \n",
       "997   99.999531   99.999531   1.000000   0.000000          False   \n",
       "\n",
       "     is_outlier_IQR  \n",
       "0             False  \n",
       "1             False  \n",
       "2             False  \n",
       "3              True  \n",
       "4             False  \n",
       "..              ...  \n",
       "993           False  \n",
       "994           False  \n",
       "995           False  \n",
       "996           False  \n",
       "997           False  \n",
       "\n",
       "[998 rows x 151 columns]"
      ]
     },
     "execution_count": 79,
     "metadata": {},
     "output_type": "execute_result"
    }
   ],
   "source": [
    "df"
   ]
  },
  {
   "cell_type": "code",
   "execution_count": 80,
   "id": "9c77cdda",
   "metadata": {},
   "outputs": [
    {
     "data": {
      "text/html": [
       "<div>\n",
       "<style scoped>\n",
       "    .dataframe tbody tr th:only-of-type {\n",
       "        vertical-align: middle;\n",
       "    }\n",
       "\n",
       "    .dataframe tbody tr th {\n",
       "        vertical-align: top;\n",
       "    }\n",
       "\n",
       "    .dataframe thead th {\n",
       "        text-align: right;\n",
       "    }\n",
       "</style>\n",
       "<table border=\"1\" class=\"dataframe\">\n",
       "  <thead>\n",
       "    <tr style=\"text-align: right;\">\n",
       "      <th></th>\n",
       "      <th>MaxAbsEStateIndex</th>\n",
       "      <th>MinAbsEStateIndex</th>\n",
       "      <th>MinEStateIndex</th>\n",
       "      <th>qed</th>\n",
       "      <th>SPS</th>\n",
       "      <th>MolWt</th>\n",
       "      <th>MaxPartialCharge</th>\n",
       "      <th>MinPartialCharge</th>\n",
       "      <th>FpDensityMorgan1</th>\n",
       "      <th>BCUT2D_MWHI</th>\n",
       "      <th>...</th>\n",
       "      <th>fr_sulfone</th>\n",
       "      <th>fr_term_acetylene</th>\n",
       "      <th>fr_tetrazole</th>\n",
       "      <th>fr_thiazole</th>\n",
       "      <th>fr_thiophene</th>\n",
       "      <th>fr_unbrch_alkane</th>\n",
       "      <th>fr_urea</th>\n",
       "      <th>IC50, mM</th>\n",
       "      <th>CC50, mM</th>\n",
       "      <th>SI</th>\n",
       "    </tr>\n",
       "  </thead>\n",
       "  <tbody>\n",
       "    <tr>\n",
       "      <th>0</th>\n",
       "      <td>-1.732405</td>\n",
       "      <td>1.222549</td>\n",
       "      <td>0.851581</td>\n",
       "      <td>-0.772814</td>\n",
       "      <td>1.052557</td>\n",
       "      <td>0.284504</td>\n",
       "      <td>-1.522105</td>\n",
       "      <td>1.500099</td>\n",
       "      <td>-2.075118</td>\n",
       "      <td>-0.576677</td>\n",
       "      <td>...</td>\n",
       "      <td>-0.095394</td>\n",
       "      <td>-0.03167</td>\n",
       "      <td>-0.03167</td>\n",
       "      <td>-0.234453</td>\n",
       "      <td>-0.274647</td>\n",
       "      <td>2.297254</td>\n",
       "      <td>-0.084045</td>\n",
       "      <td>6.239374</td>\n",
       "      <td>175.482382</td>\n",
       "      <td>28.125000</td>\n",
       "    </tr>\n",
       "    <tr>\n",
       "      <th>1</th>\n",
       "      <td>-2.074548</td>\n",
       "      <td>2.091417</td>\n",
       "      <td>0.943841</td>\n",
       "      <td>-0.560001</td>\n",
       "      <td>1.232249</td>\n",
       "      <td>0.316257</td>\n",
       "      <td>-1.722757</td>\n",
       "      <td>1.238276</td>\n",
       "      <td>-2.223551</td>\n",
       "      <td>-0.566152</td>\n",
       "      <td>...</td>\n",
       "      <td>-0.095394</td>\n",
       "      <td>-0.03167</td>\n",
       "      <td>-0.03167</td>\n",
       "      <td>-0.234453</td>\n",
       "      <td>-0.274647</td>\n",
       "      <td>2.297254</td>\n",
       "      <td>-0.084045</td>\n",
       "      <td>0.771831</td>\n",
       "      <td>5.402819</td>\n",
       "      <td>7.000000</td>\n",
       "    </tr>\n",
       "    <tr>\n",
       "      <th>2</th>\n",
       "      <td>-2.477594</td>\n",
       "      <td>2.146889</td>\n",
       "      <td>0.949731</td>\n",
       "      <td>-1.510821</td>\n",
       "      <td>0.994298</td>\n",
       "      <td>0.773991</td>\n",
       "      <td>-1.089544</td>\n",
       "      <td>1.078060</td>\n",
       "      <td>-2.409092</td>\n",
       "      <td>-0.540065</td>\n",
       "      <td>...</td>\n",
       "      <td>-0.095394</td>\n",
       "      <td>-0.03167</td>\n",
       "      <td>-0.03167</td>\n",
       "      <td>-0.234453</td>\n",
       "      <td>-0.274647</td>\n",
       "      <td>2.297254</td>\n",
       "      <td>-0.084045</td>\n",
       "      <td>223.808778</td>\n",
       "      <td>161.142320</td>\n",
       "      <td>0.720000</td>\n",
       "    </tr>\n",
       "    <tr>\n",
       "      <th>3</th>\n",
       "      <td>-1.731419</td>\n",
       "      <td>1.242563</td>\n",
       "      <td>0.853706</td>\n",
       "      <td>-0.959234</td>\n",
       "      <td>0.968714</td>\n",
       "      <td>0.394969</td>\n",
       "      <td>-1.522105</td>\n",
       "      <td>1.500099</td>\n",
       "      <td>-2.167248</td>\n",
       "      <td>-0.576750</td>\n",
       "      <td>...</td>\n",
       "      <td>-0.095394</td>\n",
       "      <td>-0.03167</td>\n",
       "      <td>-0.03167</td>\n",
       "      <td>-0.234453</td>\n",
       "      <td>-0.274647</td>\n",
       "      <td>3.119291</td>\n",
       "      <td>-0.084045</td>\n",
       "      <td>1.705624</td>\n",
       "      <td>107.855654</td>\n",
       "      <td>63.235294</td>\n",
       "    </tr>\n",
       "    <tr>\n",
       "      <th>4</th>\n",
       "      <td>-1.715364</td>\n",
       "      <td>0.530810</td>\n",
       "      <td>0.778129</td>\n",
       "      <td>-0.717729</td>\n",
       "      <td>0.548297</td>\n",
       "      <td>0.930745</td>\n",
       "      <td>-1.336166</td>\n",
       "      <td>1.977954</td>\n",
       "      <td>-2.253237</td>\n",
       "      <td>-0.576068</td>\n",
       "      <td>...</td>\n",
       "      <td>-0.095394</td>\n",
       "      <td>-0.03167</td>\n",
       "      <td>-0.03167</td>\n",
       "      <td>-0.234453</td>\n",
       "      <td>-0.274647</td>\n",
       "      <td>-0.168855</td>\n",
       "      <td>-0.084045</td>\n",
       "      <td>107.131532</td>\n",
       "      <td>139.270991</td>\n",
       "      <td>1.300000</td>\n",
       "    </tr>\n",
       "    <tr>\n",
       "      <th>...</th>\n",
       "      <td>...</td>\n",
       "      <td>...</td>\n",
       "      <td>...</td>\n",
       "      <td>...</td>\n",
       "      <td>...</td>\n",
       "      <td>...</td>\n",
       "      <td>...</td>\n",
       "      <td>...</td>\n",
       "      <td>...</td>\n",
       "      <td>...</td>\n",
       "      <td>...</td>\n",
       "      <td>...</td>\n",
       "      <td>...</td>\n",
       "      <td>...</td>\n",
       "      <td>...</td>\n",
       "      <td>...</td>\n",
       "      <td>...</td>\n",
       "      <td>...</td>\n",
       "      <td>...</td>\n",
       "      <td>...</td>\n",
       "      <td>...</td>\n",
       "    </tr>\n",
       "    <tr>\n",
       "      <th>993</th>\n",
       "      <td>0.636029</td>\n",
       "      <td>-0.787198</td>\n",
       "      <td>0.308399</td>\n",
       "      <td>-0.936087</td>\n",
       "      <td>1.540346</td>\n",
       "      <td>0.519892</td>\n",
       "      <td>0.634955</td>\n",
       "      <td>-0.805298</td>\n",
       "      <td>-0.036641</td>\n",
       "      <td>-0.455162</td>\n",
       "      <td>...</td>\n",
       "      <td>-0.095394</td>\n",
       "      <td>-0.03167</td>\n",
       "      <td>-0.03167</td>\n",
       "      <td>-0.234453</td>\n",
       "      <td>-0.274647</td>\n",
       "      <td>-0.168855</td>\n",
       "      <td>-0.084045</td>\n",
       "      <td>31.000104</td>\n",
       "      <td>34.999650</td>\n",
       "      <td>1.129017</td>\n",
       "    </tr>\n",
       "    <tr>\n",
       "      <th>994</th>\n",
       "      <td>0.847612</td>\n",
       "      <td>-0.892065</td>\n",
       "      <td>0.167966</td>\n",
       "      <td>-0.998958</td>\n",
       "      <td>1.179465</td>\n",
       "      <td>1.079648</td>\n",
       "      <td>0.709726</td>\n",
       "      <td>-0.790893</td>\n",
       "      <td>-0.234551</td>\n",
       "      <td>-0.455160</td>\n",
       "      <td>...</td>\n",
       "      <td>-0.095394</td>\n",
       "      <td>-0.03167</td>\n",
       "      <td>-0.03167</td>\n",
       "      <td>-0.234453</td>\n",
       "      <td>-0.274647</td>\n",
       "      <td>-0.168855</td>\n",
       "      <td>-0.084045</td>\n",
       "      <td>31.999934</td>\n",
       "      <td>33.999415</td>\n",
       "      <td>1.062484</td>\n",
       "    </tr>\n",
       "    <tr>\n",
       "      <th>995</th>\n",
       "      <td>0.955251</td>\n",
       "      <td>-0.914547</td>\n",
       "      <td>0.198520</td>\n",
       "      <td>-1.397599</td>\n",
       "      <td>0.977489</td>\n",
       "      <td>1.553108</td>\n",
       "      <td>0.712233</td>\n",
       "      <td>-0.790785</td>\n",
       "      <td>0.065439</td>\n",
       "      <td>0.617677</td>\n",
       "      <td>...</td>\n",
       "      <td>-0.095394</td>\n",
       "      <td>-0.03167</td>\n",
       "      <td>-0.03167</td>\n",
       "      <td>-0.234453</td>\n",
       "      <td>-0.274647</td>\n",
       "      <td>-0.168855</td>\n",
       "      <td>-0.084045</td>\n",
       "      <td>30.999883</td>\n",
       "      <td>33.999458</td>\n",
       "      <td>1.096761</td>\n",
       "    </tr>\n",
       "    <tr>\n",
       "      <th>996</th>\n",
       "      <td>0.906465</td>\n",
       "      <td>-0.203625</td>\n",
       "      <td>-0.278284</td>\n",
       "      <td>-0.941713</td>\n",
       "      <td>0.743712</td>\n",
       "      <td>1.371138</td>\n",
       "      <td>0.593365</td>\n",
       "      <td>-0.807503</td>\n",
       "      <td>-1.601738</td>\n",
       "      <td>-0.458386</td>\n",
       "      <td>...</td>\n",
       "      <td>-0.095394</td>\n",
       "      <td>-0.03167</td>\n",
       "      <td>-0.03167</td>\n",
       "      <td>-0.234453</td>\n",
       "      <td>-0.274647</td>\n",
       "      <td>-0.168855</td>\n",
       "      <td>-0.084045</td>\n",
       "      <td>31.998959</td>\n",
       "      <td>32.999644</td>\n",
       "      <td>1.031272</td>\n",
       "    </tr>\n",
       "    <tr>\n",
       "      <th>997</th>\n",
       "      <td>0.770742</td>\n",
       "      <td>-1.057401</td>\n",
       "      <td>0.326118</td>\n",
       "      <td>-0.606743</td>\n",
       "      <td>1.496896</td>\n",
       "      <td>0.614826</td>\n",
       "      <td>0.584103</td>\n",
       "      <td>-0.805298</td>\n",
       "      <td>-0.322653</td>\n",
       "      <td>-0.459408</td>\n",
       "      <td>...</td>\n",
       "      <td>-0.095394</td>\n",
       "      <td>-0.03167</td>\n",
       "      <td>-0.03167</td>\n",
       "      <td>-0.234453</td>\n",
       "      <td>-0.274647</td>\n",
       "      <td>-0.168855</td>\n",
       "      <td>-0.084045</td>\n",
       "      <td>99.999531</td>\n",
       "      <td>99.999531</td>\n",
       "      <td>1.000000</td>\n",
       "    </tr>\n",
       "  </tbody>\n",
       "</table>\n",
       "<p>993 rows × 148 columns</p>\n",
       "</div>"
      ],
      "text/plain": [
       "     MaxAbsEStateIndex  MinAbsEStateIndex  MinEStateIndex       qed       SPS  \\\n",
       "0            -1.732405           1.222549        0.851581 -0.772814  1.052557   \n",
       "1            -2.074548           2.091417        0.943841 -0.560001  1.232249   \n",
       "2            -2.477594           2.146889        0.949731 -1.510821  0.994298   \n",
       "3            -1.731419           1.242563        0.853706 -0.959234  0.968714   \n",
       "4            -1.715364           0.530810        0.778129 -0.717729  0.548297   \n",
       "..                 ...                ...             ...       ...       ...   \n",
       "993           0.636029          -0.787198        0.308399 -0.936087  1.540346   \n",
       "994           0.847612          -0.892065        0.167966 -0.998958  1.179465   \n",
       "995           0.955251          -0.914547        0.198520 -1.397599  0.977489   \n",
       "996           0.906465          -0.203625       -0.278284 -0.941713  0.743712   \n",
       "997           0.770742          -1.057401        0.326118 -0.606743  1.496896   \n",
       "\n",
       "        MolWt  MaxPartialCharge  MinPartialCharge  FpDensityMorgan1  \\\n",
       "0    0.284504         -1.522105          1.500099         -2.075118   \n",
       "1    0.316257         -1.722757          1.238276         -2.223551   \n",
       "2    0.773991         -1.089544          1.078060         -2.409092   \n",
       "3    0.394969         -1.522105          1.500099         -2.167248   \n",
       "4    0.930745         -1.336166          1.977954         -2.253237   \n",
       "..        ...               ...               ...               ...   \n",
       "993  0.519892          0.634955         -0.805298         -0.036641   \n",
       "994  1.079648          0.709726         -0.790893         -0.234551   \n",
       "995  1.553108          0.712233         -0.790785          0.065439   \n",
       "996  1.371138          0.593365         -0.807503         -1.601738   \n",
       "997  0.614826          0.584103         -0.805298         -0.322653   \n",
       "\n",
       "     BCUT2D_MWHI  ...  fr_sulfone  fr_term_acetylene  fr_tetrazole  \\\n",
       "0      -0.576677  ...   -0.095394           -0.03167      -0.03167   \n",
       "1      -0.566152  ...   -0.095394           -0.03167      -0.03167   \n",
       "2      -0.540065  ...   -0.095394           -0.03167      -0.03167   \n",
       "3      -0.576750  ...   -0.095394           -0.03167      -0.03167   \n",
       "4      -0.576068  ...   -0.095394           -0.03167      -0.03167   \n",
       "..           ...  ...         ...                ...           ...   \n",
       "993    -0.455162  ...   -0.095394           -0.03167      -0.03167   \n",
       "994    -0.455160  ...   -0.095394           -0.03167      -0.03167   \n",
       "995     0.617677  ...   -0.095394           -0.03167      -0.03167   \n",
       "996    -0.458386  ...   -0.095394           -0.03167      -0.03167   \n",
       "997    -0.459408  ...   -0.095394           -0.03167      -0.03167   \n",
       "\n",
       "     fr_thiazole  fr_thiophene  fr_unbrch_alkane   fr_urea    IC50, mM  \\\n",
       "0      -0.234453     -0.274647          2.297254 -0.084045    6.239374   \n",
       "1      -0.234453     -0.274647          2.297254 -0.084045    0.771831   \n",
       "2      -0.234453     -0.274647          2.297254 -0.084045  223.808778   \n",
       "3      -0.234453     -0.274647          3.119291 -0.084045    1.705624   \n",
       "4      -0.234453     -0.274647         -0.168855 -0.084045  107.131532   \n",
       "..           ...           ...               ...       ...         ...   \n",
       "993    -0.234453     -0.274647         -0.168855 -0.084045   31.000104   \n",
       "994    -0.234453     -0.274647         -0.168855 -0.084045   31.999934   \n",
       "995    -0.234453     -0.274647         -0.168855 -0.084045   30.999883   \n",
       "996    -0.234453     -0.274647         -0.168855 -0.084045   31.998959   \n",
       "997    -0.234453     -0.274647         -0.168855 -0.084045   99.999531   \n",
       "\n",
       "       CC50, mM         SI  \n",
       "0    175.482382  28.125000  \n",
       "1      5.402819   7.000000  \n",
       "2    161.142320   0.720000  \n",
       "3    107.855654  63.235294  \n",
       "4    139.270991   1.300000  \n",
       "..          ...        ...  \n",
       "993   34.999650   1.129017  \n",
       "994   33.999415   1.062484  \n",
       "995   33.999458   1.096761  \n",
       "996   32.999644   1.031272  \n",
       "997   99.999531   1.000000  \n",
       "\n",
       "[993 rows x 148 columns]"
      ]
     },
     "execution_count": 80,
     "metadata": {},
     "output_type": "execute_result"
    }
   ],
   "source": [
    "# data_cleaned_IQR = df[~df['is_outlier_IQR']].drop(columns=['is_outlier_IQR', 'is_outlier_3σ'])\n",
    "data_cleaned_IQR = df[~df['is_outlier_3σ']].drop(columns=['is_outlier_IQR', 'is_outlier_3σ', target_old])\n",
    "\n",
    "data_cleaned_IQR"
   ]
  },
  {
   "cell_type": "code",
   "execution_count": 81,
   "id": "1513dbaf",
   "metadata": {},
   "outputs": [],
   "source": [
    "X = data_cleaned_IQR[data_cleaned_IQR.columns[:-3]]\n",
    "y_ic50 = data_cleaned_IQR[target]"
   ]
  },
  {
   "cell_type": "code",
   "execution_count": 82,
   "id": "64069bb4",
   "metadata": {},
   "outputs": [
    {
     "data": {
      "text/html": [
       "<div>\n",
       "<style scoped>\n",
       "    .dataframe tbody tr th:only-of-type {\n",
       "        vertical-align: middle;\n",
       "    }\n",
       "\n",
       "    .dataframe tbody tr th {\n",
       "        vertical-align: top;\n",
       "    }\n",
       "\n",
       "    .dataframe thead th {\n",
       "        text-align: right;\n",
       "    }\n",
       "</style>\n",
       "<table border=\"1\" class=\"dataframe\">\n",
       "  <thead>\n",
       "    <tr style=\"text-align: right;\">\n",
       "      <th></th>\n",
       "      <th>MaxAbsEStateIndex</th>\n",
       "      <th>MinAbsEStateIndex</th>\n",
       "      <th>MinEStateIndex</th>\n",
       "      <th>qed</th>\n",
       "      <th>SPS</th>\n",
       "      <th>MolWt</th>\n",
       "      <th>MaxPartialCharge</th>\n",
       "      <th>MinPartialCharge</th>\n",
       "      <th>FpDensityMorgan1</th>\n",
       "      <th>BCUT2D_MWHI</th>\n",
       "      <th>...</th>\n",
       "      <th>fr_quatN</th>\n",
       "      <th>fr_sulfide</th>\n",
       "      <th>fr_sulfonamd</th>\n",
       "      <th>fr_sulfone</th>\n",
       "      <th>fr_term_acetylene</th>\n",
       "      <th>fr_tetrazole</th>\n",
       "      <th>fr_thiazole</th>\n",
       "      <th>fr_thiophene</th>\n",
       "      <th>fr_unbrch_alkane</th>\n",
       "      <th>fr_urea</th>\n",
       "    </tr>\n",
       "  </thead>\n",
       "  <tbody>\n",
       "    <tr>\n",
       "      <th>0</th>\n",
       "      <td>-1.732405</td>\n",
       "      <td>1.222549</td>\n",
       "      <td>0.851581</td>\n",
       "      <td>-0.772814</td>\n",
       "      <td>1.052557</td>\n",
       "      <td>0.284504</td>\n",
       "      <td>-1.522105</td>\n",
       "      <td>1.500099</td>\n",
       "      <td>-2.075118</td>\n",
       "      <td>-0.576677</td>\n",
       "      <td>...</td>\n",
       "      <td>-0.181542</td>\n",
       "      <td>-0.206219</td>\n",
       "      <td>-0.110319</td>\n",
       "      <td>-0.095394</td>\n",
       "      <td>-0.03167</td>\n",
       "      <td>-0.03167</td>\n",
       "      <td>-0.234453</td>\n",
       "      <td>-0.274647</td>\n",
       "      <td>2.297254</td>\n",
       "      <td>-0.084045</td>\n",
       "    </tr>\n",
       "    <tr>\n",
       "      <th>1</th>\n",
       "      <td>-2.074548</td>\n",
       "      <td>2.091417</td>\n",
       "      <td>0.943841</td>\n",
       "      <td>-0.560001</td>\n",
       "      <td>1.232249</td>\n",
       "      <td>0.316257</td>\n",
       "      <td>-1.722757</td>\n",
       "      <td>1.238276</td>\n",
       "      <td>-2.223551</td>\n",
       "      <td>-0.566152</td>\n",
       "      <td>...</td>\n",
       "      <td>-0.181542</td>\n",
       "      <td>-0.206219</td>\n",
       "      <td>-0.110319</td>\n",
       "      <td>-0.095394</td>\n",
       "      <td>-0.03167</td>\n",
       "      <td>-0.03167</td>\n",
       "      <td>-0.234453</td>\n",
       "      <td>-0.274647</td>\n",
       "      <td>2.297254</td>\n",
       "      <td>-0.084045</td>\n",
       "    </tr>\n",
       "    <tr>\n",
       "      <th>2</th>\n",
       "      <td>-2.477594</td>\n",
       "      <td>2.146889</td>\n",
       "      <td>0.949731</td>\n",
       "      <td>-1.510821</td>\n",
       "      <td>0.994298</td>\n",
       "      <td>0.773991</td>\n",
       "      <td>-1.089544</td>\n",
       "      <td>1.078060</td>\n",
       "      <td>-2.409092</td>\n",
       "      <td>-0.540065</td>\n",
       "      <td>...</td>\n",
       "      <td>6.406778</td>\n",
       "      <td>-0.206219</td>\n",
       "      <td>-0.110319</td>\n",
       "      <td>-0.095394</td>\n",
       "      <td>-0.03167</td>\n",
       "      <td>-0.03167</td>\n",
       "      <td>-0.234453</td>\n",
       "      <td>-0.274647</td>\n",
       "      <td>2.297254</td>\n",
       "      <td>-0.084045</td>\n",
       "    </tr>\n",
       "    <tr>\n",
       "      <th>3</th>\n",
       "      <td>-1.731419</td>\n",
       "      <td>1.242563</td>\n",
       "      <td>0.853706</td>\n",
       "      <td>-0.959234</td>\n",
       "      <td>0.968714</td>\n",
       "      <td>0.394969</td>\n",
       "      <td>-1.522105</td>\n",
       "      <td>1.500099</td>\n",
       "      <td>-2.167248</td>\n",
       "      <td>-0.576750</td>\n",
       "      <td>...</td>\n",
       "      <td>-0.181542</td>\n",
       "      <td>-0.206219</td>\n",
       "      <td>-0.110319</td>\n",
       "      <td>-0.095394</td>\n",
       "      <td>-0.03167</td>\n",
       "      <td>-0.03167</td>\n",
       "      <td>-0.234453</td>\n",
       "      <td>-0.274647</td>\n",
       "      <td>3.119291</td>\n",
       "      <td>-0.084045</td>\n",
       "    </tr>\n",
       "    <tr>\n",
       "      <th>4</th>\n",
       "      <td>-1.715364</td>\n",
       "      <td>0.530810</td>\n",
       "      <td>0.778129</td>\n",
       "      <td>-0.717729</td>\n",
       "      <td>0.548297</td>\n",
       "      <td>0.930745</td>\n",
       "      <td>-1.336166</td>\n",
       "      <td>1.977954</td>\n",
       "      <td>-2.253237</td>\n",
       "      <td>-0.576068</td>\n",
       "      <td>...</td>\n",
       "      <td>-0.181542</td>\n",
       "      <td>-0.206219</td>\n",
       "      <td>-0.110319</td>\n",
       "      <td>-0.095394</td>\n",
       "      <td>-0.03167</td>\n",
       "      <td>-0.03167</td>\n",
       "      <td>-0.234453</td>\n",
       "      <td>-0.274647</td>\n",
       "      <td>-0.168855</td>\n",
       "      <td>-0.084045</td>\n",
       "    </tr>\n",
       "    <tr>\n",
       "      <th>...</th>\n",
       "      <td>...</td>\n",
       "      <td>...</td>\n",
       "      <td>...</td>\n",
       "      <td>...</td>\n",
       "      <td>...</td>\n",
       "      <td>...</td>\n",
       "      <td>...</td>\n",
       "      <td>...</td>\n",
       "      <td>...</td>\n",
       "      <td>...</td>\n",
       "      <td>...</td>\n",
       "      <td>...</td>\n",
       "      <td>...</td>\n",
       "      <td>...</td>\n",
       "      <td>...</td>\n",
       "      <td>...</td>\n",
       "      <td>...</td>\n",
       "      <td>...</td>\n",
       "      <td>...</td>\n",
       "      <td>...</td>\n",
       "      <td>...</td>\n",
       "    </tr>\n",
       "    <tr>\n",
       "      <th>993</th>\n",
       "      <td>0.636029</td>\n",
       "      <td>-0.787198</td>\n",
       "      <td>0.308399</td>\n",
       "      <td>-0.936087</td>\n",
       "      <td>1.540346</td>\n",
       "      <td>0.519892</td>\n",
       "      <td>0.634955</td>\n",
       "      <td>-0.805298</td>\n",
       "      <td>-0.036641</td>\n",
       "      <td>-0.455162</td>\n",
       "      <td>...</td>\n",
       "      <td>-0.181542</td>\n",
       "      <td>-0.206219</td>\n",
       "      <td>-0.110319</td>\n",
       "      <td>-0.095394</td>\n",
       "      <td>-0.03167</td>\n",
       "      <td>-0.03167</td>\n",
       "      <td>-0.234453</td>\n",
       "      <td>-0.274647</td>\n",
       "      <td>-0.168855</td>\n",
       "      <td>-0.084045</td>\n",
       "    </tr>\n",
       "    <tr>\n",
       "      <th>994</th>\n",
       "      <td>0.847612</td>\n",
       "      <td>-0.892065</td>\n",
       "      <td>0.167966</td>\n",
       "      <td>-0.998958</td>\n",
       "      <td>1.179465</td>\n",
       "      <td>1.079648</td>\n",
       "      <td>0.709726</td>\n",
       "      <td>-0.790893</td>\n",
       "      <td>-0.234551</td>\n",
       "      <td>-0.455160</td>\n",
       "      <td>...</td>\n",
       "      <td>-0.181542</td>\n",
       "      <td>-0.206219</td>\n",
       "      <td>-0.110319</td>\n",
       "      <td>-0.095394</td>\n",
       "      <td>-0.03167</td>\n",
       "      <td>-0.03167</td>\n",
       "      <td>-0.234453</td>\n",
       "      <td>-0.274647</td>\n",
       "      <td>-0.168855</td>\n",
       "      <td>-0.084045</td>\n",
       "    </tr>\n",
       "    <tr>\n",
       "      <th>995</th>\n",
       "      <td>0.955251</td>\n",
       "      <td>-0.914547</td>\n",
       "      <td>0.198520</td>\n",
       "      <td>-1.397599</td>\n",
       "      <td>0.977489</td>\n",
       "      <td>1.553108</td>\n",
       "      <td>0.712233</td>\n",
       "      <td>-0.790785</td>\n",
       "      <td>0.065439</td>\n",
       "      <td>0.617677</td>\n",
       "      <td>...</td>\n",
       "      <td>-0.181542</td>\n",
       "      <td>3.676931</td>\n",
       "      <td>-0.110319</td>\n",
       "      <td>-0.095394</td>\n",
       "      <td>-0.03167</td>\n",
       "      <td>-0.03167</td>\n",
       "      <td>-0.234453</td>\n",
       "      <td>-0.274647</td>\n",
       "      <td>-0.168855</td>\n",
       "      <td>-0.084045</td>\n",
       "    </tr>\n",
       "    <tr>\n",
       "      <th>996</th>\n",
       "      <td>0.906465</td>\n",
       "      <td>-0.203625</td>\n",
       "      <td>-0.278284</td>\n",
       "      <td>-0.941713</td>\n",
       "      <td>0.743712</td>\n",
       "      <td>1.371138</td>\n",
       "      <td>0.593365</td>\n",
       "      <td>-0.807503</td>\n",
       "      <td>-1.601738</td>\n",
       "      <td>-0.458386</td>\n",
       "      <td>...</td>\n",
       "      <td>-0.181542</td>\n",
       "      <td>-0.206219</td>\n",
       "      <td>-0.110319</td>\n",
       "      <td>-0.095394</td>\n",
       "      <td>-0.03167</td>\n",
       "      <td>-0.03167</td>\n",
       "      <td>-0.234453</td>\n",
       "      <td>-0.274647</td>\n",
       "      <td>-0.168855</td>\n",
       "      <td>-0.084045</td>\n",
       "    </tr>\n",
       "    <tr>\n",
       "      <th>997</th>\n",
       "      <td>0.770742</td>\n",
       "      <td>-1.057401</td>\n",
       "      <td>0.326118</td>\n",
       "      <td>-0.606743</td>\n",
       "      <td>1.496896</td>\n",
       "      <td>0.614826</td>\n",
       "      <td>0.584103</td>\n",
       "      <td>-0.805298</td>\n",
       "      <td>-0.322653</td>\n",
       "      <td>-0.459408</td>\n",
       "      <td>...</td>\n",
       "      <td>-0.181542</td>\n",
       "      <td>-0.206219</td>\n",
       "      <td>-0.110319</td>\n",
       "      <td>-0.095394</td>\n",
       "      <td>-0.03167</td>\n",
       "      <td>-0.03167</td>\n",
       "      <td>-0.234453</td>\n",
       "      <td>-0.274647</td>\n",
       "      <td>-0.168855</td>\n",
       "      <td>-0.084045</td>\n",
       "    </tr>\n",
       "  </tbody>\n",
       "</table>\n",
       "<p>993 rows × 145 columns</p>\n",
       "</div>"
      ],
      "text/plain": [
       "     MaxAbsEStateIndex  MinAbsEStateIndex  MinEStateIndex       qed       SPS  \\\n",
       "0            -1.732405           1.222549        0.851581 -0.772814  1.052557   \n",
       "1            -2.074548           2.091417        0.943841 -0.560001  1.232249   \n",
       "2            -2.477594           2.146889        0.949731 -1.510821  0.994298   \n",
       "3            -1.731419           1.242563        0.853706 -0.959234  0.968714   \n",
       "4            -1.715364           0.530810        0.778129 -0.717729  0.548297   \n",
       "..                 ...                ...             ...       ...       ...   \n",
       "993           0.636029          -0.787198        0.308399 -0.936087  1.540346   \n",
       "994           0.847612          -0.892065        0.167966 -0.998958  1.179465   \n",
       "995           0.955251          -0.914547        0.198520 -1.397599  0.977489   \n",
       "996           0.906465          -0.203625       -0.278284 -0.941713  0.743712   \n",
       "997           0.770742          -1.057401        0.326118 -0.606743  1.496896   \n",
       "\n",
       "        MolWt  MaxPartialCharge  MinPartialCharge  FpDensityMorgan1  \\\n",
       "0    0.284504         -1.522105          1.500099         -2.075118   \n",
       "1    0.316257         -1.722757          1.238276         -2.223551   \n",
       "2    0.773991         -1.089544          1.078060         -2.409092   \n",
       "3    0.394969         -1.522105          1.500099         -2.167248   \n",
       "4    0.930745         -1.336166          1.977954         -2.253237   \n",
       "..        ...               ...               ...               ...   \n",
       "993  0.519892          0.634955         -0.805298         -0.036641   \n",
       "994  1.079648          0.709726         -0.790893         -0.234551   \n",
       "995  1.553108          0.712233         -0.790785          0.065439   \n",
       "996  1.371138          0.593365         -0.807503         -1.601738   \n",
       "997  0.614826          0.584103         -0.805298         -0.322653   \n",
       "\n",
       "     BCUT2D_MWHI  ...  fr_quatN  fr_sulfide  fr_sulfonamd  fr_sulfone  \\\n",
       "0      -0.576677  ... -0.181542   -0.206219     -0.110319   -0.095394   \n",
       "1      -0.566152  ... -0.181542   -0.206219     -0.110319   -0.095394   \n",
       "2      -0.540065  ...  6.406778   -0.206219     -0.110319   -0.095394   \n",
       "3      -0.576750  ... -0.181542   -0.206219     -0.110319   -0.095394   \n",
       "4      -0.576068  ... -0.181542   -0.206219     -0.110319   -0.095394   \n",
       "..           ...  ...       ...         ...           ...         ...   \n",
       "993    -0.455162  ... -0.181542   -0.206219     -0.110319   -0.095394   \n",
       "994    -0.455160  ... -0.181542   -0.206219     -0.110319   -0.095394   \n",
       "995     0.617677  ... -0.181542    3.676931     -0.110319   -0.095394   \n",
       "996    -0.458386  ... -0.181542   -0.206219     -0.110319   -0.095394   \n",
       "997    -0.459408  ... -0.181542   -0.206219     -0.110319   -0.095394   \n",
       "\n",
       "     fr_term_acetylene  fr_tetrazole  fr_thiazole  fr_thiophene  \\\n",
       "0             -0.03167      -0.03167    -0.234453     -0.274647   \n",
       "1             -0.03167      -0.03167    -0.234453     -0.274647   \n",
       "2             -0.03167      -0.03167    -0.234453     -0.274647   \n",
       "3             -0.03167      -0.03167    -0.234453     -0.274647   \n",
       "4             -0.03167      -0.03167    -0.234453     -0.274647   \n",
       "..                 ...           ...          ...           ...   \n",
       "993           -0.03167      -0.03167    -0.234453     -0.274647   \n",
       "994           -0.03167      -0.03167    -0.234453     -0.274647   \n",
       "995           -0.03167      -0.03167    -0.234453     -0.274647   \n",
       "996           -0.03167      -0.03167    -0.234453     -0.274647   \n",
       "997           -0.03167      -0.03167    -0.234453     -0.274647   \n",
       "\n",
       "     fr_unbrch_alkane   fr_urea  \n",
       "0            2.297254 -0.084045  \n",
       "1            2.297254 -0.084045  \n",
       "2            2.297254 -0.084045  \n",
       "3            3.119291 -0.084045  \n",
       "4           -0.168855 -0.084045  \n",
       "..                ...       ...  \n",
       "993         -0.168855 -0.084045  \n",
       "994         -0.168855 -0.084045  \n",
       "995         -0.168855 -0.084045  \n",
       "996         -0.168855 -0.084045  \n",
       "997         -0.168855 -0.084045  \n",
       "\n",
       "[993 rows x 145 columns]"
      ]
     },
     "execution_count": 82,
     "metadata": {},
     "output_type": "execute_result"
    }
   ],
   "source": [
    "X"
   ]
  },
  {
   "cell_type": "code",
   "execution_count": 83,
   "id": "01159c37",
   "metadata": {},
   "outputs": [
    {
     "data": {
      "text/plain": [
       "0      28.125000\n",
       "1       7.000000\n",
       "2       0.720000\n",
       "3      63.235294\n",
       "4       1.300000\n",
       "         ...    \n",
       "993     1.129017\n",
       "994     1.062484\n",
       "995     1.096761\n",
       "996     1.031272\n",
       "997     1.000000\n",
       "Name: SI, Length: 993, dtype: float64"
      ]
     },
     "execution_count": 83,
     "metadata": {},
     "output_type": "execute_result"
    }
   ],
   "source": [
    "y_ic50"
   ]
  },
  {
   "cell_type": "code",
   "execution_count": 84,
   "id": "db186e8f",
   "metadata": {},
   "outputs": [],
   "source": [
    "X_train, X_test, y_train_ic50, y_test_ic50 = train_test_split(\n",
    "    X, y_ic50, test_size=0.15, random_state=42\n",
    ")"
   ]
  },
  {
   "cell_type": "markdown",
   "id": "8e017275",
   "metadata": {},
   "source": [
    "## Инициализация моделей и метрик"
   ]
  },
  {
   "cell_type": "code",
   "execution_count": 85,
   "id": "382c646c",
   "metadata": {},
   "outputs": [],
   "source": [
    "from sklearn.linear_model import Ridge, Lasso\n",
    "from sklearn.ensemble import RandomForestRegressor\n",
    "from xgboost import XGBRegressor\n",
    "from sklearn.svm import SVR\n",
    "from sklearn.metrics import r2_score, mean_squared_error, mean_absolute_error, mean_absolute_percentage_error\n",
    "import numpy as np"
   ]
  },
  {
   "cell_type": "code",
   "execution_count": 86,
   "id": "9bf49b4d",
   "metadata": {},
   "outputs": [],
   "source": [
    "RANDOM_STATE = 42\n",
    "np.random.seed(RANDOM_STATE)"
   ]
  },
  {
   "cell_type": "code",
   "execution_count": 87,
   "id": "17e2fa90",
   "metadata": {},
   "outputs": [],
   "source": [
    "models = {\n",
    "    'Ridge': Ridge(),\n",
    "    'Lasso': Lasso(),\n",
    "    'RandomForest': RandomForestRegressor(random_state=RANDOM_STATE),\n",
    "    'XGBoost': XGBRegressor(random_state=RANDOM_STATE),\n",
    "    'SVR': SVR()\n",
    "}\n",
    "\n",
    "metrics = {\n",
    "    'R2': r2_score,\n",
    "    'RMSE': lambda y_true, y_pred: np.sqrt(mean_squared_error(y_true, y_pred)),\n",
    "    'MAE': mean_absolute_error,\n",
    "    'MAPE': mean_absolute_percentage_error\n",
    "}"
   ]
  },
  {
   "cell_type": "markdown",
   "id": "30908cf7",
   "metadata": {},
   "source": [
    "## Бейзлайн"
   ]
  },
  {
   "cell_type": "markdown",
   "id": "017610d9",
   "metadata": {},
   "source": [
    "Проверим линейные модели, деревья, а также SVR"
   ]
  },
  {
   "cell_type": "code",
   "execution_count": 88,
   "id": "a1ed7a0c",
   "metadata": {},
   "outputs": [],
   "source": [
    "from sklearn.model_selection import cross_val_score"
   ]
  },
  {
   "cell_type": "code",
   "execution_count": 89,
   "id": "c73d1a6b",
   "metadata": {},
   "outputs": [
    {
     "name": "stdout",
     "output_type": "stream",
     "text": [
      "          model  cv_mean_r2  cv_std_r2        R2        RMSE        MAE  \\\n",
      "0         Ridge   -0.525791   0.970864  0.156357   99.337248  52.812892   \n",
      "1         Lasso   -0.034328   0.156725  0.216381   95.738166  43.998541   \n",
      "2  RandomForest   -0.196954   0.383623  0.265573   92.684466  32.088594   \n",
      "3       XGBoost   -0.270612   0.285288  0.415824   82.661704  28.171214   \n",
      "4           SVR   -0.041955   0.014948 -0.045067  110.561713  27.700237   \n",
      "\n",
      "        MAPE  \n",
      "0  22.215494  \n",
      "1  17.335410  \n",
      "2  13.204751  \n",
      "3  11.328810  \n",
      "4   1.466649  \n"
     ]
    }
   ],
   "source": [
    "results = []\n",
    "\n",
    "for name, model in models.items():\n",
    "    cv_scores = cross_val_score(model, X_train, y_train_ic50, \n",
    "                               cv=5, scoring='r2', n_jobs=-1)\n",
    "    \n",
    "    model.fit(X_train, y_train_ic50)\n",
    "    y_pred = model.predict(X_test)\n",
    "    \n",
    "    model_metrics = {metric_name: metric_func(y_test_ic50, y_pred) \n",
    "                     for metric_name, metric_func in metrics.items()}\n",
    "    \n",
    "    results.append({\n",
    "        'model': name,\n",
    "        'cv_mean_r2': np.mean(cv_scores),\n",
    "        'cv_std_r2': np.std(cv_scores),\n",
    "        **model_metrics\n",
    "    })\n",
    "\n",
    "results_df = pd.DataFrame(results)\n",
    "print(results_df)"
   ]
  },
  {
   "cell_type": "markdown",
   "id": "28ac63cb",
   "metadata": {},
   "source": [
    "Как видно, деревья и SVR дают лучшие результаты.\n",
    "\n",
    "Попробуем оптимизировать их с помощью подбора гиперпараметров"
   ]
  },
  {
   "cell_type": "markdown",
   "id": "99c84bcf",
   "metadata": {},
   "source": [
    "## Оптимизация\n",
    "\n",
    "Будем оптимизировать при помощи Optuna"
   ]
  },
  {
   "cell_type": "code",
   "execution_count": 90,
   "id": "d1351a82",
   "metadata": {},
   "outputs": [],
   "source": [
    "import optuna\n",
    "from optuna.samplers import TPESampler\n",
    "from sklearn.ensemble import RandomForestRegressor\n",
    "from xgboost import XGBRegressor\n",
    "from sklearn.svm import SVR\n",
    "from sklearn.model_selection import cross_val_score\n",
    "from sklearn.metrics import r2_score, mean_squared_error, mean_absolute_error\n",
    "import numpy as np\n",
    "import joblib\n",
    "import matplotlib.pyplot as plt"
   ]
  },
  {
   "cell_type": "code",
   "execution_count": 91,
   "id": "a764827e",
   "metadata": {},
   "outputs": [],
   "source": [
    "N_TRIALS_RF = 100\n",
    "CV_FOLDS_RF = 10\n",
    "\n",
    "N_TRIALS_XGB = 100\n",
    "CV_FOLDS_XGB = 10\n",
    "\n",
    "N_TRIALS_SVR = 30\n",
    "CV_FOLDS_SVR = 5"
   ]
  },
  {
   "cell_type": "markdown",
   "id": "a136fe2d",
   "metadata": {},
   "source": [
    "### Random Forest"
   ]
  },
  {
   "cell_type": "code",
   "execution_count": 92,
   "id": "6a3a0ea3",
   "metadata": {},
   "outputs": [],
   "source": [
    "def optimize_rf(trial):\n",
    "    params = {\n",
    "        'n_estimators': trial.suggest_int('n_estimators', 100, 1000),\n",
    "        'max_depth': trial.suggest_int('max_depth', 5, 50),\n",
    "        'min_samples_split': trial.suggest_int('min_samples_split', 2, 20),\n",
    "        'min_samples_leaf': trial.suggest_int('min_samples_leaf', 1, 10),\n",
    "        'max_features': trial.suggest_categorical('max_features', ['sqrt', 'log2']),\n",
    "        'bootstrap': trial.suggest_categorical('bootstrap', [True, False])\n",
    "    }\n",
    "    \n",
    "    model = RandomForestRegressor(\n",
    "        **params,\n",
    "        random_state=RANDOM_STATE,\n",
    "        n_jobs=-1\n",
    "    )\n",
    "    \n",
    "    r2_scores = cross_val_score(\n",
    "        model, X_train, y_train_ic50, \n",
    "        cv=CV_FOLDS_RF, scoring='r2', n_jobs=-1\n",
    "    )\n",
    "    \n",
    "    return np.mean(r2_scores)"
   ]
  },
  {
   "cell_type": "code",
   "execution_count": 93,
   "id": "68b52693",
   "metadata": {},
   "outputs": [
    {
     "name": "stderr",
     "output_type": "stream",
     "text": [
      "[I 2025-06-02 15:42:19,238] A new study created in memory with name: no-name-c340b1ab-708c-46dd-ba57-bd3ae7ff8eab\n",
      "[I 2025-06-02 15:42:21,536] Trial 0 finished with value: 0.059362485702782485 and parameters: {'n_estimators': 437, 'max_depth': 48, 'min_samples_split': 15, 'min_samples_leaf': 6, 'max_features': 'sqrt', 'bootstrap': False}. Best is trial 0 with value: 0.059362485702782485.\n",
      "[I 2025-06-02 15:42:23,293] Trial 1 finished with value: 0.03907335391258556 and parameters: {'n_estimators': 641, 'max_depth': 37, 'min_samples_split': 2, 'min_samples_leaf': 10, 'max_features': 'sqrt', 'bootstrap': False}. Best is trial 0 with value: 0.059362485702782485.\n",
      "[I 2025-06-02 15:42:24,605] Trial 2 finished with value: 0.0505994450722028 and parameters: {'n_estimators': 374, 'max_depth': 29, 'min_samples_split': 10, 'min_samples_leaf': 3, 'max_features': 'sqrt', 'bootstrap': False}. Best is trial 0 with value: 0.059362485702782485.\n",
      "[I 2025-06-02 15:42:25,805] Trial 3 finished with value: 0.05894958495929652 and parameters: {'n_estimators': 510, 'max_depth': 41, 'min_samples_split': 5, 'min_samples_leaf': 6, 'max_features': 'sqrt', 'bootstrap': True}. Best is trial 0 with value: 0.059362485702782485.\n",
      "[I 2025-06-02 15:42:26,247] Trial 4 finished with value: 0.05546876396029347 and parameters: {'n_estimators': 158, 'max_depth': 48, 'min_samples_split': 20, 'min_samples_leaf': 9, 'max_features': 'sqrt', 'bootstrap': True}. Best is trial 0 with value: 0.059362485702782485.\n",
      "[I 2025-06-02 15:42:26,652] Trial 5 finished with value: 0.04088395938070172 and parameters: {'n_estimators': 209, 'max_depth': 27, 'min_samples_split': 2, 'min_samples_leaf': 10, 'max_features': 'log2', 'bootstrap': False}. Best is trial 0 with value: 0.059362485702782485.\n",
      "[I 2025-06-02 15:42:28,617] Trial 6 finished with value: 0.05202104011088029 and parameters: {'n_estimators': 592, 'max_depth': 13, 'min_samples_split': 20, 'min_samples_leaf': 8, 'max_features': 'sqrt', 'bootstrap': False}. Best is trial 0 with value: 0.059362485702782485.\n",
      "[I 2025-06-02 15:42:29,205] Trial 7 finished with value: 0.04383067320453462 and parameters: {'n_estimators': 179, 'max_depth': 14, 'min_samples_split': 2, 'min_samples_leaf': 4, 'max_features': 'sqrt', 'bootstrap': True}. Best is trial 0 with value: 0.059362485702782485.\n",
      "[I 2025-06-02 15:42:29,958] Trial 8 finished with value: 0.061454964166790325 and parameters: {'n_estimators': 353, 'max_depth': 29, 'min_samples_split': 4, 'min_samples_leaf': 9, 'max_features': 'log2', 'bootstrap': True}. Best is trial 8 with value: 0.061454964166790325.\n",
      "[I 2025-06-02 15:42:30,292] Trial 9 finished with value: 0.0476908664033554 and parameters: {'n_estimators': 104, 'max_depth': 42, 'min_samples_split': 15, 'min_samples_leaf': 8, 'max_features': 'sqrt', 'bootstrap': True}. Best is trial 8 with value: 0.061454964166790325.\n",
      "[I 2025-06-02 15:42:32,028] Trial 10 finished with value: 0.025801851971059185 and parameters: {'n_estimators': 951, 'max_depth': 5, 'min_samples_split': 7, 'min_samples_leaf': 1, 'max_features': 'log2', 'bootstrap': True}. Best is trial 8 with value: 0.061454964166790325.\n",
      "[I 2025-06-02 15:42:32,995] Trial 11 finished with value: 0.05337988106106737 and parameters: {'n_estimators': 417, 'max_depth': 27, 'min_samples_split': 13, 'min_samples_leaf': 6, 'max_features': 'log2', 'bootstrap': False}. Best is trial 8 with value: 0.061454964166790325.\n",
      "[I 2025-06-02 15:42:33,725] Trial 12 finished with value: 0.05541121198080436 and parameters: {'n_estimators': 357, 'max_depth': 50, 'min_samples_split': 15, 'min_samples_leaf': 7, 'max_features': 'log2', 'bootstrap': True}. Best is trial 8 with value: 0.061454964166790325.\n",
      "[I 2025-06-02 15:42:35,969] Trial 13 finished with value: 0.06784333140590712 and parameters: {'n_estimators': 841, 'max_depth': 34, 'min_samples_split': 10, 'min_samples_leaf': 4, 'max_features': 'log2', 'bootstrap': False}. Best is trial 13 with value: 0.06784333140590712.\n",
      "[I 2025-06-02 15:42:38,023] Trial 14 finished with value: 0.06552031876474976 and parameters: {'n_estimators': 795, 'max_depth': 33, 'min_samples_split': 8, 'min_samples_leaf': 4, 'max_features': 'log2', 'bootstrap': False}. Best is trial 13 with value: 0.06784333140590712.\n",
      "[I 2025-06-02 15:42:40,185] Trial 15 finished with value: 0.06160264560137395 and parameters: {'n_estimators': 829, 'max_depth': 35, 'min_samples_split': 9, 'min_samples_leaf': 4, 'max_features': 'log2', 'bootstrap': False}. Best is trial 13 with value: 0.06784333140590712.\n",
      "[I 2025-06-02 15:42:42,269] Trial 16 finished with value: 0.04254765220745786 and parameters: {'n_estimators': 754, 'max_depth': 20, 'min_samples_split': 8, 'min_samples_leaf': 2, 'max_features': 'log2', 'bootstrap': False}. Best is trial 13 with value: 0.06784333140590712.\n",
      "[I 2025-06-02 15:42:44,636] Trial 17 finished with value: 0.06828124746855638 and parameters: {'n_estimators': 965, 'max_depth': 34, 'min_samples_split': 11, 'min_samples_leaf': 4, 'max_features': 'log2', 'bootstrap': False}. Best is trial 17 with value: 0.06828124746855638.\n",
      "[I 2025-06-02 15:42:46,931] Trial 18 finished with value: 0.06048952439847362 and parameters: {'n_estimators': 951, 'max_depth': 22, 'min_samples_split': 12, 'min_samples_leaf': 5, 'max_features': 'log2', 'bootstrap': False}. Best is trial 17 with value: 0.06828124746855638.\n",
      "[I 2025-06-02 15:42:49,281] Trial 19 finished with value: 0.050954650925399456 and parameters: {'n_estimators': 885, 'max_depth': 40, 'min_samples_split': 11, 'min_samples_leaf': 2, 'max_features': 'log2', 'bootstrap': False}. Best is trial 17 with value: 0.06828124746855638.\n",
      "[I 2025-06-02 15:42:51,088] Trial 20 finished with value: 0.06277869820042423 and parameters: {'n_estimators': 692, 'max_depth': 22, 'min_samples_split': 13, 'min_samples_leaf': 3, 'max_features': 'log2', 'bootstrap': False}. Best is trial 17 with value: 0.06828124746855638.\n",
      "[I 2025-06-02 15:42:53,155] Trial 21 finished with value: 0.06499297424685228 and parameters: {'n_estimators': 816, 'max_depth': 33, 'min_samples_split': 6, 'min_samples_leaf': 4, 'max_features': 'log2', 'bootstrap': False}. Best is trial 17 with value: 0.06828124746855638.\n",
      "[I 2025-06-02 15:42:55,610] Trial 22 finished with value: 0.06634973010074947 and parameters: {'n_estimators': 999, 'max_depth': 32, 'min_samples_split': 9, 'min_samples_leaf': 5, 'max_features': 'log2', 'bootstrap': False}. Best is trial 17 with value: 0.06828124746855638.\n",
      "[I 2025-06-02 15:42:57,945] Trial 23 finished with value: 0.06663492653080261 and parameters: {'n_estimators': 995, 'max_depth': 31, 'min_samples_split': 10, 'min_samples_leaf': 5, 'max_features': 'log2', 'bootstrap': False}. Best is trial 17 with value: 0.06828124746855638.\n",
      "[I 2025-06-02 15:42:59,945] Trial 24 finished with value: 0.06118464596442119 and parameters: {'n_estimators': 898, 'max_depth': 38, 'min_samples_split': 11, 'min_samples_leaf': 3, 'max_features': 'log2', 'bootstrap': False}. Best is trial 17 with value: 0.06828124746855638.\n",
      "[I 2025-06-02 15:43:01,799] Trial 25 finished with value: 0.06043810930702746 and parameters: {'n_estimators': 886, 'max_depth': 45, 'min_samples_split': 17, 'min_samples_leaf': 5, 'max_features': 'log2', 'bootstrap': False}. Best is trial 17 with value: 0.06828124746855638.\n",
      "[I 2025-06-02 15:43:03,418] Trial 26 finished with value: 0.0536609562041885 and parameters: {'n_estimators': 728, 'max_depth': 25, 'min_samples_split': 13, 'min_samples_leaf': 7, 'max_features': 'log2', 'bootstrap': False}. Best is trial 17 with value: 0.06828124746855638.\n",
      "[I 2025-06-02 15:43:05,747] Trial 27 finished with value: 0.04850467496056225 and parameters: {'n_estimators': 992, 'max_depth': 32, 'min_samples_split': 10, 'min_samples_leaf': 2, 'max_features': 'log2', 'bootstrap': False}. Best is trial 17 with value: 0.06828124746855638.\n",
      "[I 2025-06-02 15:43:07,766] Trial 28 finished with value: 0.0594539696542597 and parameters: {'n_estimators': 906, 'max_depth': 17, 'min_samples_split': 17, 'min_samples_leaf': 5, 'max_features': 'log2', 'bootstrap': False}. Best is trial 17 with value: 0.06828124746855638.\n",
      "[I 2025-06-02 15:43:09,565] Trial 29 finished with value: 0.06145769601607798 and parameters: {'n_estimators': 820, 'max_depth': 36, 'min_samples_split': 12, 'min_samples_leaf': 3, 'max_features': 'log2', 'bootstrap': False}. Best is trial 17 with value: 0.06828124746855638.\n",
      "[I 2025-06-02 15:43:10,966] Trial 30 finished with value: 0.05411886482102797 and parameters: {'n_estimators': 671, 'max_depth': 44, 'min_samples_split': 7, 'min_samples_leaf': 7, 'max_features': 'log2', 'bootstrap': False}. Best is trial 17 with value: 0.06828124746855638.\n",
      "[I 2025-06-02 15:43:13,074] Trial 31 finished with value: 0.0667036346458321 and parameters: {'n_estimators': 994, 'max_depth': 30, 'min_samples_split': 9, 'min_samples_leaf': 5, 'max_features': 'log2', 'bootstrap': False}. Best is trial 17 with value: 0.06828124746855638.\n",
      "[I 2025-06-02 15:43:15,141] Trial 32 finished with value: 0.06769087620634527 and parameters: {'n_estimators': 967, 'max_depth': 30, 'min_samples_split': 10, 'min_samples_leaf': 4, 'max_features': 'log2', 'bootstrap': False}. Best is trial 17 with value: 0.06828124746855638.\n",
      "[I 2025-06-02 15:43:17,150] Trial 33 finished with value: 0.06351786602322897 and parameters: {'n_estimators': 946, 'max_depth': 38, 'min_samples_split': 9, 'min_samples_leaf': 4, 'max_features': 'log2', 'bootstrap': False}. Best is trial 17 with value: 0.06828124746855638.\n",
      "[I 2025-06-02 15:43:18,926] Trial 34 finished with value: 0.055580212066892766 and parameters: {'n_estimators': 872, 'max_depth': 25, 'min_samples_split': 11, 'min_samples_leaf': 6, 'max_features': 'log2', 'bootstrap': False}. Best is trial 17 with value: 0.06828124746855638.\n",
      "[I 2025-06-02 15:43:21,987] Trial 35 finished with value: 0.058400291149610165 and parameters: {'n_estimators': 950, 'max_depth': 35, 'min_samples_split': 14, 'min_samples_leaf': 3, 'max_features': 'sqrt', 'bootstrap': False}. Best is trial 17 with value: 0.06828124746855638.\n",
      "[I 2025-06-02 15:43:23,779] Trial 36 finished with value: 0.0654963677810329 and parameters: {'n_estimators': 760, 'max_depth': 28, 'min_samples_split': 5, 'min_samples_leaf': 4, 'max_features': 'log2', 'bootstrap': False}. Best is trial 17 with value: 0.06828124746855638.\n",
      "[I 2025-06-02 15:43:26,548] Trial 37 finished with value: 0.0541940225947951 and parameters: {'n_estimators': 847, 'max_depth': 30, 'min_samples_split': 10, 'min_samples_leaf': 6, 'max_features': 'sqrt', 'bootstrap': False}. Best is trial 17 with value: 0.06828124746855638.\n",
      "[I 2025-06-02 15:43:28,089] Trial 38 finished with value: 0.007735076792818585 and parameters: {'n_estimators': 550, 'max_depth': 40, 'min_samples_split': 8, 'min_samples_leaf': 1, 'max_features': 'log2', 'bootstrap': False}. Best is trial 17 with value: 0.06828124746855638.\n",
      "[I 2025-06-02 15:43:29,896] Trial 39 finished with value: 0.060119031444024286 and parameters: {'n_estimators': 921, 'max_depth': 25, 'min_samples_split': 12, 'min_samples_leaf': 3, 'max_features': 'log2', 'bootstrap': True}. Best is trial 17 with value: 0.06828124746855638.\n",
      "[I 2025-06-02 15:43:31,884] Trial 40 finished with value: 0.055350981596587724 and parameters: {'n_estimators': 623, 'max_depth': 34, 'min_samples_split': 6, 'min_samples_leaf': 5, 'max_features': 'sqrt', 'bootstrap': False}. Best is trial 17 with value: 0.06828124746855638.\n",
      "[I 2025-06-02 15:43:33,976] Trial 41 finished with value: 0.06632429036151359 and parameters: {'n_estimators': 976, 'max_depth': 30, 'min_samples_split': 10, 'min_samples_leaf': 5, 'max_features': 'log2', 'bootstrap': False}. Best is trial 17 with value: 0.06828124746855638.\n",
      "[I 2025-06-02 15:43:34,645] Trial 42 finished with value: 0.06781822201349294 and parameters: {'n_estimators': 286, 'max_depth': 30, 'min_samples_split': 10, 'min_samples_leaf': 4, 'max_features': 'log2', 'bootstrap': False}. Best is trial 17 with value: 0.06828124746855638.\n",
      "[I 2025-06-02 15:43:35,317] Trial 43 finished with value: 0.0671299956776686 and parameters: {'n_estimators': 287, 'max_depth': 28, 'min_samples_split': 9, 'min_samples_leaf': 4, 'max_features': 'log2', 'bootstrap': False}. Best is trial 17 with value: 0.06828124746855638.\n",
      "[I 2025-06-02 15:43:35,986] Trial 44 finished with value: 0.051669233121454064 and parameters: {'n_estimators': 285, 'max_depth': 37, 'min_samples_split': 11, 'min_samples_leaf': 4, 'max_features': 'log2', 'bootstrap': True}. Best is trial 17 with value: 0.06828124746855638.\n",
      "[I 2025-06-02 15:43:36,731] Trial 45 finished with value: 0.0299322084176983 and parameters: {'n_estimators': 246, 'max_depth': 27, 'min_samples_split': 7, 'min_samples_leaf': 2, 'max_features': 'log2', 'bootstrap': False}. Best is trial 17 with value: 0.06828124746855638.\n",
      "[I 2025-06-02 15:43:37,660] Trial 46 finished with value: 0.04502200605754697 and parameters: {'n_estimators': 312, 'max_depth': 6, 'min_samples_split': 8, 'min_samples_leaf': 3, 'max_features': 'sqrt', 'bootstrap': False}. Best is trial 17 with value: 0.06828124746855638.\n",
      "[I 2025-06-02 15:43:38,891] Trial 47 finished with value: 0.0649334637422006 and parameters: {'n_estimators': 508, 'max_depth': 28, 'min_samples_split': 14, 'min_samples_leaf': 4, 'max_features': 'log2', 'bootstrap': True}. Best is trial 17 with value: 0.06828124746855638.\n",
      "[I 2025-06-02 15:43:40,088] Trial 48 finished with value: 0.06874439362530686 and parameters: {'n_estimators': 442, 'max_depth': 23, 'min_samples_split': 3, 'min_samples_leaf': 4, 'max_features': 'log2', 'bootstrap': False}. Best is trial 48 with value: 0.06874439362530686.\n",
      "[I 2025-06-02 15:43:41,168] Trial 49 finished with value: 0.052292654673175544 and parameters: {'n_estimators': 378, 'max_depth': 22, 'min_samples_split': 4, 'min_samples_leaf': 3, 'max_features': 'log2', 'bootstrap': False}. Best is trial 48 with value: 0.06874439362530686.\n",
      "[I 2025-06-02 15:43:42,525] Trial 50 finished with value: 0.06743768855023607 and parameters: {'n_estimators': 473, 'max_depth': 19, 'min_samples_split': 2, 'min_samples_leaf': 4, 'max_features': 'log2', 'bootstrap': False}. Best is trial 48 with value: 0.06874439362530686.\n",
      "[I 2025-06-02 15:43:43,774] Trial 51 finished with value: 0.06678148748945922 and parameters: {'n_estimators': 499, 'max_depth': 18, 'min_samples_split': 2, 'min_samples_leaf': 4, 'max_features': 'log2', 'bootstrap': False}. Best is trial 48 with value: 0.06874439362530686.\n",
      "[I 2025-06-02 15:43:45,005] Trial 52 finished with value: 0.0637154505228202 and parameters: {'n_estimators': 463, 'max_depth': 15, 'min_samples_split': 3, 'min_samples_leaf': 4, 'max_features': 'log2', 'bootstrap': False}. Best is trial 48 with value: 0.06874439362530686.\n",
      "[I 2025-06-02 15:43:46,281] Trial 53 finished with value: 0.06914429774950819 and parameters: {'n_estimators': 449, 'max_depth': 20, 'min_samples_split': 3, 'min_samples_leaf': 4, 'max_features': 'log2', 'bootstrap': False}. Best is trial 53 with value: 0.06914429774950819.\n",
      "[I 2025-06-02 15:43:47,425] Trial 54 finished with value: 0.05310851323498833 and parameters: {'n_estimators': 401, 'max_depth': 24, 'min_samples_split': 3, 'min_samples_leaf': 3, 'max_features': 'log2', 'bootstrap': False}. Best is trial 53 with value: 0.06914429774950819.\n",
      "[I 2025-06-02 15:43:48,507] Trial 55 finished with value: 0.05465186352627057 and parameters: {'n_estimators': 434, 'max_depth': 21, 'min_samples_split': 5, 'min_samples_leaf': 6, 'max_features': 'log2', 'bootstrap': False}. Best is trial 53 with value: 0.06914429774950819.\n",
      "[I 2025-06-02 15:43:48,859] Trial 56 finished with value: 0.06414019351207312 and parameters: {'n_estimators': 101, 'max_depth': 33, 'min_samples_split': 4, 'min_samples_leaf': 10, 'max_features': 'log2', 'bootstrap': True}. Best is trial 53 with value: 0.06914429774950819.\n",
      "[I 2025-06-02 15:43:50,961] Trial 57 finished with value: 0.013545670566932155 and parameters: {'n_estimators': 557, 'max_depth': 10, 'min_samples_split': 3, 'min_samples_leaf': 2, 'max_features': 'sqrt', 'bootstrap': False}. Best is trial 53 with value: 0.06914429774950819.\n",
      "[I 2025-06-02 15:43:51,360] Trial 58 finished with value: 0.04896835691345462 and parameters: {'n_estimators': 155, 'max_depth': 24, 'min_samples_split': 17, 'min_samples_leaf': 5, 'max_features': 'log2', 'bootstrap': False}. Best is trial 53 with value: 0.06914429774950819.\n",
      "[I 2025-06-02 15:43:52,300] Trial 59 finished with value: 0.05640150143500823 and parameters: {'n_estimators': 336, 'max_depth': 26, 'min_samples_split': 16, 'min_samples_leaf': 3, 'max_features': 'log2', 'bootstrap': False}. Best is trial 53 with value: 0.06914429774950819.\n",
      "[I 2025-06-02 15:43:52,897] Trial 60 finished with value: 0.06434431354326325 and parameters: {'n_estimators': 222, 'max_depth': 23, 'min_samples_split': 12, 'min_samples_leaf': 5, 'max_features': 'log2', 'bootstrap': False}. Best is trial 53 with value: 0.06914429774950819.\n",
      "[I 2025-06-02 15:43:54,191] Trial 61 finished with value: 0.06784647569445365 and parameters: {'n_estimators': 476, 'max_depth': 19, 'min_samples_split': 2, 'min_samples_leaf': 4, 'max_features': 'log2', 'bootstrap': False}. Best is trial 53 with value: 0.06914429774950819.\n",
      "[I 2025-06-02 15:43:55,492] Trial 62 finished with value: 0.06868451535622878 and parameters: {'n_estimators': 465, 'max_depth': 16, 'min_samples_split': 4, 'min_samples_leaf': 4, 'max_features': 'log2', 'bootstrap': False}. Best is trial 53 with value: 0.06914429774950819.\n",
      "[I 2025-06-02 15:43:56,951] Trial 63 finished with value: 0.05937109943927561 and parameters: {'n_estimators': 553, 'max_depth': 13, 'min_samples_split': 3, 'min_samples_leaf': 4, 'max_features': 'log2', 'bootstrap': False}. Best is trial 53 with value: 0.06914429774950819.\n",
      "[I 2025-06-02 15:43:58,329] Trial 64 finished with value: 0.05635544090756729 and parameters: {'n_estimators': 462, 'max_depth': 15, 'min_samples_split': 4, 'min_samples_leaf': 3, 'max_features': 'log2', 'bootstrap': False}. Best is trial 53 with value: 0.06914429774950819.\n",
      "[I 2025-06-02 15:43:59,280] Trial 65 finished with value: 0.07046104110768159 and parameters: {'n_estimators': 408, 'max_depth': 19, 'min_samples_split': 5, 'min_samples_leaf': 4, 'max_features': 'log2', 'bootstrap': False}. Best is trial 65 with value: 0.07046104110768159.\n",
      "[I 2025-06-02 15:44:00,142] Trial 66 finished with value: 0.06701554852458491 and parameters: {'n_estimators': 396, 'max_depth': 17, 'min_samples_split': 6, 'min_samples_leaf': 5, 'max_features': 'log2', 'bootstrap': False}. Best is trial 65 with value: 0.07046104110768159.\n",
      "[I 2025-06-02 15:44:01,486] Trial 67 finished with value: 0.03422632666702106 and parameters: {'n_estimators': 596, 'max_depth': 11, 'min_samples_split': 5, 'min_samples_leaf': 2, 'max_features': 'log2', 'bootstrap': False}. Best is trial 65 with value: 0.07046104110768159.\n",
      "[I 2025-06-02 15:44:02,337] Trial 68 finished with value: 0.0673235858201517 and parameters: {'n_estimators': 446, 'max_depth': 20, 'min_samples_split': 2, 'min_samples_leaf': 4, 'max_features': 'log2', 'bootstrap': True}. Best is trial 65 with value: 0.07046104110768159.\n",
      "[I 2025-06-02 15:44:03,537] Trial 69 finished with value: 0.05386240179817734 and parameters: {'n_estimators': 489, 'max_depth': 17, 'min_samples_split': 3, 'min_samples_leaf': 3, 'max_features': 'log2', 'bootstrap': False}. Best is trial 65 with value: 0.07046104110768159.\n",
      "[I 2025-06-02 15:44:04,433] Trial 70 finished with value: 0.06707043613346823 and parameters: {'n_estimators': 418, 'max_depth': 19, 'min_samples_split': 4, 'min_samples_leaf': 5, 'max_features': 'log2', 'bootstrap': False}. Best is trial 65 with value: 0.07046104110768159.\n",
      "[I 2025-06-02 15:44:05,631] Trial 71 finished with value: 0.06670066593997113 and parameters: {'n_estimators': 538, 'max_depth': 21, 'min_samples_split': 2, 'min_samples_leaf': 4, 'max_features': 'log2', 'bootstrap': False}. Best is trial 65 with value: 0.07046104110768159.\n",
      "[I 2025-06-02 15:44:06,463] Trial 72 finished with value: 0.06570357493237793 and parameters: {'n_estimators': 355, 'max_depth': 15, 'min_samples_split': 5, 'min_samples_leaf': 4, 'max_features': 'log2', 'bootstrap': False}. Best is trial 65 with value: 0.07046104110768159.\n",
      "[I 2025-06-02 15:44:07,607] Trial 73 finished with value: 0.05215921414727036 and parameters: {'n_estimators': 434, 'max_depth': 19, 'min_samples_split': 3, 'min_samples_leaf': 3, 'max_features': 'log2', 'bootstrap': False}. Best is trial 65 with value: 0.07046104110768159.\n",
      "[I 2025-06-02 15:44:09,217] Trial 74 finished with value: 0.06356254109967881 and parameters: {'n_estimators': 533, 'max_depth': 16, 'min_samples_split': 4, 'min_samples_leaf': 5, 'max_features': 'log2', 'bootstrap': False}. Best is trial 65 with value: 0.07046104110768159.\n",
      "[I 2025-06-02 15:44:10,277] Trial 75 finished with value: 0.06538303060346792 and parameters: {'n_estimators': 377, 'max_depth': 13, 'min_samples_split': 2, 'min_samples_leaf': 4, 'max_features': 'log2', 'bootstrap': False}. Best is trial 65 with value: 0.07046104110768159.\n",
      "[I 2025-06-02 15:44:11,986] Trial 76 finished with value: 0.05874550352028614 and parameters: {'n_estimators': 401, 'max_depth': 35, 'min_samples_split': 6, 'min_samples_leaf': 4, 'max_features': 'sqrt', 'bootstrap': False}. Best is trial 65 with value: 0.07046104110768159.\n",
      "[I 2025-06-02 15:44:13,753] Trial 77 finished with value: 0.051559259284991776 and parameters: {'n_estimators': 593, 'max_depth': 22, 'min_samples_split': 5, 'min_samples_leaf': 3, 'max_features': 'log2', 'bootstrap': False}. Best is trial 65 with value: 0.07046104110768159.\n",
      "[I 2025-06-02 15:44:14,516] Trial 78 finished with value: 0.039529045866233306 and parameters: {'n_estimators': 327, 'max_depth': 31, 'min_samples_split': 7, 'min_samples_leaf': 9, 'max_features': 'log2', 'bootstrap': False}. Best is trial 65 with value: 0.07046104110768159.\n",
      "[I 2025-06-02 15:44:15,922] Trial 79 finished with value: 0.06510515538051348 and parameters: {'n_estimators': 520, 'max_depth': 18, 'min_samples_split': 3, 'min_samples_leaf': 5, 'max_features': 'log2', 'bootstrap': False}. Best is trial 65 with value: 0.07046104110768159.\n",
      "[I 2025-06-02 15:44:17,119] Trial 80 finished with value: 0.05703317524393461 and parameters: {'n_estimators': 482, 'max_depth': 26, 'min_samples_split': 19, 'min_samples_leaf': 6, 'max_features': 'log2', 'bootstrap': False}. Best is trial 65 with value: 0.07046104110768159.\n",
      "[I 2025-06-02 15:44:19,508] Trial 81 finished with value: 0.06811629853023124 and parameters: {'n_estimators': 922, 'max_depth': 32, 'min_samples_split': 10, 'min_samples_leaf': 4, 'max_features': 'log2', 'bootstrap': False}. Best is trial 65 with value: 0.07046104110768159.\n",
      "[I 2025-06-02 15:44:21,698] Trial 82 finished with value: 0.06795482838218174 and parameters: {'n_estimators': 843, 'max_depth': 38, 'min_samples_split': 10, 'min_samples_leaf': 4, 'max_features': 'log2', 'bootstrap': False}. Best is trial 65 with value: 0.07046104110768159.\n",
      "[I 2025-06-02 15:44:24,094] Trial 83 finished with value: 0.06909180844687457 and parameters: {'n_estimators': 856, 'max_depth': 37, 'min_samples_split': 11, 'min_samples_leaf': 4, 'max_features': 'log2', 'bootstrap': False}. Best is trial 65 with value: 0.07046104110768159.\n",
      "[I 2025-06-02 15:44:26,022] Trial 84 finished with value: 0.06869039142003754 and parameters: {'n_estimators': 783, 'max_depth': 41, 'min_samples_split': 11, 'min_samples_leaf': 4, 'max_features': 'log2', 'bootstrap': False}. Best is trial 65 with value: 0.07046104110768159.\n",
      "[I 2025-06-02 15:44:28,097] Trial 85 finished with value: 0.06901979692150222 and parameters: {'n_estimators': 924, 'max_depth': 43, 'min_samples_split': 11, 'min_samples_leaf': 4, 'max_features': 'log2', 'bootstrap': False}. Best is trial 65 with value: 0.07046104110768159.\n",
      "[I 2025-06-02 15:44:30,342] Trial 86 finished with value: 0.06440241700179214 and parameters: {'n_estimators': 920, 'max_depth': 43, 'min_samples_split': 13, 'min_samples_leaf': 4, 'max_features': 'log2', 'bootstrap': False}. Best is trial 65 with value: 0.07046104110768159.\n",
      "[I 2025-06-02 15:44:32,450] Trial 87 finished with value: 0.05919899927401588 and parameters: {'n_estimators': 919, 'max_depth': 47, 'min_samples_split': 11, 'min_samples_leaf': 3, 'max_features': 'log2', 'bootstrap': True}. Best is trial 65 with value: 0.07046104110768159.\n",
      "[I 2025-06-02 15:44:35,406] Trial 88 finished with value: 0.05582823410740238 and parameters: {'n_estimators': 798, 'max_depth': 41, 'min_samples_split': 12, 'min_samples_leaf': 5, 'max_features': 'sqrt', 'bootstrap': False}. Best is trial 65 with value: 0.07046104110768159.\n",
      "[I 2025-06-02 15:44:37,640] Trial 89 finished with value: 0.06316883614093959 and parameters: {'n_estimators': 889, 'max_depth': 41, 'min_samples_split': 13, 'min_samples_leaf': 5, 'max_features': 'log2', 'bootstrap': False}. Best is trial 65 with value: 0.07046104110768159.\n",
      "[I 2025-06-02 15:44:39,917] Trial 90 finished with value: 0.06972068129718138 and parameters: {'n_estimators': 870, 'max_depth': 39, 'min_samples_split': 11, 'min_samples_leaf': 4, 'max_features': 'log2', 'bootstrap': False}. Best is trial 65 with value: 0.07046104110768159.\n",
      "[I 2025-06-02 15:44:42,157] Trial 91 finished with value: 0.06947102425566169 and parameters: {'n_estimators': 866, 'max_depth': 39, 'min_samples_split': 11, 'min_samples_leaf': 4, 'max_features': 'log2', 'bootstrap': False}. Best is trial 65 with value: 0.07046104110768159.\n",
      "[I 2025-06-02 15:44:44,458] Trial 92 finished with value: 0.06116658324130371 and parameters: {'n_estimators': 860, 'max_depth': 39, 'min_samples_split': 11, 'min_samples_leaf': 3, 'max_features': 'log2', 'bootstrap': False}. Best is trial 65 with value: 0.07046104110768159.\n",
      "[I 2025-06-02 15:44:46,323] Trial 93 finished with value: 0.0689310160512175 and parameters: {'n_estimators': 753, 'max_depth': 45, 'min_samples_split': 11, 'min_samples_leaf': 4, 'max_features': 'log2', 'bootstrap': False}. Best is trial 65 with value: 0.07046104110768159.\n",
      "[I 2025-06-02 15:44:48,565] Trial 94 finished with value: 0.0628756131858891 and parameters: {'n_estimators': 775, 'max_depth': 46, 'min_samples_split': 12, 'min_samples_leaf': 4, 'max_features': 'log2', 'bootstrap': False}. Best is trial 65 with value: 0.07046104110768159.\n",
      "[I 2025-06-02 15:44:50,906] Trial 95 finished with value: 0.06844994982409014 and parameters: {'n_estimators': 808, 'max_depth': 44, 'min_samples_split': 11, 'min_samples_leaf': 4, 'max_features': 'log2', 'bootstrap': False}. Best is trial 65 with value: 0.07046104110768159.\n",
      "[I 2025-06-02 15:44:52,636] Trial 96 finished with value: 0.0653990477453792 and parameters: {'n_estimators': 736, 'max_depth': 48, 'min_samples_split': 14, 'min_samples_leaf': 4, 'max_features': 'log2', 'bootstrap': False}. Best is trial 65 with value: 0.07046104110768159.\n",
      "[I 2025-06-02 15:44:54,648] Trial 97 finished with value: 0.0589021447827183 and parameters: {'n_estimators': 865, 'max_depth': 42, 'min_samples_split': 12, 'min_samples_leaf': 5, 'max_features': 'log2', 'bootstrap': False}. Best is trial 65 with value: 0.07046104110768159.\n",
      "[I 2025-06-02 15:44:56,554] Trial 98 finished with value: 0.060534886077655004 and parameters: {'n_estimators': 821, 'max_depth': 45, 'min_samples_split': 9, 'min_samples_leaf': 3, 'max_features': 'log2', 'bootstrap': False}. Best is trial 65 with value: 0.07046104110768159.\n",
      "[I 2025-06-02 15:44:58,091] Trial 99 finished with value: 0.06877268169212944 and parameters: {'n_estimators': 684, 'max_depth': 40, 'min_samples_split': 11, 'min_samples_leaf': 4, 'max_features': 'log2', 'bootstrap': False}. Best is trial 65 with value: 0.07046104110768159.\n"
     ]
    }
   ],
   "source": [
    "study_rf = optuna.create_study(\n",
    "    direction='maximize',\n",
    "    sampler=TPESampler(seed=RANDOM_STATE)\n",
    ")\n",
    "study_rf.optimize(optimize_rf, n_trials=N_TRIALS_RF)"
   ]
  },
  {
   "cell_type": "code",
   "execution_count": 94,
   "id": "a035695d",
   "metadata": {},
   "outputs": [
    {
     "name": "stdout",
     "output_type": "stream",
     "text": [
      "Лучшие параметры для Random Forest:\n",
      "{'n_estimators': 408, 'max_depth': 19, 'min_samples_split': 5, 'min_samples_leaf': 4, 'max_features': 'log2', 'bootstrap': False}\n",
      "Лучший R2: 0.0705\n"
     ]
    },
    {
     "data": {
      "application/vnd.plotly.v1+json": {
       "config": {
        "plotlyServerURL": "https://plot.ly"
       },
       "data": [
        {
         "mode": "markers",
         "name": "Objective Value",
         "type": "scatter",
         "x": [
          0,
          1,
          2,
          3,
          4,
          5,
          6,
          7,
          8,
          9,
          10,
          11,
          12,
          13,
          14,
          15,
          16,
          17,
          18,
          19,
          20,
          21,
          22,
          23,
          24,
          25,
          26,
          27,
          28,
          29,
          30,
          31,
          32,
          33,
          34,
          35,
          36,
          37,
          38,
          39,
          40,
          41,
          42,
          43,
          44,
          45,
          46,
          47,
          48,
          49,
          50,
          51,
          52,
          53,
          54,
          55,
          56,
          57,
          58,
          59,
          60,
          61,
          62,
          63,
          64,
          65,
          66,
          67,
          68,
          69,
          70,
          71,
          72,
          73,
          74,
          75,
          76,
          77,
          78,
          79,
          80,
          81,
          82,
          83,
          84,
          85,
          86,
          87,
          88,
          89,
          90,
          91,
          92,
          93,
          94,
          95,
          96,
          97,
          98,
          99
         ],
         "y": [
          0.059362485702782485,
          0.03907335391258556,
          0.0505994450722028,
          0.05894958495929652,
          0.05546876396029347,
          0.04088395938070172,
          0.05202104011088029,
          0.04383067320453462,
          0.061454964166790325,
          0.0476908664033554,
          0.025801851971059185,
          0.05337988106106737,
          0.05541121198080436,
          0.06784333140590712,
          0.06552031876474976,
          0.06160264560137395,
          0.04254765220745786,
          0.06828124746855638,
          0.06048952439847362,
          0.050954650925399456,
          0.06277869820042423,
          0.06499297424685228,
          0.06634973010074947,
          0.06663492653080261,
          0.06118464596442119,
          0.06043810930702746,
          0.0536609562041885,
          0.04850467496056225,
          0.0594539696542597,
          0.06145769601607798,
          0.05411886482102797,
          0.0667036346458321,
          0.06769087620634527,
          0.06351786602322897,
          0.055580212066892766,
          0.058400291149610165,
          0.0654963677810329,
          0.0541940225947951,
          0.007735076792818585,
          0.060119031444024286,
          0.055350981596587724,
          0.06632429036151359,
          0.06781822201349294,
          0.0671299956776686,
          0.051669233121454064,
          0.0299322084176983,
          0.04502200605754697,
          0.0649334637422006,
          0.06874439362530686,
          0.052292654673175544,
          0.06743768855023607,
          0.06678148748945922,
          0.0637154505228202,
          0.06914429774950819,
          0.05310851323498833,
          0.05465186352627057,
          0.06414019351207312,
          0.013545670566932155,
          0.04896835691345462,
          0.05640150143500823,
          0.06434431354326325,
          0.06784647569445365,
          0.06868451535622878,
          0.05937109943927561,
          0.05635544090756729,
          0.07046104110768159,
          0.06701554852458491,
          0.03422632666702106,
          0.0673235858201517,
          0.05386240179817734,
          0.06707043613346823,
          0.06670066593997113,
          0.06570357493237793,
          0.05215921414727036,
          0.06356254109967881,
          0.06538303060346792,
          0.05874550352028614,
          0.051559259284991776,
          0.039529045866233306,
          0.06510515538051348,
          0.05703317524393461,
          0.06811629853023124,
          0.06795482838218174,
          0.06909180844687457,
          0.06869039142003754,
          0.06901979692150222,
          0.06440241700179214,
          0.05919899927401588,
          0.05582823410740238,
          0.06316883614093959,
          0.06972068129718138,
          0.06947102425566169,
          0.06116658324130371,
          0.0689310160512175,
          0.0628756131858891,
          0.06844994982409014,
          0.0653990477453792,
          0.0589021447827183,
          0.060534886077655004,
          0.06877268169212944
         ]
        },
        {
         "mode": "lines",
         "name": "Best Value",
         "type": "scatter",
         "x": [
          0,
          1,
          2,
          3,
          4,
          5,
          6,
          7,
          8,
          9,
          10,
          11,
          12,
          13,
          14,
          15,
          16,
          17,
          18,
          19,
          20,
          21,
          22,
          23,
          24,
          25,
          26,
          27,
          28,
          29,
          30,
          31,
          32,
          33,
          34,
          35,
          36,
          37,
          38,
          39,
          40,
          41,
          42,
          43,
          44,
          45,
          46,
          47,
          48,
          49,
          50,
          51,
          52,
          53,
          54,
          55,
          56,
          57,
          58,
          59,
          60,
          61,
          62,
          63,
          64,
          65,
          66,
          67,
          68,
          69,
          70,
          71,
          72,
          73,
          74,
          75,
          76,
          77,
          78,
          79,
          80,
          81,
          82,
          83,
          84,
          85,
          86,
          87,
          88,
          89,
          90,
          91,
          92,
          93,
          94,
          95,
          96,
          97,
          98,
          99
         ],
         "y": [
          0.059362485702782485,
          0.059362485702782485,
          0.059362485702782485,
          0.059362485702782485,
          0.059362485702782485,
          0.059362485702782485,
          0.059362485702782485,
          0.059362485702782485,
          0.061454964166790325,
          0.061454964166790325,
          0.061454964166790325,
          0.061454964166790325,
          0.061454964166790325,
          0.06784333140590712,
          0.06784333140590712,
          0.06784333140590712,
          0.06784333140590712,
          0.06828124746855638,
          0.06828124746855638,
          0.06828124746855638,
          0.06828124746855638,
          0.06828124746855638,
          0.06828124746855638,
          0.06828124746855638,
          0.06828124746855638,
          0.06828124746855638,
          0.06828124746855638,
          0.06828124746855638,
          0.06828124746855638,
          0.06828124746855638,
          0.06828124746855638,
          0.06828124746855638,
          0.06828124746855638,
          0.06828124746855638,
          0.06828124746855638,
          0.06828124746855638,
          0.06828124746855638,
          0.06828124746855638,
          0.06828124746855638,
          0.06828124746855638,
          0.06828124746855638,
          0.06828124746855638,
          0.06828124746855638,
          0.06828124746855638,
          0.06828124746855638,
          0.06828124746855638,
          0.06828124746855638,
          0.06828124746855638,
          0.06874439362530686,
          0.06874439362530686,
          0.06874439362530686,
          0.06874439362530686,
          0.06874439362530686,
          0.06914429774950819,
          0.06914429774950819,
          0.06914429774950819,
          0.06914429774950819,
          0.06914429774950819,
          0.06914429774950819,
          0.06914429774950819,
          0.06914429774950819,
          0.06914429774950819,
          0.06914429774950819,
          0.06914429774950819,
          0.06914429774950819,
          0.07046104110768159,
          0.07046104110768159,
          0.07046104110768159,
          0.07046104110768159,
          0.07046104110768159,
          0.07046104110768159,
          0.07046104110768159,
          0.07046104110768159,
          0.07046104110768159,
          0.07046104110768159,
          0.07046104110768159,
          0.07046104110768159,
          0.07046104110768159,
          0.07046104110768159,
          0.07046104110768159,
          0.07046104110768159,
          0.07046104110768159,
          0.07046104110768159,
          0.07046104110768159,
          0.07046104110768159,
          0.07046104110768159,
          0.07046104110768159,
          0.07046104110768159,
          0.07046104110768159,
          0.07046104110768159,
          0.07046104110768159,
          0.07046104110768159,
          0.07046104110768159,
          0.07046104110768159,
          0.07046104110768159,
          0.07046104110768159,
          0.07046104110768159,
          0.07046104110768159,
          0.07046104110768159,
          0.07046104110768159
         ]
        },
        {
         "marker": {
          "color": "#cccccc"
         },
         "mode": "markers",
         "name": "Infeasible Trial",
         "showlegend": false,
         "type": "scatter",
         "x": [],
         "y": []
        }
       ],
       "layout": {
        "template": {
         "data": {
          "bar": [
           {
            "error_x": {
             "color": "#2a3f5f"
            },
            "error_y": {
             "color": "#2a3f5f"
            },
            "marker": {
             "line": {
              "color": "#E5ECF6",
              "width": 0.5
             },
             "pattern": {
              "fillmode": "overlay",
              "size": 10,
              "solidity": 0.2
             }
            },
            "type": "bar"
           }
          ],
          "barpolar": [
           {
            "marker": {
             "line": {
              "color": "#E5ECF6",
              "width": 0.5
             },
             "pattern": {
              "fillmode": "overlay",
              "size": 10,
              "solidity": 0.2
             }
            },
            "type": "barpolar"
           }
          ],
          "carpet": [
           {
            "aaxis": {
             "endlinecolor": "#2a3f5f",
             "gridcolor": "white",
             "linecolor": "white",
             "minorgridcolor": "white",
             "startlinecolor": "#2a3f5f"
            },
            "baxis": {
             "endlinecolor": "#2a3f5f",
             "gridcolor": "white",
             "linecolor": "white",
             "minorgridcolor": "white",
             "startlinecolor": "#2a3f5f"
            },
            "type": "carpet"
           }
          ],
          "choropleth": [
           {
            "colorbar": {
             "outlinewidth": 0,
             "ticks": ""
            },
            "type": "choropleth"
           }
          ],
          "contour": [
           {
            "colorbar": {
             "outlinewidth": 0,
             "ticks": ""
            },
            "colorscale": [
             [
              0,
              "#0d0887"
             ],
             [
              0.1111111111111111,
              "#46039f"
             ],
             [
              0.2222222222222222,
              "#7201a8"
             ],
             [
              0.3333333333333333,
              "#9c179e"
             ],
             [
              0.4444444444444444,
              "#bd3786"
             ],
             [
              0.5555555555555556,
              "#d8576b"
             ],
             [
              0.6666666666666666,
              "#ed7953"
             ],
             [
              0.7777777777777778,
              "#fb9f3a"
             ],
             [
              0.8888888888888888,
              "#fdca26"
             ],
             [
              1,
              "#f0f921"
             ]
            ],
            "type": "contour"
           }
          ],
          "contourcarpet": [
           {
            "colorbar": {
             "outlinewidth": 0,
             "ticks": ""
            },
            "type": "contourcarpet"
           }
          ],
          "heatmap": [
           {
            "colorbar": {
             "outlinewidth": 0,
             "ticks": ""
            },
            "colorscale": [
             [
              0,
              "#0d0887"
             ],
             [
              0.1111111111111111,
              "#46039f"
             ],
             [
              0.2222222222222222,
              "#7201a8"
             ],
             [
              0.3333333333333333,
              "#9c179e"
             ],
             [
              0.4444444444444444,
              "#bd3786"
             ],
             [
              0.5555555555555556,
              "#d8576b"
             ],
             [
              0.6666666666666666,
              "#ed7953"
             ],
             [
              0.7777777777777778,
              "#fb9f3a"
             ],
             [
              0.8888888888888888,
              "#fdca26"
             ],
             [
              1,
              "#f0f921"
             ]
            ],
            "type": "heatmap"
           }
          ],
          "histogram": [
           {
            "marker": {
             "pattern": {
              "fillmode": "overlay",
              "size": 10,
              "solidity": 0.2
             }
            },
            "type": "histogram"
           }
          ],
          "histogram2d": [
           {
            "colorbar": {
             "outlinewidth": 0,
             "ticks": ""
            },
            "colorscale": [
             [
              0,
              "#0d0887"
             ],
             [
              0.1111111111111111,
              "#46039f"
             ],
             [
              0.2222222222222222,
              "#7201a8"
             ],
             [
              0.3333333333333333,
              "#9c179e"
             ],
             [
              0.4444444444444444,
              "#bd3786"
             ],
             [
              0.5555555555555556,
              "#d8576b"
             ],
             [
              0.6666666666666666,
              "#ed7953"
             ],
             [
              0.7777777777777778,
              "#fb9f3a"
             ],
             [
              0.8888888888888888,
              "#fdca26"
             ],
             [
              1,
              "#f0f921"
             ]
            ],
            "type": "histogram2d"
           }
          ],
          "histogram2dcontour": [
           {
            "colorbar": {
             "outlinewidth": 0,
             "ticks": ""
            },
            "colorscale": [
             [
              0,
              "#0d0887"
             ],
             [
              0.1111111111111111,
              "#46039f"
             ],
             [
              0.2222222222222222,
              "#7201a8"
             ],
             [
              0.3333333333333333,
              "#9c179e"
             ],
             [
              0.4444444444444444,
              "#bd3786"
             ],
             [
              0.5555555555555556,
              "#d8576b"
             ],
             [
              0.6666666666666666,
              "#ed7953"
             ],
             [
              0.7777777777777778,
              "#fb9f3a"
             ],
             [
              0.8888888888888888,
              "#fdca26"
             ],
             [
              1,
              "#f0f921"
             ]
            ],
            "type": "histogram2dcontour"
           }
          ],
          "mesh3d": [
           {
            "colorbar": {
             "outlinewidth": 0,
             "ticks": ""
            },
            "type": "mesh3d"
           }
          ],
          "parcoords": [
           {
            "line": {
             "colorbar": {
              "outlinewidth": 0,
              "ticks": ""
             }
            },
            "type": "parcoords"
           }
          ],
          "pie": [
           {
            "automargin": true,
            "type": "pie"
           }
          ],
          "scatter": [
           {
            "fillpattern": {
             "fillmode": "overlay",
             "size": 10,
             "solidity": 0.2
            },
            "type": "scatter"
           }
          ],
          "scatter3d": [
           {
            "line": {
             "colorbar": {
              "outlinewidth": 0,
              "ticks": ""
             }
            },
            "marker": {
             "colorbar": {
              "outlinewidth": 0,
              "ticks": ""
             }
            },
            "type": "scatter3d"
           }
          ],
          "scattercarpet": [
           {
            "marker": {
             "colorbar": {
              "outlinewidth": 0,
              "ticks": ""
             }
            },
            "type": "scattercarpet"
           }
          ],
          "scattergeo": [
           {
            "marker": {
             "colorbar": {
              "outlinewidth": 0,
              "ticks": ""
             }
            },
            "type": "scattergeo"
           }
          ],
          "scattergl": [
           {
            "marker": {
             "colorbar": {
              "outlinewidth": 0,
              "ticks": ""
             }
            },
            "type": "scattergl"
           }
          ],
          "scattermap": [
           {
            "marker": {
             "colorbar": {
              "outlinewidth": 0,
              "ticks": ""
             }
            },
            "type": "scattermap"
           }
          ],
          "scattermapbox": [
           {
            "marker": {
             "colorbar": {
              "outlinewidth": 0,
              "ticks": ""
             }
            },
            "type": "scattermapbox"
           }
          ],
          "scatterpolar": [
           {
            "marker": {
             "colorbar": {
              "outlinewidth": 0,
              "ticks": ""
             }
            },
            "type": "scatterpolar"
           }
          ],
          "scatterpolargl": [
           {
            "marker": {
             "colorbar": {
              "outlinewidth": 0,
              "ticks": ""
             }
            },
            "type": "scatterpolargl"
           }
          ],
          "scatterternary": [
           {
            "marker": {
             "colorbar": {
              "outlinewidth": 0,
              "ticks": ""
             }
            },
            "type": "scatterternary"
           }
          ],
          "surface": [
           {
            "colorbar": {
             "outlinewidth": 0,
             "ticks": ""
            },
            "colorscale": [
             [
              0,
              "#0d0887"
             ],
             [
              0.1111111111111111,
              "#46039f"
             ],
             [
              0.2222222222222222,
              "#7201a8"
             ],
             [
              0.3333333333333333,
              "#9c179e"
             ],
             [
              0.4444444444444444,
              "#bd3786"
             ],
             [
              0.5555555555555556,
              "#d8576b"
             ],
             [
              0.6666666666666666,
              "#ed7953"
             ],
             [
              0.7777777777777778,
              "#fb9f3a"
             ],
             [
              0.8888888888888888,
              "#fdca26"
             ],
             [
              1,
              "#f0f921"
             ]
            ],
            "type": "surface"
           }
          ],
          "table": [
           {
            "cells": {
             "fill": {
              "color": "#EBF0F8"
             },
             "line": {
              "color": "white"
             }
            },
            "header": {
             "fill": {
              "color": "#C8D4E3"
             },
             "line": {
              "color": "white"
             }
            },
            "type": "table"
           }
          ]
         },
         "layout": {
          "annotationdefaults": {
           "arrowcolor": "#2a3f5f",
           "arrowhead": 0,
           "arrowwidth": 1
          },
          "autotypenumbers": "strict",
          "coloraxis": {
           "colorbar": {
            "outlinewidth": 0,
            "ticks": ""
           }
          },
          "colorscale": {
           "diverging": [
            [
             0,
             "#8e0152"
            ],
            [
             0.1,
             "#c51b7d"
            ],
            [
             0.2,
             "#de77ae"
            ],
            [
             0.3,
             "#f1b6da"
            ],
            [
             0.4,
             "#fde0ef"
            ],
            [
             0.5,
             "#f7f7f7"
            ],
            [
             0.6,
             "#e6f5d0"
            ],
            [
             0.7,
             "#b8e186"
            ],
            [
             0.8,
             "#7fbc41"
            ],
            [
             0.9,
             "#4d9221"
            ],
            [
             1,
             "#276419"
            ]
           ],
           "sequential": [
            [
             0,
             "#0d0887"
            ],
            [
             0.1111111111111111,
             "#46039f"
            ],
            [
             0.2222222222222222,
             "#7201a8"
            ],
            [
             0.3333333333333333,
             "#9c179e"
            ],
            [
             0.4444444444444444,
             "#bd3786"
            ],
            [
             0.5555555555555556,
             "#d8576b"
            ],
            [
             0.6666666666666666,
             "#ed7953"
            ],
            [
             0.7777777777777778,
             "#fb9f3a"
            ],
            [
             0.8888888888888888,
             "#fdca26"
            ],
            [
             1,
             "#f0f921"
            ]
           ],
           "sequentialminus": [
            [
             0,
             "#0d0887"
            ],
            [
             0.1111111111111111,
             "#46039f"
            ],
            [
             0.2222222222222222,
             "#7201a8"
            ],
            [
             0.3333333333333333,
             "#9c179e"
            ],
            [
             0.4444444444444444,
             "#bd3786"
            ],
            [
             0.5555555555555556,
             "#d8576b"
            ],
            [
             0.6666666666666666,
             "#ed7953"
            ],
            [
             0.7777777777777778,
             "#fb9f3a"
            ],
            [
             0.8888888888888888,
             "#fdca26"
            ],
            [
             1,
             "#f0f921"
            ]
           ]
          },
          "colorway": [
           "#636efa",
           "#EF553B",
           "#00cc96",
           "#ab63fa",
           "#FFA15A",
           "#19d3f3",
           "#FF6692",
           "#B6E880",
           "#FF97FF",
           "#FECB52"
          ],
          "font": {
           "color": "#2a3f5f"
          },
          "geo": {
           "bgcolor": "white",
           "lakecolor": "white",
           "landcolor": "#E5ECF6",
           "showlakes": true,
           "showland": true,
           "subunitcolor": "white"
          },
          "hoverlabel": {
           "align": "left"
          },
          "hovermode": "closest",
          "mapbox": {
           "style": "light"
          },
          "paper_bgcolor": "white",
          "plot_bgcolor": "#E5ECF6",
          "polar": {
           "angularaxis": {
            "gridcolor": "white",
            "linecolor": "white",
            "ticks": ""
           },
           "bgcolor": "#E5ECF6",
           "radialaxis": {
            "gridcolor": "white",
            "linecolor": "white",
            "ticks": ""
           }
          },
          "scene": {
           "xaxis": {
            "backgroundcolor": "#E5ECF6",
            "gridcolor": "white",
            "gridwidth": 2,
            "linecolor": "white",
            "showbackground": true,
            "ticks": "",
            "zerolinecolor": "white"
           },
           "yaxis": {
            "backgroundcolor": "#E5ECF6",
            "gridcolor": "white",
            "gridwidth": 2,
            "linecolor": "white",
            "showbackground": true,
            "ticks": "",
            "zerolinecolor": "white"
           },
           "zaxis": {
            "backgroundcolor": "#E5ECF6",
            "gridcolor": "white",
            "gridwidth": 2,
            "linecolor": "white",
            "showbackground": true,
            "ticks": "",
            "zerolinecolor": "white"
           }
          },
          "shapedefaults": {
           "line": {
            "color": "#2a3f5f"
           }
          },
          "ternary": {
           "aaxis": {
            "gridcolor": "white",
            "linecolor": "white",
            "ticks": ""
           },
           "baxis": {
            "gridcolor": "white",
            "linecolor": "white",
            "ticks": ""
           },
           "bgcolor": "#E5ECF6",
           "caxis": {
            "gridcolor": "white",
            "linecolor": "white",
            "ticks": ""
           }
          },
          "title": {
           "x": 0.05
          },
          "xaxis": {
           "automargin": true,
           "gridcolor": "white",
           "linecolor": "white",
           "ticks": "",
           "title": {
            "standoff": 15
           },
           "zerolinecolor": "white",
           "zerolinewidth": 2
          },
          "yaxis": {
           "automargin": true,
           "gridcolor": "white",
           "linecolor": "white",
           "ticks": "",
           "title": {
            "standoff": 15
           },
           "zerolinecolor": "white",
           "zerolinewidth": 2
          }
         }
        },
        "title": {
         "text": "Optimization History Plot"
        },
        "xaxis": {
         "title": {
          "text": "Trial"
         }
        },
        "yaxis": {
         "title": {
          "text": "Objective Value"
         }
        }
       }
      }
     },
     "metadata": {},
     "output_type": "display_data"
    },
    {
     "data": {
      "application/vnd.plotly.v1+json": {
       "config": {
        "plotlyServerURL": "https://plot.ly"
       },
       "data": [
        {
         "cliponaxis": false,
         "hovertemplate": [
          "bootstrap (CategoricalDistribution): 0.0061579439654227104<extra></extra>",
          "max_features (CategoricalDistribution): 0.020243420282821303<extra></extra>",
          "min_samples_split (IntDistribution): 0.04147330412545624<extra></extra>",
          "n_estimators (IntDistribution): 0.06335054888396703<extra></extra>",
          "max_depth (IntDistribution): 0.08210717899753361<extra></extra>",
          "min_samples_leaf (IntDistribution): 0.7866676037447992<extra></extra>"
         ],
         "name": "Objective Value",
         "orientation": "h",
         "text": [
          "<0.01",
          "0.02",
          "0.04",
          "0.06",
          "0.08",
          "0.79"
         ],
         "textposition": "outside",
         "type": "bar",
         "x": [
          0.0061579439654227104,
          0.020243420282821303,
          0.04147330412545624,
          0.06335054888396703,
          0.08210717899753361,
          0.7866676037447992
         ],
         "y": [
          "bootstrap",
          "max_features",
          "min_samples_split",
          "n_estimators",
          "max_depth",
          "min_samples_leaf"
         ]
        }
       ],
       "layout": {
        "template": {
         "data": {
          "bar": [
           {
            "error_x": {
             "color": "#2a3f5f"
            },
            "error_y": {
             "color": "#2a3f5f"
            },
            "marker": {
             "line": {
              "color": "#E5ECF6",
              "width": 0.5
             },
             "pattern": {
              "fillmode": "overlay",
              "size": 10,
              "solidity": 0.2
             }
            },
            "type": "bar"
           }
          ],
          "barpolar": [
           {
            "marker": {
             "line": {
              "color": "#E5ECF6",
              "width": 0.5
             },
             "pattern": {
              "fillmode": "overlay",
              "size": 10,
              "solidity": 0.2
             }
            },
            "type": "barpolar"
           }
          ],
          "carpet": [
           {
            "aaxis": {
             "endlinecolor": "#2a3f5f",
             "gridcolor": "white",
             "linecolor": "white",
             "minorgridcolor": "white",
             "startlinecolor": "#2a3f5f"
            },
            "baxis": {
             "endlinecolor": "#2a3f5f",
             "gridcolor": "white",
             "linecolor": "white",
             "minorgridcolor": "white",
             "startlinecolor": "#2a3f5f"
            },
            "type": "carpet"
           }
          ],
          "choropleth": [
           {
            "colorbar": {
             "outlinewidth": 0,
             "ticks": ""
            },
            "type": "choropleth"
           }
          ],
          "contour": [
           {
            "colorbar": {
             "outlinewidth": 0,
             "ticks": ""
            },
            "colorscale": [
             [
              0,
              "#0d0887"
             ],
             [
              0.1111111111111111,
              "#46039f"
             ],
             [
              0.2222222222222222,
              "#7201a8"
             ],
             [
              0.3333333333333333,
              "#9c179e"
             ],
             [
              0.4444444444444444,
              "#bd3786"
             ],
             [
              0.5555555555555556,
              "#d8576b"
             ],
             [
              0.6666666666666666,
              "#ed7953"
             ],
             [
              0.7777777777777778,
              "#fb9f3a"
             ],
             [
              0.8888888888888888,
              "#fdca26"
             ],
             [
              1,
              "#f0f921"
             ]
            ],
            "type": "contour"
           }
          ],
          "contourcarpet": [
           {
            "colorbar": {
             "outlinewidth": 0,
             "ticks": ""
            },
            "type": "contourcarpet"
           }
          ],
          "heatmap": [
           {
            "colorbar": {
             "outlinewidth": 0,
             "ticks": ""
            },
            "colorscale": [
             [
              0,
              "#0d0887"
             ],
             [
              0.1111111111111111,
              "#46039f"
             ],
             [
              0.2222222222222222,
              "#7201a8"
             ],
             [
              0.3333333333333333,
              "#9c179e"
             ],
             [
              0.4444444444444444,
              "#bd3786"
             ],
             [
              0.5555555555555556,
              "#d8576b"
             ],
             [
              0.6666666666666666,
              "#ed7953"
             ],
             [
              0.7777777777777778,
              "#fb9f3a"
             ],
             [
              0.8888888888888888,
              "#fdca26"
             ],
             [
              1,
              "#f0f921"
             ]
            ],
            "type": "heatmap"
           }
          ],
          "histogram": [
           {
            "marker": {
             "pattern": {
              "fillmode": "overlay",
              "size": 10,
              "solidity": 0.2
             }
            },
            "type": "histogram"
           }
          ],
          "histogram2d": [
           {
            "colorbar": {
             "outlinewidth": 0,
             "ticks": ""
            },
            "colorscale": [
             [
              0,
              "#0d0887"
             ],
             [
              0.1111111111111111,
              "#46039f"
             ],
             [
              0.2222222222222222,
              "#7201a8"
             ],
             [
              0.3333333333333333,
              "#9c179e"
             ],
             [
              0.4444444444444444,
              "#bd3786"
             ],
             [
              0.5555555555555556,
              "#d8576b"
             ],
             [
              0.6666666666666666,
              "#ed7953"
             ],
             [
              0.7777777777777778,
              "#fb9f3a"
             ],
             [
              0.8888888888888888,
              "#fdca26"
             ],
             [
              1,
              "#f0f921"
             ]
            ],
            "type": "histogram2d"
           }
          ],
          "histogram2dcontour": [
           {
            "colorbar": {
             "outlinewidth": 0,
             "ticks": ""
            },
            "colorscale": [
             [
              0,
              "#0d0887"
             ],
             [
              0.1111111111111111,
              "#46039f"
             ],
             [
              0.2222222222222222,
              "#7201a8"
             ],
             [
              0.3333333333333333,
              "#9c179e"
             ],
             [
              0.4444444444444444,
              "#bd3786"
             ],
             [
              0.5555555555555556,
              "#d8576b"
             ],
             [
              0.6666666666666666,
              "#ed7953"
             ],
             [
              0.7777777777777778,
              "#fb9f3a"
             ],
             [
              0.8888888888888888,
              "#fdca26"
             ],
             [
              1,
              "#f0f921"
             ]
            ],
            "type": "histogram2dcontour"
           }
          ],
          "mesh3d": [
           {
            "colorbar": {
             "outlinewidth": 0,
             "ticks": ""
            },
            "type": "mesh3d"
           }
          ],
          "parcoords": [
           {
            "line": {
             "colorbar": {
              "outlinewidth": 0,
              "ticks": ""
             }
            },
            "type": "parcoords"
           }
          ],
          "pie": [
           {
            "automargin": true,
            "type": "pie"
           }
          ],
          "scatter": [
           {
            "fillpattern": {
             "fillmode": "overlay",
             "size": 10,
             "solidity": 0.2
            },
            "type": "scatter"
           }
          ],
          "scatter3d": [
           {
            "line": {
             "colorbar": {
              "outlinewidth": 0,
              "ticks": ""
             }
            },
            "marker": {
             "colorbar": {
              "outlinewidth": 0,
              "ticks": ""
             }
            },
            "type": "scatter3d"
           }
          ],
          "scattercarpet": [
           {
            "marker": {
             "colorbar": {
              "outlinewidth": 0,
              "ticks": ""
             }
            },
            "type": "scattercarpet"
           }
          ],
          "scattergeo": [
           {
            "marker": {
             "colorbar": {
              "outlinewidth": 0,
              "ticks": ""
             }
            },
            "type": "scattergeo"
           }
          ],
          "scattergl": [
           {
            "marker": {
             "colorbar": {
              "outlinewidth": 0,
              "ticks": ""
             }
            },
            "type": "scattergl"
           }
          ],
          "scattermap": [
           {
            "marker": {
             "colorbar": {
              "outlinewidth": 0,
              "ticks": ""
             }
            },
            "type": "scattermap"
           }
          ],
          "scattermapbox": [
           {
            "marker": {
             "colorbar": {
              "outlinewidth": 0,
              "ticks": ""
             }
            },
            "type": "scattermapbox"
           }
          ],
          "scatterpolar": [
           {
            "marker": {
             "colorbar": {
              "outlinewidth": 0,
              "ticks": ""
             }
            },
            "type": "scatterpolar"
           }
          ],
          "scatterpolargl": [
           {
            "marker": {
             "colorbar": {
              "outlinewidth": 0,
              "ticks": ""
             }
            },
            "type": "scatterpolargl"
           }
          ],
          "scatterternary": [
           {
            "marker": {
             "colorbar": {
              "outlinewidth": 0,
              "ticks": ""
             }
            },
            "type": "scatterternary"
           }
          ],
          "surface": [
           {
            "colorbar": {
             "outlinewidth": 0,
             "ticks": ""
            },
            "colorscale": [
             [
              0,
              "#0d0887"
             ],
             [
              0.1111111111111111,
              "#46039f"
             ],
             [
              0.2222222222222222,
              "#7201a8"
             ],
             [
              0.3333333333333333,
              "#9c179e"
             ],
             [
              0.4444444444444444,
              "#bd3786"
             ],
             [
              0.5555555555555556,
              "#d8576b"
             ],
             [
              0.6666666666666666,
              "#ed7953"
             ],
             [
              0.7777777777777778,
              "#fb9f3a"
             ],
             [
              0.8888888888888888,
              "#fdca26"
             ],
             [
              1,
              "#f0f921"
             ]
            ],
            "type": "surface"
           }
          ],
          "table": [
           {
            "cells": {
             "fill": {
              "color": "#EBF0F8"
             },
             "line": {
              "color": "white"
             }
            },
            "header": {
             "fill": {
              "color": "#C8D4E3"
             },
             "line": {
              "color": "white"
             }
            },
            "type": "table"
           }
          ]
         },
         "layout": {
          "annotationdefaults": {
           "arrowcolor": "#2a3f5f",
           "arrowhead": 0,
           "arrowwidth": 1
          },
          "autotypenumbers": "strict",
          "coloraxis": {
           "colorbar": {
            "outlinewidth": 0,
            "ticks": ""
           }
          },
          "colorscale": {
           "diverging": [
            [
             0,
             "#8e0152"
            ],
            [
             0.1,
             "#c51b7d"
            ],
            [
             0.2,
             "#de77ae"
            ],
            [
             0.3,
             "#f1b6da"
            ],
            [
             0.4,
             "#fde0ef"
            ],
            [
             0.5,
             "#f7f7f7"
            ],
            [
             0.6,
             "#e6f5d0"
            ],
            [
             0.7,
             "#b8e186"
            ],
            [
             0.8,
             "#7fbc41"
            ],
            [
             0.9,
             "#4d9221"
            ],
            [
             1,
             "#276419"
            ]
           ],
           "sequential": [
            [
             0,
             "#0d0887"
            ],
            [
             0.1111111111111111,
             "#46039f"
            ],
            [
             0.2222222222222222,
             "#7201a8"
            ],
            [
             0.3333333333333333,
             "#9c179e"
            ],
            [
             0.4444444444444444,
             "#bd3786"
            ],
            [
             0.5555555555555556,
             "#d8576b"
            ],
            [
             0.6666666666666666,
             "#ed7953"
            ],
            [
             0.7777777777777778,
             "#fb9f3a"
            ],
            [
             0.8888888888888888,
             "#fdca26"
            ],
            [
             1,
             "#f0f921"
            ]
           ],
           "sequentialminus": [
            [
             0,
             "#0d0887"
            ],
            [
             0.1111111111111111,
             "#46039f"
            ],
            [
             0.2222222222222222,
             "#7201a8"
            ],
            [
             0.3333333333333333,
             "#9c179e"
            ],
            [
             0.4444444444444444,
             "#bd3786"
            ],
            [
             0.5555555555555556,
             "#d8576b"
            ],
            [
             0.6666666666666666,
             "#ed7953"
            ],
            [
             0.7777777777777778,
             "#fb9f3a"
            ],
            [
             0.8888888888888888,
             "#fdca26"
            ],
            [
             1,
             "#f0f921"
            ]
           ]
          },
          "colorway": [
           "#636efa",
           "#EF553B",
           "#00cc96",
           "#ab63fa",
           "#FFA15A",
           "#19d3f3",
           "#FF6692",
           "#B6E880",
           "#FF97FF",
           "#FECB52"
          ],
          "font": {
           "color": "#2a3f5f"
          },
          "geo": {
           "bgcolor": "white",
           "lakecolor": "white",
           "landcolor": "#E5ECF6",
           "showlakes": true,
           "showland": true,
           "subunitcolor": "white"
          },
          "hoverlabel": {
           "align": "left"
          },
          "hovermode": "closest",
          "mapbox": {
           "style": "light"
          },
          "paper_bgcolor": "white",
          "plot_bgcolor": "#E5ECF6",
          "polar": {
           "angularaxis": {
            "gridcolor": "white",
            "linecolor": "white",
            "ticks": ""
           },
           "bgcolor": "#E5ECF6",
           "radialaxis": {
            "gridcolor": "white",
            "linecolor": "white",
            "ticks": ""
           }
          },
          "scene": {
           "xaxis": {
            "backgroundcolor": "#E5ECF6",
            "gridcolor": "white",
            "gridwidth": 2,
            "linecolor": "white",
            "showbackground": true,
            "ticks": "",
            "zerolinecolor": "white"
           },
           "yaxis": {
            "backgroundcolor": "#E5ECF6",
            "gridcolor": "white",
            "gridwidth": 2,
            "linecolor": "white",
            "showbackground": true,
            "ticks": "",
            "zerolinecolor": "white"
           },
           "zaxis": {
            "backgroundcolor": "#E5ECF6",
            "gridcolor": "white",
            "gridwidth": 2,
            "linecolor": "white",
            "showbackground": true,
            "ticks": "",
            "zerolinecolor": "white"
           }
          },
          "shapedefaults": {
           "line": {
            "color": "#2a3f5f"
           }
          },
          "ternary": {
           "aaxis": {
            "gridcolor": "white",
            "linecolor": "white",
            "ticks": ""
           },
           "baxis": {
            "gridcolor": "white",
            "linecolor": "white",
            "ticks": ""
           },
           "bgcolor": "#E5ECF6",
           "caxis": {
            "gridcolor": "white",
            "linecolor": "white",
            "ticks": ""
           }
          },
          "title": {
           "x": 0.05
          },
          "xaxis": {
           "automargin": true,
           "gridcolor": "white",
           "linecolor": "white",
           "ticks": "",
           "title": {
            "standoff": 15
           },
           "zerolinecolor": "white",
           "zerolinewidth": 2
          },
          "yaxis": {
           "automargin": true,
           "gridcolor": "white",
           "linecolor": "white",
           "ticks": "",
           "title": {
            "standoff": 15
           },
           "zerolinecolor": "white",
           "zerolinewidth": 2
          }
         }
        },
        "title": {
         "text": "Hyperparameter Importances"
        },
        "xaxis": {
         "title": {
          "text": "Hyperparameter Importance"
         }
        },
        "yaxis": {
         "title": {
          "text": "Hyperparameter"
         }
        }
       }
      }
     },
     "metadata": {},
     "output_type": "display_data"
    }
   ],
   "source": [
    "print(f\"Лучшие параметры для Random Forest:\")\n",
    "print(study_rf.best_params)\n",
    "print(f\"Лучший R2: {study_rf.best_value:.4f}\")\n",
    "\n",
    "fig = optuna.visualization.plot_optimization_history(study_rf)\n",
    "fig.show()\n",
    "\n",
    "fig = optuna.visualization.plot_param_importances(study_rf)\n",
    "fig.show()"
   ]
  },
  {
   "cell_type": "code",
   "execution_count": 95,
   "id": "f71e292d",
   "metadata": {},
   "outputs": [
    {
     "data": {
      "text/html": [
       "<style>#sk-container-id-2 {\n",
       "  /* Definition of color scheme common for light and dark mode */\n",
       "  --sklearn-color-text: #000;\n",
       "  --sklearn-color-text-muted: #666;\n",
       "  --sklearn-color-line: gray;\n",
       "  /* Definition of color scheme for unfitted estimators */\n",
       "  --sklearn-color-unfitted-level-0: #fff5e6;\n",
       "  --sklearn-color-unfitted-level-1: #f6e4d2;\n",
       "  --sklearn-color-unfitted-level-2: #ffe0b3;\n",
       "  --sklearn-color-unfitted-level-3: chocolate;\n",
       "  /* Definition of color scheme for fitted estimators */\n",
       "  --sklearn-color-fitted-level-0: #f0f8ff;\n",
       "  --sklearn-color-fitted-level-1: #d4ebff;\n",
       "  --sklearn-color-fitted-level-2: #b3dbfd;\n",
       "  --sklearn-color-fitted-level-3: cornflowerblue;\n",
       "\n",
       "  /* Specific color for light theme */\n",
       "  --sklearn-color-text-on-default-background: var(--sg-text-color, var(--theme-code-foreground, var(--jp-content-font-color1, black)));\n",
       "  --sklearn-color-background: var(--sg-background-color, var(--theme-background, var(--jp-layout-color0, white)));\n",
       "  --sklearn-color-border-box: var(--sg-text-color, var(--theme-code-foreground, var(--jp-content-font-color1, black)));\n",
       "  --sklearn-color-icon: #696969;\n",
       "\n",
       "  @media (prefers-color-scheme: dark) {\n",
       "    /* Redefinition of color scheme for dark theme */\n",
       "    --sklearn-color-text-on-default-background: var(--sg-text-color, var(--theme-code-foreground, var(--jp-content-font-color1, white)));\n",
       "    --sklearn-color-background: var(--sg-background-color, var(--theme-background, var(--jp-layout-color0, #111)));\n",
       "    --sklearn-color-border-box: var(--sg-text-color, var(--theme-code-foreground, var(--jp-content-font-color1, white)));\n",
       "    --sklearn-color-icon: #878787;\n",
       "  }\n",
       "}\n",
       "\n",
       "#sk-container-id-2 {\n",
       "  color: var(--sklearn-color-text);\n",
       "}\n",
       "\n",
       "#sk-container-id-2 pre {\n",
       "  padding: 0;\n",
       "}\n",
       "\n",
       "#sk-container-id-2 input.sk-hidden--visually {\n",
       "  border: 0;\n",
       "  clip: rect(1px 1px 1px 1px);\n",
       "  clip: rect(1px, 1px, 1px, 1px);\n",
       "  height: 1px;\n",
       "  margin: -1px;\n",
       "  overflow: hidden;\n",
       "  padding: 0;\n",
       "  position: absolute;\n",
       "  width: 1px;\n",
       "}\n",
       "\n",
       "#sk-container-id-2 div.sk-dashed-wrapped {\n",
       "  border: 1px dashed var(--sklearn-color-line);\n",
       "  margin: 0 0.4em 0.5em 0.4em;\n",
       "  box-sizing: border-box;\n",
       "  padding-bottom: 0.4em;\n",
       "  background-color: var(--sklearn-color-background);\n",
       "}\n",
       "\n",
       "#sk-container-id-2 div.sk-container {\n",
       "  /* jupyter's `normalize.less` sets `[hidden] { display: none; }`\n",
       "     but bootstrap.min.css set `[hidden] { display: none !important; }`\n",
       "     so we also need the `!important` here to be able to override the\n",
       "     default hidden behavior on the sphinx rendered scikit-learn.org.\n",
       "     See: https://github.com/scikit-learn/scikit-learn/issues/21755 */\n",
       "  display: inline-block !important;\n",
       "  position: relative;\n",
       "}\n",
       "\n",
       "#sk-container-id-2 div.sk-text-repr-fallback {\n",
       "  display: none;\n",
       "}\n",
       "\n",
       "div.sk-parallel-item,\n",
       "div.sk-serial,\n",
       "div.sk-item {\n",
       "  /* draw centered vertical line to link estimators */\n",
       "  background-image: linear-gradient(var(--sklearn-color-text-on-default-background), var(--sklearn-color-text-on-default-background));\n",
       "  background-size: 2px 100%;\n",
       "  background-repeat: no-repeat;\n",
       "  background-position: center center;\n",
       "}\n",
       "\n",
       "/* Parallel-specific style estimator block */\n",
       "\n",
       "#sk-container-id-2 div.sk-parallel-item::after {\n",
       "  content: \"\";\n",
       "  width: 100%;\n",
       "  border-bottom: 2px solid var(--sklearn-color-text-on-default-background);\n",
       "  flex-grow: 1;\n",
       "}\n",
       "\n",
       "#sk-container-id-2 div.sk-parallel {\n",
       "  display: flex;\n",
       "  align-items: stretch;\n",
       "  justify-content: center;\n",
       "  background-color: var(--sklearn-color-background);\n",
       "  position: relative;\n",
       "}\n",
       "\n",
       "#sk-container-id-2 div.sk-parallel-item {\n",
       "  display: flex;\n",
       "  flex-direction: column;\n",
       "}\n",
       "\n",
       "#sk-container-id-2 div.sk-parallel-item:first-child::after {\n",
       "  align-self: flex-end;\n",
       "  width: 50%;\n",
       "}\n",
       "\n",
       "#sk-container-id-2 div.sk-parallel-item:last-child::after {\n",
       "  align-self: flex-start;\n",
       "  width: 50%;\n",
       "}\n",
       "\n",
       "#sk-container-id-2 div.sk-parallel-item:only-child::after {\n",
       "  width: 0;\n",
       "}\n",
       "\n",
       "/* Serial-specific style estimator block */\n",
       "\n",
       "#sk-container-id-2 div.sk-serial {\n",
       "  display: flex;\n",
       "  flex-direction: column;\n",
       "  align-items: center;\n",
       "  background-color: var(--sklearn-color-background);\n",
       "  padding-right: 1em;\n",
       "  padding-left: 1em;\n",
       "}\n",
       "\n",
       "\n",
       "/* Toggleable style: style used for estimator/Pipeline/ColumnTransformer box that is\n",
       "clickable and can be expanded/collapsed.\n",
       "- Pipeline and ColumnTransformer use this feature and define the default style\n",
       "- Estimators will overwrite some part of the style using the `sk-estimator` class\n",
       "*/\n",
       "\n",
       "/* Pipeline and ColumnTransformer style (default) */\n",
       "\n",
       "#sk-container-id-2 div.sk-toggleable {\n",
       "  /* Default theme specific background. It is overwritten whether we have a\n",
       "  specific estimator or a Pipeline/ColumnTransformer */\n",
       "  background-color: var(--sklearn-color-background);\n",
       "}\n",
       "\n",
       "/* Toggleable label */\n",
       "#sk-container-id-2 label.sk-toggleable__label {\n",
       "  cursor: pointer;\n",
       "  display: flex;\n",
       "  width: 100%;\n",
       "  margin-bottom: 0;\n",
       "  padding: 0.5em;\n",
       "  box-sizing: border-box;\n",
       "  text-align: center;\n",
       "  align-items: start;\n",
       "  justify-content: space-between;\n",
       "  gap: 0.5em;\n",
       "}\n",
       "\n",
       "#sk-container-id-2 label.sk-toggleable__label .caption {\n",
       "  font-size: 0.6rem;\n",
       "  font-weight: lighter;\n",
       "  color: var(--sklearn-color-text-muted);\n",
       "}\n",
       "\n",
       "#sk-container-id-2 label.sk-toggleable__label-arrow:before {\n",
       "  /* Arrow on the left of the label */\n",
       "  content: \"▸\";\n",
       "  float: left;\n",
       "  margin-right: 0.25em;\n",
       "  color: var(--sklearn-color-icon);\n",
       "}\n",
       "\n",
       "#sk-container-id-2 label.sk-toggleable__label-arrow:hover:before {\n",
       "  color: var(--sklearn-color-text);\n",
       "}\n",
       "\n",
       "/* Toggleable content - dropdown */\n",
       "\n",
       "#sk-container-id-2 div.sk-toggleable__content {\n",
       "  max-height: 0;\n",
       "  max-width: 0;\n",
       "  overflow: hidden;\n",
       "  text-align: left;\n",
       "  /* unfitted */\n",
       "  background-color: var(--sklearn-color-unfitted-level-0);\n",
       "}\n",
       "\n",
       "#sk-container-id-2 div.sk-toggleable__content.fitted {\n",
       "  /* fitted */\n",
       "  background-color: var(--sklearn-color-fitted-level-0);\n",
       "}\n",
       "\n",
       "#sk-container-id-2 div.sk-toggleable__content pre {\n",
       "  margin: 0.2em;\n",
       "  border-radius: 0.25em;\n",
       "  color: var(--sklearn-color-text);\n",
       "  /* unfitted */\n",
       "  background-color: var(--sklearn-color-unfitted-level-0);\n",
       "}\n",
       "\n",
       "#sk-container-id-2 div.sk-toggleable__content.fitted pre {\n",
       "  /* unfitted */\n",
       "  background-color: var(--sklearn-color-fitted-level-0);\n",
       "}\n",
       "\n",
       "#sk-container-id-2 input.sk-toggleable__control:checked~div.sk-toggleable__content {\n",
       "  /* Expand drop-down */\n",
       "  max-height: 200px;\n",
       "  max-width: 100%;\n",
       "  overflow: auto;\n",
       "}\n",
       "\n",
       "#sk-container-id-2 input.sk-toggleable__control:checked~label.sk-toggleable__label-arrow:before {\n",
       "  content: \"▾\";\n",
       "}\n",
       "\n",
       "/* Pipeline/ColumnTransformer-specific style */\n",
       "\n",
       "#sk-container-id-2 div.sk-label input.sk-toggleable__control:checked~label.sk-toggleable__label {\n",
       "  color: var(--sklearn-color-text);\n",
       "  background-color: var(--sklearn-color-unfitted-level-2);\n",
       "}\n",
       "\n",
       "#sk-container-id-2 div.sk-label.fitted input.sk-toggleable__control:checked~label.sk-toggleable__label {\n",
       "  background-color: var(--sklearn-color-fitted-level-2);\n",
       "}\n",
       "\n",
       "/* Estimator-specific style */\n",
       "\n",
       "/* Colorize estimator box */\n",
       "#sk-container-id-2 div.sk-estimator input.sk-toggleable__control:checked~label.sk-toggleable__label {\n",
       "  /* unfitted */\n",
       "  background-color: var(--sklearn-color-unfitted-level-2);\n",
       "}\n",
       "\n",
       "#sk-container-id-2 div.sk-estimator.fitted input.sk-toggleable__control:checked~label.sk-toggleable__label {\n",
       "  /* fitted */\n",
       "  background-color: var(--sklearn-color-fitted-level-2);\n",
       "}\n",
       "\n",
       "#sk-container-id-2 div.sk-label label.sk-toggleable__label,\n",
       "#sk-container-id-2 div.sk-label label {\n",
       "  /* The background is the default theme color */\n",
       "  color: var(--sklearn-color-text-on-default-background);\n",
       "}\n",
       "\n",
       "/* On hover, darken the color of the background */\n",
       "#sk-container-id-2 div.sk-label:hover label.sk-toggleable__label {\n",
       "  color: var(--sklearn-color-text);\n",
       "  background-color: var(--sklearn-color-unfitted-level-2);\n",
       "}\n",
       "\n",
       "/* Label box, darken color on hover, fitted */\n",
       "#sk-container-id-2 div.sk-label.fitted:hover label.sk-toggleable__label.fitted {\n",
       "  color: var(--sklearn-color-text);\n",
       "  background-color: var(--sklearn-color-fitted-level-2);\n",
       "}\n",
       "\n",
       "/* Estimator label */\n",
       "\n",
       "#sk-container-id-2 div.sk-label label {\n",
       "  font-family: monospace;\n",
       "  font-weight: bold;\n",
       "  display: inline-block;\n",
       "  line-height: 1.2em;\n",
       "}\n",
       "\n",
       "#sk-container-id-2 div.sk-label-container {\n",
       "  text-align: center;\n",
       "}\n",
       "\n",
       "/* Estimator-specific */\n",
       "#sk-container-id-2 div.sk-estimator {\n",
       "  font-family: monospace;\n",
       "  border: 1px dotted var(--sklearn-color-border-box);\n",
       "  border-radius: 0.25em;\n",
       "  box-sizing: border-box;\n",
       "  margin-bottom: 0.5em;\n",
       "  /* unfitted */\n",
       "  background-color: var(--sklearn-color-unfitted-level-0);\n",
       "}\n",
       "\n",
       "#sk-container-id-2 div.sk-estimator.fitted {\n",
       "  /* fitted */\n",
       "  background-color: var(--sklearn-color-fitted-level-0);\n",
       "}\n",
       "\n",
       "/* on hover */\n",
       "#sk-container-id-2 div.sk-estimator:hover {\n",
       "  /* unfitted */\n",
       "  background-color: var(--sklearn-color-unfitted-level-2);\n",
       "}\n",
       "\n",
       "#sk-container-id-2 div.sk-estimator.fitted:hover {\n",
       "  /* fitted */\n",
       "  background-color: var(--sklearn-color-fitted-level-2);\n",
       "}\n",
       "\n",
       "/* Specification for estimator info (e.g. \"i\" and \"?\") */\n",
       "\n",
       "/* Common style for \"i\" and \"?\" */\n",
       "\n",
       ".sk-estimator-doc-link,\n",
       "a:link.sk-estimator-doc-link,\n",
       "a:visited.sk-estimator-doc-link {\n",
       "  float: right;\n",
       "  font-size: smaller;\n",
       "  line-height: 1em;\n",
       "  font-family: monospace;\n",
       "  background-color: var(--sklearn-color-background);\n",
       "  border-radius: 1em;\n",
       "  height: 1em;\n",
       "  width: 1em;\n",
       "  text-decoration: none !important;\n",
       "  margin-left: 0.5em;\n",
       "  text-align: center;\n",
       "  /* unfitted */\n",
       "  border: var(--sklearn-color-unfitted-level-1) 1pt solid;\n",
       "  color: var(--sklearn-color-unfitted-level-1);\n",
       "}\n",
       "\n",
       ".sk-estimator-doc-link.fitted,\n",
       "a:link.sk-estimator-doc-link.fitted,\n",
       "a:visited.sk-estimator-doc-link.fitted {\n",
       "  /* fitted */\n",
       "  border: var(--sklearn-color-fitted-level-1) 1pt solid;\n",
       "  color: var(--sklearn-color-fitted-level-1);\n",
       "}\n",
       "\n",
       "/* On hover */\n",
       "div.sk-estimator:hover .sk-estimator-doc-link:hover,\n",
       ".sk-estimator-doc-link:hover,\n",
       "div.sk-label-container:hover .sk-estimator-doc-link:hover,\n",
       ".sk-estimator-doc-link:hover {\n",
       "  /* unfitted */\n",
       "  background-color: var(--sklearn-color-unfitted-level-3);\n",
       "  color: var(--sklearn-color-background);\n",
       "  text-decoration: none;\n",
       "}\n",
       "\n",
       "div.sk-estimator.fitted:hover .sk-estimator-doc-link.fitted:hover,\n",
       ".sk-estimator-doc-link.fitted:hover,\n",
       "div.sk-label-container:hover .sk-estimator-doc-link.fitted:hover,\n",
       ".sk-estimator-doc-link.fitted:hover {\n",
       "  /* fitted */\n",
       "  background-color: var(--sklearn-color-fitted-level-3);\n",
       "  color: var(--sklearn-color-background);\n",
       "  text-decoration: none;\n",
       "}\n",
       "\n",
       "/* Span, style for the box shown on hovering the info icon */\n",
       ".sk-estimator-doc-link span {\n",
       "  display: none;\n",
       "  z-index: 9999;\n",
       "  position: relative;\n",
       "  font-weight: normal;\n",
       "  right: .2ex;\n",
       "  padding: .5ex;\n",
       "  margin: .5ex;\n",
       "  width: min-content;\n",
       "  min-width: 20ex;\n",
       "  max-width: 50ex;\n",
       "  color: var(--sklearn-color-text);\n",
       "  box-shadow: 2pt 2pt 4pt #999;\n",
       "  /* unfitted */\n",
       "  background: var(--sklearn-color-unfitted-level-0);\n",
       "  border: .5pt solid var(--sklearn-color-unfitted-level-3);\n",
       "}\n",
       "\n",
       ".sk-estimator-doc-link.fitted span {\n",
       "  /* fitted */\n",
       "  background: var(--sklearn-color-fitted-level-0);\n",
       "  border: var(--sklearn-color-fitted-level-3);\n",
       "}\n",
       "\n",
       ".sk-estimator-doc-link:hover span {\n",
       "  display: block;\n",
       "}\n",
       "\n",
       "/* \"?\"-specific style due to the `<a>` HTML tag */\n",
       "\n",
       "#sk-container-id-2 a.estimator_doc_link {\n",
       "  float: right;\n",
       "  font-size: 1rem;\n",
       "  line-height: 1em;\n",
       "  font-family: monospace;\n",
       "  background-color: var(--sklearn-color-background);\n",
       "  border-radius: 1rem;\n",
       "  height: 1rem;\n",
       "  width: 1rem;\n",
       "  text-decoration: none;\n",
       "  /* unfitted */\n",
       "  color: var(--sklearn-color-unfitted-level-1);\n",
       "  border: var(--sklearn-color-unfitted-level-1) 1pt solid;\n",
       "}\n",
       "\n",
       "#sk-container-id-2 a.estimator_doc_link.fitted {\n",
       "  /* fitted */\n",
       "  border: var(--sklearn-color-fitted-level-1) 1pt solid;\n",
       "  color: var(--sklearn-color-fitted-level-1);\n",
       "}\n",
       "\n",
       "/* On hover */\n",
       "#sk-container-id-2 a.estimator_doc_link:hover {\n",
       "  /* unfitted */\n",
       "  background-color: var(--sklearn-color-unfitted-level-3);\n",
       "  color: var(--sklearn-color-background);\n",
       "  text-decoration: none;\n",
       "}\n",
       "\n",
       "#sk-container-id-2 a.estimator_doc_link.fitted:hover {\n",
       "  /* fitted */\n",
       "  background-color: var(--sklearn-color-fitted-level-3);\n",
       "}\n",
       "</style><div id=\"sk-container-id-2\" class=\"sk-top-container\"><div class=\"sk-text-repr-fallback\"><pre>RandomForestRegressor(bootstrap=False, max_depth=19, max_features=&#x27;log2&#x27;,\n",
       "                      min_samples_leaf=4, min_samples_split=5, n_estimators=408,\n",
       "                      n_jobs=-1, random_state=42)</pre><b>In a Jupyter environment, please rerun this cell to show the HTML representation or trust the notebook. <br />On GitHub, the HTML representation is unable to render, please try loading this page with nbviewer.org.</b></div><div class=\"sk-container\" hidden><div class=\"sk-item\"><div class=\"sk-estimator fitted sk-toggleable\"><input class=\"sk-toggleable__control sk-hidden--visually\" id=\"sk-estimator-id-2\" type=\"checkbox\" checked><label for=\"sk-estimator-id-2\" class=\"sk-toggleable__label fitted sk-toggleable__label-arrow\"><div><div>RandomForestRegressor</div></div><div><a class=\"sk-estimator-doc-link fitted\" rel=\"noreferrer\" target=\"_blank\" href=\"https://scikit-learn.org/1.6/modules/generated/sklearn.ensemble.RandomForestRegressor.html\">?<span>Documentation for RandomForestRegressor</span></a><span class=\"sk-estimator-doc-link fitted\">i<span>Fitted</span></span></div></label><div class=\"sk-toggleable__content fitted\"><pre>RandomForestRegressor(bootstrap=False, max_depth=19, max_features=&#x27;log2&#x27;,\n",
       "                      min_samples_leaf=4, min_samples_split=5, n_estimators=408,\n",
       "                      n_jobs=-1, random_state=42)</pre></div> </div></div></div></div>"
      ],
      "text/plain": [
       "RandomForestRegressor(bootstrap=False, max_depth=19, max_features='log2',\n",
       "                      min_samples_leaf=4, min_samples_split=5, n_estimators=408,\n",
       "                      n_jobs=-1, random_state=42)"
      ]
     },
     "execution_count": 95,
     "metadata": {},
     "output_type": "execute_result"
    }
   ],
   "source": [
    "best_rf_model = RandomForestRegressor(\n",
    "    **study_rf.best_params,\n",
    "    random_state=RANDOM_STATE,\n",
    "    n_jobs=-1\n",
    ")\n",
    "best_rf_model.fit(X_train, y_train_ic50)"
   ]
  },
  {
   "cell_type": "markdown",
   "id": "5a097f92",
   "metadata": {},
   "source": [
    "#### Оценка модели на лучшем наборе данных"
   ]
  },
  {
   "cell_type": "code",
   "execution_count": 96,
   "id": "11aafaa5",
   "metadata": {},
   "outputs": [
    {
     "name": "stdout",
     "output_type": "stream",
     "text": [
      "\n",
      "Final Metrics on Test Set:\n",
      "R2: 0.4255\n",
      "RMSE: 81.9734\n",
      "MAE: 28.3864\n",
      "MAPE: 12.0828\n"
     ]
    }
   ],
   "source": [
    "y_pred_best_rf = best_rf_model.predict(X_test)\n",
    "\n",
    "final_metrics_rf = {metric_name: metric_func(y_test_ic50, y_pred_best_rf) \n",
    "                 for metric_name, metric_func in metrics.items()}\n",
    "\n",
    "print(\"\\nFinal Metrics on Test Set:\")\n",
    "for metric, value in final_metrics_rf.items():\n",
    "    print(f\"{metric}: {value:.4f}\")"
   ]
  },
  {
   "cell_type": "code",
   "execution_count": null,
   "id": "9afa3a30",
   "metadata": {},
   "outputs": [
    {
     "data": {
      "image/png": "[encoded data removed]",
      "text/plain": [
       "<Figure size 1000x600 with 1 Axes>"
      ]
     },
     "metadata": {},
     "output_type": "display_data"
    }
   ],
   "source": [
    "plt.figure(figsize=(10, 6))\n",
    "plt.scatter(y_test_ic50, y_pred_best_rf, alpha=0.5)\n",
    "plt.plot([min(y_test_ic50), max(y_test_ic50)], \n",
    "         [min(y_test_ic50), max(y_test_ic50)], 'r--')\n",
    "plt.xlabel('True SI')\n",
    "plt.ylabel('Predicted SI')\n",
    "plt.title('True vs Predicted SI Values')\n",
    "plt.grid(True)\n",
    "plt.show()"
   ]
  },
  {
   "cell_type": "markdown",
   "id": "26250a08",
   "metadata": {},
   "source": [
    "#### Анализ важности признаков"
   ]
  },
  {
   "cell_type": "code",
   "execution_count": null,
   "id": "1f9e8ddf",
   "metadata": {},
   "outputs": [
    {
     "data": {
      "image/png": "[encoded data removed]",
      "text/plain": [
       "<Figure size 1200x800 with 1 Axes>"
      ]
     },
     "metadata": {},
     "output_type": "display_data"
    }
   ],
   "source": [
    "if hasattr(best_rf_model, 'feature_importances_'):\n",
    "    importances = best_rf_model.feature_importances_\n",
    "    feature_names = X.columns if isinstance(X, pd.DataFrame) else [f\"Feature {i}\" for i in range(X.shape[1])]\n",
    "    \n",
    "    sorted_idx = importances.argsort()[::-1]\n",
    "    top_features = 20\n",
    "    \n",
    "    plt.figure(figsize=(12, 8))\n",
    "    plt.barh(range(top_features), importances[sorted_idx][:top_features], align='center')\n",
    "    plt.yticks(range(top_features), [feature_names[i] for i in sorted_idx[:top_features]])\n",
    "    plt.gca().invert_yaxis()\n",
    "    plt.xlabel('Feature Importance')\n",
    "    plt.title('Top Important Features for SI Prediction')\n",
    "    plt.tight_layout()\n",
    "    plt.show()"
   ]
  },
  {
   "cell_type": "markdown",
   "id": "e7ea6f07",
   "metadata": {},
   "source": [
    "### XGBoost"
   ]
  },
  {
   "cell_type": "code",
   "execution_count": 99,
   "id": "91140673",
   "metadata": {},
   "outputs": [],
   "source": [
    "def optimize_xgb(trial):\n",
    "    params = {\n",
    "        'n_estimators': trial.suggest_int('n_estimators', 100, 1000),\n",
    "        'max_depth': trial.suggest_int('max_depth', 3, 12),\n",
    "        'learning_rate': trial.suggest_float('learning_rate', 0.001, 0.3, log=True),\n",
    "        'subsample': trial.suggest_float('subsample', 0.5, 1.0),\n",
    "        'colsample_bytree': trial.suggest_float('colsample_bytree', 0.5, 1.0),\n",
    "        'gamma': trial.suggest_float('gamma', 0, 5),\n",
    "        'reg_alpha': trial.suggest_float('reg_alpha', 0, 10),\n",
    "        'reg_lambda': trial.suggest_float('reg_lambda', 0, 10)\n",
    "    }\n",
    "    \n",
    "    model = XGBRegressor(\n",
    "        **params,\n",
    "        random_state=RANDOM_STATE,\n",
    "        tree_method='exact',\n",
    "        enable_categorical=False\n",
    "    )\n",
    "    \n",
    "    r2_scores = cross_val_score(\n",
    "        model, X_train, y_train_ic50, \n",
    "        cv=CV_FOLDS_XGB, scoring='r2', n_jobs=-1\n",
    "    )\n",
    "    \n",
    "    return np.mean(r2_scores)\n"
   ]
  },
  {
   "cell_type": "code",
   "execution_count": 100,
   "id": "342d3e35",
   "metadata": {},
   "outputs": [
    {
     "name": "stderr",
     "output_type": "stream",
     "text": [
      "[I 2025-06-02 15:44:59,141] A new study created in memory with name: no-name-43a78fff-a3c4-4f6c-b820-dec585fbce44\n",
      "[I 2025-06-02 15:45:03,381] Trial 0 finished with value: -0.08372649130241142 and parameters: {'n_estimators': 437, 'max_depth': 12, 'learning_rate': 0.06504856968981275, 'subsample': 0.7993292420985183, 'colsample_bytree': 0.5780093202212182, 'gamma': 0.7799726016810132, 'reg_alpha': 0.5808361216819946, 'reg_lambda': 8.661761457749352}. Best is trial 0 with value: -0.08372649130241142.\n",
      "[I 2025-06-02 15:45:10,324] Trial 1 finished with value: 0.10699761691315919 and parameters: {'n_estimators': 641, 'max_depth': 10, 'learning_rate': 0.001124579825911934, 'subsample': 0.9849549260809971, 'colsample_bytree': 0.9162213204002109, 'gamma': 1.0616955533913808, 'reg_alpha': 1.8182496720710062, 'reg_lambda': 1.8340450985343382}. Best is trial 1 with value: 0.10699761691315919.\n",
      "[I 2025-06-02 15:45:13,651] Trial 2 finished with value: -0.003925782406376643 and parameters: {'n_estimators': 374, 'max_depth': 8, 'learning_rate': 0.01174843954800703, 'subsample': 0.645614570099021, 'colsample_bytree': 0.8059264473611898, 'gamma': 0.6974693032602092, 'reg_alpha': 2.9214464853521815, 'reg_lambda': 3.663618432936917}. Best is trial 1 with value: 0.10699761691315919.\n",
      "[I 2025-06-02 15:45:18,233] Trial 3 finished with value: 0.08836834440860739 and parameters: {'n_estimators': 510, 'max_depth': 10, 'learning_rate': 0.003123317753376431, 'subsample': 0.7571172192068059, 'colsample_bytree': 0.7962072844310213, 'gamma': 0.23225206359998862, 'reg_alpha': 6.075448519014383, 'reg_lambda': 1.7052412368729153}. Best is trial 1 with value: 0.10699761691315919.\n",
      "[I 2025-06-02 15:45:19,764] Trial 4 finished with value: -0.0904137674088473 and parameters: {'n_estimators': 158, 'max_depth': 12, 'learning_rate': 0.24659691172104828, 'subsample': 0.9041986740582306, 'colsample_bytree': 0.6523068845866853, 'gamma': 0.48836057003191935, 'reg_alpha': 6.842330265121569, 'reg_lambda': 4.4015249373960135}. Best is trial 1 with value: 0.10699761691315919.\n",
      "[I 2025-06-02 15:45:20,986] Trial 5 finished with value: 0.050273817429652846 and parameters: {'n_estimators': 209, 'max_depth': 7, 'learning_rate': 0.0012167028814593455, 'subsample': 0.954660201039391, 'colsample_bytree': 0.6293899908000085, 'gamma': 3.31261142176991, 'reg_alpha': 3.1171107608941098, 'reg_lambda': 5.200680211778108}. Best is trial 1 with value: 0.10699761691315919.\n",
      "[I 2025-06-02 15:45:23,797] Trial 6 finished with value: -0.3263572483309452 and parameters: {'n_estimators': 592, 'max_depth': 4, 'learning_rate': 0.25221951700214296, 'subsample': 0.8875664116805573, 'colsample_bytree': 0.9697494707820946, 'gamma': 4.474136752138244, 'reg_alpha': 5.978999788110851, 'reg_lambda': 9.218742350231167}. Best is trial 1 with value: 0.10699761691315919.\n",
      "[I 2025-06-02 15:45:24,509] Trial 7 finished with value: 0.022252747210802094 and parameters: {'n_estimators': 179, 'max_depth': 4, 'learning_rate': 0.001294295611551122, 'subsample': 0.6626651653816322, 'colsample_bytree': 0.6943386448447411, 'gamma': 1.3567451588694794, 'reg_alpha': 8.287375091519294, 'reg_lambda': 3.567533266935893}. Best is trial 1 with value: 0.10699761691315919.\n",
      "[I 2025-06-02 15:45:26,662] Trial 8 finished with value: 0.1197699307749283 and parameters: {'n_estimators': 353, 'max_depth': 8, 'learning_rate': 0.0022340165853190056, 'subsample': 0.9010984903770198, 'colsample_bytree': 0.5372753218398854, 'gamma': 4.9344346830025865, 'reg_alpha': 7.722447692966574, 'reg_lambda': 1.987156815341724}. Best is trial 8 with value: 0.1197699307749283.\n",
      "[I 2025-06-02 15:45:27,929] Trial 9 finished with value: -0.15156572464536686 and parameters: {'n_estimators': 104, 'max_depth': 11, 'learning_rate': 0.0563600475052774, 'subsample': 0.8645035840204937, 'colsample_bytree': 0.8856351733429728, 'gamma': 0.3702232586704518, 'reg_alpha': 3.5846572854427263, 'reg_lambda': 1.1586905952512971}. Best is trial 8 with value: 0.1197699307749283.\n",
      "[I 2025-06-02 15:45:32,411] Trial 10 finished with value: 0.023255049198174026 and parameters: {'n_estimators': 951, 'max_depth': 7, 'learning_rate': 0.0057835683328601424, 'subsample': 0.5089809378074099, 'colsample_bytree': 0.5072835039169765, 'gamma': 4.538323976412589, 'reg_alpha': 9.657999152313, 'reg_lambda': 6.764178475687505}. Best is trial 8 with value: 0.1197699307749283.\n",
      "[I 2025-06-02 15:45:41,177] Trial 11 finished with value: -0.36660504302277913 and parameters: {'n_estimators': 770, 'max_depth': 9, 'learning_rate': 0.003622647708699434, 'subsample': 0.9729048599868566, 'colsample_bytree': 0.9609446284907329, 'gamma': 2.1717813587820562, 'reg_alpha': 0.67820267762621, 'reg_lambda': 0.2277961278232401}. Best is trial 8 with value: 0.1197699307749283.\n",
      "[I 2025-06-02 15:45:45,945] Trial 12 finished with value: 0.09330516297633493 and parameters: {'n_estimators': 691, 'max_depth': 6, 'learning_rate': 0.0010251375099308373, 'subsample': 0.985271990238237, 'colsample_bytree': 0.8646936647188207, 'gamma': 3.430204010728443, 'reg_alpha': 7.7840339316858245, 'reg_lambda': 2.7448497328248096}. Best is trial 8 with value: 0.1197699307749283.\n",
      "[I 2025-06-02 15:45:52,315] Trial 13 finished with value: 0.08645351269136907 and parameters: {'n_estimators': 795, 'max_depth': 9, 'learning_rate': 0.002350324122358607, 'subsample': 0.8264648750204893, 'colsample_bytree': 0.7571114615865944, 'gamma': 2.075508050168335, 'reg_alpha': 4.381301674911344, 'reg_lambda': 2.103733735050234}. Best is trial 8 with value: 0.1197699307749283.\n",
      "[I 2025-06-02 15:45:54,485] Trial 14 finished with value: -0.10465138970572978 and parameters: {'n_estimators': 320, 'max_depth': 10, 'learning_rate': 0.009845018911181558, 'subsample': 0.9988564214421709, 'colsample_bytree': 0.5065701578589041, 'gamma': 1.51723150444279, 'reg_alpha': 1.8525973938408447, 'reg_lambda': 0.03624866692085882}. Best is trial 8 with value: 0.1197699307749283.\n",
      "[I 2025-06-02 15:45:58,551] Trial 15 finished with value: -0.0932810704068043 and parameters: {'n_estimators': 595, 'max_depth': 6, 'learning_rate': 0.02924156649745177, 'subsample': 0.9145947754307058, 'colsample_bytree': 0.9102361265933461, 'gamma': 3.139902256722796, 'reg_alpha': 9.438868269958656, 'reg_lambda': 2.8453170915959194}. Best is trial 8 with value: 0.1197699307749283.\n",
      "[I 2025-06-02 15:46:01,114] Trial 16 finished with value: 0.10028409004416095 and parameters: {'n_estimators': 318, 'max_depth': 9, 'learning_rate': 0.002145191685575982, 'subsample': 0.7042234522864574, 'colsample_bytree': 0.7276809972570897, 'gamma': 4.886332327975392, 'reg_alpha': 5.046401062742044, 'reg_lambda': 6.394684662708778}. Best is trial 8 with value: 0.1197699307749283.\n",
      "[I 2025-06-02 15:46:06,568] Trial 17 finished with value: -0.0720854704272844 and parameters: {'n_estimators': 945, 'max_depth': 8, 'learning_rate': 0.00546250852434832, 'subsample': 0.8333376978658337, 'colsample_bytree': 0.5684587125712062, 'gamma': 4.028994451732661, 'reg_alpha': 1.7149017585416455, 'reg_lambda': 0.9786484880675221}. Best is trial 8 with value: 0.1197699307749283.\n",
      "[I 2025-06-02 15:46:08,100] Trial 18 finished with value: -0.07573698831549644 and parameters: {'n_estimators': 482, 'max_depth': 3, 'learning_rate': 0.01762010985756747, 'subsample': 0.9306037479628094, 'colsample_bytree': 0.8321506416648519, 'gamma': 2.533881284358336, 'reg_alpha': 7.949921406621866, 'reg_lambda': 5.895374498936984}. Best is trial 8 with value: 0.1197699307749283.\n",
      "[I 2025-06-02 15:46:15,434] Trial 19 finished with value: 0.10729607058097938 and parameters: {'n_estimators': 677, 'max_depth': 10, 'learning_rate': 0.0019456376523679655, 'subsample': 0.5667330856015325, 'colsample_bytree': 0.9322991810646185, 'gamma': 1.3252902188557936, 'reg_alpha': 5.159468640172284, 'reg_lambda': 4.428029770776137}. Best is trial 8 with value: 0.1197699307749283.\n",
      "[I 2025-06-02 15:46:21,672] Trial 20 finished with value: 0.024598804175153078 and parameters: {'n_estimators': 781, 'max_depth': 6, 'learning_rate': 0.006602172000264538, 'subsample': 0.5303773315185902, 'colsample_bytree': 0.9956385980717999, 'gamma': 1.6921785867816115, 'reg_alpha': 5.138811575365112, 'reg_lambda': 7.4976050918573485}. Best is trial 8 with value: 0.1197699307749283.\n",
      "[I 2025-06-02 15:46:29,725] Trial 21 finished with value: 0.10864794113885916 and parameters: {'n_estimators': 679, 'max_depth': 10, 'learning_rate': 0.0019361707189413041, 'subsample': 0.605898689243633, 'colsample_bytree': 0.9483181282045721, 'gamma': 1.2176251707927161, 'reg_alpha': 6.895163382919595, 'reg_lambda': 4.090010710703237}. Best is trial 8 with value: 0.1197699307749283.\n",
      "[I 2025-06-02 15:46:38,315] Trial 22 finished with value: 0.10613920077810537 and parameters: {'n_estimators': 690, 'max_depth': 11, 'learning_rate': 0.0020651457763813993, 'subsample': 0.5829393126630563, 'colsample_bytree': 0.9100596705164947, 'gamma': 2.789773785474626, 'reg_alpha': 6.66548480156653, 'reg_lambda': 4.672532300701209}. Best is trial 8 with value: 0.1197699307749283.\n",
      "[I 2025-06-02 15:46:48,756] Trial 23 finished with value: 0.036222928015740785 and parameters: {'n_estimators': 866, 'max_depth': 11, 'learning_rate': 0.0037636252975750406, 'subsample': 0.5883647735918079, 'colsample_bytree': 0.9312404495902854, 'gamma': 1.1117658002406237, 'reg_alpha': 7.190691653971754, 'reg_lambda': 3.6832053615025693}. Best is trial 8 with value: 0.1197699307749283.\n",
      "[I 2025-06-02 15:46:53,611] Trial 24 finished with value: 0.11042249591290795 and parameters: {'n_estimators': 549, 'max_depth': 9, 'learning_rate': 0.0017603702298490162, 'subsample': 0.5798769971352339, 'colsample_bytree': 0.8531443905828644, 'gamma': 1.998593976996316, 'reg_alpha': 8.895564194661056, 'reg_lambda': 5.4428488277081355}. Best is trial 8 with value: 0.1197699307749283.\n",
      "[I 2025-06-02 15:46:57,376] Trial 25 finished with value: 0.10864335073525049 and parameters: {'n_estimators': 433, 'max_depth': 8, 'learning_rate': 0.003351371685097709, 'subsample': 0.6478370075352826, 'colsample_bytree': 0.8612817565648608, 'gamma': 1.8477119574099314, 'reg_alpha': 8.327893240872259, 'reg_lambda': 5.2561719749435465}. Best is trial 8 with value: 0.1197699307749283.\n",
      "[I 2025-06-02 15:47:02,169] Trial 26 finished with value: 0.1123348984599171 and parameters: {'n_estimators': 555, 'max_depth': 9, 'learning_rate': 0.0017515269009597196, 'subsample': 0.7173345480830932, 'colsample_bytree': 0.776198718722683, 'gamma': 3.7950092509846955, 'reg_alpha': 9.115609214807781, 'reg_lambda': 2.7211286198922853}. Best is trial 8 with value: 0.1197699307749283.\n",
      "[I 2025-06-02 15:47:04,217] Trial 27 finished with value: 0.06831544438658474 and parameters: {'n_estimators': 283, 'max_depth': 7, 'learning_rate': 0.007921262275415817, 'subsample': 0.7465899128346691, 'colsample_bytree': 0.777161131020054, 'gamma': 3.8305083762507075, 'reg_alpha': 9.038567079234294, 'reg_lambda': 2.700344542635648}. Best is trial 8 with value: 0.1197699307749283.\n",
      "[I 2025-06-02 15:47:08,595] Trial 28 finished with value: -0.14699226016862033 and parameters: {'n_estimators': 543, 'max_depth': 9, 'learning_rate': 0.01907076160860256, 'subsample': 0.7057077798216087, 'colsample_bytree': 0.7129666888086205, 'gamma': 4.954888318934103, 'reg_alpha': 8.568794168984002, 'reg_lambda': 1.004541398592119}. Best is trial 8 with value: 0.1197699307749283.\n",
      "[I 2025-06-02 15:47:11,695] Trial 29 finished with value: 0.10307352799470593 and parameters: {'n_estimators': 426, 'max_depth': 8, 'learning_rate': 0.0015459129357738254, 'subsample': 0.773182091464526, 'colsample_bytree': 0.6703722485426518, 'gamma': 4.174815473312312, 'reg_alpha': 9.785099998303998, 'reg_lambda': 7.726151205221021}. Best is trial 8 with value: 0.1197699307749283.\n",
      "[I 2025-06-02 15:47:13,293] Trial 30 finished with value: 0.07846149964725066 and parameters: {'n_estimators': 394, 'max_depth': 5, 'learning_rate': 0.004521997569635152, 'subsample': 0.7115516804410101, 'colsample_bytree': 0.6189262409722706, 'gamma': 2.964446755084184, 'reg_alpha': 8.88549306861326, 'reg_lambda': 3.2811206666833037}. Best is trial 8 with value: 0.1197699307749283.\n",
      "[I 2025-06-02 15:47:17,680] Trial 31 finished with value: 0.1118117389411634 and parameters: {'n_estimators': 479, 'max_depth': 9, 'learning_rate': 0.0027017206507146323, 'subsample': 0.620363704942027, 'colsample_bytree': 0.8104787055226246, 'gamma': 3.6571797158455923, 'reg_alpha': 7.510067958025963, 'reg_lambda': 4.0791945513301435}. Best is trial 8 with value: 0.1197699307749283.\n",
      "[I 2025-06-02 15:47:22,833] Trial 32 finished with value: 0.10118645836569473 and parameters: {'n_estimators': 588, 'max_depth': 9, 'learning_rate': 0.0026434171870309353, 'subsample': 0.6172215301976657, 'colsample_bytree': 0.8217058519013632, 'gamma': 3.660772374491697, 'reg_alpha': 7.631441060900978, 'reg_lambda': 2.1976304755938596}. Best is trial 8 with value: 0.1197699307749283.\n",
      "[I 2025-06-02 15:47:26,555] Trial 33 finished with value: 0.10103803809385385 and parameters: {'n_estimators': 507, 'max_depth': 8, 'learning_rate': 0.0015139844316945394, 'subsample': 0.5446744018390293, 'colsample_bytree': 0.7400282437584582, 'gamma': 2.4803122011193404, 'reg_alpha': 9.28334875804159, 'reg_lambda': 5.442123291762808}. Best is trial 8 with value: 0.1197699307749283.\n",
      "[I 2025-06-02 15:47:29,845] Trial 34 finished with value: -0.3527017184778588 and parameters: {'n_estimators': 364, 'max_depth': 9, 'learning_rate': 0.12673941379789355, 'subsample': 0.6770196016562854, 'colsample_bytree': 0.7703597698978961, 'gamma': 4.4211727325584915, 'reg_alpha': 9.957166865855946, 'reg_lambda': 1.6493468162416962}. Best is trial 8 with value: 0.1197699307749283.\n",
      "[I 2025-06-02 15:47:33,861] Trial 35 finished with value: 0.08159961636637525 and parameters: {'n_estimators': 474, 'max_depth': 8, 'learning_rate': 0.001019314302185944, 'subsample': 0.6189356106483885, 'colsample_bytree': 0.8410771450934872, 'gamma': 3.567069358345405, 'reg_alpha': 6.008984236501817, 'reg_lambda': 3.104339221445535}. Best is trial 8 with value: 0.1197699307749283.\n",
      "[I 2025-06-02 15:47:37,606] Trial 36 finished with value: 0.03338683861802187 and parameters: {'n_estimators': 266, 'max_depth': 12, 'learning_rate': 0.011938006324230057, 'subsample': 0.7563071052498801, 'colsample_bytree': 0.797001685214473, 'gamma': 3.990450173445057, 'reg_alpha': 7.599936381334228, 'reg_lambda': 3.8253897088216102}. Best is trial 8 with value: 0.1197699307749283.\n",
      "[I 2025-06-02 15:47:40,556] Trial 37 finished with value: 0.11147764258225672 and parameters: {'n_estimators': 552, 'max_depth': 7, 'learning_rate': 0.0027575541991788073, 'subsample': 0.7863716560575622, 'colsample_bytree': 0.5484115546855831, 'gamma': 4.715174261950855, 'reg_alpha': 8.760536111580649, 'reg_lambda': 5.770937096315058}. Best is trial 8 with value: 0.1197699307749283.\n",
      "[I 2025-06-02 15:47:43,774] Trial 38 finished with value: 0.07247204902653462 and parameters: {'n_estimators': 633, 'max_depth': 7, 'learning_rate': 0.004544865232287792, 'subsample': 0.7910994055346436, 'colsample_bytree': 0.5562701123448619, 'gamma': 4.702530595256152, 'reg_alpha': 6.3042118209027525, 'reg_lambda': 6.0232725674764405}. Best is trial 8 with value: 0.1197699307749283.\n",
      "[I 2025-06-02 15:47:46,005] Trial 39 finished with value: 0.1211987915959803 and parameters: {'n_estimators': 455, 'max_depth': 7, 'learning_rate': 0.0027798007842474155, 'subsample': 0.8507312415487855, 'colsample_bytree': 0.5351895017097209, 'gamma': 4.293750134603568, 'reg_alpha': 8.502627286868027, 'reg_lambda': 4.746642975799817}. Best is trial 39 with value: 0.1211987915959803.\n",
      "[I 2025-06-02 15:47:47,650] Trial 40 finished with value: -0.06089571178284461 and parameters: {'n_estimators': 381, 'max_depth': 5, 'learning_rate': 0.03143792021327096, 'subsample': 0.856306941360923, 'colsample_bytree': 0.5992516466893144, 'gamma': 4.323647161234263, 'reg_alpha': 7.3437151963426475, 'reg_lambda': 4.746260416954212}. Best is trial 39 with value: 0.1211987915959803.\n",
      "[I 2025-06-02 15:47:49,983] Trial 41 finished with value: 0.11996329554415049 and parameters: {'n_estimators': 464, 'max_depth': 7, 'learning_rate': 0.002795788327185712, 'subsample': 0.8176090932139811, 'colsample_bytree': 0.5442789992056806, 'gamma': 4.657321730789701, 'reg_alpha': 8.33119067576704, 'reg_lambda': 4.118085775950511}. Best is trial 39 with value: 0.1211987915959803.\n",
      "[I 2025-06-02 15:47:51,874] Trial 42 finished with value: 0.0988883584199882 and parameters: {'n_estimators': 457, 'max_depth': 6, 'learning_rate': 0.0014215470159328095, 'subsample': 0.8866720921178785, 'colsample_bytree': 0.5001675096074479, 'gamma': 4.209732413758377, 'reg_alpha': 8.162116875524237, 'reg_lambda': 4.262025633408483}. Best is trial 39 with value: 0.1211987915959803.\n",
      "[I 2025-06-02 15:47:53,881] Trial 43 finished with value: 0.11519667560908294 and parameters: {'n_estimators': 401, 'max_depth': 7, 'learning_rate': 0.002990135920413417, 'subsample': 0.8076890433195993, 'colsample_bytree': 0.5348576448771584, 'gamma': 4.627930440395835, 'reg_alpha': 8.171467498336622, 'reg_lambda': 2.4479283957369433}. Best is trial 39 with value: 0.1211987915959803.\n",
      "[I 2025-06-02 15:47:55,100] Trial 44 finished with value: 0.12010391718038338 and parameters: {'n_estimators': 240, 'max_depth': 7, 'learning_rate': 0.004393766586939769, 'subsample': 0.8241185638684921, 'colsample_bytree': 0.5404854568595678, 'gamma': 4.594426985320548, 'reg_alpha': 8.43059523564873, 'reg_lambda': 2.3633362669491804}. Best is trial 39 with value: 0.1211987915959803.\n",
      "[I 2025-06-02 15:47:55,997] Trial 45 finished with value: 0.08432157637950763 and parameters: {'n_estimators': 254, 'max_depth': 5, 'learning_rate': 0.004348109962233604, 'subsample': 0.8166415045793962, 'colsample_bytree': 0.5363920864718518, 'gamma': 4.716897574927792, 'reg_alpha': 8.289903635038812, 'reg_lambda': 1.5764205398997175}. Best is trial 39 with value: 0.1211987915959803.\n",
      "[I 2025-06-02 15:47:57,105] Trial 46 finished with value: 0.10809971960058154 and parameters: {'n_estimators': 205, 'max_depth': 7, 'learning_rate': 0.007480116573963021, 'subsample': 0.8514303175485054, 'colsample_bytree': 0.5903196027040961, 'gamma': 4.601745551158837, 'reg_alpha': 6.7634567075756635, 'reg_lambda': 2.3112071021840306}. Best is trial 39 with value: 0.1211987915959803.\n",
      "[I 2025-06-02 15:47:58,917] Trial 47 finished with value: 0.06503834830994847 and parameters: {'n_estimators': 345, 'max_depth': 6, 'learning_rate': 0.012309979759707887, 'subsample': 0.8827511053116965, 'colsample_bytree': 0.6399633910966517, 'gamma': 4.88681720234775, 'reg_alpha': 7.959136623121514, 'reg_lambda': 9.943019267014174}. Best is trial 39 with value: 0.1211987915959803.\n",
      "[I 2025-06-02 15:48:01,126] Trial 48 finished with value: 0.06704821074945726 and parameters: {'n_estimators': 402, 'max_depth': 7, 'learning_rate': 0.003241394315823396, 'subsample': 0.9387751281721941, 'colsample_bytree': 0.5346590026314747, 'gamma': 4.434495770137685, 'reg_alpha': 5.616363573437564, 'reg_lambda': 0.4055837697194775}. Best is trial 39 with value: 0.1211987915959803.\n",
      "[I 2025-06-02 15:48:01,868] Trial 49 finished with value: 0.11900907460778534 and parameters: {'n_estimators': 130, 'max_depth': 6, 'learning_rate': 0.0090056121981519, 'subsample': 0.8222908678841844, 'colsample_bytree': 0.5256033244812242, 'gamma': 0.8171476210390889, 'reg_alpha': 3.8635685053532702, 'reg_lambda': 3.2547666572878864}. Best is trial 39 with value: 0.1211987915959803.\n",
      "[I 2025-06-02 15:48:02,534] Trial 50 finished with value: 0.10265693553743968 and parameters: {'n_estimators': 129, 'max_depth': 6, 'learning_rate': 0.005808259503326772, 'subsample': 0.8432520575305678, 'colsample_bytree': 0.579288904037079, 'gamma': 0.083114649722973, 'reg_alpha': 3.942417605331776, 'reg_lambda': 3.1997427183178515}. Best is trial 39 with value: 0.1211987915959803.\n",
      "[I 2025-06-02 15:48:03,754] Trial 51 finished with value: 0.12397172360983641 and parameters: {'n_estimators': 222, 'max_depth': 7, 'learning_rate': 0.005007289565355928, 'subsample': 0.8222168735518272, 'colsample_bytree': 0.5215142883338141, 'gamma': 4.986435749526918, 'reg_alpha': 2.7519715023733937, 'reg_lambda': 2.3779477891635925}. Best is trial 51 with value: 0.12397172360983641.\n",
      "[I 2025-06-02 15:48:04,577] Trial 52 finished with value: 0.09325033381660902 and parameters: {'n_estimators': 175, 'max_depth': 6, 'learning_rate': 0.009669831671909228, 'subsample': 0.8749123416646389, 'colsample_bytree': 0.5257112997695934, 'gamma': 4.966865897877122, 'reg_alpha': 2.6730959866594985, 'reg_lambda': 1.9478520821871195}. Best is trial 51 with value: 0.12397172360983641.\n",
      "[I 2025-06-02 15:48:06,027] Trial 53 finished with value: 0.11852638309858761 and parameters: {'n_estimators': 225, 'max_depth': 8, 'learning_rate': 0.0049115935630790015, 'subsample': 0.9154393679741947, 'colsample_bytree': 0.6055538013722197, 'gamma': 0.7728809516052322, 'reg_alpha': 2.467639324098031, 'reg_lambda': 1.4508744294475062}. Best is trial 51 with value: 0.12397172360983641.\n",
      "[I 2025-06-02 15:48:06,504] Trial 54 finished with value: 0.10020086134633237 and parameters: {'n_estimators': 111, 'max_depth': 5, 'learning_rate': 0.008938836393605426, 'subsample': 0.8331512420995918, 'colsample_bytree': 0.5649379837894826, 'gamma': 4.166648243203569, 'reg_alpha': 3.0750301637477273, 'reg_lambda': 3.43617846929928}. Best is trial 51 with value: 0.12397172360983641.\n",
      "[I 2025-06-02 15:48:08,064] Trial 55 finished with value: 0.038620497473291125 and parameters: {'n_estimators': 303, 'max_depth': 7, 'learning_rate': 0.006929437889983362, 'subsample': 0.8062065353916259, 'colsample_bytree': 0.5184801505175953, 'gamma': 0.5710474309790321, 'reg_alpha': 4.251248302868487, 'reg_lambda': 0.6791935643204823}. Best is trial 51 with value: 0.12397172360983641.\n",
      "[I 2025-06-02 15:48:09,235] Trial 56 finished with value: 0.10597776337194635 and parameters: {'n_estimators': 233, 'max_depth': 6, 'learning_rate': 0.0035911964686079247, 'subsample': 0.871925204054398, 'colsample_bytree': 0.5814864822153021, 'gamma': 4.8183952072981215, 'reg_alpha': 3.5160619427466697, 'reg_lambda': 3.8830927114297316}. Best is trial 51 with value: 0.12397172360983641.\n",
      "[I 2025-06-02 15:48:10,081] Trial 57 finished with value: 0.0697243322744141 and parameters: {'n_estimators': 140, 'max_depth': 8, 'learning_rate': 0.0024268643083751058, 'subsample': 0.7719758143010981, 'colsample_bytree': 0.5508419145272693, 'gamma': 4.998484877776299, 'reg_alpha': 0.31988900808428156, 'reg_lambda': 2.928062908372035}. Best is trial 51 with value: 0.12397172360983641.\n",
      "[I 2025-06-02 15:48:11,089] Trial 58 finished with value: 0.08695443626839157 and parameters: {'n_estimators': 201, 'max_depth': 7, 'learning_rate': 0.014825602578910888, 'subsample': 0.9063831062395669, 'colsample_bytree': 0.5125910603951198, 'gamma': 4.512275746708303, 'reg_alpha': 2.253481490296807, 'reg_lambda': 4.910705439758539}. Best is trial 51 with value: 0.12397172360983641.\n",
      "[I 2025-06-02 15:48:12,257] Trial 59 finished with value: 0.03904997063551328 and parameters: {'n_estimators': 338, 'max_depth': 4, 'learning_rate': 0.005798036605178581, 'subsample': 0.8281562695597258, 'colsample_bytree': 0.6636770238659282, 'gamma': 4.060702441645976, 'reg_alpha': 1.6286700171492419, 'reg_lambda': 1.8673762762064448}. Best is trial 51 with value: 0.12397172360983641.\n",
      "[I 2025-06-02 15:48:13,110] Trial 60 finished with value: 0.03873346066159903 and parameters: {'n_estimators': 161, 'max_depth': 6, 'learning_rate': 0.022659895233405888, 'subsample': 0.7403757380100017, 'colsample_bytree': 0.6211367037891691, 'gamma': 4.317397505637959, 'reg_alpha': 3.497389506131852, 'reg_lambda': 3.536676243725181}. Best is trial 51 with value: 0.12397172360983641.\n",
      "[I 2025-06-02 15:48:14,954] Trial 61 finished with value: 0.10362974352415517 and parameters: {'n_estimators': 293, 'max_depth': 8, 'learning_rate': 0.004678817089637161, 'subsample': 0.9305807556713432, 'colsample_bytree': 0.5930187306948982, 'gamma': 0.8893995331174276, 'reg_alpha': 0.932559444861254, 'reg_lambda': 1.346392399414219}. Best is trial 51 with value: 0.12397172360983641.\n",
      "[I 2025-06-02 15:48:16,199] Trial 62 finished with value: 0.1112847836129908 and parameters: {'n_estimators': 234, 'max_depth': 7, 'learning_rate': 0.003911405916922058, 'subsample': 0.9598870809555586, 'colsample_bytree': 0.5484055936087736, 'gamma': 0.4758254588783859, 'reg_alpha': 2.6374271938941938, 'reg_lambda': 1.434175808552685}. Best is trial 51 with value: 0.12397172360983641.\n",
      "[I 2025-06-02 15:48:17,821] Trial 63 finished with value: 0.11475589664103543 and parameters: {'n_estimators': 234, 'max_depth': 8, 'learning_rate': 0.0051998093715094115, 'subsample': 0.908674045037687, 'colsample_bytree': 0.6123267666437912, 'gamma': 0.6883516922505225, 'reg_alpha': 2.1429394997092306, 'reg_lambda': 2.4003847101789564}. Best is trial 51 with value: 0.12397172360983641.\n",
      "[I 2025-06-02 15:48:19,189] Trial 64 finished with value: 0.09290498916766741 and parameters: {'n_estimators': 207, 'max_depth': 8, 'learning_rate': 0.006398721763452909, 'subsample': 0.8585688700904851, 'colsample_bytree': 0.5686564390115445, 'gamma': 0.8969327618636516, 'reg_alpha': 4.378295345638177, 'reg_lambda': 0.7063283056747505}. Best is trial 51 with value: 0.12397172360983641.\n",
      "[I 2025-06-02 15:48:20,720] Trial 65 finished with value: 0.06915160753821663 and parameters: {'n_estimators': 267, 'max_depth': 7, 'learning_rate': 0.001266482494554445, 'subsample': 0.8965880118983727, 'colsample_bytree': 0.5216864379112834, 'gamma': 0.34786937038352467, 'reg_alpha': 9.505309560999581, 'reg_lambda': 2.5843046598650257}. Best is trial 51 with value: 0.12397172360983641.\n",
      "[I 2025-06-02 15:48:21,865] Trial 66 finished with value: 0.11116616048018813 and parameters: {'n_estimators': 174, 'max_depth': 8, 'learning_rate': 0.008391072789963629, 'subsample': 0.8189403029240625, 'colsample_bytree': 0.5040597282595796, 'gamma': 1.545905767980903, 'reg_alpha': 3.831527656507224, 'reg_lambda': 1.9543521383236315}. Best is trial 51 with value: 0.12397172360983641.\n",
      "[I 2025-06-02 15:48:23,499] Trial 67 finished with value: 0.0929996316679371 and parameters: {'n_estimators': 323, 'max_depth': 6, 'learning_rate': 0.0032247056068619388, 'subsample': 0.7817994723209845, 'colsample_bytree': 0.602800697839233, 'gamma': 2.3394387433808315, 'reg_alpha': 1.2546584306657258, 'reg_lambda': 1.0702742452714777}. Best is trial 51 with value: 0.12397172360983641.\n",
      "[I 2025-06-02 15:48:24,294] Trial 68 finished with value: 0.06974644229955132 and parameters: {'n_estimators': 146, 'max_depth': 7, 'learning_rate': 0.002404738087058846, 'subsample': 0.9255534659608494, 'colsample_bytree': 0.5411250245594386, 'gamma': 4.782029795778321, 'reg_alpha': 4.740187131446988, 'reg_lambda': 3.074933088868478}. Best is trial 51 with value: 0.12397172360983641.\n",
      "[I 2025-06-02 15:48:26,352] Trial 69 finished with value: 0.11194767506186927 and parameters: {'n_estimators': 357, 'max_depth': 8, 'learning_rate': 0.003862857220932643, 'subsample': 0.8423017288195334, 'colsample_bytree': 0.568363500965832, 'gamma': 4.558374951363537, 'reg_alpha': 2.7549994709147057, 'reg_lambda': 2.229827856671673}. Best is trial 51 with value: 0.12397172360983641.\n",
      "[I 2025-06-02 15:48:28,441] Trial 70 finished with value: 0.1093839315188595 and parameters: {'n_estimators': 516, 'max_depth': 6, 'learning_rate': 0.001710892585811827, 'subsample': 0.7995239900632207, 'colsample_bytree': 0.5235076288382058, 'gamma': 3.271492710828735, 'reg_alpha': 8.663565716683575, 'reg_lambda': 4.290399519852133}. Best is trial 51 with value: 0.12397172360983641.\n",
      "[I 2025-06-02 15:48:30,610] Trial 71 finished with value: 0.11470633913345592 and parameters: {'n_estimators': 430, 'max_depth': 7, 'learning_rate': 0.0029111718296387663, 'subsample': 0.8134839471407477, 'colsample_bytree': 0.5267956591062328, 'gamma': 4.609499319806545, 'reg_alpha': 7.226235125698843, 'reg_lambda': 2.47154175378752}. Best is trial 51 with value: 0.12397172360983641.\n",
      "[I 2025-06-02 15:48:33,054] Trial 72 finished with value: 0.1186862505802833 and parameters: {'n_estimators': 455, 'max_depth': 7, 'learning_rate': 0.002099962714438758, 'subsample': 0.8651200635740903, 'colsample_bytree': 0.5598889260452679, 'gamma': 4.400781558233188, 'reg_alpha': 8.503810531162275, 'reg_lambda': 2.8636077908952653}. Best is trial 51 with value: 0.12397172360983641.\n",
      "[I 2025-06-02 15:48:35,413] Trial 73 finished with value: 0.11711482454090012 and parameters: {'n_estimators': 452, 'max_depth': 7, 'learning_rate': 0.0020058501121731774, 'subsample': 0.8702351449968185, 'colsample_bytree': 0.5583659215057873, 'gamma': 3.899530992855083, 'reg_alpha': 9.28633468391175, 'reg_lambda': 2.7726587089398946}. Best is trial 51 with value: 0.12397172360983641.\n",
      "[I 2025-06-02 15:48:38,579] Trial 74 finished with value: 0.07934231198356038 and parameters: {'n_estimators': 499, 'max_depth': 8, 'learning_rate': 0.0052306098620494195, 'subsample': 0.8929875531760033, 'colsample_bytree': 0.5801407392955763, 'gamma': 4.257419667255754, 'reg_alpha': 8.492240044129128, 'reg_lambda': 4.5512005878155986}. Best is trial 51 with value: 0.12397172360983641.\n",
      "[I 2025-06-02 15:48:39,595] Trial 75 finished with value: 0.09214509713534338 and parameters: {'n_estimators': 192, 'max_depth': 7, 'learning_rate': 0.0025739523836725113, 'subsample': 0.9457797245160624, 'colsample_bytree': 0.5423346750301404, 'gamma': 4.373530234139452, 'reg_alpha': 7.906736304574856, 'reg_lambda': 3.3457423571979876}. Best is trial 51 with value: 0.12397172360983641.\n",
      "[I 2025-06-02 15:48:44,464] Trial 76 finished with value: 0.08834420411765717 and parameters: {'n_estimators': 987, 'max_depth': 6, 'learning_rate': 0.00219515944706371, 'subsample': 0.8479089114393993, 'colsample_bytree': 0.6362704826434612, 'gamma': 4.8573614559749165, 'reg_alpha': 2.3645027637279883, 'reg_lambda': 3.9335157119436537}. Best is trial 51 with value: 0.12397172360983641.\n",
      "[I 2025-06-02 15:48:44,996] Trial 77 finished with value: 0.06328197740419171 and parameters: {'n_estimators': 115, 'max_depth': 5, 'learning_rate': 0.004169899999196845, 'subsample': 0.917205432072597, 'colsample_bytree': 0.5074860442572052, 'gamma': 1.0557853700559576, 'reg_alpha': 3.288739129689768, 'reg_lambda': 1.700355955594623}. Best is trial 51 with value: 0.12397172360983641.\n",
      "[I 2025-06-02 15:48:47,747] Trial 78 finished with value: 0.10081915075553485 and parameters: {'n_estimators': 418, 'max_depth': 8, 'learning_rate': 0.001203345148051562, 'subsample': 0.965508444024986, 'colsample_bytree': 0.558301909681959, 'gamma': 4.503447804416417, 'reg_alpha': 8.919843902131502, 'reg_lambda': 3.0087993672051483}. Best is trial 51 with value: 0.12397172360983641.\n",
      "[I 2025-06-02 15:48:50,294] Trial 79 finished with value: -0.18621382936082062 and parameters: {'n_estimators': 380, 'max_depth': 7, 'learning_rate': 0.14222024318767149, 'subsample': 0.7321458549431227, 'colsample_bytree': 0.5688593836943173, 'gamma': 2.826091744778451, 'reg_alpha': 6.956374366237077, 'reg_lambda': 5.1320552302447}. Best is trial 51 with value: 0.12397172360983641.\n",
      "[I 2025-06-02 15:48:53,579] Trial 80 finished with value: 0.11229737312873515 and parameters: {'n_estimators': 458, 'max_depth': 9, 'learning_rate': 0.0017453464149079852, 'subsample': 0.7729246789356056, 'colsample_bytree': 0.6079598549434849, 'gamma': 4.084809017201092, 'reg_alpha': 8.42686138784165, 'reg_lambda': 3.6594034192415767}. Best is trial 51 with value: 0.12397172360983641.\n",
      "[I 2025-06-02 15:48:56,284] Trial 81 finished with value: 0.11567788710226683 and parameters: {'n_estimators': 531, 'max_depth': 7, 'learning_rate': 0.002043541456017275, 'subsample': 0.8623716983062374, 'colsample_bytree': 0.5535221700396078, 'gamma': 4.721695805068907, 'reg_alpha': 9.218872830175316, 'reg_lambda': 2.64188910650536}. Best is trial 51 with value: 0.12397172360983641.\n",
      "[I 2025-06-02 15:48:58,422] Trial 82 finished with value: 0.10385972583163874 and parameters: {'n_estimators': 440, 'max_depth': 7, 'learning_rate': 0.0033127505174105863, 'subsample': 0.8739178335251231, 'colsample_bytree': 0.5350826412639239, 'gamma': 3.7711712197100553, 'reg_alpha': 9.611142759485666, 'reg_lambda': 2.07244885303355}. Best is trial 51 with value: 0.12397172360983641.\n",
      "[I 2025-06-02 15:49:01,021] Trial 83 finished with value: 0.12352129811787478 and parameters: {'n_estimators': 458, 'max_depth': 8, 'learning_rate': 0.002123278148847738, 'subsample': 0.8334845026461891, 'colsample_bytree': 0.5137773152042469, 'gamma': 3.880487439583013, 'reg_alpha': 9.334864236037712, 'reg_lambda': 2.878624504461681}. Best is trial 51 with value: 0.12397172360983641.\n",
      "[I 2025-06-02 15:49:04,503] Trial 84 finished with value: 0.11694323605825149 and parameters: {'n_estimators': 592, 'max_depth': 8, 'learning_rate': 0.0014335072212078505, 'subsample': 0.8390309685235151, 'colsample_bytree': 0.5122292990254491, 'gamma': 4.454734611172205, 'reg_alpha': 7.746672794900942, 'reg_lambda': 1.324048193863748}. Best is trial 51 with value: 0.12397172360983641.\n",
      "[I 2025-06-02 15:49:07,293] Trial 85 finished with value: 0.07451798800034437 and parameters: {'n_estimators': 487, 'max_depth': 8, 'learning_rate': 0.004726014240436842, 'subsample': 0.8297826033733184, 'colsample_bytree': 0.5287404207417745, 'gamma': 4.835978253752296, 'reg_alpha': 9.866501255868593, 'reg_lambda': 2.847247902649221}. Best is trial 51 with value: 0.12397172360983641.\n",
      "[I 2025-06-02 15:49:09,106] Trial 86 finished with value: 0.11911133488372957 and parameters: {'n_estimators': 303, 'max_depth': 9, 'learning_rate': 0.0027819584261963427, 'subsample': 0.796377866830075, 'colsample_bytree': 0.5004027381416783, 'gamma': 3.924302124150278, 'reg_alpha': 8.017986472227545, 'reg_lambda': 4.112874920183179}. Best is trial 51 with value: 0.12397172360983641.\n",
      "[I 2025-06-02 15:49:11,007] Trial 87 finished with value: 0.11269316778773728 and parameters: {'n_estimators': 314, 'max_depth': 9, 'learning_rate': 0.002301240629767227, 'subsample': 0.7956237466067383, 'colsample_bytree': 0.5009729844728117, 'gamma': 3.5663936840145607, 'reg_alpha': 8.044488008078062, 'reg_lambda': 4.089836061770403}. Best is trial 51 with value: 0.12397172360983641.\n",
      "[I 2025-06-02 15:49:12,672] Trial 88 finished with value: 0.1215205525642729 and parameters: {'n_estimators': 277, 'max_depth': 9, 'learning_rate': 0.003060290807255995, 'subsample': 0.8232154395225161, 'colsample_bytree': 0.512321981346011, 'gamma': 3.930387942225103, 'reg_alpha': 8.646764623396976, 'reg_lambda': 3.327449006207008}. Best is trial 51 with value: 0.12397172360983641.\n",
      "[I 2025-06-02 15:49:14,900] Trial 89 finished with value: 0.11943660576740082 and parameters: {'n_estimators': 330, 'max_depth': 10, 'learning_rate': 0.0028471134425424225, 'subsample': 0.7582077663556135, 'colsample_bytree': 0.50040568048833, 'gamma': 3.459102584151225, 'reg_alpha': 9.114734158389334, 'reg_lambda': 4.764518538919681}. Best is trial 51 with value: 0.12397172360983641.\n",
      "[I 2025-06-02 15:49:16,645] Trial 90 finished with value: 0.11489498522542743 and parameters: {'n_estimators': 274, 'max_depth': 10, 'learning_rate': 0.003004484032900883, 'subsample': 0.7810536271838913, 'colsample_bytree': 0.5000840515923086, 'gamma': 3.9309877138759597, 'reg_alpha': 8.774620388080622, 'reg_lambda': 5.510892109052072}. Best is trial 51 with value: 0.12397172360983641.\n",
      "[I 2025-06-02 15:49:19,189] Trial 91 finished with value: 0.12156770910643751 and parameters: {'n_estimators': 335, 'max_depth': 10, 'learning_rate': 0.003563777494255956, 'subsample': 0.7623664999756439, 'colsample_bytree': 0.5165986324757802, 'gamma': 3.405465055150592, 'reg_alpha': 9.098942821060916, 'reg_lambda': 4.805715651230115}. Best is trial 51 with value: 0.12397172360983641.\n",
      "[I 2025-06-02 15:49:21,831] Trial 92 finished with value: 0.11244184373001014 and parameters: {'n_estimators': 333, 'max_depth': 11, 'learning_rate': 0.002671740890755286, 'subsample': 0.7515530929658376, 'colsample_bytree': 0.5148422764091006, 'gamma': 3.643557005967788, 'reg_alpha': 9.010514748377146, 'reg_lambda': 4.77143346696713}. Best is trial 51 with value: 0.12397172360983641.\n",
      "[I 2025-06-02 15:49:23,883] Trial 93 finished with value: 0.1266584598836932 and parameters: {'n_estimators': 291, 'max_depth': 10, 'learning_rate': 0.003931729804077532, 'subsample': 0.7593677304426545, 'colsample_bytree': 0.5439763574618138, 'gamma': 3.2867758121918293, 'reg_alpha': 9.393283579098593, 'reg_lambda': 4.549767605821109}. Best is trial 93 with value: 0.1266584598836932.\n",
      "[I 2025-06-02 15:49:26,524] Trial 94 finished with value: 0.11867481799323829 and parameters: {'n_estimators': 366, 'max_depth': 10, 'learning_rate': 0.0037406258878727667, 'subsample': 0.7677535015236328, 'colsample_bytree': 0.538178040504538, 'gamma': 3.493961550573329, 'reg_alpha': 9.70386874191505, 'reg_lambda': 4.924921237726991}. Best is trial 93 with value: 0.1266584598836932.\n",
      "[I 2025-06-02 15:49:29,415] Trial 95 finished with value: 0.11738392772236592 and parameters: {'n_estimators': 412, 'max_depth': 10, 'learning_rate': 0.0033818508457433122, 'subsample': 0.7204623993708512, 'colsample_bytree': 0.5191188571933316, 'gamma': 3.3235944742449113, 'reg_alpha': 9.422436778959645, 'reg_lambda': 4.421788630552995}. Best is trial 93 with value: 0.1266584598836932.\n",
      "[I 2025-06-02 15:49:31,432] Trial 96 finished with value: 0.07224196796429587 and parameters: {'n_estimators': 251, 'max_depth': 10, 'learning_rate': 0.0016895514661942116, 'subsample': 0.6804081495610672, 'colsample_bytree': 0.5877505456076737, 'gamma': 3.1107809999952885, 'reg_alpha': 9.399334132743542, 'reg_lambda': 6.136373964147524}. Best is trial 93 with value: 0.1266584598836932.\n",
      "[I 2025-06-02 15:49:34,071] Trial 97 finished with value: 0.12567788706774552 and parameters: {'n_estimators': 296, 'max_depth': 11, 'learning_rate': 0.004325871117075253, 'subsample': 0.6939553747035309, 'colsample_bytree': 0.5441978801727166, 'gamma': 2.9719862425036854, 'reg_alpha': 9.996818325392939, 'reg_lambda': 5.068124141600987}. Best is trial 93 with value: 0.1266584598836932.\n",
      "[I 2025-06-02 15:49:36,570] Trial 98 finished with value: 0.10740532747629464 and parameters: {'n_estimators': 279, 'max_depth': 12, 'learning_rate': 0.006393849997705274, 'subsample': 0.690529258373598, 'colsample_bytree': 0.5746803320615357, 'gamma': 2.979621266997469, 'reg_alpha': 9.948863606972827, 'reg_lambda': 5.57270075399633}. Best is trial 93 with value: 0.1266584598836932.\n",
      "[I 2025-06-02 15:49:38,516] Trial 99 finished with value: 0.11839822231300227 and parameters: {'n_estimators': 256, 'max_depth': 11, 'learning_rate': 0.0041759777125613745, 'subsample': 0.8063152331212867, 'colsample_bytree': 0.5468536879215309, 'gamma': 2.6868293352914923, 'reg_alpha': 8.734493004605904, 'reg_lambda': 6.852497578163174}. Best is trial 93 with value: 0.1266584598836932.\n"
     ]
    }
   ],
   "source": [
    "study_xgb = optuna.create_study(\n",
    "    direction='maximize',\n",
    "    sampler=TPESampler(seed=RANDOM_STATE)\n",
    ")\n",
    "study_xgb.optimize(optimize_xgb, n_trials=N_TRIALS_XGB)"
   ]
  },
  {
   "cell_type": "code",
   "execution_count": 101,
   "id": "d4b4101f",
   "metadata": {},
   "outputs": [
    {
     "name": "stdout",
     "output_type": "stream",
     "text": [
      "Лучшие параметры для XGBoost:\n",
      "{'n_estimators': 291, 'max_depth': 10, 'learning_rate': 0.003931729804077532, 'subsample': 0.7593677304426545, 'colsample_bytree': 0.5439763574618138, 'gamma': 3.2867758121918293, 'reg_alpha': 9.393283579098593, 'reg_lambda': 4.549767605821109}\n",
      "Лучший R2: 0.1267\n"
     ]
    },
    {
     "data": {
      "application/vnd.plotly.v1+json": {
       "config": {
        "plotlyServerURL": "https://plot.ly"
       },
       "data": [
        {
         "mode": "markers",
         "name": "Objective Value",
         "type": "scatter",
         "x": [
          0,
          1,
          2,
          3,
          4,
          5,
          6,
          7,
          8,
          9,
          10,
          11,
          12,
          13,
          14,
          15,
          16,
          17,
          18,
          19,
          20,
          21,
          22,
          23,
          24,
          25,
          26,
          27,
          28,
          29,
          30,
          31,
          32,
          33,
          34,
          35,
          36,
          37,
          38,
          39,
          40,
          41,
          42,
          43,
          44,
          45,
          46,
          47,
          48,
          49,
          50,
          51,
          52,
          53,
          54,
          55,
          56,
          57,
          58,
          59,
          60,
          61,
          62,
          63,
          64,
          65,
          66,
          67,
          68,
          69,
          70,
          71,
          72,
          73,
          74,
          75,
          76,
          77,
          78,
          79,
          80,
          81,
          82,
          83,
          84,
          85,
          86,
          87,
          88,
          89,
          90,
          91,
          92,
          93,
          94,
          95,
          96,
          97,
          98,
          99
         ],
         "y": [
          -0.08372649130241142,
          0.10699761691315919,
          -0.003925782406376643,
          0.08836834440860739,
          -0.0904137674088473,
          0.050273817429652846,
          -0.3263572483309452,
          0.022252747210802094,
          0.1197699307749283,
          -0.15156572464536686,
          0.023255049198174026,
          -0.36660504302277913,
          0.09330516297633493,
          0.08645351269136907,
          -0.10465138970572978,
          -0.0932810704068043,
          0.10028409004416095,
          -0.0720854704272844,
          -0.07573698831549644,
          0.10729607058097938,
          0.024598804175153078,
          0.10864794113885916,
          0.10613920077810537,
          0.036222928015740785,
          0.11042249591290795,
          0.10864335073525049,
          0.1123348984599171,
          0.06831544438658474,
          -0.14699226016862033,
          0.10307352799470593,
          0.07846149964725066,
          0.1118117389411634,
          0.10118645836569473,
          0.10103803809385385,
          -0.3527017184778588,
          0.08159961636637525,
          0.03338683861802187,
          0.11147764258225672,
          0.07247204902653462,
          0.1211987915959803,
          -0.06089571178284461,
          0.11996329554415049,
          0.0988883584199882,
          0.11519667560908294,
          0.12010391718038338,
          0.08432157637950763,
          0.10809971960058154,
          0.06503834830994847,
          0.06704821074945726,
          0.11900907460778534,
          0.10265693553743968,
          0.12397172360983641,
          0.09325033381660902,
          0.11852638309858761,
          0.10020086134633237,
          0.038620497473291125,
          0.10597776337194635,
          0.0697243322744141,
          0.08695443626839157,
          0.03904997063551328,
          0.03873346066159903,
          0.10362974352415517,
          0.1112847836129908,
          0.11475589664103543,
          0.09290498916766741,
          0.06915160753821663,
          0.11116616048018813,
          0.0929996316679371,
          0.06974644229955132,
          0.11194767506186927,
          0.1093839315188595,
          0.11470633913345592,
          0.1186862505802833,
          0.11711482454090012,
          0.07934231198356038,
          0.09214509713534338,
          0.08834420411765717,
          0.06328197740419171,
          0.10081915075553485,
          -0.18621382936082062,
          0.11229737312873515,
          0.11567788710226683,
          0.10385972583163874,
          0.12352129811787478,
          0.11694323605825149,
          0.07451798800034437,
          0.11911133488372957,
          0.11269316778773728,
          0.1215205525642729,
          0.11943660576740082,
          0.11489498522542743,
          0.12156770910643751,
          0.11244184373001014,
          0.1266584598836932,
          0.11867481799323829,
          0.11738392772236592,
          0.07224196796429587,
          0.12567788706774552,
          0.10740532747629464,
          0.11839822231300227
         ]
        },
        {
         "mode": "lines",
         "name": "Best Value",
         "type": "scatter",
         "x": [
          0,
          1,
          2,
          3,
          4,
          5,
          6,
          7,
          8,
          9,
          10,
          11,
          12,
          13,
          14,
          15,
          16,
          17,
          18,
          19,
          20,
          21,
          22,
          23,
          24,
          25,
          26,
          27,
          28,
          29,
          30,
          31,
          32,
          33,
          34,
          35,
          36,
          37,
          38,
          39,
          40,
          41,
          42,
          43,
          44,
          45,
          46,
          47,
          48,
          49,
          50,
          51,
          52,
          53,
          54,
          55,
          56,
          57,
          58,
          59,
          60,
          61,
          62,
          63,
          64,
          65,
          66,
          67,
          68,
          69,
          70,
          71,
          72,
          73,
          74,
          75,
          76,
          77,
          78,
          79,
          80,
          81,
          82,
          83,
          84,
          85,
          86,
          87,
          88,
          89,
          90,
          91,
          92,
          93,
          94,
          95,
          96,
          97,
          98,
          99
         ],
         "y": [
          -0.08372649130241142,
          0.10699761691315919,
          0.10699761691315919,
          0.10699761691315919,
          0.10699761691315919,
          0.10699761691315919,
          0.10699761691315919,
          0.10699761691315919,
          0.1197699307749283,
          0.1197699307749283,
          0.1197699307749283,
          0.1197699307749283,
          0.1197699307749283,
          0.1197699307749283,
          0.1197699307749283,
          0.1197699307749283,
          0.1197699307749283,
          0.1197699307749283,
          0.1197699307749283,
          0.1197699307749283,
          0.1197699307749283,
          0.1197699307749283,
          0.1197699307749283,
          0.1197699307749283,
          0.1197699307749283,
          0.1197699307749283,
          0.1197699307749283,
          0.1197699307749283,
          0.1197699307749283,
          0.1197699307749283,
          0.1197699307749283,
          0.1197699307749283,
          0.1197699307749283,
          0.1197699307749283,
          0.1197699307749283,
          0.1197699307749283,
          0.1197699307749283,
          0.1197699307749283,
          0.1197699307749283,
          0.1211987915959803,
          0.1211987915959803,
          0.1211987915959803,
          0.1211987915959803,
          0.1211987915959803,
          0.1211987915959803,
          0.1211987915959803,
          0.1211987915959803,
          0.1211987915959803,
          0.1211987915959803,
          0.1211987915959803,
          0.1211987915959803,
          0.12397172360983641,
          0.12397172360983641,
          0.12397172360983641,
          0.12397172360983641,
          0.12397172360983641,
          0.12397172360983641,
          0.12397172360983641,
          0.12397172360983641,
          0.12397172360983641,
          0.12397172360983641,
          0.12397172360983641,
          0.12397172360983641,
          0.12397172360983641,
          0.12397172360983641,
          0.12397172360983641,
          0.12397172360983641,
          0.12397172360983641,
          0.12397172360983641,
          0.12397172360983641,
          0.12397172360983641,
          0.12397172360983641,
          0.12397172360983641,
          0.12397172360983641,
          0.12397172360983641,
          0.12397172360983641,
          0.12397172360983641,
          0.12397172360983641,
          0.12397172360983641,
          0.12397172360983641,
          0.12397172360983641,
          0.12397172360983641,
          0.12397172360983641,
          0.12397172360983641,
          0.12397172360983641,
          0.12397172360983641,
          0.12397172360983641,
          0.12397172360983641,
          0.12397172360983641,
          0.12397172360983641,
          0.12397172360983641,
          0.12397172360983641,
          0.12397172360983641,
          0.1266584598836932,
          0.1266584598836932,
          0.1266584598836932,
          0.1266584598836932,
          0.1266584598836932,
          0.1266584598836932,
          0.1266584598836932
         ]
        },
        {
         "marker": {
          "color": "#cccccc"
         },
         "mode": "markers",
         "name": "Infeasible Trial",
         "showlegend": false,
         "type": "scatter",
         "x": [],
         "y": []
        }
       ],
       "layout": {
        "template": {
         "data": {
          "bar": [
           {
            "error_x": {
             "color": "#2a3f5f"
            },
            "error_y": {
             "color": "#2a3f5f"
            },
            "marker": {
             "line": {
              "color": "#E5ECF6",
              "width": 0.5
             },
             "pattern": {
              "fillmode": "overlay",
              "size": 10,
              "solidity": 0.2
             }
            },
            "type": "bar"
           }
          ],
          "barpolar": [
           {
            "marker": {
             "line": {
              "color": "#E5ECF6",
              "width": 0.5
             },
             "pattern": {
              "fillmode": "overlay",
              "size": 10,
              "solidity": 0.2
             }
            },
            "type": "barpolar"
           }
          ],
          "carpet": [
           {
            "aaxis": {
             "endlinecolor": "#2a3f5f",
             "gridcolor": "white",
             "linecolor": "white",
             "minorgridcolor": "white",
             "startlinecolor": "#2a3f5f"
            },
            "baxis": {
             "endlinecolor": "#2a3f5f",
             "gridcolor": "white",
             "linecolor": "white",
             "minorgridcolor": "white",
             "startlinecolor": "#2a3f5f"
            },
            "type": "carpet"
           }
          ],
          "choropleth": [
           {
            "colorbar": {
             "outlinewidth": 0,
             "ticks": ""
            },
            "type": "choropleth"
           }
          ],
          "contour": [
           {
            "colorbar": {
             "outlinewidth": 0,
             "ticks": ""
            },
            "colorscale": [
             [
              0,
              "#0d0887"
             ],
             [
              0.1111111111111111,
              "#46039f"
             ],
             [
              0.2222222222222222,
              "#7201a8"
             ],
             [
              0.3333333333333333,
              "#9c179e"
             ],
             [
              0.4444444444444444,
              "#bd3786"
             ],
             [
              0.5555555555555556,
              "#d8576b"
             ],
             [
              0.6666666666666666,
              "#ed7953"
             ],
             [
              0.7777777777777778,
              "#fb9f3a"
             ],
             [
              0.8888888888888888,
              "#fdca26"
             ],
             [
              1,
              "#f0f921"
             ]
            ],
            "type": "contour"
           }
          ],
          "contourcarpet": [
           {
            "colorbar": {
             "outlinewidth": 0,
             "ticks": ""
            },
            "type": "contourcarpet"
           }
          ],
          "heatmap": [
           {
            "colorbar": {
             "outlinewidth": 0,
             "ticks": ""
            },
            "colorscale": [
             [
              0,
              "#0d0887"
             ],
             [
              0.1111111111111111,
              "#46039f"
             ],
             [
              0.2222222222222222,
              "#7201a8"
             ],
             [
              0.3333333333333333,
              "#9c179e"
             ],
             [
              0.4444444444444444,
              "#bd3786"
             ],
             [
              0.5555555555555556,
              "#d8576b"
             ],
             [
              0.6666666666666666,
              "#ed7953"
             ],
             [
              0.7777777777777778,
              "#fb9f3a"
             ],
             [
              0.8888888888888888,
              "#fdca26"
             ],
             [
              1,
              "#f0f921"
             ]
            ],
            "type": "heatmap"
           }
          ],
          "histogram": [
           {
            "marker": {
             "pattern": {
              "fillmode": "overlay",
              "size": 10,
              "solidity": 0.2
             }
            },
            "type": "histogram"
           }
          ],
          "histogram2d": [
           {
            "colorbar": {
             "outlinewidth": 0,
             "ticks": ""
            },
            "colorscale": [
             [
              0,
              "#0d0887"
             ],
             [
              0.1111111111111111,
              "#46039f"
             ],
             [
              0.2222222222222222,
              "#7201a8"
             ],
             [
              0.3333333333333333,
              "#9c179e"
             ],
             [
              0.4444444444444444,
              "#bd3786"
             ],
             [
              0.5555555555555556,
              "#d8576b"
             ],
             [
              0.6666666666666666,
              "#ed7953"
             ],
             [
              0.7777777777777778,
              "#fb9f3a"
             ],
             [
              0.8888888888888888,
              "#fdca26"
             ],
             [
              1,
              "#f0f921"
             ]
            ],
            "type": "histogram2d"
           }
          ],
          "histogram2dcontour": [
           {
            "colorbar": {
             "outlinewidth": 0,
             "ticks": ""
            },
            "colorscale": [
             [
              0,
              "#0d0887"
             ],
             [
              0.1111111111111111,
              "#46039f"
             ],
             [
              0.2222222222222222,
              "#7201a8"
             ],
             [
              0.3333333333333333,
              "#9c179e"
             ],
             [
              0.4444444444444444,
              "#bd3786"
             ],
             [
              0.5555555555555556,
              "#d8576b"
             ],
             [
              0.6666666666666666,
              "#ed7953"
             ],
             [
              0.7777777777777778,
              "#fb9f3a"
             ],
             [
              0.8888888888888888,
              "#fdca26"
             ],
             [
              1,
              "#f0f921"
             ]
            ],
            "type": "histogram2dcontour"
           }
          ],
          "mesh3d": [
           {
            "colorbar": {
             "outlinewidth": 0,
             "ticks": ""
            },
            "type": "mesh3d"
           }
          ],
          "parcoords": [
           {
            "line": {
             "colorbar": {
              "outlinewidth": 0,
              "ticks": ""
             }
            },
            "type": "parcoords"
           }
          ],
          "pie": [
           {
            "automargin": true,
            "type": "pie"
           }
          ],
          "scatter": [
           {
            "fillpattern": {
             "fillmode": "overlay",
             "size": 10,
             "solidity": 0.2
            },
            "type": "scatter"
           }
          ],
          "scatter3d": [
           {
            "line": {
             "colorbar": {
              "outlinewidth": 0,
              "ticks": ""
             }
            },
            "marker": {
             "colorbar": {
              "outlinewidth": 0,
              "ticks": ""
             }
            },
            "type": "scatter3d"
           }
          ],
          "scattercarpet": [
           {
            "marker": {
             "colorbar": {
              "outlinewidth": 0,
              "ticks": ""
             }
            },
            "type": "scattercarpet"
           }
          ],
          "scattergeo": [
           {
            "marker": {
             "colorbar": {
              "outlinewidth": 0,
              "ticks": ""
             }
            },
            "type": "scattergeo"
           }
          ],
          "scattergl": [
           {
            "marker": {
             "colorbar": {
              "outlinewidth": 0,
              "ticks": ""
             }
            },
            "type": "scattergl"
           }
          ],
          "scattermap": [
           {
            "marker": {
             "colorbar": {
              "outlinewidth": 0,
              "ticks": ""
             }
            },
            "type": "scattermap"
           }
          ],
          "scattermapbox": [
           {
            "marker": {
             "colorbar": {
              "outlinewidth": 0,
              "ticks": ""
             }
            },
            "type": "scattermapbox"
           }
          ],
          "scatterpolar": [
           {
            "marker": {
             "colorbar": {
              "outlinewidth": 0,
              "ticks": ""
             }
            },
            "type": "scatterpolar"
           }
          ],
          "scatterpolargl": [
           {
            "marker": {
             "colorbar": {
              "outlinewidth": 0,
              "ticks": ""
             }
            },
            "type": "scatterpolargl"
           }
          ],
          "scatterternary": [
           {
            "marker": {
             "colorbar": {
              "outlinewidth": 0,
              "ticks": ""
             }
            },
            "type": "scatterternary"
           }
          ],
          "surface": [
           {
            "colorbar": {
             "outlinewidth": 0,
             "ticks": ""
            },
            "colorscale": [
             [
              0,
              "#0d0887"
             ],
             [
              0.1111111111111111,
              "#46039f"
             ],
             [
              0.2222222222222222,
              "#7201a8"
             ],
             [
              0.3333333333333333,
              "#9c179e"
             ],
             [
              0.4444444444444444,
              "#bd3786"
             ],
             [
              0.5555555555555556,
              "#d8576b"
             ],
             [
              0.6666666666666666,
              "#ed7953"
             ],
             [
              0.7777777777777778,
              "#fb9f3a"
             ],
             [
              0.8888888888888888,
              "#fdca26"
             ],
             [
              1,
              "#f0f921"
             ]
            ],
            "type": "surface"
           }
          ],
          "table": [
           {
            "cells": {
             "fill": {
              "color": "#EBF0F8"
             },
             "line": {
              "color": "white"
             }
            },
            "header": {
             "fill": {
              "color": "#C8D4E3"
             },
             "line": {
              "color": "white"
             }
            },
            "type": "table"
           }
          ]
         },
         "layout": {
          "annotationdefaults": {
           "arrowcolor": "#2a3f5f",
           "arrowhead": 0,
           "arrowwidth": 1
          },
          "autotypenumbers": "strict",
          "coloraxis": {
           "colorbar": {
            "outlinewidth": 0,
            "ticks": ""
           }
          },
          "colorscale": {
           "diverging": [
            [
             0,
             "#8e0152"
            ],
            [
             0.1,
             "#c51b7d"
            ],
            [
             0.2,
             "#de77ae"
            ],
            [
             0.3,
             "#f1b6da"
            ],
            [
             0.4,
             "#fde0ef"
            ],
            [
             0.5,
             "#f7f7f7"
            ],
            [
             0.6,
             "#e6f5d0"
            ],
            [
             0.7,
             "#b8e186"
            ],
            [
             0.8,
             "#7fbc41"
            ],
            [
             0.9,
             "#4d9221"
            ],
            [
             1,
             "#276419"
            ]
           ],
           "sequential": [
            [
             0,
             "#0d0887"
            ],
            [
             0.1111111111111111,
             "#46039f"
            ],
            [
             0.2222222222222222,
             "#7201a8"
            ],
            [
             0.3333333333333333,
             "#9c179e"
            ],
            [
             0.4444444444444444,
             "#bd3786"
            ],
            [
             0.5555555555555556,
             "#d8576b"
            ],
            [
             0.6666666666666666,
             "#ed7953"
            ],
            [
             0.7777777777777778,
             "#fb9f3a"
            ],
            [
             0.8888888888888888,
             "#fdca26"
            ],
            [
             1,
             "#f0f921"
            ]
           ],
           "sequentialminus": [
            [
             0,
             "#0d0887"
            ],
            [
             0.1111111111111111,
             "#46039f"
            ],
            [
             0.2222222222222222,
             "#7201a8"
            ],
            [
             0.3333333333333333,
             "#9c179e"
            ],
            [
             0.4444444444444444,
             "#bd3786"
            ],
            [
             0.5555555555555556,
             "#d8576b"
            ],
            [
             0.6666666666666666,
             "#ed7953"
            ],
            [
             0.7777777777777778,
             "#fb9f3a"
            ],
            [
             0.8888888888888888,
             "#fdca26"
            ],
            [
             1,
             "#f0f921"
            ]
           ]
          },
          "colorway": [
           "#636efa",
           "#EF553B",
           "#00cc96",
           "#ab63fa",
           "#FFA15A",
           "#19d3f3",
           "#FF6692",
           "#B6E880",
           "#FF97FF",
           "#FECB52"
          ],
          "font": {
           "color": "#2a3f5f"
          },
          "geo": {
           "bgcolor": "white",
           "lakecolor": "white",
           "landcolor": "#E5ECF6",
           "showlakes": true,
           "showland": true,
           "subunitcolor": "white"
          },
          "hoverlabel": {
           "align": "left"
          },
          "hovermode": "closest",
          "mapbox": {
           "style": "light"
          },
          "paper_bgcolor": "white",
          "plot_bgcolor": "#E5ECF6",
          "polar": {
           "angularaxis": {
            "gridcolor": "white",
            "linecolor": "white",
            "ticks": ""
           },
           "bgcolor": "#E5ECF6",
           "radialaxis": {
            "gridcolor": "white",
            "linecolor": "white",
            "ticks": ""
           }
          },
          "scene": {
           "xaxis": {
            "backgroundcolor": "#E5ECF6",
            "gridcolor": "white",
            "gridwidth": 2,
            "linecolor": "white",
            "showbackground": true,
            "ticks": "",
            "zerolinecolor": "white"
           },
           "yaxis": {
            "backgroundcolor": "#E5ECF6",
            "gridcolor": "white",
            "gridwidth": 2,
            "linecolor": "white",
            "showbackground": true,
            "ticks": "",
            "zerolinecolor": "white"
           },
           "zaxis": {
            "backgroundcolor": "#E5ECF6",
            "gridcolor": "white",
            "gridwidth": 2,
            "linecolor": "white",
            "showbackground": true,
            "ticks": "",
            "zerolinecolor": "white"
           }
          },
          "shapedefaults": {
           "line": {
            "color": "#2a3f5f"
           }
          },
          "ternary": {
           "aaxis": {
            "gridcolor": "white",
            "linecolor": "white",
            "ticks": ""
           },
           "baxis": {
            "gridcolor": "white",
            "linecolor": "white",
            "ticks": ""
           },
           "bgcolor": "#E5ECF6",
           "caxis": {
            "gridcolor": "white",
            "linecolor": "white",
            "ticks": ""
           }
          },
          "title": {
           "x": 0.05
          },
          "xaxis": {
           "automargin": true,
           "gridcolor": "white",
           "linecolor": "white",
           "ticks": "",
           "title": {
            "standoff": 15
           },
           "zerolinecolor": "white",
           "zerolinewidth": 2
          },
          "yaxis": {
           "automargin": true,
           "gridcolor": "white",
           "linecolor": "white",
           "ticks": "",
           "title": {
            "standoff": 15
           },
           "zerolinecolor": "white",
           "zerolinewidth": 2
          }
         }
        },
        "title": {
         "text": "Optimization History Plot"
        },
        "xaxis": {
         "title": {
          "text": "Trial"
         }
        },
        "yaxis": {
         "title": {
          "text": "Objective Value"
         }
        }
       }
      }
     },
     "metadata": {},
     "output_type": "display_data"
    },
    {
     "data": {
      "application/vnd.plotly.v1+json": {
       "config": {
        "plotlyServerURL": "https://plot.ly"
       },
       "data": [
        {
         "cliponaxis": false,
         "hovertemplate": [
          "n_estimators (IntDistribution): 0.0340873033310988<extra></extra>",
          "reg_lambda (FloatDistribution): 0.04591848833405651<extra></extra>",
          "max_depth (IntDistribution): 0.06374391438409865<extra></extra>",
          "reg_alpha (FloatDistribution): 0.09309162962940146<extra></extra>",
          "colsample_bytree (FloatDistribution): 0.12153230788472039<extra></extra>",
          "gamma (FloatDistribution): 0.12652273041566525<extra></extra>",
          "subsample (FloatDistribution): 0.14247106191992712<extra></extra>",
          "learning_rate (FloatDistribution): 0.37263256410103185<extra></extra>"
         ],
         "name": "Objective Value",
         "orientation": "h",
         "text": [
          "0.03",
          "0.05",
          "0.06",
          "0.09",
          "0.12",
          "0.13",
          "0.14",
          "0.37"
         ],
         "textposition": "outside",
         "type": "bar",
         "x": [
          0.0340873033310988,
          0.04591848833405651,
          0.06374391438409865,
          0.09309162962940146,
          0.12153230788472039,
          0.12652273041566525,
          0.14247106191992712,
          0.37263256410103185
         ],
         "y": [
          "n_estimators",
          "reg_lambda",
          "max_depth",
          "reg_alpha",
          "colsample_bytree",
          "gamma",
          "subsample",
          "learning_rate"
         ]
        }
       ],
       "layout": {
        "template": {
         "data": {
          "bar": [
           {
            "error_x": {
             "color": "#2a3f5f"
            },
            "error_y": {
             "color": "#2a3f5f"
            },
            "marker": {
             "line": {
              "color": "#E5ECF6",
              "width": 0.5
             },
             "pattern": {
              "fillmode": "overlay",
              "size": 10,
              "solidity": 0.2
             }
            },
            "type": "bar"
           }
          ],
          "barpolar": [
           {
            "marker": {
             "line": {
              "color": "#E5ECF6",
              "width": 0.5
             },
             "pattern": {
              "fillmode": "overlay",
              "size": 10,
              "solidity": 0.2
             }
            },
            "type": "barpolar"
           }
          ],
          "carpet": [
           {
            "aaxis": {
             "endlinecolor": "#2a3f5f",
             "gridcolor": "white",
             "linecolor": "white",
             "minorgridcolor": "white",
             "startlinecolor": "#2a3f5f"
            },
            "baxis": {
             "endlinecolor": "#2a3f5f",
             "gridcolor": "white",
             "linecolor": "white",
             "minorgridcolor": "white",
             "startlinecolor": "#2a3f5f"
            },
            "type": "carpet"
           }
          ],
          "choropleth": [
           {
            "colorbar": {
             "outlinewidth": 0,
             "ticks": ""
            },
            "type": "choropleth"
           }
          ],
          "contour": [
           {
            "colorbar": {
             "outlinewidth": 0,
             "ticks": ""
            },
            "colorscale": [
             [
              0,
              "#0d0887"
             ],
             [
              0.1111111111111111,
              "#46039f"
             ],
             [
              0.2222222222222222,
              "#7201a8"
             ],
             [
              0.3333333333333333,
              "#9c179e"
             ],
             [
              0.4444444444444444,
              "#bd3786"
             ],
             [
              0.5555555555555556,
              "#d8576b"
             ],
             [
              0.6666666666666666,
              "#ed7953"
             ],
             [
              0.7777777777777778,
              "#fb9f3a"
             ],
             [
              0.8888888888888888,
              "#fdca26"
             ],
             [
              1,
              "#f0f921"
             ]
            ],
            "type": "contour"
           }
          ],
          "contourcarpet": [
           {
            "colorbar": {
             "outlinewidth": 0,
             "ticks": ""
            },
            "type": "contourcarpet"
           }
          ],
          "heatmap": [
           {
            "colorbar": {
             "outlinewidth": 0,
             "ticks": ""
            },
            "colorscale": [
             [
              0,
              "#0d0887"
             ],
             [
              0.1111111111111111,
              "#46039f"
             ],
             [
              0.2222222222222222,
              "#7201a8"
             ],
             [
              0.3333333333333333,
              "#9c179e"
             ],
             [
              0.4444444444444444,
              "#bd3786"
             ],
             [
              0.5555555555555556,
              "#d8576b"
             ],
             [
              0.6666666666666666,
              "#ed7953"
             ],
             [
              0.7777777777777778,
              "#fb9f3a"
             ],
             [
              0.8888888888888888,
              "#fdca26"
             ],
             [
              1,
              "#f0f921"
             ]
            ],
            "type": "heatmap"
           }
          ],
          "histogram": [
           {
            "marker": {
             "pattern": {
              "fillmode": "overlay",
              "size": 10,
              "solidity": 0.2
             }
            },
            "type": "histogram"
           }
          ],
          "histogram2d": [
           {
            "colorbar": {
             "outlinewidth": 0,
             "ticks": ""
            },
            "colorscale": [
             [
              0,
              "#0d0887"
             ],
             [
              0.1111111111111111,
              "#46039f"
             ],
             [
              0.2222222222222222,
              "#7201a8"
             ],
             [
              0.3333333333333333,
              "#9c179e"
             ],
             [
              0.4444444444444444,
              "#bd3786"
             ],
             [
              0.5555555555555556,
              "#d8576b"
             ],
             [
              0.6666666666666666,
              "#ed7953"
             ],
             [
              0.7777777777777778,
              "#fb9f3a"
             ],
             [
              0.8888888888888888,
              "#fdca26"
             ],
             [
              1,
              "#f0f921"
             ]
            ],
            "type": "histogram2d"
           }
          ],
          "histogram2dcontour": [
           {
            "colorbar": {
             "outlinewidth": 0,
             "ticks": ""
            },
            "colorscale": [
             [
              0,
              "#0d0887"
             ],
             [
              0.1111111111111111,
              "#46039f"
             ],
             [
              0.2222222222222222,
              "#7201a8"
             ],
             [
              0.3333333333333333,
              "#9c179e"
             ],
             [
              0.4444444444444444,
              "#bd3786"
             ],
             [
              0.5555555555555556,
              "#d8576b"
             ],
             [
              0.6666666666666666,
              "#ed7953"
             ],
             [
              0.7777777777777778,
              "#fb9f3a"
             ],
             [
              0.8888888888888888,
              "#fdca26"
             ],
             [
              1,
              "#f0f921"
             ]
            ],
            "type": "histogram2dcontour"
           }
          ],
          "mesh3d": [
           {
            "colorbar": {
             "outlinewidth": 0,
             "ticks": ""
            },
            "type": "mesh3d"
           }
          ],
          "parcoords": [
           {
            "line": {
             "colorbar": {
              "outlinewidth": 0,
              "ticks": ""
             }
            },
            "type": "parcoords"
           }
          ],
          "pie": [
           {
            "automargin": true,
            "type": "pie"
           }
          ],
          "scatter": [
           {
            "fillpattern": {
             "fillmode": "overlay",
             "size": 10,
             "solidity": 0.2
            },
            "type": "scatter"
           }
          ],
          "scatter3d": [
           {
            "line": {
             "colorbar": {
              "outlinewidth": 0,
              "ticks": ""
             }
            },
            "marker": {
             "colorbar": {
              "outlinewidth": 0,
              "ticks": ""
             }
            },
            "type": "scatter3d"
           }
          ],
          "scattercarpet": [
           {
            "marker": {
             "colorbar": {
              "outlinewidth": 0,
              "ticks": ""
             }
            },
            "type": "scattercarpet"
           }
          ],
          "scattergeo": [
           {
            "marker": {
             "colorbar": {
              "outlinewidth": 0,
              "ticks": ""
             }
            },
            "type": "scattergeo"
           }
          ],
          "scattergl": [
           {
            "marker": {
             "colorbar": {
              "outlinewidth": 0,
              "ticks": ""
             }
            },
            "type": "scattergl"
           }
          ],
          "scattermap": [
           {
            "marker": {
             "colorbar": {
              "outlinewidth": 0,
              "ticks": ""
             }
            },
            "type": "scattermap"
           }
          ],
          "scattermapbox": [
           {
            "marker": {
             "colorbar": {
              "outlinewidth": 0,
              "ticks": ""
             }
            },
            "type": "scattermapbox"
           }
          ],
          "scatterpolar": [
           {
            "marker": {
             "colorbar": {
              "outlinewidth": 0,
              "ticks": ""
             }
            },
            "type": "scatterpolar"
           }
          ],
          "scatterpolargl": [
           {
            "marker": {
             "colorbar": {
              "outlinewidth": 0,
              "ticks": ""
             }
            },
            "type": "scatterpolargl"
           }
          ],
          "scatterternary": [
           {
            "marker": {
             "colorbar": {
              "outlinewidth": 0,
              "ticks": ""
             }
            },
            "type": "scatterternary"
           }
          ],
          "surface": [
           {
            "colorbar": {
             "outlinewidth": 0,
             "ticks": ""
            },
            "colorscale": [
             [
              0,
              "#0d0887"
             ],
             [
              0.1111111111111111,
              "#46039f"
             ],
             [
              0.2222222222222222,
              "#7201a8"
             ],
             [
              0.3333333333333333,
              "#9c179e"
             ],
             [
              0.4444444444444444,
              "#bd3786"
             ],
             [
              0.5555555555555556,
              "#d8576b"
             ],
             [
              0.6666666666666666,
              "#ed7953"
             ],
             [
              0.7777777777777778,
              "#fb9f3a"
             ],
             [
              0.8888888888888888,
              "#fdca26"
             ],
             [
              1,
              "#f0f921"
             ]
            ],
            "type": "surface"
           }
          ],
          "table": [
           {
            "cells": {
             "fill": {
              "color": "#EBF0F8"
             },
             "line": {
              "color": "white"
             }
            },
            "header": {
             "fill": {
              "color": "#C8D4E3"
             },
             "line": {
              "color": "white"
             }
            },
            "type": "table"
           }
          ]
         },
         "layout": {
          "annotationdefaults": {
           "arrowcolor": "#2a3f5f",
           "arrowhead": 0,
           "arrowwidth": 1
          },
          "autotypenumbers": "strict",
          "coloraxis": {
           "colorbar": {
            "outlinewidth": 0,
            "ticks": ""
           }
          },
          "colorscale": {
           "diverging": [
            [
             0,
             "#8e0152"
            ],
            [
             0.1,
             "#c51b7d"
            ],
            [
             0.2,
             "#de77ae"
            ],
            [
             0.3,
             "#f1b6da"
            ],
            [
             0.4,
             "#fde0ef"
            ],
            [
             0.5,
             "#f7f7f7"
            ],
            [
             0.6,
             "#e6f5d0"
            ],
            [
             0.7,
             "#b8e186"
            ],
            [
             0.8,
             "#7fbc41"
            ],
            [
             0.9,
             "#4d9221"
            ],
            [
             1,
             "#276419"
            ]
           ],
           "sequential": [
            [
             0,
             "#0d0887"
            ],
            [
             0.1111111111111111,
             "#46039f"
            ],
            [
             0.2222222222222222,
             "#7201a8"
            ],
            [
             0.3333333333333333,
             "#9c179e"
            ],
            [
             0.4444444444444444,
             "#bd3786"
            ],
            [
             0.5555555555555556,
             "#d8576b"
            ],
            [
             0.6666666666666666,
             "#ed7953"
            ],
            [
             0.7777777777777778,
             "#fb9f3a"
            ],
            [
             0.8888888888888888,
             "#fdca26"
            ],
            [
             1,
             "#f0f921"
            ]
           ],
           "sequentialminus": [
            [
             0,
             "#0d0887"
            ],
            [
             0.1111111111111111,
             "#46039f"
            ],
            [
             0.2222222222222222,
             "#7201a8"
            ],
            [
             0.3333333333333333,
             "#9c179e"
            ],
            [
             0.4444444444444444,
             "#bd3786"
            ],
            [
             0.5555555555555556,
             "#d8576b"
            ],
            [
             0.6666666666666666,
             "#ed7953"
            ],
            [
             0.7777777777777778,
             "#fb9f3a"
            ],
            [
             0.8888888888888888,
             "#fdca26"
            ],
            [
             1,
             "#f0f921"
            ]
           ]
          },
          "colorway": [
           "#636efa",
           "#EF553B",
           "#00cc96",
           "#ab63fa",
           "#FFA15A",
           "#19d3f3",
           "#FF6692",
           "#B6E880",
           "#FF97FF",
           "#FECB52"
          ],
          "font": {
           "color": "#2a3f5f"
          },
          "geo": {
           "bgcolor": "white",
           "lakecolor": "white",
           "landcolor": "#E5ECF6",
           "showlakes": true,
           "showland": true,
           "subunitcolor": "white"
          },
          "hoverlabel": {
           "align": "left"
          },
          "hovermode": "closest",
          "mapbox": {
           "style": "light"
          },
          "paper_bgcolor": "white",
          "plot_bgcolor": "#E5ECF6",
          "polar": {
           "angularaxis": {
            "gridcolor": "white",
            "linecolor": "white",
            "ticks": ""
           },
           "bgcolor": "#E5ECF6",
           "radialaxis": {
            "gridcolor": "white",
            "linecolor": "white",
            "ticks": ""
           }
          },
          "scene": {
           "xaxis": {
            "backgroundcolor": "#E5ECF6",
            "gridcolor": "white",
            "gridwidth": 2,
            "linecolor": "white",
            "showbackground": true,
            "ticks": "",
            "zerolinecolor": "white"
           },
           "yaxis": {
            "backgroundcolor": "#E5ECF6",
            "gridcolor": "white",
            "gridwidth": 2,
            "linecolor": "white",
            "showbackground": true,
            "ticks": "",
            "zerolinecolor": "white"
           },
           "zaxis": {
            "backgroundcolor": "#E5ECF6",
            "gridcolor": "white",
            "gridwidth": 2,
            "linecolor": "white",
            "showbackground": true,
            "ticks": "",
            "zerolinecolor": "white"
           }
          },
          "shapedefaults": {
           "line": {
            "color": "#2a3f5f"
           }
          },
          "ternary": {
           "aaxis": {
            "gridcolor": "white",
            "linecolor": "white",
            "ticks": ""
           },
           "baxis": {
            "gridcolor": "white",
            "linecolor": "white",
            "ticks": ""
           },
           "bgcolor": "#E5ECF6",
           "caxis": {
            "gridcolor": "white",
            "linecolor": "white",
            "ticks": ""
           }
          },
          "title": {
           "x": 0.05
          },
          "xaxis": {
           "automargin": true,
           "gridcolor": "white",
           "linecolor": "white",
           "ticks": "",
           "title": {
            "standoff": 15
           },
           "zerolinecolor": "white",
           "zerolinewidth": 2
          },
          "yaxis": {
           "automargin": true,
           "gridcolor": "white",
           "linecolor": "white",
           "ticks": "",
           "title": {
            "standoff": 15
           },
           "zerolinecolor": "white",
           "zerolinewidth": 2
          }
         }
        },
        "title": {
         "text": "Hyperparameter Importances"
        },
        "xaxis": {
         "title": {
          "text": "Hyperparameter Importance"
         }
        },
        "yaxis": {
         "title": {
          "text": "Hyperparameter"
         }
        }
       }
      }
     },
     "metadata": {},
     "output_type": "display_data"
    }
   ],
   "source": [
    "print(f\"Лучшие параметры для XGBoost:\")\n",
    "print(study_xgb.best_params)\n",
    "print(f\"Лучший R2: {study_xgb.best_value:.4f}\")\n",
    "\n",
    "fig = optuna.visualization.plot_optimization_history(study_xgb)\n",
    "fig.show()\n",
    "\n",
    "fig = optuna.visualization.plot_param_importances(study_xgb)\n",
    "fig.show()"
   ]
  },
  {
   "cell_type": "code",
   "execution_count": 102,
   "id": "b8e6a5cc",
   "metadata": {},
   "outputs": [
    {
     "data": {
      "text/html": [
       "<style>#sk-container-id-3 {\n",
       "  /* Definition of color scheme common for light and dark mode */\n",
       "  --sklearn-color-text: #000;\n",
       "  --sklearn-color-text-muted: #666;\n",
       "  --sklearn-color-line: gray;\n",
       "  /* Definition of color scheme for unfitted estimators */\n",
       "  --sklearn-color-unfitted-level-0: #fff5e6;\n",
       "  --sklearn-color-unfitted-level-1: #f6e4d2;\n",
       "  --sklearn-color-unfitted-level-2: #ffe0b3;\n",
       "  --sklearn-color-unfitted-level-3: chocolate;\n",
       "  /* Definition of color scheme for fitted estimators */\n",
       "  --sklearn-color-fitted-level-0: #f0f8ff;\n",
       "  --sklearn-color-fitted-level-1: #d4ebff;\n",
       "  --sklearn-color-fitted-level-2: #b3dbfd;\n",
       "  --sklearn-color-fitted-level-3: cornflowerblue;\n",
       "\n",
       "  /* Specific color for light theme */\n",
       "  --sklearn-color-text-on-default-background: var(--sg-text-color, var(--theme-code-foreground, var(--jp-content-font-color1, black)));\n",
       "  --sklearn-color-background: var(--sg-background-color, var(--theme-background, var(--jp-layout-color0, white)));\n",
       "  --sklearn-color-border-box: var(--sg-text-color, var(--theme-code-foreground, var(--jp-content-font-color1, black)));\n",
       "  --sklearn-color-icon: #696969;\n",
       "\n",
       "  @media (prefers-color-scheme: dark) {\n",
       "    /* Redefinition of color scheme for dark theme */\n",
       "    --sklearn-color-text-on-default-background: var(--sg-text-color, var(--theme-code-foreground, var(--jp-content-font-color1, white)));\n",
       "    --sklearn-color-background: var(--sg-background-color, var(--theme-background, var(--jp-layout-color0, #111)));\n",
       "    --sklearn-color-border-box: var(--sg-text-color, var(--theme-code-foreground, var(--jp-content-font-color1, white)));\n",
       "    --sklearn-color-icon: #878787;\n",
       "  }\n",
       "}\n",
       "\n",
       "#sk-container-id-3 {\n",
       "  color: var(--sklearn-color-text);\n",
       "}\n",
       "\n",
       "#sk-container-id-3 pre {\n",
       "  padding: 0;\n",
       "}\n",
       "\n",
       "#sk-container-id-3 input.sk-hidden--visually {\n",
       "  border: 0;\n",
       "  clip: rect(1px 1px 1px 1px);\n",
       "  clip: rect(1px, 1px, 1px, 1px);\n",
       "  height: 1px;\n",
       "  margin: -1px;\n",
       "  overflow: hidden;\n",
       "  padding: 0;\n",
       "  position: absolute;\n",
       "  width: 1px;\n",
       "}\n",
       "\n",
       "#sk-container-id-3 div.sk-dashed-wrapped {\n",
       "  border: 1px dashed var(--sklearn-color-line);\n",
       "  margin: 0 0.4em 0.5em 0.4em;\n",
       "  box-sizing: border-box;\n",
       "  padding-bottom: 0.4em;\n",
       "  background-color: var(--sklearn-color-background);\n",
       "}\n",
       "\n",
       "#sk-container-id-3 div.sk-container {\n",
       "  /* jupyter's `normalize.less` sets `[hidden] { display: none; }`\n",
       "     but bootstrap.min.css set `[hidden] { display: none !important; }`\n",
       "     so we also need the `!important` here to be able to override the\n",
       "     default hidden behavior on the sphinx rendered scikit-learn.org.\n",
       "     See: https://github.com/scikit-learn/scikit-learn/issues/21755 */\n",
       "  display: inline-block !important;\n",
       "  position: relative;\n",
       "}\n",
       "\n",
       "#sk-container-id-3 div.sk-text-repr-fallback {\n",
       "  display: none;\n",
       "}\n",
       "\n",
       "div.sk-parallel-item,\n",
       "div.sk-serial,\n",
       "div.sk-item {\n",
       "  /* draw centered vertical line to link estimators */\n",
       "  background-image: linear-gradient(var(--sklearn-color-text-on-default-background), var(--sklearn-color-text-on-default-background));\n",
       "  background-size: 2px 100%;\n",
       "  background-repeat: no-repeat;\n",
       "  background-position: center center;\n",
       "}\n",
       "\n",
       "/* Parallel-specific style estimator block */\n",
       "\n",
       "#sk-container-id-3 div.sk-parallel-item::after {\n",
       "  content: \"\";\n",
       "  width: 100%;\n",
       "  border-bottom: 2px solid var(--sklearn-color-text-on-default-background);\n",
       "  flex-grow: 1;\n",
       "}\n",
       "\n",
       "#sk-container-id-3 div.sk-parallel {\n",
       "  display: flex;\n",
       "  align-items: stretch;\n",
       "  justify-content: center;\n",
       "  background-color: var(--sklearn-color-background);\n",
       "  position: relative;\n",
       "}\n",
       "\n",
       "#sk-container-id-3 div.sk-parallel-item {\n",
       "  display: flex;\n",
       "  flex-direction: column;\n",
       "}\n",
       "\n",
       "#sk-container-id-3 div.sk-parallel-item:first-child::after {\n",
       "  align-self: flex-end;\n",
       "  width: 50%;\n",
       "}\n",
       "\n",
       "#sk-container-id-3 div.sk-parallel-item:last-child::after {\n",
       "  align-self: flex-start;\n",
       "  width: 50%;\n",
       "}\n",
       "\n",
       "#sk-container-id-3 div.sk-parallel-item:only-child::after {\n",
       "  width: 0;\n",
       "}\n",
       "\n",
       "/* Serial-specific style estimator block */\n",
       "\n",
       "#sk-container-id-3 div.sk-serial {\n",
       "  display: flex;\n",
       "  flex-direction: column;\n",
       "  align-items: center;\n",
       "  background-color: var(--sklearn-color-background);\n",
       "  padding-right: 1em;\n",
       "  padding-left: 1em;\n",
       "}\n",
       "\n",
       "\n",
       "/* Toggleable style: style used for estimator/Pipeline/ColumnTransformer box that is\n",
       "clickable and can be expanded/collapsed.\n",
       "- Pipeline and ColumnTransformer use this feature and define the default style\n",
       "- Estimators will overwrite some part of the style using the `sk-estimator` class\n",
       "*/\n",
       "\n",
       "/* Pipeline and ColumnTransformer style (default) */\n",
       "\n",
       "#sk-container-id-3 div.sk-toggleable {\n",
       "  /* Default theme specific background. It is overwritten whether we have a\n",
       "  specific estimator or a Pipeline/ColumnTransformer */\n",
       "  background-color: var(--sklearn-color-background);\n",
       "}\n",
       "\n",
       "/* Toggleable label */\n",
       "#sk-container-id-3 label.sk-toggleable__label {\n",
       "  cursor: pointer;\n",
       "  display: flex;\n",
       "  width: 100%;\n",
       "  margin-bottom: 0;\n",
       "  padding: 0.5em;\n",
       "  box-sizing: border-box;\n",
       "  text-align: center;\n",
       "  align-items: start;\n",
       "  justify-content: space-between;\n",
       "  gap: 0.5em;\n",
       "}\n",
       "\n",
       "#sk-container-id-3 label.sk-toggleable__label .caption {\n",
       "  font-size: 0.6rem;\n",
       "  font-weight: lighter;\n",
       "  color: var(--sklearn-color-text-muted);\n",
       "}\n",
       "\n",
       "#sk-container-id-3 label.sk-toggleable__label-arrow:before {\n",
       "  /* Arrow on the left of the label */\n",
       "  content: \"▸\";\n",
       "  float: left;\n",
       "  margin-right: 0.25em;\n",
       "  color: var(--sklearn-color-icon);\n",
       "}\n",
       "\n",
       "#sk-container-id-3 label.sk-toggleable__label-arrow:hover:before {\n",
       "  color: var(--sklearn-color-text);\n",
       "}\n",
       "\n",
       "/* Toggleable content - dropdown */\n",
       "\n",
       "#sk-container-id-3 div.sk-toggleable__content {\n",
       "  max-height: 0;\n",
       "  max-width: 0;\n",
       "  overflow: hidden;\n",
       "  text-align: left;\n",
       "  /* unfitted */\n",
       "  background-color: var(--sklearn-color-unfitted-level-0);\n",
       "}\n",
       "\n",
       "#sk-container-id-3 div.sk-toggleable__content.fitted {\n",
       "  /* fitted */\n",
       "  background-color: var(--sklearn-color-fitted-level-0);\n",
       "}\n",
       "\n",
       "#sk-container-id-3 div.sk-toggleable__content pre {\n",
       "  margin: 0.2em;\n",
       "  border-radius: 0.25em;\n",
       "  color: var(--sklearn-color-text);\n",
       "  /* unfitted */\n",
       "  background-color: var(--sklearn-color-unfitted-level-0);\n",
       "}\n",
       "\n",
       "#sk-container-id-3 div.sk-toggleable__content.fitted pre {\n",
       "  /* unfitted */\n",
       "  background-color: var(--sklearn-color-fitted-level-0);\n",
       "}\n",
       "\n",
       "#sk-container-id-3 input.sk-toggleable__control:checked~div.sk-toggleable__content {\n",
       "  /* Expand drop-down */\n",
       "  max-height: 200px;\n",
       "  max-width: 100%;\n",
       "  overflow: auto;\n",
       "}\n",
       "\n",
       "#sk-container-id-3 input.sk-toggleable__control:checked~label.sk-toggleable__label-arrow:before {\n",
       "  content: \"▾\";\n",
       "}\n",
       "\n",
       "/* Pipeline/ColumnTransformer-specific style */\n",
       "\n",
       "#sk-container-id-3 div.sk-label input.sk-toggleable__control:checked~label.sk-toggleable__label {\n",
       "  color: var(--sklearn-color-text);\n",
       "  background-color: var(--sklearn-color-unfitted-level-2);\n",
       "}\n",
       "\n",
       "#sk-container-id-3 div.sk-label.fitted input.sk-toggleable__control:checked~label.sk-toggleable__label {\n",
       "  background-color: var(--sklearn-color-fitted-level-2);\n",
       "}\n",
       "\n",
       "/* Estimator-specific style */\n",
       "\n",
       "/* Colorize estimator box */\n",
       "#sk-container-id-3 div.sk-estimator input.sk-toggleable__control:checked~label.sk-toggleable__label {\n",
       "  /* unfitted */\n",
       "  background-color: var(--sklearn-color-unfitted-level-2);\n",
       "}\n",
       "\n",
       "#sk-container-id-3 div.sk-estimator.fitted input.sk-toggleable__control:checked~label.sk-toggleable__label {\n",
       "  /* fitted */\n",
       "  background-color: var(--sklearn-color-fitted-level-2);\n",
       "}\n",
       "\n",
       "#sk-container-id-3 div.sk-label label.sk-toggleable__label,\n",
       "#sk-container-id-3 div.sk-label label {\n",
       "  /* The background is the default theme color */\n",
       "  color: var(--sklearn-color-text-on-default-background);\n",
       "}\n",
       "\n",
       "/* On hover, darken the color of the background */\n",
       "#sk-container-id-3 div.sk-label:hover label.sk-toggleable__label {\n",
       "  color: var(--sklearn-color-text);\n",
       "  background-color: var(--sklearn-color-unfitted-level-2);\n",
       "}\n",
       "\n",
       "/* Label box, darken color on hover, fitted */\n",
       "#sk-container-id-3 div.sk-label.fitted:hover label.sk-toggleable__label.fitted {\n",
       "  color: var(--sklearn-color-text);\n",
       "  background-color: var(--sklearn-color-fitted-level-2);\n",
       "}\n",
       "\n",
       "/* Estimator label */\n",
       "\n",
       "#sk-container-id-3 div.sk-label label {\n",
       "  font-family: monospace;\n",
       "  font-weight: bold;\n",
       "  display: inline-block;\n",
       "  line-height: 1.2em;\n",
       "}\n",
       "\n",
       "#sk-container-id-3 div.sk-label-container {\n",
       "  text-align: center;\n",
       "}\n",
       "\n",
       "/* Estimator-specific */\n",
       "#sk-container-id-3 div.sk-estimator {\n",
       "  font-family: monospace;\n",
       "  border: 1px dotted var(--sklearn-color-border-box);\n",
       "  border-radius: 0.25em;\n",
       "  box-sizing: border-box;\n",
       "  margin-bottom: 0.5em;\n",
       "  /* unfitted */\n",
       "  background-color: var(--sklearn-color-unfitted-level-0);\n",
       "}\n",
       "\n",
       "#sk-container-id-3 div.sk-estimator.fitted {\n",
       "  /* fitted */\n",
       "  background-color: var(--sklearn-color-fitted-level-0);\n",
       "}\n",
       "\n",
       "/* on hover */\n",
       "#sk-container-id-3 div.sk-estimator:hover {\n",
       "  /* unfitted */\n",
       "  background-color: var(--sklearn-color-unfitted-level-2);\n",
       "}\n",
       "\n",
       "#sk-container-id-3 div.sk-estimator.fitted:hover {\n",
       "  /* fitted */\n",
       "  background-color: var(--sklearn-color-fitted-level-2);\n",
       "}\n",
       "\n",
       "/* Specification for estimator info (e.g. \"i\" and \"?\") */\n",
       "\n",
       "/* Common style for \"i\" and \"?\" */\n",
       "\n",
       ".sk-estimator-doc-link,\n",
       "a:link.sk-estimator-doc-link,\n",
       "a:visited.sk-estimator-doc-link {\n",
       "  float: right;\n",
       "  font-size: smaller;\n",
       "  line-height: 1em;\n",
       "  font-family: monospace;\n",
       "  background-color: var(--sklearn-color-background);\n",
       "  border-radius: 1em;\n",
       "  height: 1em;\n",
       "  width: 1em;\n",
       "  text-decoration: none !important;\n",
       "  margin-left: 0.5em;\n",
       "  text-align: center;\n",
       "  /* unfitted */\n",
       "  border: var(--sklearn-color-unfitted-level-1) 1pt solid;\n",
       "  color: var(--sklearn-color-unfitted-level-1);\n",
       "}\n",
       "\n",
       ".sk-estimator-doc-link.fitted,\n",
       "a:link.sk-estimator-doc-link.fitted,\n",
       "a:visited.sk-estimator-doc-link.fitted {\n",
       "  /* fitted */\n",
       "  border: var(--sklearn-color-fitted-level-1) 1pt solid;\n",
       "  color: var(--sklearn-color-fitted-level-1);\n",
       "}\n",
       "\n",
       "/* On hover */\n",
       "div.sk-estimator:hover .sk-estimator-doc-link:hover,\n",
       ".sk-estimator-doc-link:hover,\n",
       "div.sk-label-container:hover .sk-estimator-doc-link:hover,\n",
       ".sk-estimator-doc-link:hover {\n",
       "  /* unfitted */\n",
       "  background-color: var(--sklearn-color-unfitted-level-3);\n",
       "  color: var(--sklearn-color-background);\n",
       "  text-decoration: none;\n",
       "}\n",
       "\n",
       "div.sk-estimator.fitted:hover .sk-estimator-doc-link.fitted:hover,\n",
       ".sk-estimator-doc-link.fitted:hover,\n",
       "div.sk-label-container:hover .sk-estimator-doc-link.fitted:hover,\n",
       ".sk-estimator-doc-link.fitted:hover {\n",
       "  /* fitted */\n",
       "  background-color: var(--sklearn-color-fitted-level-3);\n",
       "  color: var(--sklearn-color-background);\n",
       "  text-decoration: none;\n",
       "}\n",
       "\n",
       "/* Span, style for the box shown on hovering the info icon */\n",
       ".sk-estimator-doc-link span {\n",
       "  display: none;\n",
       "  z-index: 9999;\n",
       "  position: relative;\n",
       "  font-weight: normal;\n",
       "  right: .2ex;\n",
       "  padding: .5ex;\n",
       "  margin: .5ex;\n",
       "  width: min-content;\n",
       "  min-width: 20ex;\n",
       "  max-width: 50ex;\n",
       "  color: var(--sklearn-color-text);\n",
       "  box-shadow: 2pt 2pt 4pt #999;\n",
       "  /* unfitted */\n",
       "  background: var(--sklearn-color-unfitted-level-0);\n",
       "  border: .5pt solid var(--sklearn-color-unfitted-level-3);\n",
       "}\n",
       "\n",
       ".sk-estimator-doc-link.fitted span {\n",
       "  /* fitted */\n",
       "  background: var(--sklearn-color-fitted-level-0);\n",
       "  border: var(--sklearn-color-fitted-level-3);\n",
       "}\n",
       "\n",
       ".sk-estimator-doc-link:hover span {\n",
       "  display: block;\n",
       "}\n",
       "\n",
       "/* \"?\"-specific style due to the `<a>` HTML tag */\n",
       "\n",
       "#sk-container-id-3 a.estimator_doc_link {\n",
       "  float: right;\n",
       "  font-size: 1rem;\n",
       "  line-height: 1em;\n",
       "  font-family: monospace;\n",
       "  background-color: var(--sklearn-color-background);\n",
       "  border-radius: 1rem;\n",
       "  height: 1rem;\n",
       "  width: 1rem;\n",
       "  text-decoration: none;\n",
       "  /* unfitted */\n",
       "  color: var(--sklearn-color-unfitted-level-1);\n",
       "  border: var(--sklearn-color-unfitted-level-1) 1pt solid;\n",
       "}\n",
       "\n",
       "#sk-container-id-3 a.estimator_doc_link.fitted {\n",
       "  /* fitted */\n",
       "  border: var(--sklearn-color-fitted-level-1) 1pt solid;\n",
       "  color: var(--sklearn-color-fitted-level-1);\n",
       "}\n",
       "\n",
       "/* On hover */\n",
       "#sk-container-id-3 a.estimator_doc_link:hover {\n",
       "  /* unfitted */\n",
       "  background-color: var(--sklearn-color-unfitted-level-3);\n",
       "  color: var(--sklearn-color-background);\n",
       "  text-decoration: none;\n",
       "}\n",
       "\n",
       "#sk-container-id-3 a.estimator_doc_link.fitted:hover {\n",
       "  /* fitted */\n",
       "  background-color: var(--sklearn-color-fitted-level-3);\n",
       "}\n",
       "</style><div id=\"sk-container-id-3\" class=\"sk-top-container\"><div class=\"sk-text-repr-fallback\"><pre>XGBRegressor(base_score=None, booster=None, callbacks=None,\n",
       "             colsample_bylevel=None, colsample_bynode=None,\n",
       "             colsample_bytree=0.5439763574618138, device=None,\n",
       "             early_stopping_rounds=None, enable_categorical=False,\n",
       "             eval_metric=None, feature_types=None, feature_weights=None,\n",
       "             gamma=3.2867758121918293, grow_policy=None, importance_type=None,\n",
       "             interaction_constraints=None, learning_rate=0.003931729804077532,\n",
       "             max_bin=None, max_cat_threshold=None, max_cat_to_onehot=None,\n",
       "             max_delta_step=None, max_depth=10, max_leaves=None,\n",
       "             min_child_weight=None, missing=nan, monotone_constraints=None,\n",
       "             multi_strategy=None, n_estimators=291, n_jobs=-1,\n",
       "             num_parallel_tree=None, ...)</pre><b>In a Jupyter environment, please rerun this cell to show the HTML representation or trust the notebook. <br />On GitHub, the HTML representation is unable to render, please try loading this page with nbviewer.org.</b></div><div class=\"sk-container\" hidden><div class=\"sk-item\"><div class=\"sk-estimator fitted sk-toggleable\"><input class=\"sk-toggleable__control sk-hidden--visually\" id=\"sk-estimator-id-3\" type=\"checkbox\" checked><label for=\"sk-estimator-id-3\" class=\"sk-toggleable__label fitted sk-toggleable__label-arrow\"><div><div>XGBRegressor</div></div><div><a class=\"sk-estimator-doc-link fitted\" rel=\"noreferrer\" target=\"_blank\" href=\"https://xgboost.readthedocs.io/en/release_3.0.0/python/python_api.html#xgboost.XGBRegressor\">?<span>Documentation for XGBRegressor</span></a><span class=\"sk-estimator-doc-link fitted\">i<span>Fitted</span></span></div></label><div class=\"sk-toggleable__content fitted\"><pre>XGBRegressor(base_score=None, booster=None, callbacks=None,\n",
       "             colsample_bylevel=None, colsample_bynode=None,\n",
       "             colsample_bytree=0.5439763574618138, device=None,\n",
       "             early_stopping_rounds=None, enable_categorical=False,\n",
       "             eval_metric=None, feature_types=None, feature_weights=None,\n",
       "             gamma=3.2867758121918293, grow_policy=None, importance_type=None,\n",
       "             interaction_constraints=None, learning_rate=0.003931729804077532,\n",
       "             max_bin=None, max_cat_threshold=None, max_cat_to_onehot=None,\n",
       "             max_delta_step=None, max_depth=10, max_leaves=None,\n",
       "             min_child_weight=None, missing=nan, monotone_constraints=None,\n",
       "             multi_strategy=None, n_estimators=291, n_jobs=-1,\n",
       "             num_parallel_tree=None, ...)</pre></div> </div></div></div></div>"
      ],
      "text/plain": [
       "XGBRegressor(base_score=None, booster=None, callbacks=None,\n",
       "             colsample_bylevel=None, colsample_bynode=None,\n",
       "             colsample_bytree=0.5439763574618138, device=None,\n",
       "             early_stopping_rounds=None, enable_categorical=False,\n",
       "             eval_metric=None, feature_types=None, feature_weights=None,\n",
       "             gamma=3.2867758121918293, grow_policy=None, importance_type=None,\n",
       "             interaction_constraints=None, learning_rate=0.003931729804077532,\n",
       "             max_bin=None, max_cat_threshold=None, max_cat_to_onehot=None,\n",
       "             max_delta_step=None, max_depth=10, max_leaves=None,\n",
       "             min_child_weight=None, missing=nan, monotone_constraints=None,\n",
       "             multi_strategy=None, n_estimators=291, n_jobs=-1,\n",
       "             num_parallel_tree=None, ...)"
      ]
     },
     "execution_count": 102,
     "metadata": {},
     "output_type": "execute_result"
    }
   ],
   "source": [
    "best_xgb_model = XGBRegressor(\n",
    "    **study_xgb.best_params,\n",
    "    random_state=RANDOM_STATE,\n",
    "    n_jobs=-1\n",
    ")\n",
    "best_xgb_model.fit(X_train, y_train_ic50)"
   ]
  },
  {
   "cell_type": "markdown",
   "id": "2dbaa654",
   "metadata": {},
   "source": [
    "#### Оценка модели на лучшем наборе данных"
   ]
  },
  {
   "cell_type": "code",
   "execution_count": 103,
   "id": "e40e2ddb",
   "metadata": {},
   "outputs": [
    {
     "name": "stdout",
     "output_type": "stream",
     "text": [
      "\n",
      "Final Metrics on Test Set:\n",
      "R2: 0.2677\n",
      "RMSE: 92.5501\n",
      "MAE: 31.1444\n",
      "MAPE: 10.5611\n"
     ]
    }
   ],
   "source": [
    "y_pred_best_xgb = best_xgb_model.predict(X_test)\n",
    "\n",
    "final_metrics_xgb = {metric_name: metric_func(y_test_ic50, y_pred_best_xgb) \n",
    "                 for metric_name, metric_func in metrics.items()}\n",
    "\n",
    "print(\"\\nFinal Metrics on Test Set:\")\n",
    "for metric, value in final_metrics_xgb.items():\n",
    "    print(f\"{metric}: {value:.4f}\")"
   ]
  },
  {
   "cell_type": "code",
   "execution_count": 104,
   "id": "4430b001",
   "metadata": {},
   "outputs": [
    {
     "data": {
      "image/png": "[encoded data removed]",
      "text/plain": [
       "<Figure size 1000x600 with 1 Axes>"
      ]
     },
     "metadata": {},
     "output_type": "display_data"
    }
   ],
   "source": [
    "plt.figure(figsize=(10, 6))\n",
    "plt.scatter(y_test_ic50, y_pred_best_xgb, alpha=0.5)\n",
    "plt.plot([min(y_test_ic50), max(y_test_ic50)], \n",
    "         [min(y_test_ic50), max(y_test_ic50)], 'r--')\n",
    "plt.xlabel('True SI')\n",
    "plt.ylabel('Predicted SI')\n",
    "plt.title('True vs Predicted SI Values')\n",
    "plt.grid(True)\n",
    "plt.show()"
   ]
  },
  {
   "cell_type": "markdown",
   "id": "c9f8bd3a",
   "metadata": {},
   "source": [
    "#### Анализ важности признаков"
   ]
  },
  {
   "cell_type": "code",
   "execution_count": 105,
   "id": "0022d91b",
   "metadata": {},
   "outputs": [
    {
     "data": {
      "image/png": "[encoded data removed]",
      "text/plain": [
       "<Figure size 1200x800 with 1 Axes>"
      ]
     },
     "metadata": {},
     "output_type": "display_data"
    }
   ],
   "source": [
    "if hasattr(best_xgb_model, 'feature_importances_'):\n",
    "    importances = best_xgb_model.feature_importances_\n",
    "    feature_names = X.columns if isinstance(X, pd.DataFrame) else [f\"Feature {i}\" for i in range(X.shape[1])]\n",
    "    \n",
    "    sorted_idx = importances.argsort()[::-1]\n",
    "    top_features = 20\n",
    "    \n",
    "    plt.figure(figsize=(12, 8))\n",
    "    plt.barh(range(top_features), importances[sorted_idx][:top_features], align='center')\n",
    "    plt.yticks(range(top_features), [feature_names[i] for i in sorted_idx[:top_features]])\n",
    "    plt.gca().invert_yaxis()\n",
    "    plt.xlabel('Feature Importance')\n",
    "    plt.title('Top Important Features for SI Prediction')\n",
    "    plt.tight_layout()\n",
    "    plt.savefig('ic50_feature_importance.png')\n",
    "    plt.show()"
   ]
  },
  {
   "cell_type": "markdown",
   "id": "6f0831ad",
   "metadata": {},
   "source": [
    "### SVR"
   ]
  },
  {
   "cell_type": "code",
   "execution_count": 106,
   "id": "ead683c8",
   "metadata": {},
   "outputs": [],
   "source": [
    "def optimize_svr(trial):\n",
    "    params = {\n",
    "        'C': trial.suggest_float('C', 0.1, 100, log=True),\n",
    "        'epsilon': trial.suggest_float('epsilon', 0.001, 1, log=True),\n",
    "        'kernel': trial.suggest_categorical('kernel', ['linear', 'rbf']),\n",
    "        'gamma': trial.suggest_float('gamma', 0.001, 10, log=True)\n",
    "    }\n",
    "    \n",
    "    if params['kernel'] == 'poly':\n",
    "        params['degree'] = trial.suggest_int('degree', 2, 5)\n",
    "    \n",
    "    model = SVR(**params)\n",
    "    \n",
    "    r2_scores = cross_val_score(\n",
    "        model, X_train, y_train_ic50, \n",
    "        cv=CV_FOLDS_SVR, scoring='r2', n_jobs=-1\n",
    "    )\n",
    "    \n",
    "    return np.mean(r2_scores)\n"
   ]
  },
  {
   "cell_type": "code",
   "execution_count": 107,
   "id": "476d3e7d",
   "metadata": {},
   "outputs": [
    {
     "name": "stderr",
     "output_type": "stream",
     "text": [
      "[I 2025-06-02 15:49:40,701] A new study created in memory with name: no-name-3e4f79e5-e1cb-4ceb-8785-fab2c1e42bbf\n",
      "[I 2025-06-02 15:49:40,881] Trial 0 finished with value: -0.0004560461018307649 and parameters: {'C': 1.3292918943162164, 'epsilon': 0.7114476009343417, 'kernel': 'linear', 'gamma': 0.004207988669606638}. Best is trial 0 with value: -0.0004560461018307649.\n",
      "[I 2025-06-02 15:49:40,991] Trial 1 finished with value: 0.0013164040837540859 and parameters: {'C': 0.2937538457632829, 'epsilon': 0.001493656855461764, 'kernel': 'linear', 'gamma': 0.6796578090758157}. Best is trial 1 with value: 0.0013164040837540859.\n",
      "[I 2025-06-02 15:49:41,077] Trial 2 finished with value: -0.0070359270545100605 and parameters: {'C': 0.115279871282324, 'epsilon': 0.8123245085588684, 'kernel': 'linear', 'gamma': 0.005337032762603957}. Best is trial 1 with value: 0.0013164040837540859.\n",
      "[I 2025-06-02 15:49:41,174] Trial 3 finished with value: 0.0023454724967442385 and parameters: {'C': 0.35498788321965025, 'epsilon': 0.008179499475211672, 'kernel': 'linear', 'gamma': 0.014618962793704969}. Best is trial 3 with value: 0.0023454724967442385.\n",
      "[I 2025-06-02 15:49:41,317] Trial 4 finished with value: 0.004881166832399831 and parameters: {'C': 6.84792009557478, 'epsilon': 0.002621087878265439, 'kernel': 'rbf', 'gamma': 0.06672367170464209}. Best is trial 4 with value: 0.004881166832399831.\n",
      "[I 2025-06-02 15:49:41,414] Trial 5 finished with value: -0.012384373957280315 and parameters: {'C': 22.673986523780396, 'epsilon': 0.003972110727381913, 'kernel': 'rbf', 'gamma': 0.0015339162591163618}. Best is trial 4 with value: 0.004881166832399831.\n",
      "[I 2025-06-02 15:49:41,518] Trial 6 finished with value: -0.03053399012866631 and parameters: {'C': 6.647135865318026, 'epsilon': 0.0032476735706274485, 'kernel': 'rbf', 'gamma': 7.286653737491043}. Best is trial 4 with value: 0.004881166832399831.\n",
      "[I 2025-06-02 15:49:41,618] Trial 7 finished with value: 0.056422473952115235 and parameters: {'C': 26.619018884890558, 'epsilon': 0.008200518402245833, 'kernel': 'rbf', 'gamma': 0.057624872164786005}. Best is trial 7 with value: 0.056422473952115235.\n",
      "[I 2025-06-02 15:49:41,716] Trial 8 finished with value: -0.05487599532509568 and parameters: {'C': 0.23233503515390116, 'epsilon': 0.030586566669785254, 'kernel': 'rbf', 'gamma': 0.010842262717330166}. Best is trial 7 with value: 0.056422473952115235.\n",
      "[I 2025-06-02 15:49:41,815] Trial 9 finished with value: -0.0003589312889732854 and parameters: {'C': 9.717775305059634, 'epsilon': 0.00861257919259488, 'kernel': 'rbf', 'gamma': 0.0054880470007660455}. Best is trial 7 with value: 0.056422473952115235.\n",
      "[I 2025-06-02 15:49:41,915] Trial 10 finished with value: 0.06389781240171559 and parameters: {'C': 84.97299964731164, 'epsilon': 0.12578389235983664, 'kernel': 'rbf', 'gamma': 0.2587284912800168}. Best is trial 10 with value: 0.06389781240171559.\n",
      "[I 2025-06-02 15:49:42,008] Trial 11 finished with value: 0.056214009199773665 and parameters: {'C': 88.24147590799235, 'epsilon': 0.13299339244262418, 'kernel': 'rbf', 'gamma': 0.31356971313563664}. Best is trial 10 with value: 0.06389781240171559.\n",
      "[I 2025-06-02 15:49:42,113] Trial 12 finished with value: 0.10398095749154826 and parameters: {'C': 79.58994628965861, 'epsilon': 0.07563923559558342, 'kernel': 'rbf', 'gamma': 0.08278674490518691}. Best is trial 12 with value: 0.10398095749154826.\n",
      "[I 2025-06-02 15:49:42,219] Trial 13 finished with value: 0.029638751586427193 and parameters: {'C': 74.48857910354656, 'epsilon': 0.13741857783014416, 'kernel': 'rbf', 'gamma': 1.0362895898277413}. Best is trial 12 with value: 0.10398095749154826.\n",
      "[I 2025-06-02 15:49:42,323] Trial 14 finished with value: 0.03246618792829696 and parameters: {'C': 33.446933932888676, 'epsilon': 0.08842206163377779, 'kernel': 'rbf', 'gamma': 0.21651247508159333}. Best is trial 12 with value: 0.10398095749154826.\n",
      "[I 2025-06-02 15:49:42,438] Trial 15 finished with value: -0.055818053731051795 and parameters: {'C': 1.6140377589524628, 'epsilon': 0.03831216364711684, 'kernel': 'rbf', 'gamma': 3.0710236402481548}. Best is trial 12 with value: 0.10398095749154826.\n",
      "[I 2025-06-02 15:49:42,542] Trial 16 finished with value: 0.10148875990801934 and parameters: {'C': 92.9959150363176, 'epsilon': 0.398940164194849, 'kernel': 'rbf', 'gamma': 0.03098619500736006}. Best is trial 12 with value: 0.10398095749154826.\n",
      "[I 2025-06-02 15:49:42,635] Trial 17 finished with value: 0.06266192570943788 and parameters: {'C': 34.75268550073204, 'epsilon': 0.3199845183262526, 'kernel': 'rbf', 'gamma': 0.03435365621125686}. Best is trial 12 with value: 0.10398095749154826.\n",
      "[I 2025-06-02 15:49:45,209] Trial 18 finished with value: -0.009118962444494482 and parameters: {'C': 14.323040723086084, 'epsilon': 0.331712906090424, 'kernel': 'linear', 'gamma': 0.026810830551192127}. Best is trial 12 with value: 0.10398095749154826.\n",
      "[I 2025-06-02 15:49:45,313] Trial 19 finished with value: -0.02740977001850049 and parameters: {'C': 4.141573092827291, 'epsilon': 0.04072130125332752, 'kernel': 'rbf', 'gamma': 0.1330521229069741}. Best is trial 12 with value: 0.10398095749154826.\n",
      "[I 2025-06-02 15:49:45,409] Trial 20 finished with value: 0.018273387304464195 and parameters: {'C': 43.93537518272066, 'epsilon': 0.29276332267479427, 'kernel': 'rbf', 'gamma': 0.6338424480474459}. Best is trial 12 with value: 0.10398095749154826.\n",
      "[I 2025-06-02 15:49:45,515] Trial 21 finished with value: 0.0837064847057025 and parameters: {'C': 76.40743635670617, 'epsilon': 0.08797705206599442, 'kernel': 'rbf', 'gamma': 0.15408360498835283}. Best is trial 12 with value: 0.10398095749154826.\n",
      "[I 2025-06-02 15:49:45,620] Trial 22 finished with value: 0.08582842620805473 and parameters: {'C': 56.191682991916004, 'epsilon': 0.06564071526963895, 'kernel': 'rbf', 'gamma': 0.0959099731029208}. Best is trial 12 with value: 0.10398095749154826.\n",
      "[I 2025-06-02 15:49:45,722] Trial 23 finished with value: 0.07387242145881474 and parameters: {'C': 50.779708498307784, 'epsilon': 0.05591555587645794, 'kernel': 'rbf', 'gamma': 0.031468097332193856}. Best is trial 12 with value: 0.10398095749154826.\n",
      "[I 2025-06-02 15:49:45,827] Trial 24 finished with value: 0.03754973579558625 and parameters: {'C': 16.689800724188046, 'epsilon': 0.019869803115679856, 'kernel': 'rbf', 'gamma': 0.08255221833034011}. Best is trial 12 with value: 0.10398095749154826.\n",
      "[I 2025-06-02 15:49:45,935] Trial 25 finished with value: 0.057843103449501075 and parameters: {'C': 48.72129937326609, 'epsilon': 0.01662390428588137, 'kernel': 'rbf', 'gamma': 0.013020436836062533}. Best is trial 12 with value: 0.10398095749154826.\n",
      "[I 2025-06-02 15:50:06,322] Trial 26 finished with value: -0.00952563867331504 and parameters: {'C': 95.93373569578073, 'epsilon': 0.26690383594306805, 'kernel': 'linear', 'gamma': 0.04478002566960776}. Best is trial 12 with value: 0.10398095749154826.\n",
      "[I 2025-06-02 15:50:06,431] Trial 27 finished with value: -0.007360987293173871 and parameters: {'C': 17.66953266396173, 'epsilon': 0.19368581990366687, 'kernel': 'rbf', 'gamma': 1.5969826570303909}. Best is trial 12 with value: 0.10398095749154826.\n",
      "[I 2025-06-02 15:50:06,536] Trial 28 finished with value: -0.05458941029086488 and parameters: {'C': 1.4251315270561427, 'epsilon': 0.5273031163410119, 'kernel': 'rbf', 'gamma': 0.42501777766722443}. Best is trial 12 with value: 0.10398095749154826.\n",
      "[I 2025-06-02 15:50:06,900] Trial 29 finished with value: -0.01048166494954148 and parameters: {'C': 3.7341797955472167, 'epsilon': 0.6207753616215782, 'kernel': 'linear', 'gamma': 0.002294543057875093}. Best is trial 12 with value: 0.10398095749154826.\n"
     ]
    }
   ],
   "source": [
    "study_svr = optuna.create_study(\n",
    "    direction='maximize',\n",
    "    sampler=TPESampler(seed=RANDOM_STATE)\n",
    ")\n",
    "study_svr.optimize(optimize_svr, n_trials=N_TRIALS_SVR)"
   ]
  },
  {
   "cell_type": "code",
   "execution_count": 108,
   "id": "0ae3ffb8",
   "metadata": {},
   "outputs": [
    {
     "name": "stdout",
     "output_type": "stream",
     "text": [
      "Лучшие параметры для SVR:\n",
      "{'C': 79.58994628965861, 'epsilon': 0.07563923559558342, 'kernel': 'rbf', 'gamma': 0.08278674490518691}\n",
      "Лучший R2: 0.1040\n"
     ]
    },
    {
     "data": {
      "application/vnd.plotly.v1+json": {
       "config": {
        "plotlyServerURL": "https://plot.ly"
       },
       "data": [
        {
         "mode": "markers",
         "name": "Objective Value",
         "type": "scatter",
         "x": [
          0,
          1,
          2,
          3,
          4,
          5,
          6,
          7,
          8,
          9,
          10,
          11,
          12,
          13,
          14,
          15,
          16,
          17,
          18,
          19,
          20,
          21,
          22,
          23,
          24,
          25,
          26,
          27,
          28,
          29
         ],
         "y": [
          -0.0004560461018307649,
          0.0013164040837540859,
          -0.0070359270545100605,
          0.0023454724967442385,
          0.004881166832399831,
          -0.012384373957280315,
          -0.03053399012866631,
          0.056422473952115235,
          -0.05487599532509568,
          -0.0003589312889732854,
          0.06389781240171559,
          0.056214009199773665,
          0.10398095749154826,
          0.029638751586427193,
          0.03246618792829696,
          -0.055818053731051795,
          0.10148875990801934,
          0.06266192570943788,
          -0.009118962444494482,
          -0.02740977001850049,
          0.018273387304464195,
          0.0837064847057025,
          0.08582842620805473,
          0.07387242145881474,
          0.03754973579558625,
          0.057843103449501075,
          -0.00952563867331504,
          -0.007360987293173871,
          -0.05458941029086488,
          -0.01048166494954148
         ]
        },
        {
         "mode": "lines",
         "name": "Best Value",
         "type": "scatter",
         "x": [
          0,
          1,
          2,
          3,
          4,
          5,
          6,
          7,
          8,
          9,
          10,
          11,
          12,
          13,
          14,
          15,
          16,
          17,
          18,
          19,
          20,
          21,
          22,
          23,
          24,
          25,
          26,
          27,
          28,
          29
         ],
         "y": [
          -0.0004560461018307649,
          0.0013164040837540859,
          0.0013164040837540859,
          0.0023454724967442385,
          0.004881166832399831,
          0.004881166832399831,
          0.004881166832399831,
          0.056422473952115235,
          0.056422473952115235,
          0.056422473952115235,
          0.06389781240171559,
          0.06389781240171559,
          0.10398095749154826,
          0.10398095749154826,
          0.10398095749154826,
          0.10398095749154826,
          0.10398095749154826,
          0.10398095749154826,
          0.10398095749154826,
          0.10398095749154826,
          0.10398095749154826,
          0.10398095749154826,
          0.10398095749154826,
          0.10398095749154826,
          0.10398095749154826,
          0.10398095749154826,
          0.10398095749154826,
          0.10398095749154826,
          0.10398095749154826,
          0.10398095749154826
         ]
        },
        {
         "marker": {
          "color": "#cccccc"
         },
         "mode": "markers",
         "name": "Infeasible Trial",
         "showlegend": false,
         "type": "scatter",
         "x": [],
         "y": []
        }
       ],
       "layout": {
        "template": {
         "data": {
          "bar": [
           {
            "error_x": {
             "color": "#2a3f5f"
            },
            "error_y": {
             "color": "#2a3f5f"
            },
            "marker": {
             "line": {
              "color": "#E5ECF6",
              "width": 0.5
             },
             "pattern": {
              "fillmode": "overlay",
              "size": 10,
              "solidity": 0.2
             }
            },
            "type": "bar"
           }
          ],
          "barpolar": [
           {
            "marker": {
             "line": {
              "color": "#E5ECF6",
              "width": 0.5
             },
             "pattern": {
              "fillmode": "overlay",
              "size": 10,
              "solidity": 0.2
             }
            },
            "type": "barpolar"
           }
          ],
          "carpet": [
           {
            "aaxis": {
             "endlinecolor": "#2a3f5f",
             "gridcolor": "white",
             "linecolor": "white",
             "minorgridcolor": "white",
             "startlinecolor": "#2a3f5f"
            },
            "baxis": {
             "endlinecolor": "#2a3f5f",
             "gridcolor": "white",
             "linecolor": "white",
             "minorgridcolor": "white",
             "startlinecolor": "#2a3f5f"
            },
            "type": "carpet"
           }
          ],
          "choropleth": [
           {
            "colorbar": {
             "outlinewidth": 0,
             "ticks": ""
            },
            "type": "choropleth"
           }
          ],
          "contour": [
           {
            "colorbar": {
             "outlinewidth": 0,
             "ticks": ""
            },
            "colorscale": [
             [
              0,
              "#0d0887"
             ],
             [
              0.1111111111111111,
              "#46039f"
             ],
             [
              0.2222222222222222,
              "#7201a8"
             ],
             [
              0.3333333333333333,
              "#9c179e"
             ],
             [
              0.4444444444444444,
              "#bd3786"
             ],
             [
              0.5555555555555556,
              "#d8576b"
             ],
             [
              0.6666666666666666,
              "#ed7953"
             ],
             [
              0.7777777777777778,
              "#fb9f3a"
             ],
             [
              0.8888888888888888,
              "#fdca26"
             ],
             [
              1,
              "#f0f921"
             ]
            ],
            "type": "contour"
           }
          ],
          "contourcarpet": [
           {
            "colorbar": {
             "outlinewidth": 0,
             "ticks": ""
            },
            "type": "contourcarpet"
           }
          ],
          "heatmap": [
           {
            "colorbar": {
             "outlinewidth": 0,
             "ticks": ""
            },
            "colorscale": [
             [
              0,
              "#0d0887"
             ],
             [
              0.1111111111111111,
              "#46039f"
             ],
             [
              0.2222222222222222,
              "#7201a8"
             ],
             [
              0.3333333333333333,
              "#9c179e"
             ],
             [
              0.4444444444444444,
              "#bd3786"
             ],
             [
              0.5555555555555556,
              "#d8576b"
             ],
             [
              0.6666666666666666,
              "#ed7953"
             ],
             [
              0.7777777777777778,
              "#fb9f3a"
             ],
             [
              0.8888888888888888,
              "#fdca26"
             ],
             [
              1,
              "#f0f921"
             ]
            ],
            "type": "heatmap"
           }
          ],
          "histogram": [
           {
            "marker": {
             "pattern": {
              "fillmode": "overlay",
              "size": 10,
              "solidity": 0.2
             }
            },
            "type": "histogram"
           }
          ],
          "histogram2d": [
           {
            "colorbar": {
             "outlinewidth": 0,
             "ticks": ""
            },
            "colorscale": [
             [
              0,
              "#0d0887"
             ],
             [
              0.1111111111111111,
              "#46039f"
             ],
             [
              0.2222222222222222,
              "#7201a8"
             ],
             [
              0.3333333333333333,
              "#9c179e"
             ],
             [
              0.4444444444444444,
              "#bd3786"
             ],
             [
              0.5555555555555556,
              "#d8576b"
             ],
             [
              0.6666666666666666,
              "#ed7953"
             ],
             [
              0.7777777777777778,
              "#fb9f3a"
             ],
             [
              0.8888888888888888,
              "#fdca26"
             ],
             [
              1,
              "#f0f921"
             ]
            ],
            "type": "histogram2d"
           }
          ],
          "histogram2dcontour": [
           {
            "colorbar": {
             "outlinewidth": 0,
             "ticks": ""
            },
            "colorscale": [
             [
              0,
              "#0d0887"
             ],
             [
              0.1111111111111111,
              "#46039f"
             ],
             [
              0.2222222222222222,
              "#7201a8"
             ],
             [
              0.3333333333333333,
              "#9c179e"
             ],
             [
              0.4444444444444444,
              "#bd3786"
             ],
             [
              0.5555555555555556,
              "#d8576b"
             ],
             [
              0.6666666666666666,
              "#ed7953"
             ],
             [
              0.7777777777777778,
              "#fb9f3a"
             ],
             [
              0.8888888888888888,
              "#fdca26"
             ],
             [
              1,
              "#f0f921"
             ]
            ],
            "type": "histogram2dcontour"
           }
          ],
          "mesh3d": [
           {
            "colorbar": {
             "outlinewidth": 0,
             "ticks": ""
            },
            "type": "mesh3d"
           }
          ],
          "parcoords": [
           {
            "line": {
             "colorbar": {
              "outlinewidth": 0,
              "ticks": ""
             }
            },
            "type": "parcoords"
           }
          ],
          "pie": [
           {
            "automargin": true,
            "type": "pie"
           }
          ],
          "scatter": [
           {
            "fillpattern": {
             "fillmode": "overlay",
             "size": 10,
             "solidity": 0.2
            },
            "type": "scatter"
           }
          ],
          "scatter3d": [
           {
            "line": {
             "colorbar": {
              "outlinewidth": 0,
              "ticks": ""
             }
            },
            "marker": {
             "colorbar": {
              "outlinewidth": 0,
              "ticks": ""
             }
            },
            "type": "scatter3d"
           }
          ],
          "scattercarpet": [
           {
            "marker": {
             "colorbar": {
              "outlinewidth": 0,
              "ticks": ""
             }
            },
            "type": "scattercarpet"
           }
          ],
          "scattergeo": [
           {
            "marker": {
             "colorbar": {
              "outlinewidth": 0,
              "ticks": ""
             }
            },
            "type": "scattergeo"
           }
          ],
          "scattergl": [
           {
            "marker": {
             "colorbar": {
              "outlinewidth": 0,
              "ticks": ""
             }
            },
            "type": "scattergl"
           }
          ],
          "scattermap": [
           {
            "marker": {
             "colorbar": {
              "outlinewidth": 0,
              "ticks": ""
             }
            },
            "type": "scattermap"
           }
          ],
          "scattermapbox": [
           {
            "marker": {
             "colorbar": {
              "outlinewidth": 0,
              "ticks": ""
             }
            },
            "type": "scattermapbox"
           }
          ],
          "scatterpolar": [
           {
            "marker": {
             "colorbar": {
              "outlinewidth": 0,
              "ticks": ""
             }
            },
            "type": "scatterpolar"
           }
          ],
          "scatterpolargl": [
           {
            "marker": {
             "colorbar": {
              "outlinewidth": 0,
              "ticks": ""
             }
            },
            "type": "scatterpolargl"
           }
          ],
          "scatterternary": [
           {
            "marker": {
             "colorbar": {
              "outlinewidth": 0,
              "ticks": ""
             }
            },
            "type": "scatterternary"
           }
          ],
          "surface": [
           {
            "colorbar": {
             "outlinewidth": 0,
             "ticks": ""
            },
            "colorscale": [
             [
              0,
              "#0d0887"
             ],
             [
              0.1111111111111111,
              "#46039f"
             ],
             [
              0.2222222222222222,
              "#7201a8"
             ],
             [
              0.3333333333333333,
              "#9c179e"
             ],
             [
              0.4444444444444444,
              "#bd3786"
             ],
             [
              0.5555555555555556,
              "#d8576b"
             ],
             [
              0.6666666666666666,
              "#ed7953"
             ],
             [
              0.7777777777777778,
              "#fb9f3a"
             ],
             [
              0.8888888888888888,
              "#fdca26"
             ],
             [
              1,
              "#f0f921"
             ]
            ],
            "type": "surface"
           }
          ],
          "table": [
           {
            "cells": {
             "fill": {
              "color": "#EBF0F8"
             },
             "line": {
              "color": "white"
             }
            },
            "header": {
             "fill": {
              "color": "#C8D4E3"
             },
             "line": {
              "color": "white"
             }
            },
            "type": "table"
           }
          ]
         },
         "layout": {
          "annotationdefaults": {
           "arrowcolor": "#2a3f5f",
           "arrowhead": 0,
           "arrowwidth": 1
          },
          "autotypenumbers": "strict",
          "coloraxis": {
           "colorbar": {
            "outlinewidth": 0,
            "ticks": ""
           }
          },
          "colorscale": {
           "diverging": [
            [
             0,
             "#8e0152"
            ],
            [
             0.1,
             "#c51b7d"
            ],
            [
             0.2,
             "#de77ae"
            ],
            [
             0.3,
             "#f1b6da"
            ],
            [
             0.4,
             "#fde0ef"
            ],
            [
             0.5,
             "#f7f7f7"
            ],
            [
             0.6,
             "#e6f5d0"
            ],
            [
             0.7,
             "#b8e186"
            ],
            [
             0.8,
             "#7fbc41"
            ],
            [
             0.9,
             "#4d9221"
            ],
            [
             1,
             "#276419"
            ]
           ],
           "sequential": [
            [
             0,
             "#0d0887"
            ],
            [
             0.1111111111111111,
             "#46039f"
            ],
            [
             0.2222222222222222,
             "#7201a8"
            ],
            [
             0.3333333333333333,
             "#9c179e"
            ],
            [
             0.4444444444444444,
             "#bd3786"
            ],
            [
             0.5555555555555556,
             "#d8576b"
            ],
            [
             0.6666666666666666,
             "#ed7953"
            ],
            [
             0.7777777777777778,
             "#fb9f3a"
            ],
            [
             0.8888888888888888,
             "#fdca26"
            ],
            [
             1,
             "#f0f921"
            ]
           ],
           "sequentialminus": [
            [
             0,
             "#0d0887"
            ],
            [
             0.1111111111111111,
             "#46039f"
            ],
            [
             0.2222222222222222,
             "#7201a8"
            ],
            [
             0.3333333333333333,
             "#9c179e"
            ],
            [
             0.4444444444444444,
             "#bd3786"
            ],
            [
             0.5555555555555556,
             "#d8576b"
            ],
            [
             0.6666666666666666,
             "#ed7953"
            ],
            [
             0.7777777777777778,
             "#fb9f3a"
            ],
            [
             0.8888888888888888,
             "#fdca26"
            ],
            [
             1,
             "#f0f921"
            ]
           ]
          },
          "colorway": [
           "#636efa",
           "#EF553B",
           "#00cc96",
           "#ab63fa",
           "#FFA15A",
           "#19d3f3",
           "#FF6692",
           "#B6E880",
           "#FF97FF",
           "#FECB52"
          ],
          "font": {
           "color": "#2a3f5f"
          },
          "geo": {
           "bgcolor": "white",
           "lakecolor": "white",
           "landcolor": "#E5ECF6",
           "showlakes": true,
           "showland": true,
           "subunitcolor": "white"
          },
          "hoverlabel": {
           "align": "left"
          },
          "hovermode": "closest",
          "mapbox": {
           "style": "light"
          },
          "paper_bgcolor": "white",
          "plot_bgcolor": "#E5ECF6",
          "polar": {
           "angularaxis": {
            "gridcolor": "white",
            "linecolor": "white",
            "ticks": ""
           },
           "bgcolor": "#E5ECF6",
           "radialaxis": {
            "gridcolor": "white",
            "linecolor": "white",
            "ticks": ""
           }
          },
          "scene": {
           "xaxis": {
            "backgroundcolor": "#E5ECF6",
            "gridcolor": "white",
            "gridwidth": 2,
            "linecolor": "white",
            "showbackground": true,
            "ticks": "",
            "zerolinecolor": "white"
           },
           "yaxis": {
            "backgroundcolor": "#E5ECF6",
            "gridcolor": "white",
            "gridwidth": 2,
            "linecolor": "white",
            "showbackground": true,
            "ticks": "",
            "zerolinecolor": "white"
           },
           "zaxis": {
            "backgroundcolor": "#E5ECF6",
            "gridcolor": "white",
            "gridwidth": 2,
            "linecolor": "white",
            "showbackground": true,
            "ticks": "",
            "zerolinecolor": "white"
           }
          },
          "shapedefaults": {
           "line": {
            "color": "#2a3f5f"
           }
          },
          "ternary": {
           "aaxis": {
            "gridcolor": "white",
            "linecolor": "white",
            "ticks": ""
           },
           "baxis": {
            "gridcolor": "white",
            "linecolor": "white",
            "ticks": ""
           },
           "bgcolor": "#E5ECF6",
           "caxis": {
            "gridcolor": "white",
            "linecolor": "white",
            "ticks": ""
           }
          },
          "title": {
           "x": 0.05
          },
          "xaxis": {
           "automargin": true,
           "gridcolor": "white",
           "linecolor": "white",
           "ticks": "",
           "title": {
            "standoff": 15
           },
           "zerolinecolor": "white",
           "zerolinewidth": 2
          },
          "yaxis": {
           "automargin": true,
           "gridcolor": "white",
           "linecolor": "white",
           "ticks": "",
           "title": {
            "standoff": 15
           },
           "zerolinecolor": "white",
           "zerolinewidth": 2
          }
         }
        },
        "title": {
         "text": "Optimization History Plot"
        },
        "xaxis": {
         "title": {
          "text": "Trial"
         }
        },
        "yaxis": {
         "title": {
          "text": "Objective Value"
         }
        }
       }
      }
     },
     "metadata": {},
     "output_type": "display_data"
    },
    {
     "data": {
      "application/vnd.plotly.v1+json": {
       "config": {
        "plotlyServerURL": "https://plot.ly"
       },
       "data": [
        {
         "cliponaxis": false,
         "hovertemplate": [
          "gamma (FloatDistribution): 0.045107968392204045<extra></extra>",
          "kernel (CategoricalDistribution): 0.08760541208747197<extra></extra>",
          "epsilon (FloatDistribution): 0.12000200562633018<extra></extra>",
          "C (FloatDistribution): 0.7472846138939938<extra></extra>"
         ],
         "name": "Objective Value",
         "orientation": "h",
         "text": [
          "0.05",
          "0.09",
          "0.12",
          "0.75"
         ],
         "textposition": "outside",
         "type": "bar",
         "x": [
          0.045107968392204045,
          0.08760541208747197,
          0.12000200562633018,
          0.7472846138939938
         ],
         "y": [
          "gamma",
          "kernel",
          "epsilon",
          "C"
         ]
        }
       ],
       "layout": {
        "template": {
         "data": {
          "bar": [
           {
            "error_x": {
             "color": "#2a3f5f"
            },
            "error_y": {
             "color": "#2a3f5f"
            },
            "marker": {
             "line": {
              "color": "#E5ECF6",
              "width": 0.5
             },
             "pattern": {
              "fillmode": "overlay",
              "size": 10,
              "solidity": 0.2
             }
            },
            "type": "bar"
           }
          ],
          "barpolar": [
           {
            "marker": {
             "line": {
              "color": "#E5ECF6",
              "width": 0.5
             },
             "pattern": {
              "fillmode": "overlay",
              "size": 10,
              "solidity": 0.2
             }
            },
            "type": "barpolar"
           }
          ],
          "carpet": [
           {
            "aaxis": {
             "endlinecolor": "#2a3f5f",
             "gridcolor": "white",
             "linecolor": "white",
             "minorgridcolor": "white",
             "startlinecolor": "#2a3f5f"
            },
            "baxis": {
             "endlinecolor": "#2a3f5f",
             "gridcolor": "white",
             "linecolor": "white",
             "minorgridcolor": "white",
             "startlinecolor": "#2a3f5f"
            },
            "type": "carpet"
           }
          ],
          "choropleth": [
           {
            "colorbar": {
             "outlinewidth": 0,
             "ticks": ""
            },
            "type": "choropleth"
           }
          ],
          "contour": [
           {
            "colorbar": {
             "outlinewidth": 0,
             "ticks": ""
            },
            "colorscale": [
             [
              0,
              "#0d0887"
             ],
             [
              0.1111111111111111,
              "#46039f"
             ],
             [
              0.2222222222222222,
              "#7201a8"
             ],
             [
              0.3333333333333333,
              "#9c179e"
             ],
             [
              0.4444444444444444,
              "#bd3786"
             ],
             [
              0.5555555555555556,
              "#d8576b"
             ],
             [
              0.6666666666666666,
              "#ed7953"
             ],
             [
              0.7777777777777778,
              "#fb9f3a"
             ],
             [
              0.8888888888888888,
              "#fdca26"
             ],
             [
              1,
              "#f0f921"
             ]
            ],
            "type": "contour"
           }
          ],
          "contourcarpet": [
           {
            "colorbar": {
             "outlinewidth": 0,
             "ticks": ""
            },
            "type": "contourcarpet"
           }
          ],
          "heatmap": [
           {
            "colorbar": {
             "outlinewidth": 0,
             "ticks": ""
            },
            "colorscale": [
             [
              0,
              "#0d0887"
             ],
             [
              0.1111111111111111,
              "#46039f"
             ],
             [
              0.2222222222222222,
              "#7201a8"
             ],
             [
              0.3333333333333333,
              "#9c179e"
             ],
             [
              0.4444444444444444,
              "#bd3786"
             ],
             [
              0.5555555555555556,
              "#d8576b"
             ],
             [
              0.6666666666666666,
              "#ed7953"
             ],
             [
              0.7777777777777778,
              "#fb9f3a"
             ],
             [
              0.8888888888888888,
              "#fdca26"
             ],
             [
              1,
              "#f0f921"
             ]
            ],
            "type": "heatmap"
           }
          ],
          "histogram": [
           {
            "marker": {
             "pattern": {
              "fillmode": "overlay",
              "size": 10,
              "solidity": 0.2
             }
            },
            "type": "histogram"
           }
          ],
          "histogram2d": [
           {
            "colorbar": {
             "outlinewidth": 0,
             "ticks": ""
            },
            "colorscale": [
             [
              0,
              "#0d0887"
             ],
             [
              0.1111111111111111,
              "#46039f"
             ],
             [
              0.2222222222222222,
              "#7201a8"
             ],
             [
              0.3333333333333333,
              "#9c179e"
             ],
             [
              0.4444444444444444,
              "#bd3786"
             ],
             [
              0.5555555555555556,
              "#d8576b"
             ],
             [
              0.6666666666666666,
              "#ed7953"
             ],
             [
              0.7777777777777778,
              "#fb9f3a"
             ],
             [
              0.8888888888888888,
              "#fdca26"
             ],
             [
              1,
              "#f0f921"
             ]
            ],
            "type": "histogram2d"
           }
          ],
          "histogram2dcontour": [
           {
            "colorbar": {
             "outlinewidth": 0,
             "ticks": ""
            },
            "colorscale": [
             [
              0,
              "#0d0887"
             ],
             [
              0.1111111111111111,
              "#46039f"
             ],
             [
              0.2222222222222222,
              "#7201a8"
             ],
             [
              0.3333333333333333,
              "#9c179e"
             ],
             [
              0.4444444444444444,
              "#bd3786"
             ],
             [
              0.5555555555555556,
              "#d8576b"
             ],
             [
              0.6666666666666666,
              "#ed7953"
             ],
             [
              0.7777777777777778,
              "#fb9f3a"
             ],
             [
              0.8888888888888888,
              "#fdca26"
             ],
             [
              1,
              "#f0f921"
             ]
            ],
            "type": "histogram2dcontour"
           }
          ],
          "mesh3d": [
           {
            "colorbar": {
             "outlinewidth": 0,
             "ticks": ""
            },
            "type": "mesh3d"
           }
          ],
          "parcoords": [
           {
            "line": {
             "colorbar": {
              "outlinewidth": 0,
              "ticks": ""
             }
            },
            "type": "parcoords"
           }
          ],
          "pie": [
           {
            "automargin": true,
            "type": "pie"
           }
          ],
          "scatter": [
           {
            "fillpattern": {
             "fillmode": "overlay",
             "size": 10,
             "solidity": 0.2
            },
            "type": "scatter"
           }
          ],
          "scatter3d": [
           {
            "line": {
             "colorbar": {
              "outlinewidth": 0,
              "ticks": ""
             }
            },
            "marker": {
             "colorbar": {
              "outlinewidth": 0,
              "ticks": ""
             }
            },
            "type": "scatter3d"
           }
          ],
          "scattercarpet": [
           {
            "marker": {
             "colorbar": {
              "outlinewidth": 0,
              "ticks": ""
             }
            },
            "type": "scattercarpet"
           }
          ],
          "scattergeo": [
           {
            "marker": {
             "colorbar": {
              "outlinewidth": 0,
              "ticks": ""
             }
            },
            "type": "scattergeo"
           }
          ],
          "scattergl": [
           {
            "marker": {
             "colorbar": {
              "outlinewidth": 0,
              "ticks": ""
             }
            },
            "type": "scattergl"
           }
          ],
          "scattermap": [
           {
            "marker": {
             "colorbar": {
              "outlinewidth": 0,
              "ticks": ""
             }
            },
            "type": "scattermap"
           }
          ],
          "scattermapbox": [
           {
            "marker": {
             "colorbar": {
              "outlinewidth": 0,
              "ticks": ""
             }
            },
            "type": "scattermapbox"
           }
          ],
          "scatterpolar": [
           {
            "marker": {
             "colorbar": {
              "outlinewidth": 0,
              "ticks": ""
             }
            },
            "type": "scatterpolar"
           }
          ],
          "scatterpolargl": [
           {
            "marker": {
             "colorbar": {
              "outlinewidth": 0,
              "ticks": ""
             }
            },
            "type": "scatterpolargl"
           }
          ],
          "scatterternary": [
           {
            "marker": {
             "colorbar": {
              "outlinewidth": 0,
              "ticks": ""
             }
            },
            "type": "scatterternary"
           }
          ],
          "surface": [
           {
            "colorbar": {
             "outlinewidth": 0,
             "ticks": ""
            },
            "colorscale": [
             [
              0,
              "#0d0887"
             ],
             [
              0.1111111111111111,
              "#46039f"
             ],
             [
              0.2222222222222222,
              "#7201a8"
             ],
             [
              0.3333333333333333,
              "#9c179e"
             ],
             [
              0.4444444444444444,
              "#bd3786"
             ],
             [
              0.5555555555555556,
              "#d8576b"
             ],
             [
              0.6666666666666666,
              "#ed7953"
             ],
             [
              0.7777777777777778,
              "#fb9f3a"
             ],
             [
              0.8888888888888888,
              "#fdca26"
             ],
             [
              1,
              "#f0f921"
             ]
            ],
            "type": "surface"
           }
          ],
          "table": [
           {
            "cells": {
             "fill": {
              "color": "#EBF0F8"
             },
             "line": {
              "color": "white"
             }
            },
            "header": {
             "fill": {
              "color": "#C8D4E3"
             },
             "line": {
              "color": "white"
             }
            },
            "type": "table"
           }
          ]
         },
         "layout": {
          "annotationdefaults": {
           "arrowcolor": "#2a3f5f",
           "arrowhead": 0,
           "arrowwidth": 1
          },
          "autotypenumbers": "strict",
          "coloraxis": {
           "colorbar": {
            "outlinewidth": 0,
            "ticks": ""
           }
          },
          "colorscale": {
           "diverging": [
            [
             0,
             "#8e0152"
            ],
            [
             0.1,
             "#c51b7d"
            ],
            [
             0.2,
             "#de77ae"
            ],
            [
             0.3,
             "#f1b6da"
            ],
            [
             0.4,
             "#fde0ef"
            ],
            [
             0.5,
             "#f7f7f7"
            ],
            [
             0.6,
             "#e6f5d0"
            ],
            [
             0.7,
             "#b8e186"
            ],
            [
             0.8,
             "#7fbc41"
            ],
            [
             0.9,
             "#4d9221"
            ],
            [
             1,
             "#276419"
            ]
           ],
           "sequential": [
            [
             0,
             "#0d0887"
            ],
            [
             0.1111111111111111,
             "#46039f"
            ],
            [
             0.2222222222222222,
             "#7201a8"
            ],
            [
             0.3333333333333333,
             "#9c179e"
            ],
            [
             0.4444444444444444,
             "#bd3786"
            ],
            [
             0.5555555555555556,
             "#d8576b"
            ],
            [
             0.6666666666666666,
             "#ed7953"
            ],
            [
             0.7777777777777778,
             "#fb9f3a"
            ],
            [
             0.8888888888888888,
             "#fdca26"
            ],
            [
             1,
             "#f0f921"
            ]
           ],
           "sequentialminus": [
            [
             0,
             "#0d0887"
            ],
            [
             0.1111111111111111,
             "#46039f"
            ],
            [
             0.2222222222222222,
             "#7201a8"
            ],
            [
             0.3333333333333333,
             "#9c179e"
            ],
            [
             0.4444444444444444,
             "#bd3786"
            ],
            [
             0.5555555555555556,
             "#d8576b"
            ],
            [
             0.6666666666666666,
             "#ed7953"
            ],
            [
             0.7777777777777778,
             "#fb9f3a"
            ],
            [
             0.8888888888888888,
             "#fdca26"
            ],
            [
             1,
             "#f0f921"
            ]
           ]
          },
          "colorway": [
           "#636efa",
           "#EF553B",
           "#00cc96",
           "#ab63fa",
           "#FFA15A",
           "#19d3f3",
           "#FF6692",
           "#B6E880",
           "#FF97FF",
           "#FECB52"
          ],
          "font": {
           "color": "#2a3f5f"
          },
          "geo": {
           "bgcolor": "white",
           "lakecolor": "white",
           "landcolor": "#E5ECF6",
           "showlakes": true,
           "showland": true,
           "subunitcolor": "white"
          },
          "hoverlabel": {
           "align": "left"
          },
          "hovermode": "closest",
          "mapbox": {
           "style": "light"
          },
          "paper_bgcolor": "white",
          "plot_bgcolor": "#E5ECF6",
          "polar": {
           "angularaxis": {
            "gridcolor": "white",
            "linecolor": "white",
            "ticks": ""
           },
           "bgcolor": "#E5ECF6",
           "radialaxis": {
            "gridcolor": "white",
            "linecolor": "white",
            "ticks": ""
           }
          },
          "scene": {
           "xaxis": {
            "backgroundcolor": "#E5ECF6",
            "gridcolor": "white",
            "gridwidth": 2,
            "linecolor": "white",
            "showbackground": true,
            "ticks": "",
            "zerolinecolor": "white"
           },
           "yaxis": {
            "backgroundcolor": "#E5ECF6",
            "gridcolor": "white",
            "gridwidth": 2,
            "linecolor": "white",
            "showbackground": true,
            "ticks": "",
            "zerolinecolor": "white"
           },
           "zaxis": {
            "backgroundcolor": "#E5ECF6",
            "gridcolor": "white",
            "gridwidth": 2,
            "linecolor": "white",
            "showbackground": true,
            "ticks": "",
            "zerolinecolor": "white"
           }
          },
          "shapedefaults": {
           "line": {
            "color": "#2a3f5f"
           }
          },
          "ternary": {
           "aaxis": {
            "gridcolor": "white",
            "linecolor": "white",
            "ticks": ""
           },
           "baxis": {
            "gridcolor": "white",
            "linecolor": "white",
            "ticks": ""
           },
           "bgcolor": "#E5ECF6",
           "caxis": {
            "gridcolor": "white",
            "linecolor": "white",
            "ticks": ""
           }
          },
          "title": {
           "x": 0.05
          },
          "xaxis": {
           "automargin": true,
           "gridcolor": "white",
           "linecolor": "white",
           "ticks": "",
           "title": {
            "standoff": 15
           },
           "zerolinecolor": "white",
           "zerolinewidth": 2
          },
          "yaxis": {
           "automargin": true,
           "gridcolor": "white",
           "linecolor": "white",
           "ticks": "",
           "title": {
            "standoff": 15
           },
           "zerolinecolor": "white",
           "zerolinewidth": 2
          }
         }
        },
        "title": {
         "text": "Hyperparameter Importances"
        },
        "xaxis": {
         "title": {
          "text": "Hyperparameter Importance"
         }
        },
        "yaxis": {
         "title": {
          "text": "Hyperparameter"
         }
        }
       }
      }
     },
     "metadata": {},
     "output_type": "display_data"
    }
   ],
   "source": [
    "print(f\"Лучшие параметры для SVR:\")\n",
    "print(study_svr.best_params)\n",
    "print(f\"Лучший R2: {study_svr.best_value:.4f}\")\n",
    "\n",
    "fig = optuna.visualization.plot_optimization_history(study_svr)\n",
    "fig.show()\n",
    "\n",
    "fig = optuna.visualization.plot_param_importances(study_svr)\n",
    "fig.show()"
   ]
  },
  {
   "cell_type": "code",
   "execution_count": 109,
   "id": "541d16fd",
   "metadata": {},
   "outputs": [
    {
     "data": {
      "text/html": [
       "<style>#sk-container-id-4 {\n",
       "  /* Definition of color scheme common for light and dark mode */\n",
       "  --sklearn-color-text: #000;\n",
       "  --sklearn-color-text-muted: #666;\n",
       "  --sklearn-color-line: gray;\n",
       "  /* Definition of color scheme for unfitted estimators */\n",
       "  --sklearn-color-unfitted-level-0: #fff5e6;\n",
       "  --sklearn-color-unfitted-level-1: #f6e4d2;\n",
       "  --sklearn-color-unfitted-level-2: #ffe0b3;\n",
       "  --sklearn-color-unfitted-level-3: chocolate;\n",
       "  /* Definition of color scheme for fitted estimators */\n",
       "  --sklearn-color-fitted-level-0: #f0f8ff;\n",
       "  --sklearn-color-fitted-level-1: #d4ebff;\n",
       "  --sklearn-color-fitted-level-2: #b3dbfd;\n",
       "  --sklearn-color-fitted-level-3: cornflowerblue;\n",
       "\n",
       "  /* Specific color for light theme */\n",
       "  --sklearn-color-text-on-default-background: var(--sg-text-color, var(--theme-code-foreground, var(--jp-content-font-color1, black)));\n",
       "  --sklearn-color-background: var(--sg-background-color, var(--theme-background, var(--jp-layout-color0, white)));\n",
       "  --sklearn-color-border-box: var(--sg-text-color, var(--theme-code-foreground, var(--jp-content-font-color1, black)));\n",
       "  --sklearn-color-icon: #696969;\n",
       "\n",
       "  @media (prefers-color-scheme: dark) {\n",
       "    /* Redefinition of color scheme for dark theme */\n",
       "    --sklearn-color-text-on-default-background: var(--sg-text-color, var(--theme-code-foreground, var(--jp-content-font-color1, white)));\n",
       "    --sklearn-color-background: var(--sg-background-color, var(--theme-background, var(--jp-layout-color0, #111)));\n",
       "    --sklearn-color-border-box: var(--sg-text-color, var(--theme-code-foreground, var(--jp-content-font-color1, white)));\n",
       "    --sklearn-color-icon: #878787;\n",
       "  }\n",
       "}\n",
       "\n",
       "#sk-container-id-4 {\n",
       "  color: var(--sklearn-color-text);\n",
       "}\n",
       "\n",
       "#sk-container-id-4 pre {\n",
       "  padding: 0;\n",
       "}\n",
       "\n",
       "#sk-container-id-4 input.sk-hidden--visually {\n",
       "  border: 0;\n",
       "  clip: rect(1px 1px 1px 1px);\n",
       "  clip: rect(1px, 1px, 1px, 1px);\n",
       "  height: 1px;\n",
       "  margin: -1px;\n",
       "  overflow: hidden;\n",
       "  padding: 0;\n",
       "  position: absolute;\n",
       "  width: 1px;\n",
       "}\n",
       "\n",
       "#sk-container-id-4 div.sk-dashed-wrapped {\n",
       "  border: 1px dashed var(--sklearn-color-line);\n",
       "  margin: 0 0.4em 0.5em 0.4em;\n",
       "  box-sizing: border-box;\n",
       "  padding-bottom: 0.4em;\n",
       "  background-color: var(--sklearn-color-background);\n",
       "}\n",
       "\n",
       "#sk-container-id-4 div.sk-container {\n",
       "  /* jupyter's `normalize.less` sets `[hidden] { display: none; }`\n",
       "     but bootstrap.min.css set `[hidden] { display: none !important; }`\n",
       "     so we also need the `!important` here to be able to override the\n",
       "     default hidden behavior on the sphinx rendered scikit-learn.org.\n",
       "     See: https://github.com/scikit-learn/scikit-learn/issues/21755 */\n",
       "  display: inline-block !important;\n",
       "  position: relative;\n",
       "}\n",
       "\n",
       "#sk-container-id-4 div.sk-text-repr-fallback {\n",
       "  display: none;\n",
       "}\n",
       "\n",
       "div.sk-parallel-item,\n",
       "div.sk-serial,\n",
       "div.sk-item {\n",
       "  /* draw centered vertical line to link estimators */\n",
       "  background-image: linear-gradient(var(--sklearn-color-text-on-default-background), var(--sklearn-color-text-on-default-background));\n",
       "  background-size: 2px 100%;\n",
       "  background-repeat: no-repeat;\n",
       "  background-position: center center;\n",
       "}\n",
       "\n",
       "/* Parallel-specific style estimator block */\n",
       "\n",
       "#sk-container-id-4 div.sk-parallel-item::after {\n",
       "  content: \"\";\n",
       "  width: 100%;\n",
       "  border-bottom: 2px solid var(--sklearn-color-text-on-default-background);\n",
       "  flex-grow: 1;\n",
       "}\n",
       "\n",
       "#sk-container-id-4 div.sk-parallel {\n",
       "  display: flex;\n",
       "  align-items: stretch;\n",
       "  justify-content: center;\n",
       "  background-color: var(--sklearn-color-background);\n",
       "  position: relative;\n",
       "}\n",
       "\n",
       "#sk-container-id-4 div.sk-parallel-item {\n",
       "  display: flex;\n",
       "  flex-direction: column;\n",
       "}\n",
       "\n",
       "#sk-container-id-4 div.sk-parallel-item:first-child::after {\n",
       "  align-self: flex-end;\n",
       "  width: 50%;\n",
       "}\n",
       "\n",
       "#sk-container-id-4 div.sk-parallel-item:last-child::after {\n",
       "  align-self: flex-start;\n",
       "  width: 50%;\n",
       "}\n",
       "\n",
       "#sk-container-id-4 div.sk-parallel-item:only-child::after {\n",
       "  width: 0;\n",
       "}\n",
       "\n",
       "/* Serial-specific style estimator block */\n",
       "\n",
       "#sk-container-id-4 div.sk-serial {\n",
       "  display: flex;\n",
       "  flex-direction: column;\n",
       "  align-items: center;\n",
       "  background-color: var(--sklearn-color-background);\n",
       "  padding-right: 1em;\n",
       "  padding-left: 1em;\n",
       "}\n",
       "\n",
       "\n",
       "/* Toggleable style: style used for estimator/Pipeline/ColumnTransformer box that is\n",
       "clickable and can be expanded/collapsed.\n",
       "- Pipeline and ColumnTransformer use this feature and define the default style\n",
       "- Estimators will overwrite some part of the style using the `sk-estimator` class\n",
       "*/\n",
       "\n",
       "/* Pipeline and ColumnTransformer style (default) */\n",
       "\n",
       "#sk-container-id-4 div.sk-toggleable {\n",
       "  /* Default theme specific background. It is overwritten whether we have a\n",
       "  specific estimator or a Pipeline/ColumnTransformer */\n",
       "  background-color: var(--sklearn-color-background);\n",
       "}\n",
       "\n",
       "/* Toggleable label */\n",
       "#sk-container-id-4 label.sk-toggleable__label {\n",
       "  cursor: pointer;\n",
       "  display: flex;\n",
       "  width: 100%;\n",
       "  margin-bottom: 0;\n",
       "  padding: 0.5em;\n",
       "  box-sizing: border-box;\n",
       "  text-align: center;\n",
       "  align-items: start;\n",
       "  justify-content: space-between;\n",
       "  gap: 0.5em;\n",
       "}\n",
       "\n",
       "#sk-container-id-4 label.sk-toggleable__label .caption {\n",
       "  font-size: 0.6rem;\n",
       "  font-weight: lighter;\n",
       "  color: var(--sklearn-color-text-muted);\n",
       "}\n",
       "\n",
       "#sk-container-id-4 label.sk-toggleable__label-arrow:before {\n",
       "  /* Arrow on the left of the label */\n",
       "  content: \"▸\";\n",
       "  float: left;\n",
       "  margin-right: 0.25em;\n",
       "  color: var(--sklearn-color-icon);\n",
       "}\n",
       "\n",
       "#sk-container-id-4 label.sk-toggleable__label-arrow:hover:before {\n",
       "  color: var(--sklearn-color-text);\n",
       "}\n",
       "\n",
       "/* Toggleable content - dropdown */\n",
       "\n",
       "#sk-container-id-4 div.sk-toggleable__content {\n",
       "  max-height: 0;\n",
       "  max-width: 0;\n",
       "  overflow: hidden;\n",
       "  text-align: left;\n",
       "  /* unfitted */\n",
       "  background-color: var(--sklearn-color-unfitted-level-0);\n",
       "}\n",
       "\n",
       "#sk-container-id-4 div.sk-toggleable__content.fitted {\n",
       "  /* fitted */\n",
       "  background-color: var(--sklearn-color-fitted-level-0);\n",
       "}\n",
       "\n",
       "#sk-container-id-4 div.sk-toggleable__content pre {\n",
       "  margin: 0.2em;\n",
       "  border-radius: 0.25em;\n",
       "  color: var(--sklearn-color-text);\n",
       "  /* unfitted */\n",
       "  background-color: var(--sklearn-color-unfitted-level-0);\n",
       "}\n",
       "\n",
       "#sk-container-id-4 div.sk-toggleable__content.fitted pre {\n",
       "  /* unfitted */\n",
       "  background-color: var(--sklearn-color-fitted-level-0);\n",
       "}\n",
       "\n",
       "#sk-container-id-4 input.sk-toggleable__control:checked~div.sk-toggleable__content {\n",
       "  /* Expand drop-down */\n",
       "  max-height: 200px;\n",
       "  max-width: 100%;\n",
       "  overflow: auto;\n",
       "}\n",
       "\n",
       "#sk-container-id-4 input.sk-toggleable__control:checked~label.sk-toggleable__label-arrow:before {\n",
       "  content: \"▾\";\n",
       "}\n",
       "\n",
       "/* Pipeline/ColumnTransformer-specific style */\n",
       "\n",
       "#sk-container-id-4 div.sk-label input.sk-toggleable__control:checked~label.sk-toggleable__label {\n",
       "  color: var(--sklearn-color-text);\n",
       "  background-color: var(--sklearn-color-unfitted-level-2);\n",
       "}\n",
       "\n",
       "#sk-container-id-4 div.sk-label.fitted input.sk-toggleable__control:checked~label.sk-toggleable__label {\n",
       "  background-color: var(--sklearn-color-fitted-level-2);\n",
       "}\n",
       "\n",
       "/* Estimator-specific style */\n",
       "\n",
       "/* Colorize estimator box */\n",
       "#sk-container-id-4 div.sk-estimator input.sk-toggleable__control:checked~label.sk-toggleable__label {\n",
       "  /* unfitted */\n",
       "  background-color: var(--sklearn-color-unfitted-level-2);\n",
       "}\n",
       "\n",
       "#sk-container-id-4 div.sk-estimator.fitted input.sk-toggleable__control:checked~label.sk-toggleable__label {\n",
       "  /* fitted */\n",
       "  background-color: var(--sklearn-color-fitted-level-2);\n",
       "}\n",
       "\n",
       "#sk-container-id-4 div.sk-label label.sk-toggleable__label,\n",
       "#sk-container-id-4 div.sk-label label {\n",
       "  /* The background is the default theme color */\n",
       "  color: var(--sklearn-color-text-on-default-background);\n",
       "}\n",
       "\n",
       "/* On hover, darken the color of the background */\n",
       "#sk-container-id-4 div.sk-label:hover label.sk-toggleable__label {\n",
       "  color: var(--sklearn-color-text);\n",
       "  background-color: var(--sklearn-color-unfitted-level-2);\n",
       "}\n",
       "\n",
       "/* Label box, darken color on hover, fitted */\n",
       "#sk-container-id-4 div.sk-label.fitted:hover label.sk-toggleable__label.fitted {\n",
       "  color: var(--sklearn-color-text);\n",
       "  background-color: var(--sklearn-color-fitted-level-2);\n",
       "}\n",
       "\n",
       "/* Estimator label */\n",
       "\n",
       "#sk-container-id-4 div.sk-label label {\n",
       "  font-family: monospace;\n",
       "  font-weight: bold;\n",
       "  display: inline-block;\n",
       "  line-height: 1.2em;\n",
       "}\n",
       "\n",
       "#sk-container-id-4 div.sk-label-container {\n",
       "  text-align: center;\n",
       "}\n",
       "\n",
       "/* Estimator-specific */\n",
       "#sk-container-id-4 div.sk-estimator {\n",
       "  font-family: monospace;\n",
       "  border: 1px dotted var(--sklearn-color-border-box);\n",
       "  border-radius: 0.25em;\n",
       "  box-sizing: border-box;\n",
       "  margin-bottom: 0.5em;\n",
       "  /* unfitted */\n",
       "  background-color: var(--sklearn-color-unfitted-level-0);\n",
       "}\n",
       "\n",
       "#sk-container-id-4 div.sk-estimator.fitted {\n",
       "  /* fitted */\n",
       "  background-color: var(--sklearn-color-fitted-level-0);\n",
       "}\n",
       "\n",
       "/* on hover */\n",
       "#sk-container-id-4 div.sk-estimator:hover {\n",
       "  /* unfitted */\n",
       "  background-color: var(--sklearn-color-unfitted-level-2);\n",
       "}\n",
       "\n",
       "#sk-container-id-4 div.sk-estimator.fitted:hover {\n",
       "  /* fitted */\n",
       "  background-color: var(--sklearn-color-fitted-level-2);\n",
       "}\n",
       "\n",
       "/* Specification for estimator info (e.g. \"i\" and \"?\") */\n",
       "\n",
       "/* Common style for \"i\" and \"?\" */\n",
       "\n",
       ".sk-estimator-doc-link,\n",
       "a:link.sk-estimator-doc-link,\n",
       "a:visited.sk-estimator-doc-link {\n",
       "  float: right;\n",
       "  font-size: smaller;\n",
       "  line-height: 1em;\n",
       "  font-family: monospace;\n",
       "  background-color: var(--sklearn-color-background);\n",
       "  border-radius: 1em;\n",
       "  height: 1em;\n",
       "  width: 1em;\n",
       "  text-decoration: none !important;\n",
       "  margin-left: 0.5em;\n",
       "  text-align: center;\n",
       "  /* unfitted */\n",
       "  border: var(--sklearn-color-unfitted-level-1) 1pt solid;\n",
       "  color: var(--sklearn-color-unfitted-level-1);\n",
       "}\n",
       "\n",
       ".sk-estimator-doc-link.fitted,\n",
       "a:link.sk-estimator-doc-link.fitted,\n",
       "a:visited.sk-estimator-doc-link.fitted {\n",
       "  /* fitted */\n",
       "  border: var(--sklearn-color-fitted-level-1) 1pt solid;\n",
       "  color: var(--sklearn-color-fitted-level-1);\n",
       "}\n",
       "\n",
       "/* On hover */\n",
       "div.sk-estimator:hover .sk-estimator-doc-link:hover,\n",
       ".sk-estimator-doc-link:hover,\n",
       "div.sk-label-container:hover .sk-estimator-doc-link:hover,\n",
       ".sk-estimator-doc-link:hover {\n",
       "  /* unfitted */\n",
       "  background-color: var(--sklearn-color-unfitted-level-3);\n",
       "  color: var(--sklearn-color-background);\n",
       "  text-decoration: none;\n",
       "}\n",
       "\n",
       "div.sk-estimator.fitted:hover .sk-estimator-doc-link.fitted:hover,\n",
       ".sk-estimator-doc-link.fitted:hover,\n",
       "div.sk-label-container:hover .sk-estimator-doc-link.fitted:hover,\n",
       ".sk-estimator-doc-link.fitted:hover {\n",
       "  /* fitted */\n",
       "  background-color: var(--sklearn-color-fitted-level-3);\n",
       "  color: var(--sklearn-color-background);\n",
       "  text-decoration: none;\n",
       "}\n",
       "\n",
       "/* Span, style for the box shown on hovering the info icon */\n",
       ".sk-estimator-doc-link span {\n",
       "  display: none;\n",
       "  z-index: 9999;\n",
       "  position: relative;\n",
       "  font-weight: normal;\n",
       "  right: .2ex;\n",
       "  padding: .5ex;\n",
       "  margin: .5ex;\n",
       "  width: min-content;\n",
       "  min-width: 20ex;\n",
       "  max-width: 50ex;\n",
       "  color: var(--sklearn-color-text);\n",
       "  box-shadow: 2pt 2pt 4pt #999;\n",
       "  /* unfitted */\n",
       "  background: var(--sklearn-color-unfitted-level-0);\n",
       "  border: .5pt solid var(--sklearn-color-unfitted-level-3);\n",
       "}\n",
       "\n",
       ".sk-estimator-doc-link.fitted span {\n",
       "  /* fitted */\n",
       "  background: var(--sklearn-color-fitted-level-0);\n",
       "  border: var(--sklearn-color-fitted-level-3);\n",
       "}\n",
       "\n",
       ".sk-estimator-doc-link:hover span {\n",
       "  display: block;\n",
       "}\n",
       "\n",
       "/* \"?\"-specific style due to the `<a>` HTML tag */\n",
       "\n",
       "#sk-container-id-4 a.estimator_doc_link {\n",
       "  float: right;\n",
       "  font-size: 1rem;\n",
       "  line-height: 1em;\n",
       "  font-family: monospace;\n",
       "  background-color: var(--sklearn-color-background);\n",
       "  border-radius: 1rem;\n",
       "  height: 1rem;\n",
       "  width: 1rem;\n",
       "  text-decoration: none;\n",
       "  /* unfitted */\n",
       "  color: var(--sklearn-color-unfitted-level-1);\n",
       "  border: var(--sklearn-color-unfitted-level-1) 1pt solid;\n",
       "}\n",
       "\n",
       "#sk-container-id-4 a.estimator_doc_link.fitted {\n",
       "  /* fitted */\n",
       "  border: var(--sklearn-color-fitted-level-1) 1pt solid;\n",
       "  color: var(--sklearn-color-fitted-level-1);\n",
       "}\n",
       "\n",
       "/* On hover */\n",
       "#sk-container-id-4 a.estimator_doc_link:hover {\n",
       "  /* unfitted */\n",
       "  background-color: var(--sklearn-color-unfitted-level-3);\n",
       "  color: var(--sklearn-color-background);\n",
       "  text-decoration: none;\n",
       "}\n",
       "\n",
       "#sk-container-id-4 a.estimator_doc_link.fitted:hover {\n",
       "  /* fitted */\n",
       "  background-color: var(--sklearn-color-fitted-level-3);\n",
       "}\n",
       "</style><div id=\"sk-container-id-4\" class=\"sk-top-container\"><div class=\"sk-text-repr-fallback\"><pre>SVR(C=79.58994628965861, epsilon=0.07563923559558342, gamma=0.08278674490518691)</pre><b>In a Jupyter environment, please rerun this cell to show the HTML representation or trust the notebook. <br />On GitHub, the HTML representation is unable to render, please try loading this page with nbviewer.org.</b></div><div class=\"sk-container\" hidden><div class=\"sk-item\"><div class=\"sk-estimator fitted sk-toggleable\"><input class=\"sk-toggleable__control sk-hidden--visually\" id=\"sk-estimator-id-4\" type=\"checkbox\" checked><label for=\"sk-estimator-id-4\" class=\"sk-toggleable__label fitted sk-toggleable__label-arrow\"><div><div>SVR</div></div><div><a class=\"sk-estimator-doc-link fitted\" rel=\"noreferrer\" target=\"_blank\" href=\"https://scikit-learn.org/1.6/modules/generated/sklearn.svm.SVR.html\">?<span>Documentation for SVR</span></a><span class=\"sk-estimator-doc-link fitted\">i<span>Fitted</span></span></div></label><div class=\"sk-toggleable__content fitted\"><pre>SVR(C=79.58994628965861, epsilon=0.07563923559558342, gamma=0.08278674490518691)</pre></div> </div></div></div></div>"
      ],
      "text/plain": [
       "SVR(C=79.58994628965861, epsilon=0.07563923559558342, gamma=0.08278674490518691)"
      ]
     },
     "execution_count": 109,
     "metadata": {},
     "output_type": "execute_result"
    }
   ],
   "source": [
    "best_svr_model = SVR(\n",
    "    **study_svr.best_params\n",
    ")\n",
    "best_svr_model.fit(X_train, y_train_ic50)"
   ]
  },
  {
   "cell_type": "markdown",
   "id": "3fcbabba",
   "metadata": {},
   "source": [
    "#### Оценка модели на лучшем наборе данных"
   ]
  },
  {
   "cell_type": "code",
   "execution_count": 110,
   "id": "b6333d4d",
   "metadata": {},
   "outputs": [
    {
     "name": "stdout",
     "output_type": "stream",
     "text": [
      "\n",
      "Final Metrics on Test Set:\n",
      "R2: 0.0948\n",
      "RMSE: 102.8978\n",
      "MAE: 27.2800\n",
      "MAPE: 3.6754\n"
     ]
    }
   ],
   "source": [
    "y_pred_best_svr = best_svr_model.predict(X_test)\n",
    "\n",
    "final_metrics_svr = {metric_name: metric_func(y_test_ic50, y_pred_best_svr) \n",
    "                 for metric_name, metric_func in metrics.items()}\n",
    "\n",
    "print(\"\\nFinal Metrics on Test Set:\")\n",
    "for metric, value in final_metrics_svr.items():\n",
    "    print(f\"{metric}: {value:.4f}\")"
   ]
  },
  {
   "cell_type": "code",
   "execution_count": 111,
   "id": "133984ae",
   "metadata": {},
   "outputs": [
    {
     "data": {
      "image/png": "[encoded data removed]",
      "text/plain": [
       "<Figure size 1000x600 with 1 Axes>"
      ]
     },
     "metadata": {},
     "output_type": "display_data"
    }
   ],
   "source": [
    "plt.figure(figsize=(10, 6))\n",
    "plt.scatter(y_test_ic50, y_pred_best_svr, alpha=0.5)\n",
    "plt.plot([min(y_test_ic50), max(y_test_ic50)], \n",
    "         [min(y_test_ic50), max(y_test_ic50)], 'r--')\n",
    "plt.xlabel('True SI')\n",
    "plt.ylabel('Predicted SI')\n",
    "plt.title('True vs Predicted SI Values')\n",
    "plt.grid(True)\n",
    "plt.show()"
   ]
  },
  {
   "cell_type": "markdown",
   "id": "87a7dd94",
   "metadata": {},
   "source": [
    "#### Анализ важности признаков"
   ]
  },
  {
   "cell_type": "code",
   "execution_count": 112,
   "id": "48d4e676",
   "metadata": {},
   "outputs": [],
   "source": [
    "if hasattr(best_svr_model, 'feature_importances_'):\n",
    "    importances = best_svr_model.feature_importances_\n",
    "    feature_names = X.columns if isinstance(X, pd.DataFrame) else [f\"Feature {i}\" for i in range(X.shape[1])]\n",
    "    \n",
    "    sorted_idx = importances.argsort()[::-1]\n",
    "    top_features = 20\n",
    "    \n",
    "    plt.figure(figsize=(12, 8))\n",
    "    plt.barh(range(top_features), importances[sorted_idx][:top_features], align='center')\n",
    "    plt.yticks(range(top_features), [feature_names[i] for i in sorted_idx[:top_features]])\n",
    "    plt.gca().invert_yaxis()\n",
    "    plt.xlabel('Feature Importance')\n",
    "    plt.title('Top Important Features for SI Prediction')\n",
    "    plt.tight_layout()\n",
    "    plt.show()"
   ]
  },
  {
   "cell_type": "markdown",
   "id": "841b6143",
   "metadata": {},
   "source": [
    "## Сравнение моделей"
   ]
  },
  {
   "cell_type": "code",
   "execution_count": 113,
   "id": "e070a47e",
   "metadata": {},
   "outputs": [],
   "source": [
    "metrics_comparisson = {\n",
    "    \"RF\": final_metrics_rf,\n",
    "    \"XGB\": final_metrics_xgb,\n",
    "    \"SVR\": final_metrics_svr\n",
    "}\n",
    "\n",
    "df_metrics = pd.DataFrame(metrics_comparisson)"
   ]
  },
  {
   "cell_type": "code",
   "execution_count": 114,
   "id": "e0e512c0",
   "metadata": {},
   "outputs": [
    {
     "data": {
      "text/html": [
       "<div>\n",
       "<style scoped>\n",
       "    .dataframe tbody tr th:only-of-type {\n",
       "        vertical-align: middle;\n",
       "    }\n",
       "\n",
       "    .dataframe tbody tr th {\n",
       "        vertical-align: top;\n",
       "    }\n",
       "\n",
       "    .dataframe thead th {\n",
       "        text-align: right;\n",
       "    }\n",
       "</style>\n",
       "<table border=\"1\" class=\"dataframe\">\n",
       "  <thead>\n",
       "    <tr style=\"text-align: right;\">\n",
       "      <th></th>\n",
       "      <th>RF</th>\n",
       "      <th>XGB</th>\n",
       "      <th>SVR</th>\n",
       "    </tr>\n",
       "  </thead>\n",
       "  <tbody>\n",
       "    <tr>\n",
       "      <th>R2</th>\n",
       "      <td>0.425513</td>\n",
       "      <td>0.267701</td>\n",
       "      <td>0.094795</td>\n",
       "    </tr>\n",
       "    <tr>\n",
       "      <th>RMSE</th>\n",
       "      <td>81.973375</td>\n",
       "      <td>92.550118</td>\n",
       "      <td>102.897833</td>\n",
       "    </tr>\n",
       "    <tr>\n",
       "      <th>MAE</th>\n",
       "      <td>28.386445</td>\n",
       "      <td>31.144393</td>\n",
       "      <td>27.279992</td>\n",
       "    </tr>\n",
       "    <tr>\n",
       "      <th>MAPE</th>\n",
       "      <td>12.082823</td>\n",
       "      <td>10.561119</td>\n",
       "      <td>3.675364</td>\n",
       "    </tr>\n",
       "  </tbody>\n",
       "</table>\n",
       "</div>"
      ],
      "text/plain": [
       "             RF        XGB         SVR\n",
       "R2     0.425513   0.267701    0.094795\n",
       "RMSE  81.973375  92.550118  102.897833\n",
       "MAE   28.386445  31.144393   27.279992\n",
       "MAPE  12.082823  10.561119    3.675364"
      ]
     },
     "execution_count": 114,
     "metadata": {},
     "output_type": "execute_result"
    }
   ],
   "source": [
    "df_metrics"
   ]
  },
  {
   "cell_type": "code",
   "execution_count": 115,
   "id": "485de52c",
   "metadata": {},
   "outputs": [
    {
     "name": "stderr",
     "output_type": "stream",
     "text": [
      "/opt/anaconda3/envs/arima-env/lib/python3.11/site-packages/seaborn/axisgrid.py:854: FutureWarning:\n",
      "\n",
      "\n",
      "\n",
      "The `ci` parameter is deprecated. Use `errorbar=None` for the same effect.\n",
      "\n",
      "\n",
      "/opt/anaconda3/envs/arima-env/lib/python3.11/site-packages/seaborn/axisgrid.py:854: FutureWarning:\n",
      "\n",
      "\n",
      "\n",
      "Passing `palette` without assigning `hue` is deprecated and will be removed in v0.14.0. Assign the `x` variable to `hue` and set `legend=False` for the same effect.\n",
      "\n",
      "\n",
      "/opt/anaconda3/envs/arima-env/lib/python3.11/site-packages/seaborn/axisgrid.py:854: FutureWarning:\n",
      "\n",
      "\n",
      "\n",
      "The `ci` parameter is deprecated. Use `errorbar=None` for the same effect.\n",
      "\n",
      "\n",
      "/opt/anaconda3/envs/arima-env/lib/python3.11/site-packages/seaborn/axisgrid.py:854: FutureWarning:\n",
      "\n",
      "\n",
      "\n",
      "Passing `palette` without assigning `hue` is deprecated and will be removed in v0.14.0. Assign the `x` variable to `hue` and set `legend=False` for the same effect.\n",
      "\n",
      "\n",
      "/opt/anaconda3/envs/arima-env/lib/python3.11/site-packages/seaborn/axisgrid.py:854: FutureWarning:\n",
      "\n",
      "\n",
      "\n",
      "The `ci` parameter is deprecated. Use `errorbar=None` for the same effect.\n",
      "\n",
      "\n",
      "/opt/anaconda3/envs/arima-env/lib/python3.11/site-packages/seaborn/axisgrid.py:854: FutureWarning:\n",
      "\n",
      "\n",
      "\n",
      "Passing `palette` without assigning `hue` is deprecated and will be removed in v0.14.0. Assign the `x` variable to `hue` and set `legend=False` for the same effect.\n",
      "\n",
      "\n",
      "/opt/anaconda3/envs/arima-env/lib/python3.11/site-packages/seaborn/axisgrid.py:854: FutureWarning:\n",
      "\n",
      "\n",
      "\n",
      "The `ci` parameter is deprecated. Use `errorbar=None` for the same effect.\n",
      "\n",
      "\n",
      "/opt/anaconda3/envs/arima-env/lib/python3.11/site-packages/seaborn/axisgrid.py:854: FutureWarning:\n",
      "\n",
      "\n",
      "\n",
      "Passing `palette` without assigning `hue` is deprecated and will be removed in v0.14.0. Assign the `x` variable to `hue` and set `legend=False` for the same effect.\n",
      "\n",
      "\n"
     ]
    },
    {
     "data": {
      "image/png": "[encoded data removed]",
      "text/plain": [
       "<Figure size 600x600 with 4 Axes>"
      ]
     },
     "metadata": {},
     "output_type": "display_data"
    }
   ],
   "source": [
    "plot_data = df_metrics.T.reset_index().melt(id_vars='index', var_name='Metric', value_name='Value')\n",
    "\n",
    "palette = sns.color_palette(\"viridis\", n_colors=len(plot_data['index'].unique()))\n",
    "\n",
    "g = sns.FacetGrid(plot_data, col=\"Metric\", col_wrap=2, sharey=False)\n",
    "g.map_dataframe(sns.barplot, x=\"index\", y=\"Value\", palette=palette, ci=None)\n",
    "g.set_titles(\"{col_name}\")\n",
    "\n",
    "for ax in g.axes:\n",
    "    for p in ax.patches:\n",
    "        ax.annotate(f\"{p.get_height():.2f}\", \n",
    "                    (p.get_x() + p.get_width() / 2., p.get_height()),\n",
    "                    ha='center', va='center', fontsize=10, color='black', xytext=(0, 5),\n",
    "                    textcoords='offset points')\n",
    "\n",
    "g.tight_layout()\n",
    "plt.show()"
   ]
  },
  {
   "cell_type": "markdown",
   "id": "88c8b0fc",
   "metadata": {},
   "source": [
    "Очевидно, Random Forest является лучшей моделью"
   ]
  }
 ],
 "metadata": {
  "kernelspec": {
   "display_name": "arima-env",
   "language": "python",
   "name": "python3"
  },
  "language_info": {
   "codemirror_mode": {
    "name": "ipython",
    "version": 3
   },
   "file_extension": ".py",
   "mimetype": "text/x-python",
   "name": "python",
   "nbconvert_exporter": "python",
   "pygments_lexer": "ipython3",
   "version": "3.11.8"
  }
 },
 "nbformat": 4,
 "nbformat_minor": 5
}
