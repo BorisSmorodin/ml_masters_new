{
 "cells": [
  {
   "cell_type": "markdown",
   "id": "9e334128",
   "metadata": {},
   "source": [
    "# Регрессия IC50"
   ]
  },
  {
   "cell_type": "code",
   "execution_count": 86,
   "id": "5f585e21",
   "metadata": {},
   "outputs": [],
   "source": [
    "import pandas as pd\n",
    "import matplotlib.pyplot as plt\n",
    "import seaborn as sns\n",
    "import numpy as np"
   ]
  },
  {
   "cell_type": "markdown",
   "id": "202cd2ba",
   "metadata": {},
   "source": [
    "## Загрузка данных и разделение на выборки"
   ]
  },
  {
   "cell_type": "code",
   "execution_count": 87,
   "id": "2fca8326",
   "metadata": {},
   "outputs": [],
   "source": [
    "from sklearn.model_selection import train_test_split"
   ]
  },
  {
   "cell_type": "code",
   "execution_count": 88,
   "id": "1635857c",
   "metadata": {},
   "outputs": [],
   "source": [
    "target = 'SI'"
   ]
  },
  {
   "cell_type": "code",
   "execution_count": 89,
   "id": "2eb23e9b",
   "metadata": {},
   "outputs": [],
   "source": [
    "df = pd.read_parquet(\"data/processed_data_full.parquet\")"
   ]
  },
  {
   "cell_type": "code",
   "execution_count": 90,
   "id": "00851146",
   "metadata": {},
   "outputs": [
    {
     "data": {
      "text/html": [
       "<div>\n",
       "<style scoped>\n",
       "    .dataframe tbody tr th:only-of-type {\n",
       "        vertical-align: middle;\n",
       "    }\n",
       "\n",
       "    .dataframe tbody tr th {\n",
       "        vertical-align: top;\n",
       "    }\n",
       "\n",
       "    .dataframe thead th {\n",
       "        text-align: right;\n",
       "    }\n",
       "</style>\n",
       "<table border=\"1\" class=\"dataframe\">\n",
       "  <thead>\n",
       "    <tr style=\"text-align: right;\">\n",
       "      <th></th>\n",
       "      <th>MaxAbsEStateIndex</th>\n",
       "      <th>MinAbsEStateIndex</th>\n",
       "      <th>MinEStateIndex</th>\n",
       "      <th>qed</th>\n",
       "      <th>SPS</th>\n",
       "      <th>MolWt</th>\n",
       "      <th>MaxPartialCharge</th>\n",
       "      <th>MinPartialCharge</th>\n",
       "      <th>FpDensityMorgan1</th>\n",
       "      <th>BCUT2D_MWHI</th>\n",
       "      <th>...</th>\n",
       "      <th>fr_sulfone</th>\n",
       "      <th>fr_term_acetylene</th>\n",
       "      <th>fr_tetrazole</th>\n",
       "      <th>fr_thiazole</th>\n",
       "      <th>fr_thiophene</th>\n",
       "      <th>fr_unbrch_alkane</th>\n",
       "      <th>fr_urea</th>\n",
       "      <th>IC50, mM</th>\n",
       "      <th>CC50, mM</th>\n",
       "      <th>SI</th>\n",
       "    </tr>\n",
       "  </thead>\n",
       "  <tbody>\n",
       "    <tr>\n",
       "      <th>0</th>\n",
       "      <td>-1.763647</td>\n",
       "      <td>1.227715</td>\n",
       "      <td>0.858123</td>\n",
       "      <td>-0.755891</td>\n",
       "      <td>1.073323</td>\n",
       "      <td>0.258081</td>\n",
       "      <td>-1.556297</td>\n",
       "      <td>1.522921</td>\n",
       "      <td>-2.064995</td>\n",
       "      <td>-0.581532</td>\n",
       "      <td>...</td>\n",
       "      <td>-0.096976</td>\n",
       "      <td>-0.032191</td>\n",
       "      <td>-0.032191</td>\n",
       "      <td>-0.238522</td>\n",
       "      <td>-0.27518</td>\n",
       "      <td>2.264143</td>\n",
       "      <td>-0.085436</td>\n",
       "      <td>6.239374</td>\n",
       "      <td>175.482382</td>\n",
       "      <td>28.125000</td>\n",
       "    </tr>\n",
       "    <tr>\n",
       "      <th>1</th>\n",
       "      <td>-2.108224</td>\n",
       "      <td>2.095440</td>\n",
       "      <td>0.951585</td>\n",
       "      <td>-0.544168</td>\n",
       "      <td>1.254983</td>\n",
       "      <td>0.289724</td>\n",
       "      <td>-1.759553</td>\n",
       "      <td>1.260180</td>\n",
       "      <td>-2.212699</td>\n",
       "      <td>-0.571135</td>\n",
       "      <td>...</td>\n",
       "      <td>-0.096976</td>\n",
       "      <td>-0.032191</td>\n",
       "      <td>-0.032191</td>\n",
       "      <td>-0.238522</td>\n",
       "      <td>-0.27518</td>\n",
       "      <td>2.264143</td>\n",
       "      <td>-0.085436</td>\n",
       "      <td>0.771831</td>\n",
       "      <td>5.402819</td>\n",
       "      <td>7.000000</td>\n",
       "    </tr>\n",
       "    <tr>\n",
       "      <th>2</th>\n",
       "      <td>-2.514136</td>\n",
       "      <td>2.150839</td>\n",
       "      <td>0.957552</td>\n",
       "      <td>-1.490120</td>\n",
       "      <td>1.014426</td>\n",
       "      <td>0.745889</td>\n",
       "      <td>-1.118121</td>\n",
       "      <td>1.099403</td>\n",
       "      <td>-2.397328</td>\n",
       "      <td>-0.545366</td>\n",
       "      <td>...</td>\n",
       "      <td>-0.096976</td>\n",
       "      <td>-0.032191</td>\n",
       "      <td>-0.032191</td>\n",
       "      <td>-0.238522</td>\n",
       "      <td>-0.27518</td>\n",
       "      <td>2.264143</td>\n",
       "      <td>-0.085436</td>\n",
       "      <td>223.808778</td>\n",
       "      <td>161.142320</td>\n",
       "      <td>0.720000</td>\n",
       "    </tr>\n",
       "    <tr>\n",
       "      <th>3</th>\n",
       "      <td>-1.762654</td>\n",
       "      <td>1.247702</td>\n",
       "      <td>0.860276</td>\n",
       "      <td>-0.941357</td>\n",
       "      <td>0.988562</td>\n",
       "      <td>0.368166</td>\n",
       "      <td>-1.556297</td>\n",
       "      <td>1.522921</td>\n",
       "      <td>-2.156673</td>\n",
       "      <td>-0.581603</td>\n",
       "      <td>...</td>\n",
       "      <td>-0.096976</td>\n",
       "      <td>-0.032191</td>\n",
       "      <td>-0.032191</td>\n",
       "      <td>-0.238522</td>\n",
       "      <td>-0.27518</td>\n",
       "      <td>3.075405</td>\n",
       "      <td>-0.085436</td>\n",
       "      <td>1.705624</td>\n",
       "      <td>107.855654</td>\n",
       "      <td>63.235294</td>\n",
       "    </tr>\n",
       "    <tr>\n",
       "      <th>4</th>\n",
       "      <td>-1.746485</td>\n",
       "      <td>0.536885</td>\n",
       "      <td>0.783714</td>\n",
       "      <td>-0.701088</td>\n",
       "      <td>0.563542</td>\n",
       "      <td>0.902106</td>\n",
       "      <td>-1.367945</td>\n",
       "      <td>2.002451</td>\n",
       "      <td>-2.242239</td>\n",
       "      <td>-0.580930</td>\n",
       "      <td>...</td>\n",
       "      <td>-0.096976</td>\n",
       "      <td>-0.032191</td>\n",
       "      <td>-0.032191</td>\n",
       "      <td>-0.238522</td>\n",
       "      <td>-0.27518</td>\n",
       "      <td>-0.169643</td>\n",
       "      <td>-0.085436</td>\n",
       "      <td>107.131532</td>\n",
       "      <td>139.270991</td>\n",
       "      <td>1.300000</td>\n",
       "    </tr>\n",
       "    <tr>\n",
       "      <th>...</th>\n",
       "      <td>...</td>\n",
       "      <td>...</td>\n",
       "      <td>...</td>\n",
       "      <td>...</td>\n",
       "      <td>...</td>\n",
       "      <td>...</td>\n",
       "      <td>...</td>\n",
       "      <td>...</td>\n",
       "      <td>...</td>\n",
       "      <td>...</td>\n",
       "      <td>...</td>\n",
       "      <td>...</td>\n",
       "      <td>...</td>\n",
       "      <td>...</td>\n",
       "      <td>...</td>\n",
       "      <td>...</td>\n",
       "      <td>...</td>\n",
       "      <td>...</td>\n",
       "      <td>...</td>\n",
       "      <td>...</td>\n",
       "      <td>...</td>\n",
       "    </tr>\n",
       "    <tr>\n",
       "      <th>961</th>\n",
       "      <td>0.621634</td>\n",
       "      <td>-0.779389</td>\n",
       "      <td>0.307862</td>\n",
       "      <td>-0.918328</td>\n",
       "      <td>1.566453</td>\n",
       "      <td>0.492661</td>\n",
       "      <td>0.628761</td>\n",
       "      <td>-0.790557</td>\n",
       "      <td>-0.036530</td>\n",
       "      <td>-0.461498</td>\n",
       "      <td>...</td>\n",
       "      <td>-0.096976</td>\n",
       "      <td>-0.032191</td>\n",
       "      <td>-0.032191</td>\n",
       "      <td>-0.238522</td>\n",
       "      <td>-0.27518</td>\n",
       "      <td>-0.169643</td>\n",
       "      <td>-0.085436</td>\n",
       "      <td>31.000104</td>\n",
       "      <td>34.999650</td>\n",
       "      <td>1.129017</td>\n",
       "    </tr>\n",
       "    <tr>\n",
       "      <th>962</th>\n",
       "      <td>0.834722</td>\n",
       "      <td>-0.884119</td>\n",
       "      <td>0.165598</td>\n",
       "      <td>-0.980878</td>\n",
       "      <td>1.201620</td>\n",
       "      <td>1.050498</td>\n",
       "      <td>0.704502</td>\n",
       "      <td>-0.776102</td>\n",
       "      <td>-0.233468</td>\n",
       "      <td>-0.461496</td>\n",
       "      <td>...</td>\n",
       "      <td>-0.096976</td>\n",
       "      <td>-0.032191</td>\n",
       "      <td>-0.032191</td>\n",
       "      <td>-0.238522</td>\n",
       "      <td>-0.27518</td>\n",
       "      <td>-0.169643</td>\n",
       "      <td>-0.085436</td>\n",
       "      <td>31.999934</td>\n",
       "      <td>33.999415</td>\n",
       "      <td>1.062484</td>\n",
       "    </tr>\n",
       "    <tr>\n",
       "      <th>963</th>\n",
       "      <td>0.943127</td>\n",
       "      <td>-0.906571</td>\n",
       "      <td>0.196551</td>\n",
       "      <td>-1.377478</td>\n",
       "      <td>0.997433</td>\n",
       "      <td>1.522336</td>\n",
       "      <td>0.707042</td>\n",
       "      <td>-0.775993</td>\n",
       "      <td>0.065049</td>\n",
       "      <td>0.598260</td>\n",
       "      <td>...</td>\n",
       "      <td>-0.096976</td>\n",
       "      <td>-0.032191</td>\n",
       "      <td>-0.032191</td>\n",
       "      <td>-0.238522</td>\n",
       "      <td>-0.27518</td>\n",
       "      <td>-0.169643</td>\n",
       "      <td>-0.085436</td>\n",
       "      <td>30.999883</td>\n",
       "      <td>33.999458</td>\n",
       "      <td>1.096761</td>\n",
       "    </tr>\n",
       "    <tr>\n",
       "      <th>964</th>\n",
       "      <td>0.893994</td>\n",
       "      <td>-0.196583</td>\n",
       "      <td>-0.286468</td>\n",
       "      <td>-0.923926</td>\n",
       "      <td>0.761096</td>\n",
       "      <td>1.340989</td>\n",
       "      <td>0.586631</td>\n",
       "      <td>-0.792770</td>\n",
       "      <td>-1.593940</td>\n",
       "      <td>-0.464683</td>\n",
       "      <td>...</td>\n",
       "      <td>-0.096976</td>\n",
       "      <td>-0.032191</td>\n",
       "      <td>-0.032191</td>\n",
       "      <td>-0.238522</td>\n",
       "      <td>-0.27518</td>\n",
       "      <td>-0.169643</td>\n",
       "      <td>-0.085436</td>\n",
       "      <td>31.998959</td>\n",
       "      <td>32.999644</td>\n",
       "      <td>1.031272</td>\n",
       "    </tr>\n",
       "    <tr>\n",
       "      <th>965</th>\n",
       "      <td>0.757305</td>\n",
       "      <td>-1.049237</td>\n",
       "      <td>0.325811</td>\n",
       "      <td>-0.590671</td>\n",
       "      <td>1.522527</td>\n",
       "      <td>0.587270</td>\n",
       "      <td>0.577248</td>\n",
       "      <td>-0.790557</td>\n",
       "      <td>-0.321138</td>\n",
       "      <td>-0.465692</td>\n",
       "      <td>...</td>\n",
       "      <td>-0.096976</td>\n",
       "      <td>-0.032191</td>\n",
       "      <td>-0.032191</td>\n",
       "      <td>-0.238522</td>\n",
       "      <td>-0.27518</td>\n",
       "      <td>-0.169643</td>\n",
       "      <td>-0.085436</td>\n",
       "      <td>99.999531</td>\n",
       "      <td>99.999531</td>\n",
       "      <td>1.000000</td>\n",
       "    </tr>\n",
       "  </tbody>\n",
       "</table>\n",
       "<p>966 rows × 148 columns</p>\n",
       "</div>"
      ],
      "text/plain": [
       "     MaxAbsEStateIndex  MinAbsEStateIndex  MinEStateIndex       qed       SPS  \\\n",
       "0            -1.763647           1.227715        0.858123 -0.755891  1.073323   \n",
       "1            -2.108224           2.095440        0.951585 -0.544168  1.254983   \n",
       "2            -2.514136           2.150839        0.957552 -1.490120  1.014426   \n",
       "3            -1.762654           1.247702        0.860276 -0.941357  0.988562   \n",
       "4            -1.746485           0.536885        0.783714 -0.701088  0.563542   \n",
       "..                 ...                ...             ...       ...       ...   \n",
       "961           0.621634          -0.779389        0.307862 -0.918328  1.566453   \n",
       "962           0.834722          -0.884119        0.165598 -0.980878  1.201620   \n",
       "963           0.943127          -0.906571        0.196551 -1.377478  0.997433   \n",
       "964           0.893994          -0.196583       -0.286468 -0.923926  0.761096   \n",
       "965           0.757305          -1.049237        0.325811 -0.590671  1.522527   \n",
       "\n",
       "        MolWt  MaxPartialCharge  MinPartialCharge  FpDensityMorgan1  \\\n",
       "0    0.258081         -1.556297          1.522921         -2.064995   \n",
       "1    0.289724         -1.759553          1.260180         -2.212699   \n",
       "2    0.745889         -1.118121          1.099403         -2.397328   \n",
       "3    0.368166         -1.556297          1.522921         -2.156673   \n",
       "4    0.902106         -1.367945          2.002451         -2.242239   \n",
       "..        ...               ...               ...               ...   \n",
       "961  0.492661          0.628761         -0.790557         -0.036530   \n",
       "962  1.050498          0.704502         -0.776102         -0.233468   \n",
       "963  1.522336          0.707042         -0.775993          0.065049   \n",
       "964  1.340989          0.586631         -0.792770         -1.593940   \n",
       "965  0.587270          0.577248         -0.790557         -0.321138   \n",
       "\n",
       "     BCUT2D_MWHI  ...  fr_sulfone  fr_term_acetylene  fr_tetrazole  \\\n",
       "0      -0.581532  ...   -0.096976          -0.032191     -0.032191   \n",
       "1      -0.571135  ...   -0.096976          -0.032191     -0.032191   \n",
       "2      -0.545366  ...   -0.096976          -0.032191     -0.032191   \n",
       "3      -0.581603  ...   -0.096976          -0.032191     -0.032191   \n",
       "4      -0.580930  ...   -0.096976          -0.032191     -0.032191   \n",
       "..           ...  ...         ...                ...           ...   \n",
       "961    -0.461498  ...   -0.096976          -0.032191     -0.032191   \n",
       "962    -0.461496  ...   -0.096976          -0.032191     -0.032191   \n",
       "963     0.598260  ...   -0.096976          -0.032191     -0.032191   \n",
       "964    -0.464683  ...   -0.096976          -0.032191     -0.032191   \n",
       "965    -0.465692  ...   -0.096976          -0.032191     -0.032191   \n",
       "\n",
       "     fr_thiazole  fr_thiophene  fr_unbrch_alkane   fr_urea    IC50, mM  \\\n",
       "0      -0.238522      -0.27518          2.264143 -0.085436    6.239374   \n",
       "1      -0.238522      -0.27518          2.264143 -0.085436    0.771831   \n",
       "2      -0.238522      -0.27518          2.264143 -0.085436  223.808778   \n",
       "3      -0.238522      -0.27518          3.075405 -0.085436    1.705624   \n",
       "4      -0.238522      -0.27518         -0.169643 -0.085436  107.131532   \n",
       "..           ...           ...               ...       ...         ...   \n",
       "961    -0.238522      -0.27518         -0.169643 -0.085436   31.000104   \n",
       "962    -0.238522      -0.27518         -0.169643 -0.085436   31.999934   \n",
       "963    -0.238522      -0.27518         -0.169643 -0.085436   30.999883   \n",
       "964    -0.238522      -0.27518         -0.169643 -0.085436   31.998959   \n",
       "965    -0.238522      -0.27518         -0.169643 -0.085436   99.999531   \n",
       "\n",
       "       CC50, mM         SI  \n",
       "0    175.482382  28.125000  \n",
       "1      5.402819   7.000000  \n",
       "2    161.142320   0.720000  \n",
       "3    107.855654  63.235294  \n",
       "4    139.270991   1.300000  \n",
       "..          ...        ...  \n",
       "961   34.999650   1.129017  \n",
       "962   33.999415   1.062484  \n",
       "963   33.999458   1.096761  \n",
       "964   32.999644   1.031272  \n",
       "965   99.999531   1.000000  \n",
       "\n",
       "[966 rows x 148 columns]"
      ]
     },
     "execution_count": 90,
     "metadata": {},
     "output_type": "execute_result"
    }
   ],
   "source": [
    "df"
   ]
  },
  {
   "cell_type": "code",
   "execution_count": 91,
   "id": "00e73eb6",
   "metadata": {},
   "outputs": [
    {
     "data": {
      "image/png": "[encoded data removed]",
      "text/plain": [
       "<Figure size 1200x400 with 1 Axes>"
      ]
     },
     "metadata": {},
     "output_type": "display_data"
    }
   ],
   "source": [
    "plt.figure(figsize=(12, 4))\n",
    "\n",
    "sns.boxplot(x=df[target])\n",
    "\n",
    "plt.title(f'Boxplot для {target}')\n",
    "plt.tight_layout()\n",
    "plt.show()"
   ]
  },
  {
   "cell_type": "code",
   "execution_count": 92,
   "id": "802f37d2",
   "metadata": {},
   "outputs": [],
   "source": [
    "df[\"log_10_SI\"] = np.log10(df[target])"
   ]
  },
  {
   "cell_type": "code",
   "execution_count": 93,
   "id": "b98cd722",
   "metadata": {},
   "outputs": [],
   "source": [
    "target_old = target\n",
    "target = \"log_10_SI\""
   ]
  },
  {
   "cell_type": "code",
   "execution_count": 94,
   "id": "213a4647",
   "metadata": {},
   "outputs": [],
   "source": [
    "target = target_old\n",
    "target_old = \"log_10_SI\""
   ]
  },
  {
   "cell_type": "code",
   "execution_count": 95,
   "id": "eef5637a",
   "metadata": {},
   "outputs": [
    {
     "name": "stdout",
     "output_type": "stream",
     "text": [
      "Выбросы по правилу 3 сигм:\n"
     ]
    },
    {
     "data": {
      "text/html": [
       "<div>\n",
       "<style scoped>\n",
       "    .dataframe tbody tr th:only-of-type {\n",
       "        vertical-align: middle;\n",
       "    }\n",
       "\n",
       "    .dataframe tbody tr th {\n",
       "        vertical-align: top;\n",
       "    }\n",
       "\n",
       "    .dataframe thead th {\n",
       "        text-align: right;\n",
       "    }\n",
       "</style>\n",
       "<table border=\"1\" class=\"dataframe\">\n",
       "  <thead>\n",
       "    <tr style=\"text-align: right;\">\n",
       "      <th></th>\n",
       "      <th>MaxAbsEStateIndex</th>\n",
       "      <th>MinAbsEStateIndex</th>\n",
       "      <th>MinEStateIndex</th>\n",
       "      <th>qed</th>\n",
       "      <th>SPS</th>\n",
       "      <th>MolWt</th>\n",
       "      <th>MaxPartialCharge</th>\n",
       "      <th>MinPartialCharge</th>\n",
       "      <th>FpDensityMorgan1</th>\n",
       "      <th>BCUT2D_MWHI</th>\n",
       "      <th>...</th>\n",
       "      <th>fr_term_acetylene</th>\n",
       "      <th>fr_tetrazole</th>\n",
       "      <th>fr_thiazole</th>\n",
       "      <th>fr_thiophene</th>\n",
       "      <th>fr_unbrch_alkane</th>\n",
       "      <th>fr_urea</th>\n",
       "      <th>IC50, mM</th>\n",
       "      <th>CC50, mM</th>\n",
       "      <th>SI</th>\n",
       "      <th>log_10_SI</th>\n",
       "    </tr>\n",
       "  </thead>\n",
       "  <tbody>\n",
       "    <tr>\n",
       "      <th>102</th>\n",
       "      <td>0.339166</td>\n",
       "      <td>-0.801008</td>\n",
       "      <td>0.583045</td>\n",
       "      <td>-0.034586</td>\n",
       "      <td>0.672790</td>\n",
       "      <td>-0.764201</td>\n",
       "      <td>0.970667</td>\n",
       "      <td>-0.645394</td>\n",
       "      <td>0.560849</td>\n",
       "      <td>-0.464267</td>\n",
       "      <td>...</td>\n",
       "      <td>-0.032191</td>\n",
       "      <td>-0.032191</td>\n",
       "      <td>-0.238522</td>\n",
       "      <td>-0.27518</td>\n",
       "      <td>-0.169643</td>\n",
       "      <td>-0.085436</td>\n",
       "      <td>0.393088</td>\n",
       "      <td>1965.439708</td>\n",
       "      <td>5000.000000</td>\n",
       "      <td>3.698970</td>\n",
       "    </tr>\n",
       "    <tr>\n",
       "      <th>748</th>\n",
       "      <td>0.119444</td>\n",
       "      <td>-0.938375</td>\n",
       "      <td>-0.017240</td>\n",
       "      <td>0.427914</td>\n",
       "      <td>-0.252222</td>\n",
       "      <td>-0.529055</td>\n",
       "      <td>0.730559</td>\n",
       "      <td>-0.913366</td>\n",
       "      <td>1.479895</td>\n",
       "      <td>-0.467427</td>\n",
       "      <td>...</td>\n",
       "      <td>-0.032191</td>\n",
       "      <td>-0.032191</td>\n",
       "      <td>-0.238522</td>\n",
       "      <td>-0.27518</td>\n",
       "      <td>-0.169643</td>\n",
       "      <td>-0.085436</td>\n",
       "      <td>0.003517</td>\n",
       "      <td>19.999437</td>\n",
       "      <td>5687.000000</td>\n",
       "      <td>3.754883</td>\n",
       "    </tr>\n",
       "    <tr>\n",
       "      <th>750</th>\n",
       "      <td>0.119444</td>\n",
       "      <td>-0.938375</td>\n",
       "      <td>-0.017240</td>\n",
       "      <td>0.427914</td>\n",
       "      <td>-0.252222</td>\n",
       "      <td>-0.529055</td>\n",
       "      <td>0.730559</td>\n",
       "      <td>-0.913366</td>\n",
       "      <td>1.479895</td>\n",
       "      <td>-0.467427</td>\n",
       "      <td>...</td>\n",
       "      <td>-0.032191</td>\n",
       "      <td>-0.032191</td>\n",
       "      <td>-0.238522</td>\n",
       "      <td>-0.27518</td>\n",
       "      <td>-0.169643</td>\n",
       "      <td>-0.085436</td>\n",
       "      <td>0.021100</td>\n",
       "      <td>250.001758</td>\n",
       "      <td>11848.333333</td>\n",
       "      <td>4.073657</td>\n",
       "    </tr>\n",
       "    <tr>\n",
       "      <th>772</th>\n",
       "      <td>0.323229</td>\n",
       "      <td>-0.700587</td>\n",
       "      <td>0.343971</td>\n",
       "      <td>0.529446</td>\n",
       "      <td>-0.366018</td>\n",
       "      <td>-0.308884</td>\n",
       "      <td>0.749582</td>\n",
       "      <td>-0.711856</td>\n",
       "      <td>0.915935</td>\n",
       "      <td>-0.465143</td>\n",
       "      <td>...</td>\n",
       "      <td>-0.032191</td>\n",
       "      <td>-0.032191</td>\n",
       "      <td>-0.238522</td>\n",
       "      <td>-0.27518</td>\n",
       "      <td>-0.169643</td>\n",
       "      <td>-0.085436</td>\n",
       "      <td>0.032009</td>\n",
       "      <td>128.090060</td>\n",
       "      <td>4001.700000</td>\n",
       "      <td>3.602245</td>\n",
       "    </tr>\n",
       "    <tr>\n",
       "      <th>775</th>\n",
       "      <td>0.323229</td>\n",
       "      <td>-0.700587</td>\n",
       "      <td>0.343971</td>\n",
       "      <td>0.529446</td>\n",
       "      <td>-0.366018</td>\n",
       "      <td>-0.308884</td>\n",
       "      <td>0.749582</td>\n",
       "      <td>-0.711856</td>\n",
       "      <td>0.915935</td>\n",
       "      <td>-0.465143</td>\n",
       "      <td>...</td>\n",
       "      <td>-0.032191</td>\n",
       "      <td>-0.032191</td>\n",
       "      <td>-0.238522</td>\n",
       "      <td>-0.27518</td>\n",
       "      <td>-0.169643</td>\n",
       "      <td>-0.085436</td>\n",
       "      <td>0.016004</td>\n",
       "      <td>249.999200</td>\n",
       "      <td>15620.600000</td>\n",
       "      <td>4.193698</td>\n",
       "    </tr>\n",
       "  </tbody>\n",
       "</table>\n",
       "<p>5 rows × 149 columns</p>\n",
       "</div>"
      ],
      "text/plain": [
       "     MaxAbsEStateIndex  MinAbsEStateIndex  MinEStateIndex       qed       SPS  \\\n",
       "102           0.339166          -0.801008        0.583045 -0.034586  0.672790   \n",
       "748           0.119444          -0.938375       -0.017240  0.427914 -0.252222   \n",
       "750           0.119444          -0.938375       -0.017240  0.427914 -0.252222   \n",
       "772           0.323229          -0.700587        0.343971  0.529446 -0.366018   \n",
       "775           0.323229          -0.700587        0.343971  0.529446 -0.366018   \n",
       "\n",
       "        MolWt  MaxPartialCharge  MinPartialCharge  FpDensityMorgan1  \\\n",
       "102 -0.764201          0.970667         -0.645394          0.560849   \n",
       "748 -0.529055          0.730559         -0.913366          1.479895   \n",
       "750 -0.529055          0.730559         -0.913366          1.479895   \n",
       "772 -0.308884          0.749582         -0.711856          0.915935   \n",
       "775 -0.308884          0.749582         -0.711856          0.915935   \n",
       "\n",
       "     BCUT2D_MWHI  ...  fr_term_acetylene  fr_tetrazole  fr_thiazole  \\\n",
       "102    -0.464267  ...          -0.032191     -0.032191    -0.238522   \n",
       "748    -0.467427  ...          -0.032191     -0.032191    -0.238522   \n",
       "750    -0.467427  ...          -0.032191     -0.032191    -0.238522   \n",
       "772    -0.465143  ...          -0.032191     -0.032191    -0.238522   \n",
       "775    -0.465143  ...          -0.032191     -0.032191    -0.238522   \n",
       "\n",
       "     fr_thiophene  fr_unbrch_alkane   fr_urea  IC50, mM     CC50, mM  \\\n",
       "102      -0.27518         -0.169643 -0.085436  0.393088  1965.439708   \n",
       "748      -0.27518         -0.169643 -0.085436  0.003517    19.999437   \n",
       "750      -0.27518         -0.169643 -0.085436  0.021100   250.001758   \n",
       "772      -0.27518         -0.169643 -0.085436  0.032009   128.090060   \n",
       "775      -0.27518         -0.169643 -0.085436  0.016004   249.999200   \n",
       "\n",
       "               SI  log_10_SI  \n",
       "102   5000.000000   3.698970  \n",
       "748   5687.000000   3.754883  \n",
       "750  11848.333333   4.073657  \n",
       "772   4001.700000   3.602245  \n",
       "775  15620.600000   4.193698  \n",
       "\n",
       "[5 rows x 149 columns]"
      ]
     },
     "execution_count": 95,
     "metadata": {},
     "output_type": "execute_result"
    }
   ],
   "source": [
    "mean = df[target].mean()\n",
    "std = df[target].std()\n",
    "lower_bound = mean - 3 * std\n",
    "upper_bound = mean + 3 * std\n",
    "\n",
    "outliers = df[(df[target] < lower_bound) | (df[target] > upper_bound)]\n",
    "\n",
    "print(\"Выбросы по правилу 3 сигм:\")\n",
    "outliers"
   ]
  },
  {
   "cell_type": "code",
   "execution_count": 96,
   "id": "b35cfbd7",
   "metadata": {},
   "outputs": [
    {
     "data": {
      "image/png": "[encoded data removed]",
      "text/plain": [
       "<Figure size 1000x400 with 1 Axes>"
      ]
     },
     "metadata": {},
     "output_type": "display_data"
    }
   ],
   "source": [
    "df['is_outlier_3σ'] = (df[target] < lower_bound) | (df[target] > upper_bound)\n",
    "\n",
    "plt.figure(figsize=(10, 4))\n",
    "plt.scatter(df.index, df[target], c=~df['is_outlier_3σ'], cmap='coolwarm', label='Значения')\n",
    "plt.axhline(y=lower_bound, color='r', linestyle='--', label='Нижняя граница (3σ)')\n",
    "plt.axhline(y=upper_bound, color='r', linestyle='--', label='Верхняя граница (3σ)')\n",
    "plt.legend()\n",
    "plt.title('Обнаружение выбросов по правилу 3 сигм')\n",
    "plt.show()"
   ]
  },
  {
   "cell_type": "code",
   "execution_count": 97,
   "id": "f33b53ce",
   "metadata": {},
   "outputs": [
    {
     "data": {
      "text/html": [
       "<div>\n",
       "<style scoped>\n",
       "    .dataframe tbody tr th:only-of-type {\n",
       "        vertical-align: middle;\n",
       "    }\n",
       "\n",
       "    .dataframe tbody tr th {\n",
       "        vertical-align: top;\n",
       "    }\n",
       "\n",
       "    .dataframe thead th {\n",
       "        text-align: right;\n",
       "    }\n",
       "</style>\n",
       "<table border=\"1\" class=\"dataframe\">\n",
       "  <thead>\n",
       "    <tr style=\"text-align: right;\">\n",
       "      <th></th>\n",
       "      <th>MaxAbsEStateIndex</th>\n",
       "      <th>MinAbsEStateIndex</th>\n",
       "      <th>MinEStateIndex</th>\n",
       "      <th>qed</th>\n",
       "      <th>SPS</th>\n",
       "      <th>MolWt</th>\n",
       "      <th>MaxPartialCharge</th>\n",
       "      <th>MinPartialCharge</th>\n",
       "      <th>FpDensityMorgan1</th>\n",
       "      <th>BCUT2D_MWHI</th>\n",
       "      <th>...</th>\n",
       "      <th>fr_thiazole</th>\n",
       "      <th>fr_thiophene</th>\n",
       "      <th>fr_unbrch_alkane</th>\n",
       "      <th>fr_urea</th>\n",
       "      <th>IC50, mM</th>\n",
       "      <th>CC50, mM</th>\n",
       "      <th>SI</th>\n",
       "      <th>log_10_SI</th>\n",
       "      <th>is_outlier_3σ</th>\n",
       "      <th>is_outlier_IQR</th>\n",
       "    </tr>\n",
       "  </thead>\n",
       "  <tbody>\n",
       "    <tr>\n",
       "      <th>3</th>\n",
       "      <td>-1.762654</td>\n",
       "      <td>1.247702</td>\n",
       "      <td>0.860276</td>\n",
       "      <td>-0.941357</td>\n",
       "      <td>0.988562</td>\n",
       "      <td>0.368166</td>\n",
       "      <td>-1.556297</td>\n",
       "      <td>1.522921</td>\n",
       "      <td>-2.156673</td>\n",
       "      <td>-0.581603</td>\n",
       "      <td>...</td>\n",
       "      <td>-0.238522</td>\n",
       "      <td>-0.27518</td>\n",
       "      <td>3.075405</td>\n",
       "      <td>-0.085436</td>\n",
       "      <td>1.705624</td>\n",
       "      <td>107.855654</td>\n",
       "      <td>63.235294</td>\n",
       "      <td>1.800960</td>\n",
       "      <td>False</td>\n",
       "      <td>True</td>\n",
       "    </tr>\n",
       "    <tr>\n",
       "      <th>9</th>\n",
       "      <td>-1.446717</td>\n",
       "      <td>0.351971</td>\n",
       "      <td>0.763797</td>\n",
       "      <td>-0.650039</td>\n",
       "      <td>0.554459</td>\n",
       "      <td>0.917583</td>\n",
       "      <td>-0.865343</td>\n",
       "      <td>-0.642440</td>\n",
       "      <td>-2.242239</td>\n",
       "      <td>-0.468731</td>\n",
       "      <td>...</td>\n",
       "      <td>-0.238522</td>\n",
       "      <td>-0.27518</td>\n",
       "      <td>-0.169643</td>\n",
       "      <td>-0.085436</td>\n",
       "      <td>6.400847</td>\n",
       "      <td>400.906360</td>\n",
       "      <td>62.633333</td>\n",
       "      <td>1.796806</td>\n",
       "      <td>False</td>\n",
       "      <td>True</td>\n",
       "    </tr>\n",
       "    <tr>\n",
       "      <th>41</th>\n",
       "      <td>-1.763647</td>\n",
       "      <td>1.227715</td>\n",
       "      <td>0.858123</td>\n",
       "      <td>-0.755891</td>\n",
       "      <td>1.073323</td>\n",
       "      <td>0.258081</td>\n",
       "      <td>-1.556297</td>\n",
       "      <td>1.522921</td>\n",
       "      <td>-2.064995</td>\n",
       "      <td>-0.581532</td>\n",
       "      <td>...</td>\n",
       "      <td>-0.238522</td>\n",
       "      <td>-0.27518</td>\n",
       "      <td>2.264143</td>\n",
       "      <td>-0.085436</td>\n",
       "      <td>15.078486</td>\n",
       "      <td>1344.065056</td>\n",
       "      <td>89.137931</td>\n",
       "      <td>1.950063</td>\n",
       "      <td>False</td>\n",
       "      <td>True</td>\n",
       "    </tr>\n",
       "    <tr>\n",
       "      <th>44</th>\n",
       "      <td>-1.762654</td>\n",
       "      <td>1.247702</td>\n",
       "      <td>0.860276</td>\n",
       "      <td>-0.941357</td>\n",
       "      <td>0.988562</td>\n",
       "      <td>0.368166</td>\n",
       "      <td>-1.556297</td>\n",
       "      <td>1.522921</td>\n",
       "      <td>-2.156673</td>\n",
       "      <td>-0.581603</td>\n",
       "      <td>...</td>\n",
       "      <td>-0.238522</td>\n",
       "      <td>-0.27518</td>\n",
       "      <td>3.075405</td>\n",
       "      <td>-0.085436</td>\n",
       "      <td>22.825266</td>\n",
       "      <td>1254.135512</td>\n",
       "      <td>54.945055</td>\n",
       "      <td>1.739929</td>\n",
       "      <td>False</td>\n",
       "      <td>True</td>\n",
       "    </tr>\n",
       "    <tr>\n",
       "      <th>47</th>\n",
       "      <td>-1.758664</td>\n",
       "      <td>1.295320</td>\n",
       "      <td>0.865404</td>\n",
       "      <td>-1.586508</td>\n",
       "      <td>0.639545</td>\n",
       "      <td>0.918595</td>\n",
       "      <td>-1.556297</td>\n",
       "      <td>1.522921</td>\n",
       "      <td>-2.534171</td>\n",
       "      <td>-0.581647</td>\n",
       "      <td>...</td>\n",
       "      <td>-0.238522</td>\n",
       "      <td>-0.27518</td>\n",
       "      <td>7.131714</td>\n",
       "      <td>-0.085436</td>\n",
       "      <td>45.006900</td>\n",
       "      <td>2216.216562</td>\n",
       "      <td>49.241706</td>\n",
       "      <td>1.692333</td>\n",
       "      <td>False</td>\n",
       "      <td>True</td>\n",
       "    </tr>\n",
       "    <tr>\n",
       "      <th>...</th>\n",
       "      <td>...</td>\n",
       "      <td>...</td>\n",
       "      <td>...</td>\n",
       "      <td>...</td>\n",
       "      <td>...</td>\n",
       "      <td>...</td>\n",
       "      <td>...</td>\n",
       "      <td>...</td>\n",
       "      <td>...</td>\n",
       "      <td>...</td>\n",
       "      <td>...</td>\n",
       "      <td>...</td>\n",
       "      <td>...</td>\n",
       "      <td>...</td>\n",
       "      <td>...</td>\n",
       "      <td>...</td>\n",
       "      <td>...</td>\n",
       "      <td>...</td>\n",
       "      <td>...</td>\n",
       "      <td>...</td>\n",
       "      <td>...</td>\n",
       "    </tr>\n",
       "    <tr>\n",
       "      <th>912</th>\n",
       "      <td>0.598544</td>\n",
       "      <td>0.781167</td>\n",
       "      <td>-0.436645</td>\n",
       "      <td>0.552863</td>\n",
       "      <td>-0.589995</td>\n",
       "      <td>-0.561052</td>\n",
       "      <td>0.857677</td>\n",
       "      <td>-0.425583</td>\n",
       "      <td>-0.587957</td>\n",
       "      <td>-0.451673</td>\n",
       "      <td>...</td>\n",
       "      <td>-0.238522</td>\n",
       "      <td>-0.27518</td>\n",
       "      <td>-0.169643</td>\n",
       "      <td>-0.085436</td>\n",
       "      <td>11.399193</td>\n",
       "      <td>499.994648</td>\n",
       "      <td>43.862285</td>\n",
       "      <td>1.642091</td>\n",
       "      <td>False</td>\n",
       "      <td>True</td>\n",
       "    </tr>\n",
       "    <tr>\n",
       "      <th>916</th>\n",
       "      <td>0.644852</td>\n",
       "      <td>0.736788</td>\n",
       "      <td>-0.442487</td>\n",
       "      <td>0.571027</td>\n",
       "      <td>-0.622508</td>\n",
       "      <td>-0.450966</td>\n",
       "      <td>0.857752</td>\n",
       "      <td>-0.421804</td>\n",
       "      <td>-0.775944</td>\n",
       "      <td>-0.451660</td>\n",
       "      <td>...</td>\n",
       "      <td>-0.238522</td>\n",
       "      <td>-0.27518</td>\n",
       "      <td>-0.169643</td>\n",
       "      <td>-0.085436</td>\n",
       "      <td>6.299480</td>\n",
       "      <td>500.000000</td>\n",
       "      <td>79.371629</td>\n",
       "      <td>1.899665</td>\n",
       "      <td>False</td>\n",
       "      <td>True</td>\n",
       "    </tr>\n",
       "    <tr>\n",
       "      <th>926</th>\n",
       "      <td>-1.639888</td>\n",
       "      <td>1.300933</td>\n",
       "      <td>0.866009</td>\n",
       "      <td>1.533078</td>\n",
       "      <td>0.529893</td>\n",
       "      <td>-0.292842</td>\n",
       "      <td>-0.477621</td>\n",
       "      <td>0.709040</td>\n",
       "      <td>0.163989</td>\n",
       "      <td>0.596023</td>\n",
       "      <td>...</td>\n",
       "      <td>-0.238522</td>\n",
       "      <td>3.63399</td>\n",
       "      <td>-0.169643</td>\n",
       "      <td>-0.085436</td>\n",
       "      <td>0.298932</td>\n",
       "      <td>99.999046</td>\n",
       "      <td>334.521277</td>\n",
       "      <td>2.524424</td>\n",
       "      <td>False</td>\n",
       "      <td>True</td>\n",
       "    </tr>\n",
       "    <tr>\n",
       "      <th>934</th>\n",
       "      <td>1.159558</td>\n",
       "      <td>-0.595294</td>\n",
       "      <td>-0.286326</td>\n",
       "      <td>-1.475986</td>\n",
       "      <td>-1.138048</td>\n",
       "      <td>2.425224</td>\n",
       "      <td>1.332984</td>\n",
       "      <td>-0.795052</td>\n",
       "      <td>-1.104921</td>\n",
       "      <td>-0.287681</td>\n",
       "      <td>...</td>\n",
       "      <td>-0.238522</td>\n",
       "      <td>-0.27518</td>\n",
       "      <td>-0.169643</td>\n",
       "      <td>-0.085436</td>\n",
       "      <td>1.900747</td>\n",
       "      <td>99.999546</td>\n",
       "      <td>52.610669</td>\n",
       "      <td>1.721074</td>\n",
       "      <td>False</td>\n",
       "      <td>True</td>\n",
       "    </tr>\n",
       "    <tr>\n",
       "      <th>950</th>\n",
       "      <td>-2.112767</td>\n",
       "      <td>1.925653</td>\n",
       "      <td>0.933297</td>\n",
       "      <td>1.311783</td>\n",
       "      <td>0.959786</td>\n",
       "      <td>-0.199850</td>\n",
       "      <td>-1.311250</td>\n",
       "      <td>1.353615</td>\n",
       "      <td>-0.128435</td>\n",
       "      <td>3.846503</td>\n",
       "      <td>...</td>\n",
       "      <td>-0.238522</td>\n",
       "      <td>3.63399</td>\n",
       "      <td>-0.169643</td>\n",
       "      <td>-0.085436</td>\n",
       "      <td>2.899119</td>\n",
       "      <td>123.197244</td>\n",
       "      <td>42.494715</td>\n",
       "      <td>1.628335</td>\n",
       "      <td>False</td>\n",
       "      <td>True</td>\n",
       "    </tr>\n",
       "  </tbody>\n",
       "</table>\n",
       "<p>119 rows × 151 columns</p>\n",
       "</div>"
      ],
      "text/plain": [
       "     MaxAbsEStateIndex  MinAbsEStateIndex  MinEStateIndex       qed       SPS  \\\n",
       "3            -1.762654           1.247702        0.860276 -0.941357  0.988562   \n",
       "9            -1.446717           0.351971        0.763797 -0.650039  0.554459   \n",
       "41           -1.763647           1.227715        0.858123 -0.755891  1.073323   \n",
       "44           -1.762654           1.247702        0.860276 -0.941357  0.988562   \n",
       "47           -1.758664           1.295320        0.865404 -1.586508  0.639545   \n",
       "..                 ...                ...             ...       ...       ...   \n",
       "912           0.598544           0.781167       -0.436645  0.552863 -0.589995   \n",
       "916           0.644852           0.736788       -0.442487  0.571027 -0.622508   \n",
       "926          -1.639888           1.300933        0.866009  1.533078  0.529893   \n",
       "934           1.159558          -0.595294       -0.286326 -1.475986 -1.138048   \n",
       "950          -2.112767           1.925653        0.933297  1.311783  0.959786   \n",
       "\n",
       "        MolWt  MaxPartialCharge  MinPartialCharge  FpDensityMorgan1  \\\n",
       "3    0.368166         -1.556297          1.522921         -2.156673   \n",
       "9    0.917583         -0.865343         -0.642440         -2.242239   \n",
       "41   0.258081         -1.556297          1.522921         -2.064995   \n",
       "44   0.368166         -1.556297          1.522921         -2.156673   \n",
       "47   0.918595         -1.556297          1.522921         -2.534171   \n",
       "..        ...               ...               ...               ...   \n",
       "912 -0.561052          0.857677         -0.425583         -0.587957   \n",
       "916 -0.450966          0.857752         -0.421804         -0.775944   \n",
       "926 -0.292842         -0.477621          0.709040          0.163989   \n",
       "934  2.425224          1.332984         -0.795052         -1.104921   \n",
       "950 -0.199850         -1.311250          1.353615         -0.128435   \n",
       "\n",
       "     BCUT2D_MWHI  ...  fr_thiazole  fr_thiophene  fr_unbrch_alkane   fr_urea  \\\n",
       "3      -0.581603  ...    -0.238522      -0.27518          3.075405 -0.085436   \n",
       "9      -0.468731  ...    -0.238522      -0.27518         -0.169643 -0.085436   \n",
       "41     -0.581532  ...    -0.238522      -0.27518          2.264143 -0.085436   \n",
       "44     -0.581603  ...    -0.238522      -0.27518          3.075405 -0.085436   \n",
       "47     -0.581647  ...    -0.238522      -0.27518          7.131714 -0.085436   \n",
       "..           ...  ...          ...           ...               ...       ...   \n",
       "912    -0.451673  ...    -0.238522      -0.27518         -0.169643 -0.085436   \n",
       "916    -0.451660  ...    -0.238522      -0.27518         -0.169643 -0.085436   \n",
       "926     0.596023  ...    -0.238522       3.63399         -0.169643 -0.085436   \n",
       "934    -0.287681  ...    -0.238522      -0.27518         -0.169643 -0.085436   \n",
       "950     3.846503  ...    -0.238522       3.63399         -0.169643 -0.085436   \n",
       "\n",
       "      IC50, mM     CC50, mM          SI  log_10_SI  is_outlier_3σ  \\\n",
       "3     1.705624   107.855654   63.235294   1.800960          False   \n",
       "9     6.400847   400.906360   62.633333   1.796806          False   \n",
       "41   15.078486  1344.065056   89.137931   1.950063          False   \n",
       "44   22.825266  1254.135512   54.945055   1.739929          False   \n",
       "47   45.006900  2216.216562   49.241706   1.692333          False   \n",
       "..         ...          ...         ...        ...            ...   \n",
       "912  11.399193   499.994648   43.862285   1.642091          False   \n",
       "916   6.299480   500.000000   79.371629   1.899665          False   \n",
       "926   0.298932    99.999046  334.521277   2.524424          False   \n",
       "934   1.900747    99.999546   52.610669   1.721074          False   \n",
       "950   2.899119   123.197244   42.494715   1.628335          False   \n",
       "\n",
       "     is_outlier_IQR  \n",
       "3              True  \n",
       "9              True  \n",
       "41             True  \n",
       "44             True  \n",
       "47             True  \n",
       "..              ...  \n",
       "912            True  \n",
       "916            True  \n",
       "926            True  \n",
       "934            True  \n",
       "950            True  \n",
       "\n",
       "[119 rows x 151 columns]"
      ]
     },
     "execution_count": 97,
     "metadata": {},
     "output_type": "execute_result"
    }
   ],
   "source": [
    "Q1 = df[target].quantile(0.25)\n",
    "Q3 = df[target].quantile(0.75)\n",
    "IQR = Q3 - Q1\n",
    "lower_bound = Q1 - 1.5 * IQR\n",
    "upper_bound = Q3 + 1.5 * IQR\n",
    "df[\"is_outlier_IQR\"] = (df[target] < lower_bound) | (df[target] > upper_bound)\n",
    "df[(df[target] < lower_bound) | (df[target] > upper_bound)]"
   ]
  },
  {
   "cell_type": "code",
   "execution_count": 98,
   "id": "de38bd43",
   "metadata": {},
   "outputs": [
    {
     "data": {
      "image/png": "[encoded data removed]",
      "text/plain": [
       "<Figure size 1000x400 with 1 Axes>"
      ]
     },
     "metadata": {},
     "output_type": "display_data"
    }
   ],
   "source": [
    "plt.figure(figsize=(10, 4))\n",
    "plt.scatter(df.index, df[target], c=~df['is_outlier_IQR'], cmap='coolwarm', label='Значения')\n",
    "plt.axhline(y=lower_bound, color='r', linestyle='--', label='Нижняя граница (IQR)')\n",
    "plt.axhline(y=upper_bound, color='r', linestyle='--', label='Верхняя граница (IQR)')\n",
    "plt.legend()\n",
    "plt.title('Обнаружение выбросов по правилу 3 сигм')\n",
    "plt.show()"
   ]
  },
  {
   "cell_type": "markdown",
   "id": "ca2a4176",
   "metadata": {},
   "source": [
    "Отбросим выбросов по 3-м сигмам значительно меньше, чем по правилу Тьюки. \n",
    "\n",
    "Данные распределены близко к нормальному распределнию, следовательно отбросим выбросы по 3 sigma"
   ]
  },
  {
   "cell_type": "code",
   "execution_count": 99,
   "id": "b9afbc07",
   "metadata": {},
   "outputs": [
    {
     "data": {
      "text/html": [
       "<div>\n",
       "<style scoped>\n",
       "    .dataframe tbody tr th:only-of-type {\n",
       "        vertical-align: middle;\n",
       "    }\n",
       "\n",
       "    .dataframe tbody tr th {\n",
       "        vertical-align: top;\n",
       "    }\n",
       "\n",
       "    .dataframe thead th {\n",
       "        text-align: right;\n",
       "    }\n",
       "</style>\n",
       "<table border=\"1\" class=\"dataframe\">\n",
       "  <thead>\n",
       "    <tr style=\"text-align: right;\">\n",
       "      <th></th>\n",
       "      <th>MaxAbsEStateIndex</th>\n",
       "      <th>MinAbsEStateIndex</th>\n",
       "      <th>MinEStateIndex</th>\n",
       "      <th>qed</th>\n",
       "      <th>SPS</th>\n",
       "      <th>MolWt</th>\n",
       "      <th>MaxPartialCharge</th>\n",
       "      <th>MinPartialCharge</th>\n",
       "      <th>FpDensityMorgan1</th>\n",
       "      <th>BCUT2D_MWHI</th>\n",
       "      <th>...</th>\n",
       "      <th>fr_thiazole</th>\n",
       "      <th>fr_thiophene</th>\n",
       "      <th>fr_unbrch_alkane</th>\n",
       "      <th>fr_urea</th>\n",
       "      <th>IC50, mM</th>\n",
       "      <th>CC50, mM</th>\n",
       "      <th>SI</th>\n",
       "      <th>log_10_SI</th>\n",
       "      <th>is_outlier_3σ</th>\n",
       "      <th>is_outlier_IQR</th>\n",
       "    </tr>\n",
       "  </thead>\n",
       "  <tbody>\n",
       "    <tr>\n",
       "      <th>0</th>\n",
       "      <td>-1.763647</td>\n",
       "      <td>1.227715</td>\n",
       "      <td>0.858123</td>\n",
       "      <td>-0.755891</td>\n",
       "      <td>1.073323</td>\n",
       "      <td>0.258081</td>\n",
       "      <td>-1.556297</td>\n",
       "      <td>1.522921</td>\n",
       "      <td>-2.064995</td>\n",
       "      <td>-0.581532</td>\n",
       "      <td>...</td>\n",
       "      <td>-0.238522</td>\n",
       "      <td>-0.27518</td>\n",
       "      <td>2.264143</td>\n",
       "      <td>-0.085436</td>\n",
       "      <td>6.239374</td>\n",
       "      <td>175.482382</td>\n",
       "      <td>28.125000</td>\n",
       "      <td>1.449093</td>\n",
       "      <td>False</td>\n",
       "      <td>False</td>\n",
       "    </tr>\n",
       "    <tr>\n",
       "      <th>1</th>\n",
       "      <td>-2.108224</td>\n",
       "      <td>2.095440</td>\n",
       "      <td>0.951585</td>\n",
       "      <td>-0.544168</td>\n",
       "      <td>1.254983</td>\n",
       "      <td>0.289724</td>\n",
       "      <td>-1.759553</td>\n",
       "      <td>1.260180</td>\n",
       "      <td>-2.212699</td>\n",
       "      <td>-0.571135</td>\n",
       "      <td>...</td>\n",
       "      <td>-0.238522</td>\n",
       "      <td>-0.27518</td>\n",
       "      <td>2.264143</td>\n",
       "      <td>-0.085436</td>\n",
       "      <td>0.771831</td>\n",
       "      <td>5.402819</td>\n",
       "      <td>7.000000</td>\n",
       "      <td>0.845098</td>\n",
       "      <td>False</td>\n",
       "      <td>False</td>\n",
       "    </tr>\n",
       "    <tr>\n",
       "      <th>2</th>\n",
       "      <td>-2.514136</td>\n",
       "      <td>2.150839</td>\n",
       "      <td>0.957552</td>\n",
       "      <td>-1.490120</td>\n",
       "      <td>1.014426</td>\n",
       "      <td>0.745889</td>\n",
       "      <td>-1.118121</td>\n",
       "      <td>1.099403</td>\n",
       "      <td>-2.397328</td>\n",
       "      <td>-0.545366</td>\n",
       "      <td>...</td>\n",
       "      <td>-0.238522</td>\n",
       "      <td>-0.27518</td>\n",
       "      <td>2.264143</td>\n",
       "      <td>-0.085436</td>\n",
       "      <td>223.808778</td>\n",
       "      <td>161.142320</td>\n",
       "      <td>0.720000</td>\n",
       "      <td>-0.142668</td>\n",
       "      <td>False</td>\n",
       "      <td>False</td>\n",
       "    </tr>\n",
       "    <tr>\n",
       "      <th>3</th>\n",
       "      <td>-1.762654</td>\n",
       "      <td>1.247702</td>\n",
       "      <td>0.860276</td>\n",
       "      <td>-0.941357</td>\n",
       "      <td>0.988562</td>\n",
       "      <td>0.368166</td>\n",
       "      <td>-1.556297</td>\n",
       "      <td>1.522921</td>\n",
       "      <td>-2.156673</td>\n",
       "      <td>-0.581603</td>\n",
       "      <td>...</td>\n",
       "      <td>-0.238522</td>\n",
       "      <td>-0.27518</td>\n",
       "      <td>3.075405</td>\n",
       "      <td>-0.085436</td>\n",
       "      <td>1.705624</td>\n",
       "      <td>107.855654</td>\n",
       "      <td>63.235294</td>\n",
       "      <td>1.800960</td>\n",
       "      <td>False</td>\n",
       "      <td>True</td>\n",
       "    </tr>\n",
       "    <tr>\n",
       "      <th>4</th>\n",
       "      <td>-1.746485</td>\n",
       "      <td>0.536885</td>\n",
       "      <td>0.783714</td>\n",
       "      <td>-0.701088</td>\n",
       "      <td>0.563542</td>\n",
       "      <td>0.902106</td>\n",
       "      <td>-1.367945</td>\n",
       "      <td>2.002451</td>\n",
       "      <td>-2.242239</td>\n",
       "      <td>-0.580930</td>\n",
       "      <td>...</td>\n",
       "      <td>-0.238522</td>\n",
       "      <td>-0.27518</td>\n",
       "      <td>-0.169643</td>\n",
       "      <td>-0.085436</td>\n",
       "      <td>107.131532</td>\n",
       "      <td>139.270991</td>\n",
       "      <td>1.300000</td>\n",
       "      <td>0.113943</td>\n",
       "      <td>False</td>\n",
       "      <td>False</td>\n",
       "    </tr>\n",
       "    <tr>\n",
       "      <th>...</th>\n",
       "      <td>...</td>\n",
       "      <td>...</td>\n",
       "      <td>...</td>\n",
       "      <td>...</td>\n",
       "      <td>...</td>\n",
       "      <td>...</td>\n",
       "      <td>...</td>\n",
       "      <td>...</td>\n",
       "      <td>...</td>\n",
       "      <td>...</td>\n",
       "      <td>...</td>\n",
       "      <td>...</td>\n",
       "      <td>...</td>\n",
       "      <td>...</td>\n",
       "      <td>...</td>\n",
       "      <td>...</td>\n",
       "      <td>...</td>\n",
       "      <td>...</td>\n",
       "      <td>...</td>\n",
       "      <td>...</td>\n",
       "      <td>...</td>\n",
       "    </tr>\n",
       "    <tr>\n",
       "      <th>961</th>\n",
       "      <td>0.621634</td>\n",
       "      <td>-0.779389</td>\n",
       "      <td>0.307862</td>\n",
       "      <td>-0.918328</td>\n",
       "      <td>1.566453</td>\n",
       "      <td>0.492661</td>\n",
       "      <td>0.628761</td>\n",
       "      <td>-0.790557</td>\n",
       "      <td>-0.036530</td>\n",
       "      <td>-0.461498</td>\n",
       "      <td>...</td>\n",
       "      <td>-0.238522</td>\n",
       "      <td>-0.27518</td>\n",
       "      <td>-0.169643</td>\n",
       "      <td>-0.085436</td>\n",
       "      <td>31.000104</td>\n",
       "      <td>34.999650</td>\n",
       "      <td>1.129017</td>\n",
       "      <td>0.052701</td>\n",
       "      <td>False</td>\n",
       "      <td>False</td>\n",
       "    </tr>\n",
       "    <tr>\n",
       "      <th>962</th>\n",
       "      <td>0.834722</td>\n",
       "      <td>-0.884119</td>\n",
       "      <td>0.165598</td>\n",
       "      <td>-0.980878</td>\n",
       "      <td>1.201620</td>\n",
       "      <td>1.050498</td>\n",
       "      <td>0.704502</td>\n",
       "      <td>-0.776102</td>\n",
       "      <td>-0.233468</td>\n",
       "      <td>-0.461496</td>\n",
       "      <td>...</td>\n",
       "      <td>-0.238522</td>\n",
       "      <td>-0.27518</td>\n",
       "      <td>-0.169643</td>\n",
       "      <td>-0.085436</td>\n",
       "      <td>31.999934</td>\n",
       "      <td>33.999415</td>\n",
       "      <td>1.062484</td>\n",
       "      <td>0.026322</td>\n",
       "      <td>False</td>\n",
       "      <td>False</td>\n",
       "    </tr>\n",
       "    <tr>\n",
       "      <th>963</th>\n",
       "      <td>0.943127</td>\n",
       "      <td>-0.906571</td>\n",
       "      <td>0.196551</td>\n",
       "      <td>-1.377478</td>\n",
       "      <td>0.997433</td>\n",
       "      <td>1.522336</td>\n",
       "      <td>0.707042</td>\n",
       "      <td>-0.775993</td>\n",
       "      <td>0.065049</td>\n",
       "      <td>0.598260</td>\n",
       "      <td>...</td>\n",
       "      <td>-0.238522</td>\n",
       "      <td>-0.27518</td>\n",
       "      <td>-0.169643</td>\n",
       "      <td>-0.085436</td>\n",
       "      <td>30.999883</td>\n",
       "      <td>33.999458</td>\n",
       "      <td>1.096761</td>\n",
       "      <td>0.040112</td>\n",
       "      <td>False</td>\n",
       "      <td>False</td>\n",
       "    </tr>\n",
       "    <tr>\n",
       "      <th>964</th>\n",
       "      <td>0.893994</td>\n",
       "      <td>-0.196583</td>\n",
       "      <td>-0.286468</td>\n",
       "      <td>-0.923926</td>\n",
       "      <td>0.761096</td>\n",
       "      <td>1.340989</td>\n",
       "      <td>0.586631</td>\n",
       "      <td>-0.792770</td>\n",
       "      <td>-1.593940</td>\n",
       "      <td>-0.464683</td>\n",
       "      <td>...</td>\n",
       "      <td>-0.238522</td>\n",
       "      <td>-0.27518</td>\n",
       "      <td>-0.169643</td>\n",
       "      <td>-0.085436</td>\n",
       "      <td>31.998959</td>\n",
       "      <td>32.999644</td>\n",
       "      <td>1.031272</td>\n",
       "      <td>0.013373</td>\n",
       "      <td>False</td>\n",
       "      <td>False</td>\n",
       "    </tr>\n",
       "    <tr>\n",
       "      <th>965</th>\n",
       "      <td>0.757305</td>\n",
       "      <td>-1.049237</td>\n",
       "      <td>0.325811</td>\n",
       "      <td>-0.590671</td>\n",
       "      <td>1.522527</td>\n",
       "      <td>0.587270</td>\n",
       "      <td>0.577248</td>\n",
       "      <td>-0.790557</td>\n",
       "      <td>-0.321138</td>\n",
       "      <td>-0.465692</td>\n",
       "      <td>...</td>\n",
       "      <td>-0.238522</td>\n",
       "      <td>-0.27518</td>\n",
       "      <td>-0.169643</td>\n",
       "      <td>-0.085436</td>\n",
       "      <td>99.999531</td>\n",
       "      <td>99.999531</td>\n",
       "      <td>1.000000</td>\n",
       "      <td>0.000000</td>\n",
       "      <td>False</td>\n",
       "      <td>False</td>\n",
       "    </tr>\n",
       "  </tbody>\n",
       "</table>\n",
       "<p>966 rows × 151 columns</p>\n",
       "</div>"
      ],
      "text/plain": [
       "     MaxAbsEStateIndex  MinAbsEStateIndex  MinEStateIndex       qed       SPS  \\\n",
       "0            -1.763647           1.227715        0.858123 -0.755891  1.073323   \n",
       "1            -2.108224           2.095440        0.951585 -0.544168  1.254983   \n",
       "2            -2.514136           2.150839        0.957552 -1.490120  1.014426   \n",
       "3            -1.762654           1.247702        0.860276 -0.941357  0.988562   \n",
       "4            -1.746485           0.536885        0.783714 -0.701088  0.563542   \n",
       "..                 ...                ...             ...       ...       ...   \n",
       "961           0.621634          -0.779389        0.307862 -0.918328  1.566453   \n",
       "962           0.834722          -0.884119        0.165598 -0.980878  1.201620   \n",
       "963           0.943127          -0.906571        0.196551 -1.377478  0.997433   \n",
       "964           0.893994          -0.196583       -0.286468 -0.923926  0.761096   \n",
       "965           0.757305          -1.049237        0.325811 -0.590671  1.522527   \n",
       "\n",
       "        MolWt  MaxPartialCharge  MinPartialCharge  FpDensityMorgan1  \\\n",
       "0    0.258081         -1.556297          1.522921         -2.064995   \n",
       "1    0.289724         -1.759553          1.260180         -2.212699   \n",
       "2    0.745889         -1.118121          1.099403         -2.397328   \n",
       "3    0.368166         -1.556297          1.522921         -2.156673   \n",
       "4    0.902106         -1.367945          2.002451         -2.242239   \n",
       "..        ...               ...               ...               ...   \n",
       "961  0.492661          0.628761         -0.790557         -0.036530   \n",
       "962  1.050498          0.704502         -0.776102         -0.233468   \n",
       "963  1.522336          0.707042         -0.775993          0.065049   \n",
       "964  1.340989          0.586631         -0.792770         -1.593940   \n",
       "965  0.587270          0.577248         -0.790557         -0.321138   \n",
       "\n",
       "     BCUT2D_MWHI  ...  fr_thiazole  fr_thiophene  fr_unbrch_alkane   fr_urea  \\\n",
       "0      -0.581532  ...    -0.238522      -0.27518          2.264143 -0.085436   \n",
       "1      -0.571135  ...    -0.238522      -0.27518          2.264143 -0.085436   \n",
       "2      -0.545366  ...    -0.238522      -0.27518          2.264143 -0.085436   \n",
       "3      -0.581603  ...    -0.238522      -0.27518          3.075405 -0.085436   \n",
       "4      -0.580930  ...    -0.238522      -0.27518         -0.169643 -0.085436   \n",
       "..           ...  ...          ...           ...               ...       ...   \n",
       "961    -0.461498  ...    -0.238522      -0.27518         -0.169643 -0.085436   \n",
       "962    -0.461496  ...    -0.238522      -0.27518         -0.169643 -0.085436   \n",
       "963     0.598260  ...    -0.238522      -0.27518         -0.169643 -0.085436   \n",
       "964    -0.464683  ...    -0.238522      -0.27518         -0.169643 -0.085436   \n",
       "965    -0.465692  ...    -0.238522      -0.27518         -0.169643 -0.085436   \n",
       "\n",
       "       IC50, mM    CC50, mM         SI  log_10_SI  is_outlier_3σ  \\\n",
       "0      6.239374  175.482382  28.125000   1.449093          False   \n",
       "1      0.771831    5.402819   7.000000   0.845098          False   \n",
       "2    223.808778  161.142320   0.720000  -0.142668          False   \n",
       "3      1.705624  107.855654  63.235294   1.800960          False   \n",
       "4    107.131532  139.270991   1.300000   0.113943          False   \n",
       "..          ...         ...        ...        ...            ...   \n",
       "961   31.000104   34.999650   1.129017   0.052701          False   \n",
       "962   31.999934   33.999415   1.062484   0.026322          False   \n",
       "963   30.999883   33.999458   1.096761   0.040112          False   \n",
       "964   31.998959   32.999644   1.031272   0.013373          False   \n",
       "965   99.999531   99.999531   1.000000   0.000000          False   \n",
       "\n",
       "     is_outlier_IQR  \n",
       "0             False  \n",
       "1             False  \n",
       "2             False  \n",
       "3              True  \n",
       "4             False  \n",
       "..              ...  \n",
       "961           False  \n",
       "962           False  \n",
       "963           False  \n",
       "964           False  \n",
       "965           False  \n",
       "\n",
       "[966 rows x 151 columns]"
      ]
     },
     "execution_count": 99,
     "metadata": {},
     "output_type": "execute_result"
    }
   ],
   "source": [
    "df"
   ]
  },
  {
   "cell_type": "code",
   "execution_count": 100,
   "id": "9c77cdda",
   "metadata": {},
   "outputs": [
    {
     "data": {
      "text/html": [
       "<div>\n",
       "<style scoped>\n",
       "    .dataframe tbody tr th:only-of-type {\n",
       "        vertical-align: middle;\n",
       "    }\n",
       "\n",
       "    .dataframe tbody tr th {\n",
       "        vertical-align: top;\n",
       "    }\n",
       "\n",
       "    .dataframe thead th {\n",
       "        text-align: right;\n",
       "    }\n",
       "</style>\n",
       "<table border=\"1\" class=\"dataframe\">\n",
       "  <thead>\n",
       "    <tr style=\"text-align: right;\">\n",
       "      <th></th>\n",
       "      <th>MaxAbsEStateIndex</th>\n",
       "      <th>MinAbsEStateIndex</th>\n",
       "      <th>MinEStateIndex</th>\n",
       "      <th>qed</th>\n",
       "      <th>SPS</th>\n",
       "      <th>MolWt</th>\n",
       "      <th>MaxPartialCharge</th>\n",
       "      <th>MinPartialCharge</th>\n",
       "      <th>FpDensityMorgan1</th>\n",
       "      <th>BCUT2D_MWHI</th>\n",
       "      <th>...</th>\n",
       "      <th>fr_term_acetylene</th>\n",
       "      <th>fr_tetrazole</th>\n",
       "      <th>fr_thiazole</th>\n",
       "      <th>fr_thiophene</th>\n",
       "      <th>fr_unbrch_alkane</th>\n",
       "      <th>fr_urea</th>\n",
       "      <th>IC50, mM</th>\n",
       "      <th>CC50, mM</th>\n",
       "      <th>SI</th>\n",
       "      <th>log_10_SI</th>\n",
       "    </tr>\n",
       "  </thead>\n",
       "  <tbody>\n",
       "    <tr>\n",
       "      <th>0</th>\n",
       "      <td>-1.763647</td>\n",
       "      <td>1.227715</td>\n",
       "      <td>0.858123</td>\n",
       "      <td>-0.755891</td>\n",
       "      <td>1.073323</td>\n",
       "      <td>0.258081</td>\n",
       "      <td>-1.556297</td>\n",
       "      <td>1.522921</td>\n",
       "      <td>-2.064995</td>\n",
       "      <td>-0.581532</td>\n",
       "      <td>...</td>\n",
       "      <td>-0.032191</td>\n",
       "      <td>-0.032191</td>\n",
       "      <td>-0.238522</td>\n",
       "      <td>-0.27518</td>\n",
       "      <td>2.264143</td>\n",
       "      <td>-0.085436</td>\n",
       "      <td>6.239374</td>\n",
       "      <td>175.482382</td>\n",
       "      <td>28.125000</td>\n",
       "      <td>1.449093</td>\n",
       "    </tr>\n",
       "    <tr>\n",
       "      <th>1</th>\n",
       "      <td>-2.108224</td>\n",
       "      <td>2.095440</td>\n",
       "      <td>0.951585</td>\n",
       "      <td>-0.544168</td>\n",
       "      <td>1.254983</td>\n",
       "      <td>0.289724</td>\n",
       "      <td>-1.759553</td>\n",
       "      <td>1.260180</td>\n",
       "      <td>-2.212699</td>\n",
       "      <td>-0.571135</td>\n",
       "      <td>...</td>\n",
       "      <td>-0.032191</td>\n",
       "      <td>-0.032191</td>\n",
       "      <td>-0.238522</td>\n",
       "      <td>-0.27518</td>\n",
       "      <td>2.264143</td>\n",
       "      <td>-0.085436</td>\n",
       "      <td>0.771831</td>\n",
       "      <td>5.402819</td>\n",
       "      <td>7.000000</td>\n",
       "      <td>0.845098</td>\n",
       "    </tr>\n",
       "    <tr>\n",
       "      <th>2</th>\n",
       "      <td>-2.514136</td>\n",
       "      <td>2.150839</td>\n",
       "      <td>0.957552</td>\n",
       "      <td>-1.490120</td>\n",
       "      <td>1.014426</td>\n",
       "      <td>0.745889</td>\n",
       "      <td>-1.118121</td>\n",
       "      <td>1.099403</td>\n",
       "      <td>-2.397328</td>\n",
       "      <td>-0.545366</td>\n",
       "      <td>...</td>\n",
       "      <td>-0.032191</td>\n",
       "      <td>-0.032191</td>\n",
       "      <td>-0.238522</td>\n",
       "      <td>-0.27518</td>\n",
       "      <td>2.264143</td>\n",
       "      <td>-0.085436</td>\n",
       "      <td>223.808778</td>\n",
       "      <td>161.142320</td>\n",
       "      <td>0.720000</td>\n",
       "      <td>-0.142668</td>\n",
       "    </tr>\n",
       "    <tr>\n",
       "      <th>4</th>\n",
       "      <td>-1.746485</td>\n",
       "      <td>0.536885</td>\n",
       "      <td>0.783714</td>\n",
       "      <td>-0.701088</td>\n",
       "      <td>0.563542</td>\n",
       "      <td>0.902106</td>\n",
       "      <td>-1.367945</td>\n",
       "      <td>2.002451</td>\n",
       "      <td>-2.242239</td>\n",
       "      <td>-0.580930</td>\n",
       "      <td>...</td>\n",
       "      <td>-0.032191</td>\n",
       "      <td>-0.032191</td>\n",
       "      <td>-0.238522</td>\n",
       "      <td>-0.27518</td>\n",
       "      <td>-0.169643</td>\n",
       "      <td>-0.085436</td>\n",
       "      <td>107.131532</td>\n",
       "      <td>139.270991</td>\n",
       "      <td>1.300000</td>\n",
       "      <td>0.113943</td>\n",
       "    </tr>\n",
       "    <tr>\n",
       "      <th>5</th>\n",
       "      <td>-1.561554</td>\n",
       "      <td>0.581897</td>\n",
       "      <td>0.788562</td>\n",
       "      <td>0.622322</td>\n",
       "      <td>-0.065454</td>\n",
       "      <td>-0.151286</td>\n",
       "      <td>-1.367945</td>\n",
       "      <td>0.132641</td>\n",
       "      <td>-0.753386</td>\n",
       "      <td>-0.581627</td>\n",
       "      <td>...</td>\n",
       "      <td>-0.032191</td>\n",
       "      <td>-0.032191</td>\n",
       "      <td>-0.238522</td>\n",
       "      <td>-0.27518</td>\n",
       "      <td>-0.169643</td>\n",
       "      <td>-0.085436</td>\n",
       "      <td>15.037911</td>\n",
       "      <td>30.075821</td>\n",
       "      <td>2.000000</td>\n",
       "      <td>0.301030</td>\n",
       "    </tr>\n",
       "    <tr>\n",
       "      <th>...</th>\n",
       "      <td>...</td>\n",
       "      <td>...</td>\n",
       "      <td>...</td>\n",
       "      <td>...</td>\n",
       "      <td>...</td>\n",
       "      <td>...</td>\n",
       "      <td>...</td>\n",
       "      <td>...</td>\n",
       "      <td>...</td>\n",
       "      <td>...</td>\n",
       "      <td>...</td>\n",
       "      <td>...</td>\n",
       "      <td>...</td>\n",
       "      <td>...</td>\n",
       "      <td>...</td>\n",
       "      <td>...</td>\n",
       "      <td>...</td>\n",
       "      <td>...</td>\n",
       "      <td>...</td>\n",
       "      <td>...</td>\n",
       "      <td>...</td>\n",
       "    </tr>\n",
       "    <tr>\n",
       "      <th>961</th>\n",
       "      <td>0.621634</td>\n",
       "      <td>-0.779389</td>\n",
       "      <td>0.307862</td>\n",
       "      <td>-0.918328</td>\n",
       "      <td>1.566453</td>\n",
       "      <td>0.492661</td>\n",
       "      <td>0.628761</td>\n",
       "      <td>-0.790557</td>\n",
       "      <td>-0.036530</td>\n",
       "      <td>-0.461498</td>\n",
       "      <td>...</td>\n",
       "      <td>-0.032191</td>\n",
       "      <td>-0.032191</td>\n",
       "      <td>-0.238522</td>\n",
       "      <td>-0.27518</td>\n",
       "      <td>-0.169643</td>\n",
       "      <td>-0.085436</td>\n",
       "      <td>31.000104</td>\n",
       "      <td>34.999650</td>\n",
       "      <td>1.129017</td>\n",
       "      <td>0.052701</td>\n",
       "    </tr>\n",
       "    <tr>\n",
       "      <th>962</th>\n",
       "      <td>0.834722</td>\n",
       "      <td>-0.884119</td>\n",
       "      <td>0.165598</td>\n",
       "      <td>-0.980878</td>\n",
       "      <td>1.201620</td>\n",
       "      <td>1.050498</td>\n",
       "      <td>0.704502</td>\n",
       "      <td>-0.776102</td>\n",
       "      <td>-0.233468</td>\n",
       "      <td>-0.461496</td>\n",
       "      <td>...</td>\n",
       "      <td>-0.032191</td>\n",
       "      <td>-0.032191</td>\n",
       "      <td>-0.238522</td>\n",
       "      <td>-0.27518</td>\n",
       "      <td>-0.169643</td>\n",
       "      <td>-0.085436</td>\n",
       "      <td>31.999934</td>\n",
       "      <td>33.999415</td>\n",
       "      <td>1.062484</td>\n",
       "      <td>0.026322</td>\n",
       "    </tr>\n",
       "    <tr>\n",
       "      <th>963</th>\n",
       "      <td>0.943127</td>\n",
       "      <td>-0.906571</td>\n",
       "      <td>0.196551</td>\n",
       "      <td>-1.377478</td>\n",
       "      <td>0.997433</td>\n",
       "      <td>1.522336</td>\n",
       "      <td>0.707042</td>\n",
       "      <td>-0.775993</td>\n",
       "      <td>0.065049</td>\n",
       "      <td>0.598260</td>\n",
       "      <td>...</td>\n",
       "      <td>-0.032191</td>\n",
       "      <td>-0.032191</td>\n",
       "      <td>-0.238522</td>\n",
       "      <td>-0.27518</td>\n",
       "      <td>-0.169643</td>\n",
       "      <td>-0.085436</td>\n",
       "      <td>30.999883</td>\n",
       "      <td>33.999458</td>\n",
       "      <td>1.096761</td>\n",
       "      <td>0.040112</td>\n",
       "    </tr>\n",
       "    <tr>\n",
       "      <th>964</th>\n",
       "      <td>0.893994</td>\n",
       "      <td>-0.196583</td>\n",
       "      <td>-0.286468</td>\n",
       "      <td>-0.923926</td>\n",
       "      <td>0.761096</td>\n",
       "      <td>1.340989</td>\n",
       "      <td>0.586631</td>\n",
       "      <td>-0.792770</td>\n",
       "      <td>-1.593940</td>\n",
       "      <td>-0.464683</td>\n",
       "      <td>...</td>\n",
       "      <td>-0.032191</td>\n",
       "      <td>-0.032191</td>\n",
       "      <td>-0.238522</td>\n",
       "      <td>-0.27518</td>\n",
       "      <td>-0.169643</td>\n",
       "      <td>-0.085436</td>\n",
       "      <td>31.998959</td>\n",
       "      <td>32.999644</td>\n",
       "      <td>1.031272</td>\n",
       "      <td>0.013373</td>\n",
       "    </tr>\n",
       "    <tr>\n",
       "      <th>965</th>\n",
       "      <td>0.757305</td>\n",
       "      <td>-1.049237</td>\n",
       "      <td>0.325811</td>\n",
       "      <td>-0.590671</td>\n",
       "      <td>1.522527</td>\n",
       "      <td>0.587270</td>\n",
       "      <td>0.577248</td>\n",
       "      <td>-0.790557</td>\n",
       "      <td>-0.321138</td>\n",
       "      <td>-0.465692</td>\n",
       "      <td>...</td>\n",
       "      <td>-0.032191</td>\n",
       "      <td>-0.032191</td>\n",
       "      <td>-0.238522</td>\n",
       "      <td>-0.27518</td>\n",
       "      <td>-0.169643</td>\n",
       "      <td>-0.085436</td>\n",
       "      <td>99.999531</td>\n",
       "      <td>99.999531</td>\n",
       "      <td>1.000000</td>\n",
       "      <td>0.000000</td>\n",
       "    </tr>\n",
       "  </tbody>\n",
       "</table>\n",
       "<p>847 rows × 149 columns</p>\n",
       "</div>"
      ],
      "text/plain": [
       "     MaxAbsEStateIndex  MinAbsEStateIndex  MinEStateIndex       qed       SPS  \\\n",
       "0            -1.763647           1.227715        0.858123 -0.755891  1.073323   \n",
       "1            -2.108224           2.095440        0.951585 -0.544168  1.254983   \n",
       "2            -2.514136           2.150839        0.957552 -1.490120  1.014426   \n",
       "4            -1.746485           0.536885        0.783714 -0.701088  0.563542   \n",
       "5            -1.561554           0.581897        0.788562  0.622322 -0.065454   \n",
       "..                 ...                ...             ...       ...       ...   \n",
       "961           0.621634          -0.779389        0.307862 -0.918328  1.566453   \n",
       "962           0.834722          -0.884119        0.165598 -0.980878  1.201620   \n",
       "963           0.943127          -0.906571        0.196551 -1.377478  0.997433   \n",
       "964           0.893994          -0.196583       -0.286468 -0.923926  0.761096   \n",
       "965           0.757305          -1.049237        0.325811 -0.590671  1.522527   \n",
       "\n",
       "        MolWt  MaxPartialCharge  MinPartialCharge  FpDensityMorgan1  \\\n",
       "0    0.258081         -1.556297          1.522921         -2.064995   \n",
       "1    0.289724         -1.759553          1.260180         -2.212699   \n",
       "2    0.745889         -1.118121          1.099403         -2.397328   \n",
       "4    0.902106         -1.367945          2.002451         -2.242239   \n",
       "5   -0.151286         -1.367945          0.132641         -0.753386   \n",
       "..        ...               ...               ...               ...   \n",
       "961  0.492661          0.628761         -0.790557         -0.036530   \n",
       "962  1.050498          0.704502         -0.776102         -0.233468   \n",
       "963  1.522336          0.707042         -0.775993          0.065049   \n",
       "964  1.340989          0.586631         -0.792770         -1.593940   \n",
       "965  0.587270          0.577248         -0.790557         -0.321138   \n",
       "\n",
       "     BCUT2D_MWHI  ...  fr_term_acetylene  fr_tetrazole  fr_thiazole  \\\n",
       "0      -0.581532  ...          -0.032191     -0.032191    -0.238522   \n",
       "1      -0.571135  ...          -0.032191     -0.032191    -0.238522   \n",
       "2      -0.545366  ...          -0.032191     -0.032191    -0.238522   \n",
       "4      -0.580930  ...          -0.032191     -0.032191    -0.238522   \n",
       "5      -0.581627  ...          -0.032191     -0.032191    -0.238522   \n",
       "..           ...  ...                ...           ...          ...   \n",
       "961    -0.461498  ...          -0.032191     -0.032191    -0.238522   \n",
       "962    -0.461496  ...          -0.032191     -0.032191    -0.238522   \n",
       "963     0.598260  ...          -0.032191     -0.032191    -0.238522   \n",
       "964    -0.464683  ...          -0.032191     -0.032191    -0.238522   \n",
       "965    -0.465692  ...          -0.032191     -0.032191    -0.238522   \n",
       "\n",
       "     fr_thiophene  fr_unbrch_alkane   fr_urea    IC50, mM    CC50, mM  \\\n",
       "0        -0.27518          2.264143 -0.085436    6.239374  175.482382   \n",
       "1        -0.27518          2.264143 -0.085436    0.771831    5.402819   \n",
       "2        -0.27518          2.264143 -0.085436  223.808778  161.142320   \n",
       "4        -0.27518         -0.169643 -0.085436  107.131532  139.270991   \n",
       "5        -0.27518         -0.169643 -0.085436   15.037911   30.075821   \n",
       "..            ...               ...       ...         ...         ...   \n",
       "961      -0.27518         -0.169643 -0.085436   31.000104   34.999650   \n",
       "962      -0.27518         -0.169643 -0.085436   31.999934   33.999415   \n",
       "963      -0.27518         -0.169643 -0.085436   30.999883   33.999458   \n",
       "964      -0.27518         -0.169643 -0.085436   31.998959   32.999644   \n",
       "965      -0.27518         -0.169643 -0.085436   99.999531   99.999531   \n",
       "\n",
       "            SI  log_10_SI  \n",
       "0    28.125000   1.449093  \n",
       "1     7.000000   0.845098  \n",
       "2     0.720000  -0.142668  \n",
       "4     1.300000   0.113943  \n",
       "5     2.000000   0.301030  \n",
       "..         ...        ...  \n",
       "961   1.129017   0.052701  \n",
       "962   1.062484   0.026322  \n",
       "963   1.096761   0.040112  \n",
       "964   1.031272   0.013373  \n",
       "965   1.000000   0.000000  \n",
       "\n",
       "[847 rows x 149 columns]"
      ]
     },
     "execution_count": 100,
     "metadata": {},
     "output_type": "execute_result"
    }
   ],
   "source": [
    "data_cleaned_IQR = df[~df['is_outlier_IQR']].drop(columns=['is_outlier_IQR', 'is_outlier_3σ'])\n",
    "# data_cleaned_IQR = df[~df['is_outlier_3σ']].drop(columns=['is_outlier_IQR', 'is_outlier_3σ', target_old])\n",
    "\n",
    "data_cleaned_IQR"
   ]
  },
  {
   "cell_type": "code",
   "execution_count": 101,
   "id": "1513dbaf",
   "metadata": {},
   "outputs": [],
   "source": [
    "X = data_cleaned_IQR[data_cleaned_IQR.columns[:-3]]\n",
    "y_ic50 = data_cleaned_IQR[target]"
   ]
  },
  {
   "cell_type": "code",
   "execution_count": 102,
   "id": "e94a6a88",
   "metadata": {},
   "outputs": [
    {
     "data": {
      "text/plain": [
       "<Axes: xlabel='SI', ylabel='Count'>"
      ]
     },
     "execution_count": 102,
     "metadata": {},
     "output_type": "execute_result"
    },
    {
     "data": {
      "image/png": "[encoded data removed]",
      "text/plain": [
       "<Figure size 640x480 with 1 Axes>"
      ]
     },
     "metadata": {},
     "output_type": "display_data"
    }
   ],
   "source": [
    "sns.histplot(data=np.log(y_ic50))"
   ]
  },
  {
   "cell_type": "code",
   "execution_count": 103,
   "id": "64069bb4",
   "metadata": {},
   "outputs": [
    {
     "data": {
      "text/html": [
       "<div>\n",
       "<style scoped>\n",
       "    .dataframe tbody tr th:only-of-type {\n",
       "        vertical-align: middle;\n",
       "    }\n",
       "\n",
       "    .dataframe tbody tr th {\n",
       "        vertical-align: top;\n",
       "    }\n",
       "\n",
       "    .dataframe thead th {\n",
       "        text-align: right;\n",
       "    }\n",
       "</style>\n",
       "<table border=\"1\" class=\"dataframe\">\n",
       "  <thead>\n",
       "    <tr style=\"text-align: right;\">\n",
       "      <th></th>\n",
       "      <th>MaxAbsEStateIndex</th>\n",
       "      <th>MinAbsEStateIndex</th>\n",
       "      <th>MinEStateIndex</th>\n",
       "      <th>qed</th>\n",
       "      <th>SPS</th>\n",
       "      <th>MolWt</th>\n",
       "      <th>MaxPartialCharge</th>\n",
       "      <th>MinPartialCharge</th>\n",
       "      <th>FpDensityMorgan1</th>\n",
       "      <th>BCUT2D_MWHI</th>\n",
       "      <th>...</th>\n",
       "      <th>fr_sulfide</th>\n",
       "      <th>fr_sulfonamd</th>\n",
       "      <th>fr_sulfone</th>\n",
       "      <th>fr_term_acetylene</th>\n",
       "      <th>fr_tetrazole</th>\n",
       "      <th>fr_thiazole</th>\n",
       "      <th>fr_thiophene</th>\n",
       "      <th>fr_unbrch_alkane</th>\n",
       "      <th>fr_urea</th>\n",
       "      <th>IC50, mM</th>\n",
       "    </tr>\n",
       "  </thead>\n",
       "  <tbody>\n",
       "    <tr>\n",
       "      <th>0</th>\n",
       "      <td>-1.763647</td>\n",
       "      <td>1.227715</td>\n",
       "      <td>0.858123</td>\n",
       "      <td>-0.755891</td>\n",
       "      <td>1.073323</td>\n",
       "      <td>0.258081</td>\n",
       "      <td>-1.556297</td>\n",
       "      <td>1.522921</td>\n",
       "      <td>-2.064995</td>\n",
       "      <td>-0.581532</td>\n",
       "      <td>...</td>\n",
       "      <td>-0.209755</td>\n",
       "      <td>-0.112154</td>\n",
       "      <td>-0.096976</td>\n",
       "      <td>-0.032191</td>\n",
       "      <td>-0.032191</td>\n",
       "      <td>-0.238522</td>\n",
       "      <td>-0.27518</td>\n",
       "      <td>2.264143</td>\n",
       "      <td>-0.085436</td>\n",
       "      <td>6.239374</td>\n",
       "    </tr>\n",
       "    <tr>\n",
       "      <th>1</th>\n",
       "      <td>-2.108224</td>\n",
       "      <td>2.095440</td>\n",
       "      <td>0.951585</td>\n",
       "      <td>-0.544168</td>\n",
       "      <td>1.254983</td>\n",
       "      <td>0.289724</td>\n",
       "      <td>-1.759553</td>\n",
       "      <td>1.260180</td>\n",
       "      <td>-2.212699</td>\n",
       "      <td>-0.571135</td>\n",
       "      <td>...</td>\n",
       "      <td>-0.209755</td>\n",
       "      <td>-0.112154</td>\n",
       "      <td>-0.096976</td>\n",
       "      <td>-0.032191</td>\n",
       "      <td>-0.032191</td>\n",
       "      <td>-0.238522</td>\n",
       "      <td>-0.27518</td>\n",
       "      <td>2.264143</td>\n",
       "      <td>-0.085436</td>\n",
       "      <td>0.771831</td>\n",
       "    </tr>\n",
       "    <tr>\n",
       "      <th>2</th>\n",
       "      <td>-2.514136</td>\n",
       "      <td>2.150839</td>\n",
       "      <td>0.957552</td>\n",
       "      <td>-1.490120</td>\n",
       "      <td>1.014426</td>\n",
       "      <td>0.745889</td>\n",
       "      <td>-1.118121</td>\n",
       "      <td>1.099403</td>\n",
       "      <td>-2.397328</td>\n",
       "      <td>-0.545366</td>\n",
       "      <td>...</td>\n",
       "      <td>-0.209755</td>\n",
       "      <td>-0.112154</td>\n",
       "      <td>-0.096976</td>\n",
       "      <td>-0.032191</td>\n",
       "      <td>-0.032191</td>\n",
       "      <td>-0.238522</td>\n",
       "      <td>-0.27518</td>\n",
       "      <td>2.264143</td>\n",
       "      <td>-0.085436</td>\n",
       "      <td>223.808778</td>\n",
       "    </tr>\n",
       "    <tr>\n",
       "      <th>4</th>\n",
       "      <td>-1.746485</td>\n",
       "      <td>0.536885</td>\n",
       "      <td>0.783714</td>\n",
       "      <td>-0.701088</td>\n",
       "      <td>0.563542</td>\n",
       "      <td>0.902106</td>\n",
       "      <td>-1.367945</td>\n",
       "      <td>2.002451</td>\n",
       "      <td>-2.242239</td>\n",
       "      <td>-0.580930</td>\n",
       "      <td>...</td>\n",
       "      <td>-0.209755</td>\n",
       "      <td>-0.112154</td>\n",
       "      <td>-0.096976</td>\n",
       "      <td>-0.032191</td>\n",
       "      <td>-0.032191</td>\n",
       "      <td>-0.238522</td>\n",
       "      <td>-0.27518</td>\n",
       "      <td>-0.169643</td>\n",
       "      <td>-0.085436</td>\n",
       "      <td>107.131532</td>\n",
       "    </tr>\n",
       "    <tr>\n",
       "      <th>5</th>\n",
       "      <td>-1.561554</td>\n",
       "      <td>0.581897</td>\n",
       "      <td>0.788562</td>\n",
       "      <td>0.622322</td>\n",
       "      <td>-0.065454</td>\n",
       "      <td>-0.151286</td>\n",
       "      <td>-1.367945</td>\n",
       "      <td>0.132641</td>\n",
       "      <td>-0.753386</td>\n",
       "      <td>-0.581627</td>\n",
       "      <td>...</td>\n",
       "      <td>-0.209755</td>\n",
       "      <td>-0.112154</td>\n",
       "      <td>-0.096976</td>\n",
       "      <td>-0.032191</td>\n",
       "      <td>-0.032191</td>\n",
       "      <td>-0.238522</td>\n",
       "      <td>-0.27518</td>\n",
       "      <td>-0.169643</td>\n",
       "      <td>-0.085436</td>\n",
       "      <td>15.037911</td>\n",
       "    </tr>\n",
       "    <tr>\n",
       "      <th>...</th>\n",
       "      <td>...</td>\n",
       "      <td>...</td>\n",
       "      <td>...</td>\n",
       "      <td>...</td>\n",
       "      <td>...</td>\n",
       "      <td>...</td>\n",
       "      <td>...</td>\n",
       "      <td>...</td>\n",
       "      <td>...</td>\n",
       "      <td>...</td>\n",
       "      <td>...</td>\n",
       "      <td>...</td>\n",
       "      <td>...</td>\n",
       "      <td>...</td>\n",
       "      <td>...</td>\n",
       "      <td>...</td>\n",
       "      <td>...</td>\n",
       "      <td>...</td>\n",
       "      <td>...</td>\n",
       "      <td>...</td>\n",
       "      <td>...</td>\n",
       "    </tr>\n",
       "    <tr>\n",
       "      <th>961</th>\n",
       "      <td>0.621634</td>\n",
       "      <td>-0.779389</td>\n",
       "      <td>0.307862</td>\n",
       "      <td>-0.918328</td>\n",
       "      <td>1.566453</td>\n",
       "      <td>0.492661</td>\n",
       "      <td>0.628761</td>\n",
       "      <td>-0.790557</td>\n",
       "      <td>-0.036530</td>\n",
       "      <td>-0.461498</td>\n",
       "      <td>...</td>\n",
       "      <td>-0.209755</td>\n",
       "      <td>-0.112154</td>\n",
       "      <td>-0.096976</td>\n",
       "      <td>-0.032191</td>\n",
       "      <td>-0.032191</td>\n",
       "      <td>-0.238522</td>\n",
       "      <td>-0.27518</td>\n",
       "      <td>-0.169643</td>\n",
       "      <td>-0.085436</td>\n",
       "      <td>31.000104</td>\n",
       "    </tr>\n",
       "    <tr>\n",
       "      <th>962</th>\n",
       "      <td>0.834722</td>\n",
       "      <td>-0.884119</td>\n",
       "      <td>0.165598</td>\n",
       "      <td>-0.980878</td>\n",
       "      <td>1.201620</td>\n",
       "      <td>1.050498</td>\n",
       "      <td>0.704502</td>\n",
       "      <td>-0.776102</td>\n",
       "      <td>-0.233468</td>\n",
       "      <td>-0.461496</td>\n",
       "      <td>...</td>\n",
       "      <td>-0.209755</td>\n",
       "      <td>-0.112154</td>\n",
       "      <td>-0.096976</td>\n",
       "      <td>-0.032191</td>\n",
       "      <td>-0.032191</td>\n",
       "      <td>-0.238522</td>\n",
       "      <td>-0.27518</td>\n",
       "      <td>-0.169643</td>\n",
       "      <td>-0.085436</td>\n",
       "      <td>31.999934</td>\n",
       "    </tr>\n",
       "    <tr>\n",
       "      <th>963</th>\n",
       "      <td>0.943127</td>\n",
       "      <td>-0.906571</td>\n",
       "      <td>0.196551</td>\n",
       "      <td>-1.377478</td>\n",
       "      <td>0.997433</td>\n",
       "      <td>1.522336</td>\n",
       "      <td>0.707042</td>\n",
       "      <td>-0.775993</td>\n",
       "      <td>0.065049</td>\n",
       "      <td>0.598260</td>\n",
       "      <td>...</td>\n",
       "      <td>3.613328</td>\n",
       "      <td>-0.112154</td>\n",
       "      <td>-0.096976</td>\n",
       "      <td>-0.032191</td>\n",
       "      <td>-0.032191</td>\n",
       "      <td>-0.238522</td>\n",
       "      <td>-0.27518</td>\n",
       "      <td>-0.169643</td>\n",
       "      <td>-0.085436</td>\n",
       "      <td>30.999883</td>\n",
       "    </tr>\n",
       "    <tr>\n",
       "      <th>964</th>\n",
       "      <td>0.893994</td>\n",
       "      <td>-0.196583</td>\n",
       "      <td>-0.286468</td>\n",
       "      <td>-0.923926</td>\n",
       "      <td>0.761096</td>\n",
       "      <td>1.340989</td>\n",
       "      <td>0.586631</td>\n",
       "      <td>-0.792770</td>\n",
       "      <td>-1.593940</td>\n",
       "      <td>-0.464683</td>\n",
       "      <td>...</td>\n",
       "      <td>-0.209755</td>\n",
       "      <td>-0.112154</td>\n",
       "      <td>-0.096976</td>\n",
       "      <td>-0.032191</td>\n",
       "      <td>-0.032191</td>\n",
       "      <td>-0.238522</td>\n",
       "      <td>-0.27518</td>\n",
       "      <td>-0.169643</td>\n",
       "      <td>-0.085436</td>\n",
       "      <td>31.998959</td>\n",
       "    </tr>\n",
       "    <tr>\n",
       "      <th>965</th>\n",
       "      <td>0.757305</td>\n",
       "      <td>-1.049237</td>\n",
       "      <td>0.325811</td>\n",
       "      <td>-0.590671</td>\n",
       "      <td>1.522527</td>\n",
       "      <td>0.587270</td>\n",
       "      <td>0.577248</td>\n",
       "      <td>-0.790557</td>\n",
       "      <td>-0.321138</td>\n",
       "      <td>-0.465692</td>\n",
       "      <td>...</td>\n",
       "      <td>-0.209755</td>\n",
       "      <td>-0.112154</td>\n",
       "      <td>-0.096976</td>\n",
       "      <td>-0.032191</td>\n",
       "      <td>-0.032191</td>\n",
       "      <td>-0.238522</td>\n",
       "      <td>-0.27518</td>\n",
       "      <td>-0.169643</td>\n",
       "      <td>-0.085436</td>\n",
       "      <td>99.999531</td>\n",
       "    </tr>\n",
       "  </tbody>\n",
       "</table>\n",
       "<p>847 rows × 146 columns</p>\n",
       "</div>"
      ],
      "text/plain": [
       "     MaxAbsEStateIndex  MinAbsEStateIndex  MinEStateIndex       qed       SPS  \\\n",
       "0            -1.763647           1.227715        0.858123 -0.755891  1.073323   \n",
       "1            -2.108224           2.095440        0.951585 -0.544168  1.254983   \n",
       "2            -2.514136           2.150839        0.957552 -1.490120  1.014426   \n",
       "4            -1.746485           0.536885        0.783714 -0.701088  0.563542   \n",
       "5            -1.561554           0.581897        0.788562  0.622322 -0.065454   \n",
       "..                 ...                ...             ...       ...       ...   \n",
       "961           0.621634          -0.779389        0.307862 -0.918328  1.566453   \n",
       "962           0.834722          -0.884119        0.165598 -0.980878  1.201620   \n",
       "963           0.943127          -0.906571        0.196551 -1.377478  0.997433   \n",
       "964           0.893994          -0.196583       -0.286468 -0.923926  0.761096   \n",
       "965           0.757305          -1.049237        0.325811 -0.590671  1.522527   \n",
       "\n",
       "        MolWt  MaxPartialCharge  MinPartialCharge  FpDensityMorgan1  \\\n",
       "0    0.258081         -1.556297          1.522921         -2.064995   \n",
       "1    0.289724         -1.759553          1.260180         -2.212699   \n",
       "2    0.745889         -1.118121          1.099403         -2.397328   \n",
       "4    0.902106         -1.367945          2.002451         -2.242239   \n",
       "5   -0.151286         -1.367945          0.132641         -0.753386   \n",
       "..        ...               ...               ...               ...   \n",
       "961  0.492661          0.628761         -0.790557         -0.036530   \n",
       "962  1.050498          0.704502         -0.776102         -0.233468   \n",
       "963  1.522336          0.707042         -0.775993          0.065049   \n",
       "964  1.340989          0.586631         -0.792770         -1.593940   \n",
       "965  0.587270          0.577248         -0.790557         -0.321138   \n",
       "\n",
       "     BCUT2D_MWHI  ...  fr_sulfide  fr_sulfonamd  fr_sulfone  \\\n",
       "0      -0.581532  ...   -0.209755     -0.112154   -0.096976   \n",
       "1      -0.571135  ...   -0.209755     -0.112154   -0.096976   \n",
       "2      -0.545366  ...   -0.209755     -0.112154   -0.096976   \n",
       "4      -0.580930  ...   -0.209755     -0.112154   -0.096976   \n",
       "5      -0.581627  ...   -0.209755     -0.112154   -0.096976   \n",
       "..           ...  ...         ...           ...         ...   \n",
       "961    -0.461498  ...   -0.209755     -0.112154   -0.096976   \n",
       "962    -0.461496  ...   -0.209755     -0.112154   -0.096976   \n",
       "963     0.598260  ...    3.613328     -0.112154   -0.096976   \n",
       "964    -0.464683  ...   -0.209755     -0.112154   -0.096976   \n",
       "965    -0.465692  ...   -0.209755     -0.112154   -0.096976   \n",
       "\n",
       "     fr_term_acetylene  fr_tetrazole  fr_thiazole  fr_thiophene  \\\n",
       "0            -0.032191     -0.032191    -0.238522      -0.27518   \n",
       "1            -0.032191     -0.032191    -0.238522      -0.27518   \n",
       "2            -0.032191     -0.032191    -0.238522      -0.27518   \n",
       "4            -0.032191     -0.032191    -0.238522      -0.27518   \n",
       "5            -0.032191     -0.032191    -0.238522      -0.27518   \n",
       "..                 ...           ...          ...           ...   \n",
       "961          -0.032191     -0.032191    -0.238522      -0.27518   \n",
       "962          -0.032191     -0.032191    -0.238522      -0.27518   \n",
       "963          -0.032191     -0.032191    -0.238522      -0.27518   \n",
       "964          -0.032191     -0.032191    -0.238522      -0.27518   \n",
       "965          -0.032191     -0.032191    -0.238522      -0.27518   \n",
       "\n",
       "     fr_unbrch_alkane   fr_urea    IC50, mM  \n",
       "0            2.264143 -0.085436    6.239374  \n",
       "1            2.264143 -0.085436    0.771831  \n",
       "2            2.264143 -0.085436  223.808778  \n",
       "4           -0.169643 -0.085436  107.131532  \n",
       "5           -0.169643 -0.085436   15.037911  \n",
       "..                ...       ...         ...  \n",
       "961         -0.169643 -0.085436   31.000104  \n",
       "962         -0.169643 -0.085436   31.999934  \n",
       "963         -0.169643 -0.085436   30.999883  \n",
       "964         -0.169643 -0.085436   31.998959  \n",
       "965         -0.169643 -0.085436   99.999531  \n",
       "\n",
       "[847 rows x 146 columns]"
      ]
     },
     "execution_count": 103,
     "metadata": {},
     "output_type": "execute_result"
    }
   ],
   "source": [
    "X"
   ]
  },
  {
   "cell_type": "code",
   "execution_count": 104,
   "id": "01159c37",
   "metadata": {},
   "outputs": [
    {
     "data": {
      "text/plain": [
       "0      28.125000\n",
       "1       7.000000\n",
       "2       0.720000\n",
       "4       1.300000\n",
       "5       2.000000\n",
       "         ...    \n",
       "961     1.129017\n",
       "962     1.062484\n",
       "963     1.096761\n",
       "964     1.031272\n",
       "965     1.000000\n",
       "Name: SI, Length: 847, dtype: float64"
      ]
     },
     "execution_count": 104,
     "metadata": {},
     "output_type": "execute_result"
    }
   ],
   "source": [
    "y_ic50"
   ]
  },
  {
   "cell_type": "code",
   "execution_count": 105,
   "id": "aecb7676",
   "metadata": {},
   "outputs": [],
   "source": [
    "y_ic50 = y_ic50 * 10"
   ]
  },
  {
   "cell_type": "code",
   "execution_count": 106,
   "id": "db186e8f",
   "metadata": {},
   "outputs": [],
   "source": [
    "X_train, X_test, y_train_ic50, y_test_ic50 = train_test_split(\n",
    "    X, y_ic50, test_size=0.15, random_state=42\n",
    ")"
   ]
  },
  {
   "cell_type": "code",
   "execution_count": null,
   "id": "756867f3",
   "metadata": {},
   "outputs": [],
   "source": []
  },
  {
   "cell_type": "markdown",
   "id": "8e017275",
   "metadata": {},
   "source": [
    "## Инициализация моделей и метрик"
   ]
  },
  {
   "cell_type": "code",
   "execution_count": 107,
   "id": "382c646c",
   "metadata": {},
   "outputs": [],
   "source": [
    "from sklearn.linear_model import Ridge, Lasso\n",
    "from sklearn.ensemble import RandomForestRegressor\n",
    "from xgboost import XGBRegressor\n",
    "from sklearn.svm import SVR\n",
    "from sklearn.metrics import r2_score, mean_squared_error, mean_absolute_error, mean_absolute_percentage_error\n",
    "import numpy as np"
   ]
  },
  {
   "cell_type": "code",
   "execution_count": 108,
   "id": "9bf49b4d",
   "metadata": {},
   "outputs": [],
   "source": [
    "RANDOM_STATE = 42\n",
    "np.random.seed(RANDOM_STATE)"
   ]
  },
  {
   "cell_type": "code",
   "execution_count": 109,
   "id": "17e2fa90",
   "metadata": {},
   "outputs": [],
   "source": [
    "models = {\n",
    "    'Ridge': Ridge(),\n",
    "    'Lasso': Lasso(),\n",
    "    'RandomForest': RandomForestRegressor(random_state=RANDOM_STATE),\n",
    "    'XGBoost': XGBRegressor(random_state=RANDOM_STATE),\n",
    "    'SVR': SVR()\n",
    "}\n",
    "\n",
    "metrics = {\n",
    "    'R2': r2_score,\n",
    "    'RMSE': lambda y_true, y_pred: np.sqrt(mean_squared_error(y_true, y_pred)),\n",
    "    'MAE': mean_absolute_error,\n",
    "    'MAPE': mean_absolute_percentage_error\n",
    "}"
   ]
  },
  {
   "cell_type": "markdown",
   "id": "30908cf7",
   "metadata": {},
   "source": [
    "## Бейзлайн"
   ]
  },
  {
   "cell_type": "markdown",
   "id": "017610d9",
   "metadata": {},
   "source": [
    "Проверим линейные модели, деревья, а также SVR"
   ]
  },
  {
   "cell_type": "code",
   "execution_count": 110,
   "id": "a1ed7a0c",
   "metadata": {},
   "outputs": [],
   "source": [
    "from sklearn.model_selection import cross_val_score"
   ]
  },
  {
   "cell_type": "code",
   "execution_count": 111,
   "id": "c73d1a6b",
   "metadata": {},
   "outputs": [
    {
     "name": "stdout",
     "output_type": "stream",
     "text": [
      "          model  cv_mean_r2  cv_std_r2        R2        RMSE        MAE  \\\n",
      "0         Ridge   -0.086966   0.137880  0.228403   89.794231  64.572138   \n",
      "1         Lasso    0.127103   0.083317  0.270788   87.293129  60.282802   \n",
      "2  RandomForest    0.204572   0.108726  0.380450   80.462094  49.670423   \n",
      "3       XGBoost    0.051447   0.135166  0.272932   87.164673  52.859318   \n",
      "4           SVR   -0.024932   0.065603 -0.069738  105.728424  59.488465   \n",
      "\n",
      "       MAPE  \n",
      "0  2.053788  \n",
      "1  1.876895  \n",
      "2  1.411732  \n",
      "3  1.365244  \n",
      "4  1.005160  \n"
     ]
    }
   ],
   "source": [
    "results = []\n",
    "\n",
    "for name, model in models.items():\n",
    "    cv_scores = cross_val_score(model, X_train, y_train_ic50, \n",
    "                               cv=5, scoring='r2', n_jobs=-1)\n",
    "    \n",
    "    model.fit(X_train, y_train_ic50)\n",
    "    y_pred = model.predict(X_test)\n",
    "    \n",
    "    model_metrics = {metric_name: metric_func(y_test_ic50, y_pred) \n",
    "                     for metric_name, metric_func in metrics.items()}\n",
    "    \n",
    "    results.append({\n",
    "        'model': name,\n",
    "        'cv_mean_r2': np.mean(cv_scores),\n",
    "        'cv_std_r2': np.std(cv_scores),\n",
    "        **model_metrics\n",
    "    })\n",
    "\n",
    "results_df = pd.DataFrame(results)\n",
    "print(results_df)"
   ]
  },
  {
   "cell_type": "markdown",
   "id": "6964115b",
   "metadata": {},
   "source": []
  },
  {
   "cell_type": "markdown",
   "id": "28ac63cb",
   "metadata": {},
   "source": [
    "Как видно, деревья и SVR дают лучшие результаты.\n",
    "\n",
    "Попробуем оптимизировать их с помощью подбора гиперпараметров"
   ]
  },
  {
   "cell_type": "markdown",
   "id": "99c84bcf",
   "metadata": {},
   "source": [
    "## Оптимизация\n",
    "\n",
    "Будем оптимизировать при помощи Optuna"
   ]
  },
  {
   "cell_type": "code",
   "execution_count": 112,
   "id": "d1351a82",
   "metadata": {},
   "outputs": [],
   "source": [
    "import optuna\n",
    "from optuna.samplers import TPESampler\n",
    "from sklearn.ensemble import RandomForestRegressor\n",
    "from xgboost import XGBRegressor\n",
    "from sklearn.svm import SVR\n",
    "from sklearn.model_selection import cross_val_score\n",
    "from sklearn.metrics import r2_score, mean_squared_error, mean_absolute_error\n",
    "import numpy as np\n",
    "import joblib\n",
    "import matplotlib.pyplot as plt"
   ]
  },
  {
   "cell_type": "code",
   "execution_count": 113,
   "id": "a764827e",
   "metadata": {},
   "outputs": [],
   "source": [
    "N_TRIALS_RF = 100\n",
    "CV_FOLDS_RF = 10\n",
    "\n",
    "N_TRIALS_XGB = 100\n",
    "CV_FOLDS_XGB = 10\n",
    "\n",
    "N_TRIALS_SVR = 30\n",
    "CV_FOLDS_SVR = 5"
   ]
  },
  {
   "cell_type": "markdown",
   "id": "a136fe2d",
   "metadata": {},
   "source": [
    "### Random Forest"
   ]
  },
  {
   "cell_type": "code",
   "execution_count": 114,
   "id": "6a3a0ea3",
   "metadata": {},
   "outputs": [],
   "source": [
    "def optimize_rf(trial):\n",
    "    params = {\n",
    "        'n_estimators': trial.suggest_int('n_estimators', 100, 1000),\n",
    "        'max_depth': trial.suggest_int('max_depth', 5, 50),\n",
    "        'min_samples_split': trial.suggest_int('min_samples_split', 2, 20),\n",
    "        'min_samples_leaf': trial.suggest_int('min_samples_leaf', 1, 10),\n",
    "        'max_features': trial.suggest_categorical('max_features', ['sqrt', 'log2']),\n",
    "        'bootstrap': trial.suggest_categorical('bootstrap', [True, False])\n",
    "    }\n",
    "    \n",
    "    model = RandomForestRegressor(\n",
    "        **params,\n",
    "        random_state=RANDOM_STATE,\n",
    "        n_jobs=-1\n",
    "    )\n",
    "    \n",
    "    r2_scores = cross_val_score(\n",
    "        model, X_train, y_train_ic50, \n",
    "        cv=CV_FOLDS_RF, scoring='r2', n_jobs=-1\n",
    "    )\n",
    "    \n",
    "    return np.mean(r2_scores)"
   ]
  },
  {
   "cell_type": "code",
   "execution_count": 115,
   "id": "68b52693",
   "metadata": {},
   "outputs": [
    {
     "name": "stderr",
     "output_type": "stream",
     "text": [
      "[I 2025-06-04 01:45:42,276] A new study created in memory with name: no-name-00f062ca-d0f8-414a-b2ef-470c6a418a19\n"
     ]
    },
    {
     "name": "stderr",
     "output_type": "stream",
     "text": [
      "[I 2025-06-04 01:45:43,533] Trial 0 finished with value: 0.17064743810695854 and parameters: {'n_estimators': 437, 'max_depth': 48, 'min_samples_split': 15, 'min_samples_leaf': 6, 'max_features': 'sqrt', 'bootstrap': False}. Best is trial 0 with value: 0.17064743810695854.\n",
      "[I 2025-06-04 01:45:44,938] Trial 1 finished with value: 0.17368249856514234 and parameters: {'n_estimators': 641, 'max_depth': 37, 'min_samples_split': 2, 'min_samples_leaf': 10, 'max_features': 'sqrt', 'bootstrap': False}. Best is trial 1 with value: 0.17368249856514234.\n",
      "[I 2025-06-04 01:45:46,008] Trial 2 finished with value: 0.16063124926328598 and parameters: {'n_estimators': 374, 'max_depth': 29, 'min_samples_split': 10, 'min_samples_leaf': 3, 'max_features': 'sqrt', 'bootstrap': False}. Best is trial 1 with value: 0.17368249856514234.\n",
      "[I 2025-06-04 01:45:47,078] Trial 3 finished with value: 0.1644525259671386 and parameters: {'n_estimators': 510, 'max_depth': 41, 'min_samples_split': 5, 'min_samples_leaf': 6, 'max_features': 'sqrt', 'bootstrap': True}. Best is trial 1 with value: 0.17368249856514234.\n",
      "[I 2025-06-04 01:45:47,408] Trial 4 finished with value: 0.17328404746676207 and parameters: {'n_estimators': 158, 'max_depth': 48, 'min_samples_split': 20, 'min_samples_leaf': 9, 'max_features': 'sqrt', 'bootstrap': True}. Best is trial 1 with value: 0.17368249856514234.\n",
      "[I 2025-06-04 01:45:47,855] Trial 5 finished with value: 0.1448365774163561 and parameters: {'n_estimators': 209, 'max_depth': 27, 'min_samples_split': 2, 'min_samples_leaf': 10, 'max_features': 'log2', 'bootstrap': False}. Best is trial 1 with value: 0.17368249856514234.\n",
      "[I 2025-06-04 01:45:49,205] Trial 6 finished with value: 0.17421840053825968 and parameters: {'n_estimators': 592, 'max_depth': 13, 'min_samples_split': 20, 'min_samples_leaf': 8, 'max_features': 'sqrt', 'bootstrap': False}. Best is trial 6 with value: 0.17421840053825968.\n",
      "[I 2025-06-04 01:45:49,622] Trial 7 finished with value: 0.16462166578733645 and parameters: {'n_estimators': 179, 'max_depth': 14, 'min_samples_split': 2, 'min_samples_leaf': 4, 'max_features': 'sqrt', 'bootstrap': True}. Best is trial 6 with value: 0.17421840053825968.\n",
      "[I 2025-06-04 01:45:50,247] Trial 8 finished with value: 0.13584478573765504 and parameters: {'n_estimators': 353, 'max_depth': 29, 'min_samples_split': 4, 'min_samples_leaf': 9, 'max_features': 'log2', 'bootstrap': True}. Best is trial 6 with value: 0.17421840053825968.\n",
      "[I 2025-06-04 01:45:50,509] Trial 9 finished with value: 0.17798768636807222 and parameters: {'n_estimators': 104, 'max_depth': 42, 'min_samples_split': 15, 'min_samples_leaf': 8, 'max_features': 'sqrt', 'bootstrap': True}. Best is trial 9 with value: 0.17798768636807222.\n",
      "[I 2025-06-04 01:45:51,747] Trial 10 finished with value: 0.11445267307509432 and parameters: {'n_estimators': 891, 'max_depth': 5, 'min_samples_split': 14, 'min_samples_leaf': 1, 'max_features': 'log2', 'bootstrap': True}. Best is trial 9 with value: 0.17798768636807222.\n",
      "[I 2025-06-04 01:45:53,430] Trial 11 finished with value: 0.17468041255468836 and parameters: {'n_estimators': 706, 'max_depth': 19, 'min_samples_split': 20, 'min_samples_leaf': 7, 'max_features': 'sqrt', 'bootstrap': False}. Best is trial 9 with value: 0.17798768636807222.\n",
      "[I 2025-06-04 01:45:55,152] Trial 12 finished with value: 0.1664304060412709 and parameters: {'n_estimators': 810, 'max_depth': 20, 'min_samples_split': 17, 'min_samples_leaf': 7, 'max_features': 'sqrt', 'bootstrap': True}. Best is trial 9 with value: 0.17798768636807222.\n",
      "[I 2025-06-04 01:45:57,090] Trial 13 finished with value: 0.17581543930316337 and parameters: {'n_estimators': 726, 'max_depth': 35, 'min_samples_split': 11, 'min_samples_leaf': 7, 'max_features': 'sqrt', 'bootstrap': False}. Best is trial 9 with value: 0.17798768636807222.\n",
      "[I 2025-06-04 01:45:59,061] Trial 14 finished with value: 0.12735893328982698 and parameters: {'n_estimators': 974, 'max_depth': 38, 'min_samples_split': 10, 'min_samples_leaf': 4, 'max_features': 'log2', 'bootstrap': False}. Best is trial 9 with value: 0.17798768636807222.\n",
      "[I 2025-06-04 01:46:00,790] Trial 15 finished with value: 0.16807507769449256 and parameters: {'n_estimators': 758, 'max_depth': 42, 'min_samples_split': 13, 'min_samples_leaf': 8, 'max_features': 'sqrt', 'bootstrap': True}. Best is trial 9 with value: 0.17798768636807222.\n",
      "[I 2025-06-04 01:46:01,567] Trial 16 finished with value: 0.16855985733047157 and parameters: {'n_estimators': 273, 'max_depth': 33, 'min_samples_split': 8, 'min_samples_leaf': 5, 'max_features': 'sqrt', 'bootstrap': False}. Best is trial 9 with value: 0.17798768636807222.\n",
      "[I 2025-06-04 01:46:02,597] Trial 17 finished with value: 0.16111505689558192 and parameters: {'n_estimators': 514, 'max_depth': 44, 'min_samples_split': 17, 'min_samples_leaf': 7, 'max_features': 'sqrt', 'bootstrap': True}. Best is trial 9 with value: 0.17798768636807222.\n",
      "[I 2025-06-04 01:46:02,870] Trial 18 finished with value: 0.1526285078499216 and parameters: {'n_estimators': 109, 'max_depth': 34, 'min_samples_split': 12, 'min_samples_leaf': 8, 'max_features': 'log2', 'bootstrap': False}. Best is trial 9 with value: 0.17798768636807222.\n",
      "[I 2025-06-04 01:46:04,665] Trial 19 finished with value: 0.16663637949965618 and parameters: {'n_estimators': 856, 'max_depth': 24, 'min_samples_split': 8, 'min_samples_leaf': 5, 'max_features': 'sqrt', 'bootstrap': True}. Best is trial 9 with value: 0.17798768636807222.\n",
      "[I 2025-06-04 01:46:06,300] Trial 20 finished with value: 0.1557510890998639 and parameters: {'n_estimators': 692, 'max_depth': 50, 'min_samples_split': 16, 'min_samples_leaf': 1, 'max_features': 'sqrt', 'bootstrap': True}. Best is trial 9 with value: 0.17798768636807222.\n",
      "[I 2025-06-04 01:46:07,973] Trial 21 finished with value: 0.17253170479251984 and parameters: {'n_estimators': 719, 'max_depth': 17, 'min_samples_split': 19, 'min_samples_leaf': 7, 'max_features': 'sqrt', 'bootstrap': False}. Best is trial 9 with value: 0.17798768636807222.\n",
      "[I 2025-06-04 01:46:09,463] Trial 22 finished with value: 0.17533431894856277 and parameters: {'n_estimators': 610, 'max_depth': 21, 'min_samples_split': 18, 'min_samples_leaf': 9, 'max_features': 'sqrt', 'bootstrap': False}. Best is trial 9 with value: 0.17798768636807222.\n",
      "[I 2025-06-04 01:46:11,126] Trial 23 finished with value: 0.1761634341421054 and parameters: {'n_estimators': 628, 'max_depth': 32, 'min_samples_split': 18, 'min_samples_leaf': 9, 'max_features': 'sqrt', 'bootstrap': False}. Best is trial 9 with value: 0.17798768636807222.\n",
      "[I 2025-06-04 01:46:12,280] Trial 24 finished with value: 0.17202203039511202 and parameters: {'n_estimators': 458, 'max_depth': 34, 'min_samples_split': 14, 'min_samples_leaf': 9, 'max_features': 'sqrt', 'bootstrap': False}. Best is trial 9 with value: 0.17798768636807222.\n",
      "[I 2025-06-04 01:46:15,057] Trial 25 finished with value: 0.1738154790049327 and parameters: {'n_estimators': 960, 'max_depth': 38, 'min_samples_split': 11, 'min_samples_leaf': 8, 'max_features': 'sqrt', 'bootstrap': False}. Best is trial 9 with value: 0.17798768636807222.\n",
      "[I 2025-06-04 01:46:16,605] Trial 26 finished with value: 0.14274598217703982 and parameters: {'n_estimators': 802, 'max_depth': 45, 'min_samples_split': 16, 'min_samples_leaf': 10, 'max_features': 'log2', 'bootstrap': False}. Best is trial 9 with value: 0.17798768636807222.\n",
      "[I 2025-06-04 01:46:18,256] Trial 27 finished with value: 0.17026454288984477 and parameters: {'n_estimators': 557, 'max_depth': 31, 'min_samples_split': 12, 'min_samples_leaf': 6, 'max_features': 'sqrt', 'bootstrap': False}. Best is trial 9 with value: 0.17798768636807222.\n",
      "[I 2025-06-04 01:46:19,873] Trial 28 finished with value: 0.16646501341012793 and parameters: {'n_estimators': 648, 'max_depth': 26, 'min_samples_split': 8, 'min_samples_leaf': 8, 'max_features': 'sqrt', 'bootstrap': True}. Best is trial 9 with value: 0.17798768636807222.\n",
      "[I 2025-06-04 01:46:21,115] Trial 29 finished with value: 0.17045151314353585 and parameters: {'n_estimators': 434, 'max_depth': 40, 'min_samples_split': 15, 'min_samples_leaf': 6, 'max_features': 'sqrt', 'bootstrap': False}. Best is trial 9 with value: 0.17798768636807222.\n",
      "[I 2025-06-04 01:46:21,935] Trial 30 finished with value: 0.17413621902216145 and parameters: {'n_estimators': 349, 'max_depth': 46, 'min_samples_split': 18, 'min_samples_leaf': 9, 'max_features': 'sqrt', 'bootstrap': False}. Best is trial 9 with value: 0.17798768636807222.\n",
      "[I 2025-06-04 01:46:23,496] Trial 31 finished with value: 0.1752468728570787 and parameters: {'n_estimators': 595, 'max_depth': 24, 'min_samples_split': 18, 'min_samples_leaf': 9, 'max_features': 'sqrt', 'bootstrap': False}. Best is trial 9 with value: 0.17798768636807222.\n",
      "[I 2025-06-04 01:46:24,946] Trial 32 finished with value: 0.17367157751106768 and parameters: {'n_estimators': 647, 'max_depth': 36, 'min_samples_split': 15, 'min_samples_leaf': 10, 'max_features': 'sqrt', 'bootstrap': False}. Best is trial 9 with value: 0.17798768636807222.\n",
      "[I 2025-06-04 01:46:26,780] Trial 33 finished with value: 0.17179460081735368 and parameters: {'n_estimators': 763, 'max_depth': 31, 'min_samples_split': 17, 'min_samples_leaf': 7, 'max_features': 'sqrt', 'bootstrap': False}. Best is trial 9 with value: 0.17798768636807222.\n",
      "[I 2025-06-04 01:46:28,174] Trial 34 finished with value: 0.17222559911250462 and parameters: {'n_estimators': 607, 'max_depth': 23, 'min_samples_split': 18, 'min_samples_leaf': 10, 'max_features': 'sqrt', 'bootstrap': False}. Best is trial 9 with value: 0.17798768636807222.\n",
      "[I 2025-06-04 01:46:29,379] Trial 35 finished with value: 0.16964309212876097 and parameters: {'n_estimators': 471, 'max_depth': 41, 'min_samples_split': 14, 'min_samples_leaf': 8, 'max_features': 'sqrt', 'bootstrap': False}. Best is trial 9 with value: 0.17798768636807222.\n",
      "[I 2025-06-04 01:46:30,630] Trial 36 finished with value: 0.17369347379786337 and parameters: {'n_estimators': 546, 'max_depth': 36, 'min_samples_split': 19, 'min_samples_leaf': 9, 'max_features': 'sqrt', 'bootstrap': False}. Best is trial 9 with value: 0.17798768636807222.\n",
      "[I 2025-06-04 01:46:31,330] Trial 37 finished with value: 0.17105183942768748 and parameters: {'n_estimators': 305, 'max_depth': 8, 'min_samples_split': 10, 'min_samples_leaf': 8, 'max_features': 'sqrt', 'bootstrap': False}. Best is trial 9 with value: 0.17798768636807222.\n",
      "[I 2025-06-04 01:46:32,182] Trial 38 finished with value: 0.16411581455829377 and parameters: {'n_estimators': 420, 'max_depth': 31, 'min_samples_split': 16, 'min_samples_leaf': 9, 'max_features': 'sqrt', 'bootstrap': True}. Best is trial 9 with value: 0.17798768636807222.\n",
      "[I 2025-06-04 01:46:33,315] Trial 39 finished with value: 0.14277885398071177 and parameters: {'n_estimators': 649, 'max_depth': 27, 'min_samples_split': 6, 'min_samples_leaf': 10, 'max_features': 'log2', 'bootstrap': False}. Best is trial 9 with value: 0.17798768636807222.\n",
      "[I 2025-06-04 01:46:34,398] Trial 40 finished with value: 0.16451644851255978 and parameters: {'n_estimators': 509, 'max_depth': 29, 'min_samples_split': 12, 'min_samples_leaf': 6, 'max_features': 'sqrt', 'bootstrap': True}. Best is trial 9 with value: 0.17798768636807222.\n",
      "[I 2025-06-04 01:46:35,823] Trial 41 finished with value: 0.17527781216665558 and parameters: {'n_estimators': 594, 'max_depth': 23, 'min_samples_split': 18, 'min_samples_leaf': 9, 'max_features': 'sqrt', 'bootstrap': False}. Best is trial 9 with value: 0.17798768636807222.\n",
      "[I 2025-06-04 01:46:37,480] Trial 42 finished with value: 0.17492840933848153 and parameters: {'n_estimators': 691, 'max_depth': 21, 'min_samples_split': 19, 'min_samples_leaf': 9, 'max_features': 'sqrt', 'bootstrap': False}. Best is trial 9 with value: 0.17798768636807222.\n",
      "[I 2025-06-04 01:46:38,999] Trial 43 finished with value: 0.17311910471219197 and parameters: {'n_estimators': 577, 'max_depth': 16, 'min_samples_split': 18, 'min_samples_leaf': 7, 'max_features': 'sqrt', 'bootstrap': False}. Best is trial 9 with value: 0.17798768636807222.\n",
      "[I 2025-06-04 01:46:41,019] Trial 44 finished with value: 0.17298667755624636 and parameters: {'n_estimators': 750, 'max_depth': 22, 'min_samples_split': 20, 'min_samples_leaf': 10, 'max_features': 'sqrt', 'bootstrap': False}. Best is trial 9 with value: 0.17798768636807222.\n",
      "[I 2025-06-04 01:46:42,494] Trial 45 finished with value: 0.1754437305495072 and parameters: {'n_estimators': 614, 'max_depth': 18, 'min_samples_split': 16, 'min_samples_leaf': 9, 'max_features': 'sqrt', 'bootstrap': False}. Best is trial 9 with value: 0.17798768636807222.\n",
      "[I 2025-06-04 01:46:43,905] Trial 46 finished with value: 0.13110150643041799 and parameters: {'n_estimators': 628, 'max_depth': 18, 'min_samples_split': 13, 'min_samples_leaf': 2, 'max_features': 'log2', 'bootstrap': True}. Best is trial 9 with value: 0.17798768636807222.\n",
      "[I 2025-06-04 01:46:44,534] Trial 47 finished with value: 0.17470444914883446 and parameters: {'n_estimators': 232, 'max_depth': 15, 'min_samples_split': 16, 'min_samples_leaf': 8, 'max_features': 'sqrt', 'bootstrap': False}. Best is trial 9 with value: 0.17798768636807222.\n",
      "[I 2025-06-04 01:46:45,869] Trial 48 finished with value: 0.16817583393777552 and parameters: {'n_estimators': 526, 'max_depth': 8, 'min_samples_split': 13, 'min_samples_leaf': 8, 'max_features': 'sqrt', 'bootstrap': False}. Best is trial 9 with value: 0.17798768636807222.\n",
      "[I 2025-06-04 01:46:47,635] Trial 49 finished with value: 0.1665355445651387 and parameters: {'n_estimators': 836, 'max_depth': 10, 'min_samples_split': 17, 'min_samples_leaf': 7, 'max_features': 'sqrt', 'bootstrap': True}. Best is trial 9 with value: 0.17798768636807222.\n",
      "[I 2025-06-04 01:46:48,727] Trial 50 finished with value: 0.14188157724429265 and parameters: {'n_estimators': 674, 'max_depth': 12, 'min_samples_split': 15, 'min_samples_leaf': 9, 'max_features': 'log2', 'bootstrap': False}. Best is trial 9 with value: 0.17798768636807222.\n",
      "[I 2025-06-04 01:46:50,118] Trial 51 finished with value: 0.17335365159837607 and parameters: {'n_estimators': 602, 'max_depth': 26, 'min_samples_split': 19, 'min_samples_leaf': 9, 'max_features': 'sqrt', 'bootstrap': False}. Best is trial 9 with value: 0.17798768636807222.\n",
      "[I 2025-06-04 01:46:51,552] Trial 52 finished with value: 0.1756041804911907 and parameters: {'n_estimators': 560, 'max_depth': 21, 'min_samples_split': 9, 'min_samples_leaf': 9, 'max_features': 'sqrt', 'bootstrap': False}. Best is trial 9 with value: 0.17798768636807222.\n",
      "[I 2025-06-04 01:46:52,783] Trial 53 finished with value: 0.1711680611769772 and parameters: {'n_estimators': 491, 'max_depth': 19, 'min_samples_split': 9, 'min_samples_leaf': 8, 'max_features': 'sqrt', 'bootstrap': False}. Best is trial 9 with value: 0.17798768636807222.\n",
      "[I 2025-06-04 01:46:53,704] Trial 54 finished with value: 0.1732371587793176 and parameters: {'n_estimators': 401, 'max_depth': 43, 'min_samples_split': 11, 'min_samples_leaf': 10, 'max_features': 'sqrt', 'bootstrap': False}. Best is trial 9 with value: 0.17798768636807222.\n",
      "[I 2025-06-04 01:46:55,129] Trial 55 finished with value: 0.1679421982617703 and parameters: {'n_estimators': 735, 'max_depth': 20, 'min_samples_split': 7, 'min_samples_leaf': 9, 'max_features': 'sqrt', 'bootstrap': True}. Best is trial 9 with value: 0.17798768636807222.\n",
      "[I 2025-06-04 01:46:56,572] Trial 56 finished with value: 0.1723039676519752 and parameters: {'n_estimators': 552, 'max_depth': 39, 'min_samples_split': 9, 'min_samples_leaf': 8, 'max_features': 'sqrt', 'bootstrap': False}. Best is trial 9 with value: 0.17798768636807222.\n",
      "[I 2025-06-04 01:46:58,910] Trial 57 finished with value: 0.1757457746115456 and parameters: {'n_estimators': 907, 'max_depth': 33, 'min_samples_split': 10, 'min_samples_leaf': 7, 'max_features': 'sqrt', 'bootstrap': False}. Best is trial 9 with value: 0.17798768636807222.\n",
      "[I 2025-06-04 01:47:00,938] Trial 58 finished with value: 0.16836742009700387 and parameters: {'n_estimators': 947, 'max_depth': 33, 'min_samples_split': 11, 'min_samples_leaf': 5, 'max_features': 'sqrt', 'bootstrap': True}. Best is trial 9 with value: 0.17798768636807222.\n",
      "[I 2025-06-04 01:47:02,941] Trial 59 finished with value: 0.17443102238739452 and parameters: {'n_estimators': 792, 'max_depth': 35, 'min_samples_split': 3, 'min_samples_leaf': 7, 'max_features': 'sqrt', 'bootstrap': False}. Best is trial 9 with value: 0.17798768636807222.\n",
      "[I 2025-06-04 01:47:04,889] Trial 60 finished with value: 0.14094734341219062 and parameters: {'n_estimators': 864, 'max_depth': 29, 'min_samples_split': 9, 'min_samples_leaf': 7, 'max_features': 'log2', 'bootstrap': False}. Best is trial 9 with value: 0.17798768636807222.\n",
      "[I 2025-06-04 01:47:07,432] Trial 61 finished with value: 0.17419614163098554 and parameters: {'n_estimators': 919, 'max_depth': 32, 'min_samples_split': 10, 'min_samples_leaf': 8, 'max_features': 'sqrt', 'bootstrap': False}. Best is trial 9 with value: 0.17798768636807222.\n",
      "[I 2025-06-04 01:47:09,100] Trial 62 finished with value: 0.1767389478810346 and parameters: {'n_estimators': 668, 'max_depth': 25, 'min_samples_split': 11, 'min_samples_leaf': 9, 'max_features': 'sqrt', 'bootstrap': False}. Best is trial 9 with value: 0.17798768636807222.\n",
      "[I 2025-06-04 01:47:12,194] Trial 63 finished with value: 0.1736855155057305 and parameters: {'n_estimators': 998, 'max_depth': 25, 'min_samples_split': 11, 'min_samples_leaf': 8, 'max_features': 'sqrt', 'bootstrap': False}. Best is trial 9 with value: 0.17798768636807222.\n",
      "[I 2025-06-04 01:47:14,068] Trial 64 finished with value: 0.17177575038486614 and parameters: {'n_estimators': 666, 'max_depth': 38, 'min_samples_split': 10, 'min_samples_leaf': 6, 'max_features': 'sqrt', 'bootstrap': False}. Best is trial 9 with value: 0.17798768636807222.\n",
      "[I 2025-06-04 01:47:14,375] Trial 65 finished with value: 0.1866921366864946 and parameters: {'n_estimators': 109, 'max_depth': 47, 'min_samples_split': 7, 'min_samples_leaf': 9, 'max_features': 'sqrt', 'bootstrap': False}. Best is trial 65 with value: 0.1866921366864946.\n",
      "[I 2025-06-04 01:47:14,685] Trial 66 finished with value: 0.19203049591209062 and parameters: {'n_estimators': 108, 'max_depth': 47, 'min_samples_split': 7, 'min_samples_leaf': 10, 'max_features': 'sqrt', 'bootstrap': False}. Best is trial 66 with value: 0.19203049591209062.\n",
      "[I 2025-06-04 01:47:15,002] Trial 67 finished with value: 0.17289838390997264 and parameters: {'n_estimators': 123, 'max_depth': 49, 'min_samples_split': 6, 'min_samples_leaf': 10, 'max_features': 'sqrt', 'bootstrap': True}. Best is trial 66 with value: 0.19203049591209062.\n",
      "[I 2025-06-04 01:47:15,459] Trial 68 finished with value: 0.18351255535802805 and parameters: {'n_estimators': 174, 'max_depth': 46, 'min_samples_split': 5, 'min_samples_leaf': 10, 'max_features': 'sqrt', 'bootstrap': False}. Best is trial 66 with value: 0.19203049591209062.\n",
      "[I 2025-06-04 01:47:15,881] Trial 69 finished with value: 0.1853348535434465 and parameters: {'n_estimators': 165, 'max_depth': 47, 'min_samples_split': 4, 'min_samples_leaf': 10, 'max_features': 'sqrt', 'bootstrap': False}. Best is trial 66 with value: 0.19203049591209062.\n",
      "[I 2025-06-04 01:47:16,304] Trial 70 finished with value: 0.1837253793898809 and parameters: {'n_estimators': 171, 'max_depth': 47, 'min_samples_split': 4, 'min_samples_leaf': 10, 'max_features': 'sqrt', 'bootstrap': False}. Best is trial 66 with value: 0.19203049591209062.\n",
      "[I 2025-06-04 01:47:16,726] Trial 71 finished with value: 0.18383387604947135 and parameters: {'n_estimators': 172, 'max_depth': 46, 'min_samples_split': 4, 'min_samples_leaf': 10, 'max_features': 'sqrt', 'bootstrap': False}. Best is trial 66 with value: 0.19203049591209062.\n",
      "[I 2025-06-04 01:47:17,162] Trial 72 finished with value: 0.1838338760494715 and parameters: {'n_estimators': 172, 'max_depth': 47, 'min_samples_split': 4, 'min_samples_leaf': 10, 'max_features': 'sqrt', 'bootstrap': False}. Best is trial 66 with value: 0.19203049591209062.\n",
      "[I 2025-06-04 01:47:17,552] Trial 73 finished with value: 0.1863277128078272 and parameters: {'n_estimators': 158, 'max_depth': 47, 'min_samples_split': 4, 'min_samples_leaf': 10, 'max_features': 'sqrt', 'bootstrap': False}. Best is trial 66 with value: 0.19203049591209062.\n",
      "[I 2025-06-04 01:47:17,981] Trial 74 finished with value: 0.18380166928053057 and parameters: {'n_estimators': 173, 'max_depth': 47, 'min_samples_split': 4, 'min_samples_leaf': 10, 'max_features': 'sqrt', 'bootstrap': False}. Best is trial 66 with value: 0.19203049591209062.\n",
      "[I 2025-06-04 01:47:18,510] Trial 75 finished with value: 0.1808539355112999 and parameters: {'n_estimators': 213, 'max_depth': 47, 'min_samples_split': 3, 'min_samples_leaf': 10, 'max_features': 'sqrt', 'bootstrap': False}. Best is trial 66 with value: 0.19203049591209062.\n",
      "[I 2025-06-04 01:47:18,945] Trial 76 finished with value: 0.1874901458021562 and parameters: {'n_estimators': 141, 'max_depth': 50, 'min_samples_split': 4, 'min_samples_leaf': 10, 'max_features': 'sqrt', 'bootstrap': False}. Best is trial 66 with value: 0.19203049591209062.\n",
      "[I 2025-06-04 01:47:19,318] Trial 77 finished with value: 0.1877128903017231 and parameters: {'n_estimators': 140, 'max_depth': 50, 'min_samples_split': 4, 'min_samples_leaf': 10, 'max_features': 'sqrt', 'bootstrap': False}. Best is trial 66 with value: 0.19203049591209062.\n",
      "[I 2025-06-04 01:47:19,670] Trial 78 finished with value: 0.18765180885602156 and parameters: {'n_estimators': 135, 'max_depth': 50, 'min_samples_split': 2, 'min_samples_leaf': 10, 'max_features': 'sqrt', 'bootstrap': False}. Best is trial 66 with value: 0.19203049591209062.\n",
      "[I 2025-06-04 01:47:19,963] Trial 79 finished with value: 0.14266646643607744 and parameters: {'n_estimators': 139, 'max_depth': 50, 'min_samples_split': 2, 'min_samples_leaf': 10, 'max_features': 'log2', 'bootstrap': False}. Best is trial 66 with value: 0.19203049591209062.\n",
      "[I 2025-06-04 01:47:20,324] Trial 80 finished with value: 0.18705627878778827 and parameters: {'n_estimators': 144, 'max_depth': 49, 'min_samples_split': 3, 'min_samples_leaf': 10, 'max_features': 'sqrt', 'bootstrap': False}. Best is trial 66 with value: 0.19203049591209062.\n",
      "[I 2025-06-04 01:47:20,670] Trial 81 finished with value: 0.18765180885602156 and parameters: {'n_estimators': 135, 'max_depth': 49, 'min_samples_split': 3, 'min_samples_leaf': 10, 'max_features': 'sqrt', 'bootstrap': False}. Best is trial 66 with value: 0.19203049591209062.\n",
      "[I 2025-06-04 01:47:21,026] Trial 82 finished with value: 0.1872438467675949 and parameters: {'n_estimators': 134, 'max_depth': 49, 'min_samples_split': 3, 'min_samples_leaf': 10, 'max_features': 'sqrt', 'bootstrap': False}. Best is trial 66 with value: 0.19203049591209062.\n",
      "[I 2025-06-04 01:47:21,318] Trial 83 finished with value: 0.19344287464415036 and parameters: {'n_estimators': 103, 'max_depth': 49, 'min_samples_split': 3, 'min_samples_leaf': 10, 'max_features': 'sqrt', 'bootstrap': False}. Best is trial 83 with value: 0.19344287464415036.\n",
      "[I 2025-06-04 01:47:21,608] Trial 84 finished with value: 0.1934428746441504 and parameters: {'n_estimators': 103, 'max_depth': 49, 'min_samples_split': 3, 'min_samples_leaf': 10, 'max_features': 'sqrt', 'bootstrap': False}. Best is trial 84 with value: 0.1934428746441504.\n",
      "[I 2025-06-04 01:47:22,186] Trial 85 finished with value: 0.17937838855509564 and parameters: {'n_estimators': 242, 'max_depth': 49, 'min_samples_split': 3, 'min_samples_leaf': 10, 'max_features': 'sqrt', 'bootstrap': False}. Best is trial 84 with value: 0.1934428746441504.\n",
      "[I 2025-06-04 01:47:22,557] Trial 86 finished with value: 0.18807832603143484 and parameters: {'n_estimators': 139, 'max_depth': 49, 'min_samples_split': 2, 'min_samples_leaf': 10, 'max_features': 'sqrt', 'bootstrap': False}. Best is trial 84 with value: 0.1934428746441504.\n",
      "[I 2025-06-04 01:47:23,060] Trial 87 finished with value: 0.18058797617490216 and parameters: {'n_estimators': 194, 'max_depth': 44, 'min_samples_split': 2, 'min_samples_leaf': 10, 'max_features': 'sqrt', 'bootstrap': False}. Best is trial 84 with value: 0.1934428746441504.\n",
      "[I 2025-06-04 01:47:23,405] Trial 88 finished with value: 0.18760532094399446 and parameters: {'n_estimators': 126, 'max_depth': 50, 'min_samples_split': 5, 'min_samples_leaf': 10, 'max_features': 'sqrt', 'bootstrap': False}. Best is trial 84 with value: 0.1934428746441504.\n",
      "[I 2025-06-04 01:47:23,761] Trial 89 finished with value: 0.1512591170462189 and parameters: {'n_estimators': 101, 'max_depth': 50, 'min_samples_split': 5, 'min_samples_leaf': 3, 'max_features': 'sqrt', 'bootstrap': False}. Best is trial 84 with value: 0.1934428746441504.\n",
      "[I 2025-06-04 01:47:24,441] Trial 90 finished with value: 0.17750277056060568 and parameters: {'n_estimators': 288, 'max_depth': 45, 'min_samples_split': 5, 'min_samples_leaf': 10, 'max_features': 'sqrt', 'bootstrap': False}. Best is trial 84 with value: 0.1934428746441504.\n",
      "[I 2025-06-04 01:47:24,780] Trial 91 finished with value: 0.18778682775387195 and parameters: {'n_estimators': 130, 'max_depth': 49, 'min_samples_split': 2, 'min_samples_leaf': 10, 'max_features': 'sqrt', 'bootstrap': False}. Best is trial 84 with value: 0.1934428746441504.\n",
      "[I 2025-06-04 01:47:25,299] Trial 92 finished with value: 0.1814326848785781 and parameters: {'n_estimators': 209, 'max_depth': 48, 'min_samples_split': 2, 'min_samples_leaf': 10, 'max_features': 'sqrt', 'bootstrap': False}. Best is trial 84 with value: 0.1934428746441504.\n",
      "[I 2025-06-04 01:47:25,627] Trial 93 finished with value: 0.1883156881988593 and parameters: {'n_estimators': 129, 'max_depth': 50, 'min_samples_split': 2, 'min_samples_leaf': 10, 'max_features': 'sqrt', 'bootstrap': False}. Best is trial 84 with value: 0.1934428746441504.\n",
      "[I 2025-06-04 01:47:25,931] Trial 94 finished with value: 0.18945128779927595 and parameters: {'n_estimators': 119, 'max_depth': 48, 'min_samples_split': 2, 'min_samples_leaf': 10, 'max_features': 'sqrt', 'bootstrap': False}. Best is trial 84 with value: 0.1934428746441504.\n",
      "[I 2025-06-04 01:47:26,580] Trial 95 finished with value: 0.17669115928877704 and parameters: {'n_estimators': 253, 'max_depth': 45, 'min_samples_split': 2, 'min_samples_leaf': 9, 'max_features': 'sqrt', 'bootstrap': False}. Best is trial 84 with value: 0.1934428746441504.\n",
      "[I 2025-06-04 01:47:27,080] Trial 96 finished with value: 0.17683964483212944 and parameters: {'n_estimators': 199, 'max_depth': 48, 'min_samples_split': 2, 'min_samples_leaf': 9, 'max_features': 'sqrt', 'bootstrap': False}. Best is trial 84 with value: 0.1934428746441504.\n",
      "[I 2025-06-04 01:47:27,327] Trial 97 finished with value: 0.14448847103650225 and parameters: {'n_estimators': 120, 'max_depth': 43, 'min_samples_split': 3, 'min_samples_leaf': 10, 'max_features': 'log2', 'bootstrap': False}. Best is trial 84 with value: 0.1934428746441504.\n",
      "[I 2025-06-04 01:47:27,712] Trial 98 finished with value: 0.1853530238255043 and parameters: {'n_estimators': 152, 'max_depth': 48, 'min_samples_split': 2, 'min_samples_leaf': 10, 'max_features': 'sqrt', 'bootstrap': False}. Best is trial 84 with value: 0.1934428746441504.\n",
      "[I 2025-06-04 01:47:28,022] Trial 99 finished with value: 0.18591900620419793 and parameters: {'n_estimators': 105, 'max_depth': 44, 'min_samples_split': 3, 'min_samples_leaf': 9, 'max_features': 'sqrt', 'bootstrap': False}. Best is trial 84 with value: 0.1934428746441504.\n"
     ]
    }
   ],
   "source": [
    "study_rf = optuna.create_study(\n",
    "    direction='maximize',\n",
    "    sampler=TPESampler(seed=RANDOM_STATE)\n",
    ")\n",
    "study_rf.optimize(optimize_rf, n_trials=N_TRIALS_RF)"
   ]
  },
  {
   "cell_type": "code",
   "execution_count": 116,
   "id": "a035695d",
   "metadata": {},
   "outputs": [
    {
     "name": "stdout",
     "output_type": "stream",
     "text": [
      "Лучшие параметры для Random Forest:\n",
      "{'n_estimators': 103, 'max_depth': 49, 'min_samples_split': 3, 'min_samples_leaf': 10, 'max_features': 'sqrt', 'bootstrap': False}\n",
      "Лучший R2: 0.1934\n"
     ]
    },
    {
     "data": {
      "application/vnd.plotly.v1+json": {
       "config": {
        "plotlyServerURL": "https://plot.ly"
       },
       "data": [
        {
         "mode": "markers",
         "name": "Objective Value",
         "type": "scatter",
         "x": [
          0,
          1,
          2,
          3,
          4,
          5,
          6,
          7,
          8,
          9,
          10,
          11,
          12,
          13,
          14,
          15,
          16,
          17,
          18,
          19,
          20,
          21,
          22,
          23,
          24,
          25,
          26,
          27,
          28,
          29,
          30,
          31,
          32,
          33,
          34,
          35,
          36,
          37,
          38,
          39,
          40,
          41,
          42,
          43,
          44,
          45,
          46,
          47,
          48,
          49,
          50,
          51,
          52,
          53,
          54,
          55,
          56,
          57,
          58,
          59,
          60,
          61,
          62,
          63,
          64,
          65,
          66,
          67,
          68,
          69,
          70,
          71,
          72,
          73,
          74,
          75,
          76,
          77,
          78,
          79,
          80,
          81,
          82,
          83,
          84,
          85,
          86,
          87,
          88,
          89,
          90,
          91,
          92,
          93,
          94,
          95,
          96,
          97,
          98,
          99
         ],
         "y": [
          0.17064743810695854,
          0.17368249856514234,
          0.16063124926328598,
          0.1644525259671386,
          0.17328404746676207,
          0.1448365774163561,
          0.17421840053825968,
          0.16462166578733645,
          0.13584478573765504,
          0.17798768636807222,
          0.11445267307509432,
          0.17468041255468836,
          0.1664304060412709,
          0.17581543930316337,
          0.12735893328982698,
          0.16807507769449256,
          0.16855985733047157,
          0.16111505689558192,
          0.1526285078499216,
          0.16663637949965618,
          0.1557510890998639,
          0.17253170479251984,
          0.17533431894856277,
          0.1761634341421054,
          0.17202203039511202,
          0.1738154790049327,
          0.14274598217703982,
          0.17026454288984477,
          0.16646501341012793,
          0.17045151314353585,
          0.17413621902216145,
          0.1752468728570787,
          0.17367157751106768,
          0.17179460081735368,
          0.17222559911250462,
          0.16964309212876097,
          0.17369347379786337,
          0.17105183942768748,
          0.16411581455829377,
          0.14277885398071177,
          0.16451644851255978,
          0.17527781216665558,
          0.17492840933848153,
          0.17311910471219197,
          0.17298667755624636,
          0.1754437305495072,
          0.13110150643041799,
          0.17470444914883446,
          0.16817583393777552,
          0.1665355445651387,
          0.14188157724429265,
          0.17335365159837607,
          0.1756041804911907,
          0.1711680611769772,
          0.1732371587793176,
          0.1679421982617703,
          0.1723039676519752,
          0.1757457746115456,
          0.16836742009700387,
          0.17443102238739452,
          0.14094734341219062,
          0.17419614163098554,
          0.1767389478810346,
          0.1736855155057305,
          0.17177575038486614,
          0.1866921366864946,
          0.19203049591209062,
          0.17289838390997264,
          0.18351255535802805,
          0.1853348535434465,
          0.1837253793898809,
          0.18383387604947135,
          0.1838338760494715,
          0.1863277128078272,
          0.18380166928053057,
          0.1808539355112999,
          0.1874901458021562,
          0.1877128903017231,
          0.18765180885602156,
          0.14266646643607744,
          0.18705627878778827,
          0.18765180885602156,
          0.1872438467675949,
          0.19344287464415036,
          0.1934428746441504,
          0.17937838855509564,
          0.18807832603143484,
          0.18058797617490216,
          0.18760532094399446,
          0.1512591170462189,
          0.17750277056060568,
          0.18778682775387195,
          0.1814326848785781,
          0.1883156881988593,
          0.18945128779927595,
          0.17669115928877704,
          0.17683964483212944,
          0.14448847103650225,
          0.1853530238255043,
          0.18591900620419793
         ]
        },
        {
         "mode": "lines",
         "name": "Best Value",
         "type": "scatter",
         "x": [
          0,
          1,
          2,
          3,
          4,
          5,
          6,
          7,
          8,
          9,
          10,
          11,
          12,
          13,
          14,
          15,
          16,
          17,
          18,
          19,
          20,
          21,
          22,
          23,
          24,
          25,
          26,
          27,
          28,
          29,
          30,
          31,
          32,
          33,
          34,
          35,
          36,
          37,
          38,
          39,
          40,
          41,
          42,
          43,
          44,
          45,
          46,
          47,
          48,
          49,
          50,
          51,
          52,
          53,
          54,
          55,
          56,
          57,
          58,
          59,
          60,
          61,
          62,
          63,
          64,
          65,
          66,
          67,
          68,
          69,
          70,
          71,
          72,
          73,
          74,
          75,
          76,
          77,
          78,
          79,
          80,
          81,
          82,
          83,
          84,
          85,
          86,
          87,
          88,
          89,
          90,
          91,
          92,
          93,
          94,
          95,
          96,
          97,
          98,
          99
         ],
         "y": [
          0.17064743810695854,
          0.17368249856514234,
          0.17368249856514234,
          0.17368249856514234,
          0.17368249856514234,
          0.17368249856514234,
          0.17421840053825968,
          0.17421840053825968,
          0.17421840053825968,
          0.17798768636807222,
          0.17798768636807222,
          0.17798768636807222,
          0.17798768636807222,
          0.17798768636807222,
          0.17798768636807222,
          0.17798768636807222,
          0.17798768636807222,
          0.17798768636807222,
          0.17798768636807222,
          0.17798768636807222,
          0.17798768636807222,
          0.17798768636807222,
          0.17798768636807222,
          0.17798768636807222,
          0.17798768636807222,
          0.17798768636807222,
          0.17798768636807222,
          0.17798768636807222,
          0.17798768636807222,
          0.17798768636807222,
          0.17798768636807222,
          0.17798768636807222,
          0.17798768636807222,
          0.17798768636807222,
          0.17798768636807222,
          0.17798768636807222,
          0.17798768636807222,
          0.17798768636807222,
          0.17798768636807222,
          0.17798768636807222,
          0.17798768636807222,
          0.17798768636807222,
          0.17798768636807222,
          0.17798768636807222,
          0.17798768636807222,
          0.17798768636807222,
          0.17798768636807222,
          0.17798768636807222,
          0.17798768636807222,
          0.17798768636807222,
          0.17798768636807222,
          0.17798768636807222,
          0.17798768636807222,
          0.17798768636807222,
          0.17798768636807222,
          0.17798768636807222,
          0.17798768636807222,
          0.17798768636807222,
          0.17798768636807222,
          0.17798768636807222,
          0.17798768636807222,
          0.17798768636807222,
          0.17798768636807222,
          0.17798768636807222,
          0.17798768636807222,
          0.1866921366864946,
          0.19203049591209062,
          0.19203049591209062,
          0.19203049591209062,
          0.19203049591209062,
          0.19203049591209062,
          0.19203049591209062,
          0.19203049591209062,
          0.19203049591209062,
          0.19203049591209062,
          0.19203049591209062,
          0.19203049591209062,
          0.19203049591209062,
          0.19203049591209062,
          0.19203049591209062,
          0.19203049591209062,
          0.19203049591209062,
          0.19203049591209062,
          0.19344287464415036,
          0.1934428746441504,
          0.1934428746441504,
          0.1934428746441504,
          0.1934428746441504,
          0.1934428746441504,
          0.1934428746441504,
          0.1934428746441504,
          0.1934428746441504,
          0.1934428746441504,
          0.1934428746441504,
          0.1934428746441504,
          0.1934428746441504,
          0.1934428746441504,
          0.1934428746441504,
          0.1934428746441504,
          0.1934428746441504
         ]
        },
        {
         "marker": {
          "color": "#cccccc"
         },
         "mode": "markers",
         "name": "Infeasible Trial",
         "showlegend": false,
         "type": "scatter",
         "x": [],
         "y": []
        }
       ],
       "layout": {
        "template": {
         "data": {
          "bar": [
           {
            "error_x": {
             "color": "#2a3f5f"
            },
            "error_y": {
             "color": "#2a3f5f"
            },
            "marker": {
             "line": {
              "color": "#E5ECF6",
              "width": 0.5
             },
             "pattern": {
              "fillmode": "overlay",
              "size": 10,
              "solidity": 0.2
             }
            },
            "type": "bar"
           }
          ],
          "barpolar": [
           {
            "marker": {
             "line": {
              "color": "#E5ECF6",
              "width": 0.5
             },
             "pattern": {
              "fillmode": "overlay",
              "size": 10,
              "solidity": 0.2
             }
            },
            "type": "barpolar"
           }
          ],
          "carpet": [
           {
            "aaxis": {
             "endlinecolor": "#2a3f5f",
             "gridcolor": "white",
             "linecolor": "white",
             "minorgridcolor": "white",
             "startlinecolor": "#2a3f5f"
            },
            "baxis": {
             "endlinecolor": "#2a3f5f",
             "gridcolor": "white",
             "linecolor": "white",
             "minorgridcolor": "white",
             "startlinecolor": "#2a3f5f"
            },
            "type": "carpet"
           }
          ],
          "choropleth": [
           {
            "colorbar": {
             "outlinewidth": 0,
             "ticks": ""
            },
            "type": "choropleth"
           }
          ],
          "contour": [
           {
            "colorbar": {
             "outlinewidth": 0,
             "ticks": ""
            },
            "colorscale": [
             [
              0,
              "#0d0887"
             ],
             [
              0.1111111111111111,
              "#46039f"
             ],
             [
              0.2222222222222222,
              "#7201a8"
             ],
             [
              0.3333333333333333,
              "#9c179e"
             ],
             [
              0.4444444444444444,
              "#bd3786"
             ],
             [
              0.5555555555555556,
              "#d8576b"
             ],
             [
              0.6666666666666666,
              "#ed7953"
             ],
             [
              0.7777777777777778,
              "#fb9f3a"
             ],
             [
              0.8888888888888888,
              "#fdca26"
             ],
             [
              1,
              "#f0f921"
             ]
            ],
            "type": "contour"
           }
          ],
          "contourcarpet": [
           {
            "colorbar": {
             "outlinewidth": 0,
             "ticks": ""
            },
            "type": "contourcarpet"
           }
          ],
          "heatmap": [
           {
            "colorbar": {
             "outlinewidth": 0,
             "ticks": ""
            },
            "colorscale": [
             [
              0,
              "#0d0887"
             ],
             [
              0.1111111111111111,
              "#46039f"
             ],
             [
              0.2222222222222222,
              "#7201a8"
             ],
             [
              0.3333333333333333,
              "#9c179e"
             ],
             [
              0.4444444444444444,
              "#bd3786"
             ],
             [
              0.5555555555555556,
              "#d8576b"
             ],
             [
              0.6666666666666666,
              "#ed7953"
             ],
             [
              0.7777777777777778,
              "#fb9f3a"
             ],
             [
              0.8888888888888888,
              "#fdca26"
             ],
             [
              1,
              "#f0f921"
             ]
            ],
            "type": "heatmap"
           }
          ],
          "histogram": [
           {
            "marker": {
             "pattern": {
              "fillmode": "overlay",
              "size": 10,
              "solidity": 0.2
             }
            },
            "type": "histogram"
           }
          ],
          "histogram2d": [
           {
            "colorbar": {
             "outlinewidth": 0,
             "ticks": ""
            },
            "colorscale": [
             [
              0,
              "#0d0887"
             ],
             [
              0.1111111111111111,
              "#46039f"
             ],
             [
              0.2222222222222222,
              "#7201a8"
             ],
             [
              0.3333333333333333,
              "#9c179e"
             ],
             [
              0.4444444444444444,
              "#bd3786"
             ],
             [
              0.5555555555555556,
              "#d8576b"
             ],
             [
              0.6666666666666666,
              "#ed7953"
             ],
             [
              0.7777777777777778,
              "#fb9f3a"
             ],
             [
              0.8888888888888888,
              "#fdca26"
             ],
             [
              1,
              "#f0f921"
             ]
            ],
            "type": "histogram2d"
           }
          ],
          "histogram2dcontour": [
           {
            "colorbar": {
             "outlinewidth": 0,
             "ticks": ""
            },
            "colorscale": [
             [
              0,
              "#0d0887"
             ],
             [
              0.1111111111111111,
              "#46039f"
             ],
             [
              0.2222222222222222,
              "#7201a8"
             ],
             [
              0.3333333333333333,
              "#9c179e"
             ],
             [
              0.4444444444444444,
              "#bd3786"
             ],
             [
              0.5555555555555556,
              "#d8576b"
             ],
             [
              0.6666666666666666,
              "#ed7953"
             ],
             [
              0.7777777777777778,
              "#fb9f3a"
             ],
             [
              0.8888888888888888,
              "#fdca26"
             ],
             [
              1,
              "#f0f921"
             ]
            ],
            "type": "histogram2dcontour"
           }
          ],
          "mesh3d": [
           {
            "colorbar": {
             "outlinewidth": 0,
             "ticks": ""
            },
            "type": "mesh3d"
           }
          ],
          "parcoords": [
           {
            "line": {
             "colorbar": {
              "outlinewidth": 0,
              "ticks": ""
             }
            },
            "type": "parcoords"
           }
          ],
          "pie": [
           {
            "automargin": true,
            "type": "pie"
           }
          ],
          "scatter": [
           {
            "fillpattern": {
             "fillmode": "overlay",
             "size": 10,
             "solidity": 0.2
            },
            "type": "scatter"
           }
          ],
          "scatter3d": [
           {
            "line": {
             "colorbar": {
              "outlinewidth": 0,
              "ticks": ""
             }
            },
            "marker": {
             "colorbar": {
              "outlinewidth": 0,
              "ticks": ""
             }
            },
            "type": "scatter3d"
           }
          ],
          "scattercarpet": [
           {
            "marker": {
             "colorbar": {
              "outlinewidth": 0,
              "ticks": ""
             }
            },
            "type": "scattercarpet"
           }
          ],
          "scattergeo": [
           {
            "marker": {
             "colorbar": {
              "outlinewidth": 0,
              "ticks": ""
             }
            },
            "type": "scattergeo"
           }
          ],
          "scattergl": [
           {
            "marker": {
             "colorbar": {
              "outlinewidth": 0,
              "ticks": ""
             }
            },
            "type": "scattergl"
           }
          ],
          "scattermap": [
           {
            "marker": {
             "colorbar": {
              "outlinewidth": 0,
              "ticks": ""
             }
            },
            "type": "scattermap"
           }
          ],
          "scattermapbox": [
           {
            "marker": {
             "colorbar": {
              "outlinewidth": 0,
              "ticks": ""
             }
            },
            "type": "scattermapbox"
           }
          ],
          "scatterpolar": [
           {
            "marker": {
             "colorbar": {
              "outlinewidth": 0,
              "ticks": ""
             }
            },
            "type": "scatterpolar"
           }
          ],
          "scatterpolargl": [
           {
            "marker": {
             "colorbar": {
              "outlinewidth": 0,
              "ticks": ""
             }
            },
            "type": "scatterpolargl"
           }
          ],
          "scatterternary": [
           {
            "marker": {
             "colorbar": {
              "outlinewidth": 0,
              "ticks": ""
             }
            },
            "type": "scatterternary"
           }
          ],
          "surface": [
           {
            "colorbar": {
             "outlinewidth": 0,
             "ticks": ""
            },
            "colorscale": [
             [
              0,
              "#0d0887"
             ],
             [
              0.1111111111111111,
              "#46039f"
             ],
             [
              0.2222222222222222,
              "#7201a8"
             ],
             [
              0.3333333333333333,
              "#9c179e"
             ],
             [
              0.4444444444444444,
              "#bd3786"
             ],
             [
              0.5555555555555556,
              "#d8576b"
             ],
             [
              0.6666666666666666,
              "#ed7953"
             ],
             [
              0.7777777777777778,
              "#fb9f3a"
             ],
             [
              0.8888888888888888,
              "#fdca26"
             ],
             [
              1,
              "#f0f921"
             ]
            ],
            "type": "surface"
           }
          ],
          "table": [
           {
            "cells": {
             "fill": {
              "color": "#EBF0F8"
             },
             "line": {
              "color": "white"
             }
            },
            "header": {
             "fill": {
              "color": "#C8D4E3"
             },
             "line": {
              "color": "white"
             }
            },
            "type": "table"
           }
          ]
         },
         "layout": {
          "annotationdefaults": {
           "arrowcolor": "#2a3f5f",
           "arrowhead": 0,
           "arrowwidth": 1
          },
          "autotypenumbers": "strict",
          "coloraxis": {
           "colorbar": {
            "outlinewidth": 0,
            "ticks": ""
           }
          },
          "colorscale": {
           "diverging": [
            [
             0,
             "#8e0152"
            ],
            [
             0.1,
             "#c51b7d"
            ],
            [
             0.2,
             "#de77ae"
            ],
            [
             0.3,
             "#f1b6da"
            ],
            [
             0.4,
             "#fde0ef"
            ],
            [
             0.5,
             "#f7f7f7"
            ],
            [
             0.6,
             "#e6f5d0"
            ],
            [
             0.7,
             "#b8e186"
            ],
            [
             0.8,
             "#7fbc41"
            ],
            [
             0.9,
             "#4d9221"
            ],
            [
             1,
             "#276419"
            ]
           ],
           "sequential": [
            [
             0,
             "#0d0887"
            ],
            [
             0.1111111111111111,
             "#46039f"
            ],
            [
             0.2222222222222222,
             "#7201a8"
            ],
            [
             0.3333333333333333,
             "#9c179e"
            ],
            [
             0.4444444444444444,
             "#bd3786"
            ],
            [
             0.5555555555555556,
             "#d8576b"
            ],
            [
             0.6666666666666666,
             "#ed7953"
            ],
            [
             0.7777777777777778,
             "#fb9f3a"
            ],
            [
             0.8888888888888888,
             "#fdca26"
            ],
            [
             1,
             "#f0f921"
            ]
           ],
           "sequentialminus": [
            [
             0,
             "#0d0887"
            ],
            [
             0.1111111111111111,
             "#46039f"
            ],
            [
             0.2222222222222222,
             "#7201a8"
            ],
            [
             0.3333333333333333,
             "#9c179e"
            ],
            [
             0.4444444444444444,
             "#bd3786"
            ],
            [
             0.5555555555555556,
             "#d8576b"
            ],
            [
             0.6666666666666666,
             "#ed7953"
            ],
            [
             0.7777777777777778,
             "#fb9f3a"
            ],
            [
             0.8888888888888888,
             "#fdca26"
            ],
            [
             1,
             "#f0f921"
            ]
           ]
          },
          "colorway": [
           "#636efa",
           "#EF553B",
           "#00cc96",
           "#ab63fa",
           "#FFA15A",
           "#19d3f3",
           "#FF6692",
           "#B6E880",
           "#FF97FF",
           "#FECB52"
          ],
          "font": {
           "color": "#2a3f5f"
          },
          "geo": {
           "bgcolor": "white",
           "lakecolor": "white",
           "landcolor": "#E5ECF6",
           "showlakes": true,
           "showland": true,
           "subunitcolor": "white"
          },
          "hoverlabel": {
           "align": "left"
          },
          "hovermode": "closest",
          "mapbox": {
           "style": "light"
          },
          "paper_bgcolor": "white",
          "plot_bgcolor": "#E5ECF6",
          "polar": {
           "angularaxis": {
            "gridcolor": "white",
            "linecolor": "white",
            "ticks": ""
           },
           "bgcolor": "#E5ECF6",
           "radialaxis": {
            "gridcolor": "white",
            "linecolor": "white",
            "ticks": ""
           }
          },
          "scene": {
           "xaxis": {
            "backgroundcolor": "#E5ECF6",
            "gridcolor": "white",
            "gridwidth": 2,
            "linecolor": "white",
            "showbackground": true,
            "ticks": "",
            "zerolinecolor": "white"
           },
           "yaxis": {
            "backgroundcolor": "#E5ECF6",
            "gridcolor": "white",
            "gridwidth": 2,
            "linecolor": "white",
            "showbackground": true,
            "ticks": "",
            "zerolinecolor": "white"
           },
           "zaxis": {
            "backgroundcolor": "#E5ECF6",
            "gridcolor": "white",
            "gridwidth": 2,
            "linecolor": "white",
            "showbackground": true,
            "ticks": "",
            "zerolinecolor": "white"
           }
          },
          "shapedefaults": {
           "line": {
            "color": "#2a3f5f"
           }
          },
          "ternary": {
           "aaxis": {
            "gridcolor": "white",
            "linecolor": "white",
            "ticks": ""
           },
           "baxis": {
            "gridcolor": "white",
            "linecolor": "white",
            "ticks": ""
           },
           "bgcolor": "#E5ECF6",
           "caxis": {
            "gridcolor": "white",
            "linecolor": "white",
            "ticks": ""
           }
          },
          "title": {
           "x": 0.05
          },
          "xaxis": {
           "automargin": true,
           "gridcolor": "white",
           "linecolor": "white",
           "ticks": "",
           "title": {
            "standoff": 15
           },
           "zerolinecolor": "white",
           "zerolinewidth": 2
          },
          "yaxis": {
           "automargin": true,
           "gridcolor": "white",
           "linecolor": "white",
           "ticks": "",
           "title": {
            "standoff": 15
           },
           "zerolinecolor": "white",
           "zerolinewidth": 2
          }
         }
        },
        "title": {
         "text": "Optimization History Plot"
        },
        "xaxis": {
         "title": {
          "text": "Trial"
         }
        },
        "yaxis": {
         "title": {
          "text": "Objective Value"
         }
        }
       }
      }
     },
     "metadata": {},
     "output_type": "display_data"
    },
    {
     "data": {
      "application/vnd.plotly.v1+json": {
       "config": {
        "plotlyServerURL": "https://plot.ly"
       },
       "data": [
        {
         "cliponaxis": false,
         "hovertemplate": [
          "min_samples_split (IntDistribution): 0.0021792799771441626<extra></extra>",
          "max_depth (IntDistribution): 0.004913625921965297<extra></extra>",
          "bootstrap (CategoricalDistribution): 0.015642370622907437<extra></extra>",
          "n_estimators (IntDistribution): 0.018845118858765417<extra></extra>",
          "min_samples_leaf (IntDistribution): 0.058756634693054956<extra></extra>",
          "max_features (CategoricalDistribution): 0.8996629699261627<extra></extra>"
         ],
         "name": "Objective Value",
         "orientation": "h",
         "text": [
          "<0.01",
          "<0.01",
          "0.02",
          "0.02",
          "0.06",
          "0.90"
         ],
         "textposition": "outside",
         "type": "bar",
         "x": [
          0.0021792799771441626,
          0.004913625921965297,
          0.015642370622907437,
          0.018845118858765417,
          0.058756634693054956,
          0.8996629699261627
         ],
         "y": [
          "min_samples_split",
          "max_depth",
          "bootstrap",
          "n_estimators",
          "min_samples_leaf",
          "max_features"
         ]
        }
       ],
       "layout": {
        "template": {
         "data": {
          "bar": [
           {
            "error_x": {
             "color": "#2a3f5f"
            },
            "error_y": {
             "color": "#2a3f5f"
            },
            "marker": {
             "line": {
              "color": "#E5ECF6",
              "width": 0.5
             },
             "pattern": {
              "fillmode": "overlay",
              "size": 10,
              "solidity": 0.2
             }
            },
            "type": "bar"
           }
          ],
          "barpolar": [
           {
            "marker": {
             "line": {
              "color": "#E5ECF6",
              "width": 0.5
             },
             "pattern": {
              "fillmode": "overlay",
              "size": 10,
              "solidity": 0.2
             }
            },
            "type": "barpolar"
           }
          ],
          "carpet": [
           {
            "aaxis": {
             "endlinecolor": "#2a3f5f",
             "gridcolor": "white",
             "linecolor": "white",
             "minorgridcolor": "white",
             "startlinecolor": "#2a3f5f"
            },
            "baxis": {
             "endlinecolor": "#2a3f5f",
             "gridcolor": "white",
             "linecolor": "white",
             "minorgridcolor": "white",
             "startlinecolor": "#2a3f5f"
            },
            "type": "carpet"
           }
          ],
          "choropleth": [
           {
            "colorbar": {
             "outlinewidth": 0,
             "ticks": ""
            },
            "type": "choropleth"
           }
          ],
          "contour": [
           {
            "colorbar": {
             "outlinewidth": 0,
             "ticks": ""
            },
            "colorscale": [
             [
              0,
              "#0d0887"
             ],
             [
              0.1111111111111111,
              "#46039f"
             ],
             [
              0.2222222222222222,
              "#7201a8"
             ],
             [
              0.3333333333333333,
              "#9c179e"
             ],
             [
              0.4444444444444444,
              "#bd3786"
             ],
             [
              0.5555555555555556,
              "#d8576b"
             ],
             [
              0.6666666666666666,
              "#ed7953"
             ],
             [
              0.7777777777777778,
              "#fb9f3a"
             ],
             [
              0.8888888888888888,
              "#fdca26"
             ],
             [
              1,
              "#f0f921"
             ]
            ],
            "type": "contour"
           }
          ],
          "contourcarpet": [
           {
            "colorbar": {
             "outlinewidth": 0,
             "ticks": ""
            },
            "type": "contourcarpet"
           }
          ],
          "heatmap": [
           {
            "colorbar": {
             "outlinewidth": 0,
             "ticks": ""
            },
            "colorscale": [
             [
              0,
              "#0d0887"
             ],
             [
              0.1111111111111111,
              "#46039f"
             ],
             [
              0.2222222222222222,
              "#7201a8"
             ],
             [
              0.3333333333333333,
              "#9c179e"
             ],
             [
              0.4444444444444444,
              "#bd3786"
             ],
             [
              0.5555555555555556,
              "#d8576b"
             ],
             [
              0.6666666666666666,
              "#ed7953"
             ],
             [
              0.7777777777777778,
              "#fb9f3a"
             ],
             [
              0.8888888888888888,
              "#fdca26"
             ],
             [
              1,
              "#f0f921"
             ]
            ],
            "type": "heatmap"
           }
          ],
          "histogram": [
           {
            "marker": {
             "pattern": {
              "fillmode": "overlay",
              "size": 10,
              "solidity": 0.2
             }
            },
            "type": "histogram"
           }
          ],
          "histogram2d": [
           {
            "colorbar": {
             "outlinewidth": 0,
             "ticks": ""
            },
            "colorscale": [
             [
              0,
              "#0d0887"
             ],
             [
              0.1111111111111111,
              "#46039f"
             ],
             [
              0.2222222222222222,
              "#7201a8"
             ],
             [
              0.3333333333333333,
              "#9c179e"
             ],
             [
              0.4444444444444444,
              "#bd3786"
             ],
             [
              0.5555555555555556,
              "#d8576b"
             ],
             [
              0.6666666666666666,
              "#ed7953"
             ],
             [
              0.7777777777777778,
              "#fb9f3a"
             ],
             [
              0.8888888888888888,
              "#fdca26"
             ],
             [
              1,
              "#f0f921"
             ]
            ],
            "type": "histogram2d"
           }
          ],
          "histogram2dcontour": [
           {
            "colorbar": {
             "outlinewidth": 0,
             "ticks": ""
            },
            "colorscale": [
             [
              0,
              "#0d0887"
             ],
             [
              0.1111111111111111,
              "#46039f"
             ],
             [
              0.2222222222222222,
              "#7201a8"
             ],
             [
              0.3333333333333333,
              "#9c179e"
             ],
             [
              0.4444444444444444,
              "#bd3786"
             ],
             [
              0.5555555555555556,
              "#d8576b"
             ],
             [
              0.6666666666666666,
              "#ed7953"
             ],
             [
              0.7777777777777778,
              "#fb9f3a"
             ],
             [
              0.8888888888888888,
              "#fdca26"
             ],
             [
              1,
              "#f0f921"
             ]
            ],
            "type": "histogram2dcontour"
           }
          ],
          "mesh3d": [
           {
            "colorbar": {
             "outlinewidth": 0,
             "ticks": ""
            },
            "type": "mesh3d"
           }
          ],
          "parcoords": [
           {
            "line": {
             "colorbar": {
              "outlinewidth": 0,
              "ticks": ""
             }
            },
            "type": "parcoords"
           }
          ],
          "pie": [
           {
            "automargin": true,
            "type": "pie"
           }
          ],
          "scatter": [
           {
            "fillpattern": {
             "fillmode": "overlay",
             "size": 10,
             "solidity": 0.2
            },
            "type": "scatter"
           }
          ],
          "scatter3d": [
           {
            "line": {
             "colorbar": {
              "outlinewidth": 0,
              "ticks": ""
             }
            },
            "marker": {
             "colorbar": {
              "outlinewidth": 0,
              "ticks": ""
             }
            },
            "type": "scatter3d"
           }
          ],
          "scattercarpet": [
           {
            "marker": {
             "colorbar": {
              "outlinewidth": 0,
              "ticks": ""
             }
            },
            "type": "scattercarpet"
           }
          ],
          "scattergeo": [
           {
            "marker": {
             "colorbar": {
              "outlinewidth": 0,
              "ticks": ""
             }
            },
            "type": "scattergeo"
           }
          ],
          "scattergl": [
           {
            "marker": {
             "colorbar": {
              "outlinewidth": 0,
              "ticks": ""
             }
            },
            "type": "scattergl"
           }
          ],
          "scattermap": [
           {
            "marker": {
             "colorbar": {
              "outlinewidth": 0,
              "ticks": ""
             }
            },
            "type": "scattermap"
           }
          ],
          "scattermapbox": [
           {
            "marker": {
             "colorbar": {
              "outlinewidth": 0,
              "ticks": ""
             }
            },
            "type": "scattermapbox"
           }
          ],
          "scatterpolar": [
           {
            "marker": {
             "colorbar": {
              "outlinewidth": 0,
              "ticks": ""
             }
            },
            "type": "scatterpolar"
           }
          ],
          "scatterpolargl": [
           {
            "marker": {
             "colorbar": {
              "outlinewidth": 0,
              "ticks": ""
             }
            },
            "type": "scatterpolargl"
           }
          ],
          "scatterternary": [
           {
            "marker": {
             "colorbar": {
              "outlinewidth": 0,
              "ticks": ""
             }
            },
            "type": "scatterternary"
           }
          ],
          "surface": [
           {
            "colorbar": {
             "outlinewidth": 0,
             "ticks": ""
            },
            "colorscale": [
             [
              0,
              "#0d0887"
             ],
             [
              0.1111111111111111,
              "#46039f"
             ],
             [
              0.2222222222222222,
              "#7201a8"
             ],
             [
              0.3333333333333333,
              "#9c179e"
             ],
             [
              0.4444444444444444,
              "#bd3786"
             ],
             [
              0.5555555555555556,
              "#d8576b"
             ],
             [
              0.6666666666666666,
              "#ed7953"
             ],
             [
              0.7777777777777778,
              "#fb9f3a"
             ],
             [
              0.8888888888888888,
              "#fdca26"
             ],
             [
              1,
              "#f0f921"
             ]
            ],
            "type": "surface"
           }
          ],
          "table": [
           {
            "cells": {
             "fill": {
              "color": "#EBF0F8"
             },
             "line": {
              "color": "white"
             }
            },
            "header": {
             "fill": {
              "color": "#C8D4E3"
             },
             "line": {
              "color": "white"
             }
            },
            "type": "table"
           }
          ]
         },
         "layout": {
          "annotationdefaults": {
           "arrowcolor": "#2a3f5f",
           "arrowhead": 0,
           "arrowwidth": 1
          },
          "autotypenumbers": "strict",
          "coloraxis": {
           "colorbar": {
            "outlinewidth": 0,
            "ticks": ""
           }
          },
          "colorscale": {
           "diverging": [
            [
             0,
             "#8e0152"
            ],
            [
             0.1,
             "#c51b7d"
            ],
            [
             0.2,
             "#de77ae"
            ],
            [
             0.3,
             "#f1b6da"
            ],
            [
             0.4,
             "#fde0ef"
            ],
            [
             0.5,
             "#f7f7f7"
            ],
            [
             0.6,
             "#e6f5d0"
            ],
            [
             0.7,
             "#b8e186"
            ],
            [
             0.8,
             "#7fbc41"
            ],
            [
             0.9,
             "#4d9221"
            ],
            [
             1,
             "#276419"
            ]
           ],
           "sequential": [
            [
             0,
             "#0d0887"
            ],
            [
             0.1111111111111111,
             "#46039f"
            ],
            [
             0.2222222222222222,
             "#7201a8"
            ],
            [
             0.3333333333333333,
             "#9c179e"
            ],
            [
             0.4444444444444444,
             "#bd3786"
            ],
            [
             0.5555555555555556,
             "#d8576b"
            ],
            [
             0.6666666666666666,
             "#ed7953"
            ],
            [
             0.7777777777777778,
             "#fb9f3a"
            ],
            [
             0.8888888888888888,
             "#fdca26"
            ],
            [
             1,
             "#f0f921"
            ]
           ],
           "sequentialminus": [
            [
             0,
             "#0d0887"
            ],
            [
             0.1111111111111111,
             "#46039f"
            ],
            [
             0.2222222222222222,
             "#7201a8"
            ],
            [
             0.3333333333333333,
             "#9c179e"
            ],
            [
             0.4444444444444444,
             "#bd3786"
            ],
            [
             0.5555555555555556,
             "#d8576b"
            ],
            [
             0.6666666666666666,
             "#ed7953"
            ],
            [
             0.7777777777777778,
             "#fb9f3a"
            ],
            [
             0.8888888888888888,
             "#fdca26"
            ],
            [
             1,
             "#f0f921"
            ]
           ]
          },
          "colorway": [
           "#636efa",
           "#EF553B",
           "#00cc96",
           "#ab63fa",
           "#FFA15A",
           "#19d3f3",
           "#FF6692",
           "#B6E880",
           "#FF97FF",
           "#FECB52"
          ],
          "font": {
           "color": "#2a3f5f"
          },
          "geo": {
           "bgcolor": "white",
           "lakecolor": "white",
           "landcolor": "#E5ECF6",
           "showlakes": true,
           "showland": true,
           "subunitcolor": "white"
          },
          "hoverlabel": {
           "align": "left"
          },
          "hovermode": "closest",
          "mapbox": {
           "style": "light"
          },
          "paper_bgcolor": "white",
          "plot_bgcolor": "#E5ECF6",
          "polar": {
           "angularaxis": {
            "gridcolor": "white",
            "linecolor": "white",
            "ticks": ""
           },
           "bgcolor": "#E5ECF6",
           "radialaxis": {
            "gridcolor": "white",
            "linecolor": "white",
            "ticks": ""
           }
          },
          "scene": {
           "xaxis": {
            "backgroundcolor": "#E5ECF6",
            "gridcolor": "white",
            "gridwidth": 2,
            "linecolor": "white",
            "showbackground": true,
            "ticks": "",
            "zerolinecolor": "white"
           },
           "yaxis": {
            "backgroundcolor": "#E5ECF6",
            "gridcolor": "white",
            "gridwidth": 2,
            "linecolor": "white",
            "showbackground": true,
            "ticks": "",
            "zerolinecolor": "white"
           },
           "zaxis": {
            "backgroundcolor": "#E5ECF6",
            "gridcolor": "white",
            "gridwidth": 2,
            "linecolor": "white",
            "showbackground": true,
            "ticks": "",
            "zerolinecolor": "white"
           }
          },
          "shapedefaults": {
           "line": {
            "color": "#2a3f5f"
           }
          },
          "ternary": {
           "aaxis": {
            "gridcolor": "white",
            "linecolor": "white",
            "ticks": ""
           },
           "baxis": {
            "gridcolor": "white",
            "linecolor": "white",
            "ticks": ""
           },
           "bgcolor": "#E5ECF6",
           "caxis": {
            "gridcolor": "white",
            "linecolor": "white",
            "ticks": ""
           }
          },
          "title": {
           "x": 0.05
          },
          "xaxis": {
           "automargin": true,
           "gridcolor": "white",
           "linecolor": "white",
           "ticks": "",
           "title": {
            "standoff": 15
           },
           "zerolinecolor": "white",
           "zerolinewidth": 2
          },
          "yaxis": {
           "automargin": true,
           "gridcolor": "white",
           "linecolor": "white",
           "ticks": "",
           "title": {
            "standoff": 15
           },
           "zerolinecolor": "white",
           "zerolinewidth": 2
          }
         }
        },
        "title": {
         "text": "Hyperparameter Importances"
        },
        "xaxis": {
         "title": {
          "text": "Hyperparameter Importance"
         }
        },
        "yaxis": {
         "title": {
          "text": "Hyperparameter"
         }
        }
       }
      }
     },
     "metadata": {},
     "output_type": "display_data"
    }
   ],
   "source": [
    "print(f\"Лучшие параметры для Random Forest:\")\n",
    "print(study_rf.best_params)\n",
    "print(f\"Лучший R2: {study_rf.best_value:.4f}\")\n",
    "\n",
    "fig = optuna.visualization.plot_optimization_history(study_rf)\n",
    "fig.show()\n",
    "\n",
    "fig = optuna.visualization.plot_param_importances(study_rf)\n",
    "fig.show()"
   ]
  },
  {
   "cell_type": "code",
   "execution_count": 117,
   "id": "f71e292d",
   "metadata": {},
   "outputs": [
    {
     "data": {
      "text/html": [
       "<style>#sk-container-id-4 {\n",
       "  /* Definition of color scheme common for light and dark mode */\n",
       "  --sklearn-color-text: #000;\n",
       "  --sklearn-color-text-muted: #666;\n",
       "  --sklearn-color-line: gray;\n",
       "  /* Definition of color scheme for unfitted estimators */\n",
       "  --sklearn-color-unfitted-level-0: #fff5e6;\n",
       "  --sklearn-color-unfitted-level-1: #f6e4d2;\n",
       "  --sklearn-color-unfitted-level-2: #ffe0b3;\n",
       "  --sklearn-color-unfitted-level-3: chocolate;\n",
       "  /* Definition of color scheme for fitted estimators */\n",
       "  --sklearn-color-fitted-level-0: #f0f8ff;\n",
       "  --sklearn-color-fitted-level-1: #d4ebff;\n",
       "  --sklearn-color-fitted-level-2: #b3dbfd;\n",
       "  --sklearn-color-fitted-level-3: cornflowerblue;\n",
       "\n",
       "  /* Specific color for light theme */\n",
       "  --sklearn-color-text-on-default-background: var(--sg-text-color, var(--theme-code-foreground, var(--jp-content-font-color1, black)));\n",
       "  --sklearn-color-background: var(--sg-background-color, var(--theme-background, var(--jp-layout-color0, white)));\n",
       "  --sklearn-color-border-box: var(--sg-text-color, var(--theme-code-foreground, var(--jp-content-font-color1, black)));\n",
       "  --sklearn-color-icon: #696969;\n",
       "\n",
       "  @media (prefers-color-scheme: dark) {\n",
       "    /* Redefinition of color scheme for dark theme */\n",
       "    --sklearn-color-text-on-default-background: var(--sg-text-color, var(--theme-code-foreground, var(--jp-content-font-color1, white)));\n",
       "    --sklearn-color-background: var(--sg-background-color, var(--theme-background, var(--jp-layout-color0, #111)));\n",
       "    --sklearn-color-border-box: var(--sg-text-color, var(--theme-code-foreground, var(--jp-content-font-color1, white)));\n",
       "    --sklearn-color-icon: #878787;\n",
       "  }\n",
       "}\n",
       "\n",
       "#sk-container-id-4 {\n",
       "  color: var(--sklearn-color-text);\n",
       "}\n",
       "\n",
       "#sk-container-id-4 pre {\n",
       "  padding: 0;\n",
       "}\n",
       "\n",
       "#sk-container-id-4 input.sk-hidden--visually {\n",
       "  border: 0;\n",
       "  clip: rect(1px 1px 1px 1px);\n",
       "  clip: rect(1px, 1px, 1px, 1px);\n",
       "  height: 1px;\n",
       "  margin: -1px;\n",
       "  overflow: hidden;\n",
       "  padding: 0;\n",
       "  position: absolute;\n",
       "  width: 1px;\n",
       "}\n",
       "\n",
       "#sk-container-id-4 div.sk-dashed-wrapped {\n",
       "  border: 1px dashed var(--sklearn-color-line);\n",
       "  margin: 0 0.4em 0.5em 0.4em;\n",
       "  box-sizing: border-box;\n",
       "  padding-bottom: 0.4em;\n",
       "  background-color: var(--sklearn-color-background);\n",
       "}\n",
       "\n",
       "#sk-container-id-4 div.sk-container {\n",
       "  /* jupyter's `normalize.less` sets `[hidden] { display: none; }`\n",
       "     but bootstrap.min.css set `[hidden] { display: none !important; }`\n",
       "     so we also need the `!important` here to be able to override the\n",
       "     default hidden behavior on the sphinx rendered scikit-learn.org.\n",
       "     See: https://github.com/scikit-learn/scikit-learn/issues/21755 */\n",
       "  display: inline-block !important;\n",
       "  position: relative;\n",
       "}\n",
       "\n",
       "#sk-container-id-4 div.sk-text-repr-fallback {\n",
       "  display: none;\n",
       "}\n",
       "\n",
       "div.sk-parallel-item,\n",
       "div.sk-serial,\n",
       "div.sk-item {\n",
       "  /* draw centered vertical line to link estimators */\n",
       "  background-image: linear-gradient(var(--sklearn-color-text-on-default-background), var(--sklearn-color-text-on-default-background));\n",
       "  background-size: 2px 100%;\n",
       "  background-repeat: no-repeat;\n",
       "  background-position: center center;\n",
       "}\n",
       "\n",
       "/* Parallel-specific style estimator block */\n",
       "\n",
       "#sk-container-id-4 div.sk-parallel-item::after {\n",
       "  content: \"\";\n",
       "  width: 100%;\n",
       "  border-bottom: 2px solid var(--sklearn-color-text-on-default-background);\n",
       "  flex-grow: 1;\n",
       "}\n",
       "\n",
       "#sk-container-id-4 div.sk-parallel {\n",
       "  display: flex;\n",
       "  align-items: stretch;\n",
       "  justify-content: center;\n",
       "  background-color: var(--sklearn-color-background);\n",
       "  position: relative;\n",
       "}\n",
       "\n",
       "#sk-container-id-4 div.sk-parallel-item {\n",
       "  display: flex;\n",
       "  flex-direction: column;\n",
       "}\n",
       "\n",
       "#sk-container-id-4 div.sk-parallel-item:first-child::after {\n",
       "  align-self: flex-end;\n",
       "  width: 50%;\n",
       "}\n",
       "\n",
       "#sk-container-id-4 div.sk-parallel-item:last-child::after {\n",
       "  align-self: flex-start;\n",
       "  width: 50%;\n",
       "}\n",
       "\n",
       "#sk-container-id-4 div.sk-parallel-item:only-child::after {\n",
       "  width: 0;\n",
       "}\n",
       "\n",
       "/* Serial-specific style estimator block */\n",
       "\n",
       "#sk-container-id-4 div.sk-serial {\n",
       "  display: flex;\n",
       "  flex-direction: column;\n",
       "  align-items: center;\n",
       "  background-color: var(--sklearn-color-background);\n",
       "  padding-right: 1em;\n",
       "  padding-left: 1em;\n",
       "}\n",
       "\n",
       "\n",
       "/* Toggleable style: style used for estimator/Pipeline/ColumnTransformer box that is\n",
       "clickable and can be expanded/collapsed.\n",
       "- Pipeline and ColumnTransformer use this feature and define the default style\n",
       "- Estimators will overwrite some part of the style using the `sk-estimator` class\n",
       "*/\n",
       "\n",
       "/* Pipeline and ColumnTransformer style (default) */\n",
       "\n",
       "#sk-container-id-4 div.sk-toggleable {\n",
       "  /* Default theme specific background. It is overwritten whether we have a\n",
       "  specific estimator or a Pipeline/ColumnTransformer */\n",
       "  background-color: var(--sklearn-color-background);\n",
       "}\n",
       "\n",
       "/* Toggleable label */\n",
       "#sk-container-id-4 label.sk-toggleable__label {\n",
       "  cursor: pointer;\n",
       "  display: flex;\n",
       "  width: 100%;\n",
       "  margin-bottom: 0;\n",
       "  padding: 0.5em;\n",
       "  box-sizing: border-box;\n",
       "  text-align: center;\n",
       "  align-items: start;\n",
       "  justify-content: space-between;\n",
       "  gap: 0.5em;\n",
       "}\n",
       "\n",
       "#sk-container-id-4 label.sk-toggleable__label .caption {\n",
       "  font-size: 0.6rem;\n",
       "  font-weight: lighter;\n",
       "  color: var(--sklearn-color-text-muted);\n",
       "}\n",
       "\n",
       "#sk-container-id-4 label.sk-toggleable__label-arrow:before {\n",
       "  /* Arrow on the left of the label */\n",
       "  content: \"▸\";\n",
       "  float: left;\n",
       "  margin-right: 0.25em;\n",
       "  color: var(--sklearn-color-icon);\n",
       "}\n",
       "\n",
       "#sk-container-id-4 label.sk-toggleable__label-arrow:hover:before {\n",
       "  color: var(--sklearn-color-text);\n",
       "}\n",
       "\n",
       "/* Toggleable content - dropdown */\n",
       "\n",
       "#sk-container-id-4 div.sk-toggleable__content {\n",
       "  max-height: 0;\n",
       "  max-width: 0;\n",
       "  overflow: hidden;\n",
       "  text-align: left;\n",
       "  /* unfitted */\n",
       "  background-color: var(--sklearn-color-unfitted-level-0);\n",
       "}\n",
       "\n",
       "#sk-container-id-4 div.sk-toggleable__content.fitted {\n",
       "  /* fitted */\n",
       "  background-color: var(--sklearn-color-fitted-level-0);\n",
       "}\n",
       "\n",
       "#sk-container-id-4 div.sk-toggleable__content pre {\n",
       "  margin: 0.2em;\n",
       "  border-radius: 0.25em;\n",
       "  color: var(--sklearn-color-text);\n",
       "  /* unfitted */\n",
       "  background-color: var(--sklearn-color-unfitted-level-0);\n",
       "}\n",
       "\n",
       "#sk-container-id-4 div.sk-toggleable__content.fitted pre {\n",
       "  /* unfitted */\n",
       "  background-color: var(--sklearn-color-fitted-level-0);\n",
       "}\n",
       "\n",
       "#sk-container-id-4 input.sk-toggleable__control:checked~div.sk-toggleable__content {\n",
       "  /* Expand drop-down */\n",
       "  max-height: 200px;\n",
       "  max-width: 100%;\n",
       "  overflow: auto;\n",
       "}\n",
       "\n",
       "#sk-container-id-4 input.sk-toggleable__control:checked~label.sk-toggleable__label-arrow:before {\n",
       "  content: \"▾\";\n",
       "}\n",
       "\n",
       "/* Pipeline/ColumnTransformer-specific style */\n",
       "\n",
       "#sk-container-id-4 div.sk-label input.sk-toggleable__control:checked~label.sk-toggleable__label {\n",
       "  color: var(--sklearn-color-text);\n",
       "  background-color: var(--sklearn-color-unfitted-level-2);\n",
       "}\n",
       "\n",
       "#sk-container-id-4 div.sk-label.fitted input.sk-toggleable__control:checked~label.sk-toggleable__label {\n",
       "  background-color: var(--sklearn-color-fitted-level-2);\n",
       "}\n",
       "\n",
       "/* Estimator-specific style */\n",
       "\n",
       "/* Colorize estimator box */\n",
       "#sk-container-id-4 div.sk-estimator input.sk-toggleable__control:checked~label.sk-toggleable__label {\n",
       "  /* unfitted */\n",
       "  background-color: var(--sklearn-color-unfitted-level-2);\n",
       "}\n",
       "\n",
       "#sk-container-id-4 div.sk-estimator.fitted input.sk-toggleable__control:checked~label.sk-toggleable__label {\n",
       "  /* fitted */\n",
       "  background-color: var(--sklearn-color-fitted-level-2);\n",
       "}\n",
       "\n",
       "#sk-container-id-4 div.sk-label label.sk-toggleable__label,\n",
       "#sk-container-id-4 div.sk-label label {\n",
       "  /* The background is the default theme color */\n",
       "  color: var(--sklearn-color-text-on-default-background);\n",
       "}\n",
       "\n",
       "/* On hover, darken the color of the background */\n",
       "#sk-container-id-4 div.sk-label:hover label.sk-toggleable__label {\n",
       "  color: var(--sklearn-color-text);\n",
       "  background-color: var(--sklearn-color-unfitted-level-2);\n",
       "}\n",
       "\n",
       "/* Label box, darken color on hover, fitted */\n",
       "#sk-container-id-4 div.sk-label.fitted:hover label.sk-toggleable__label.fitted {\n",
       "  color: var(--sklearn-color-text);\n",
       "  background-color: var(--sklearn-color-fitted-level-2);\n",
       "}\n",
       "\n",
       "/* Estimator label */\n",
       "\n",
       "#sk-container-id-4 div.sk-label label {\n",
       "  font-family: monospace;\n",
       "  font-weight: bold;\n",
       "  display: inline-block;\n",
       "  line-height: 1.2em;\n",
       "}\n",
       "\n",
       "#sk-container-id-4 div.sk-label-container {\n",
       "  text-align: center;\n",
       "}\n",
       "\n",
       "/* Estimator-specific */\n",
       "#sk-container-id-4 div.sk-estimator {\n",
       "  font-family: monospace;\n",
       "  border: 1px dotted var(--sklearn-color-border-box);\n",
       "  border-radius: 0.25em;\n",
       "  box-sizing: border-box;\n",
       "  margin-bottom: 0.5em;\n",
       "  /* unfitted */\n",
       "  background-color: var(--sklearn-color-unfitted-level-0);\n",
       "}\n",
       "\n",
       "#sk-container-id-4 div.sk-estimator.fitted {\n",
       "  /* fitted */\n",
       "  background-color: var(--sklearn-color-fitted-level-0);\n",
       "}\n",
       "\n",
       "/* on hover */\n",
       "#sk-container-id-4 div.sk-estimator:hover {\n",
       "  /* unfitted */\n",
       "  background-color: var(--sklearn-color-unfitted-level-2);\n",
       "}\n",
       "\n",
       "#sk-container-id-4 div.sk-estimator.fitted:hover {\n",
       "  /* fitted */\n",
       "  background-color: var(--sklearn-color-fitted-level-2);\n",
       "}\n",
       "\n",
       "/* Specification for estimator info (e.g. \"i\" and \"?\") */\n",
       "\n",
       "/* Common style for \"i\" and \"?\" */\n",
       "\n",
       ".sk-estimator-doc-link,\n",
       "a:link.sk-estimator-doc-link,\n",
       "a:visited.sk-estimator-doc-link {\n",
       "  float: right;\n",
       "  font-size: smaller;\n",
       "  line-height: 1em;\n",
       "  font-family: monospace;\n",
       "  background-color: var(--sklearn-color-background);\n",
       "  border-radius: 1em;\n",
       "  height: 1em;\n",
       "  width: 1em;\n",
       "  text-decoration: none !important;\n",
       "  margin-left: 0.5em;\n",
       "  text-align: center;\n",
       "  /* unfitted */\n",
       "  border: var(--sklearn-color-unfitted-level-1) 1pt solid;\n",
       "  color: var(--sklearn-color-unfitted-level-1);\n",
       "}\n",
       "\n",
       ".sk-estimator-doc-link.fitted,\n",
       "a:link.sk-estimator-doc-link.fitted,\n",
       "a:visited.sk-estimator-doc-link.fitted {\n",
       "  /* fitted */\n",
       "  border: var(--sklearn-color-fitted-level-1) 1pt solid;\n",
       "  color: var(--sklearn-color-fitted-level-1);\n",
       "}\n",
       "\n",
       "/* On hover */\n",
       "div.sk-estimator:hover .sk-estimator-doc-link:hover,\n",
       ".sk-estimator-doc-link:hover,\n",
       "div.sk-label-container:hover .sk-estimator-doc-link:hover,\n",
       ".sk-estimator-doc-link:hover {\n",
       "  /* unfitted */\n",
       "  background-color: var(--sklearn-color-unfitted-level-3);\n",
       "  color: var(--sklearn-color-background);\n",
       "  text-decoration: none;\n",
       "}\n",
       "\n",
       "div.sk-estimator.fitted:hover .sk-estimator-doc-link.fitted:hover,\n",
       ".sk-estimator-doc-link.fitted:hover,\n",
       "div.sk-label-container:hover .sk-estimator-doc-link.fitted:hover,\n",
       ".sk-estimator-doc-link.fitted:hover {\n",
       "  /* fitted */\n",
       "  background-color: var(--sklearn-color-fitted-level-3);\n",
       "  color: var(--sklearn-color-background);\n",
       "  text-decoration: none;\n",
       "}\n",
       "\n",
       "/* Span, style for the box shown on hovering the info icon */\n",
       ".sk-estimator-doc-link span {\n",
       "  display: none;\n",
       "  z-index: 9999;\n",
       "  position: relative;\n",
       "  font-weight: normal;\n",
       "  right: .2ex;\n",
       "  padding: .5ex;\n",
       "  margin: .5ex;\n",
       "  width: min-content;\n",
       "  min-width: 20ex;\n",
       "  max-width: 50ex;\n",
       "  color: var(--sklearn-color-text);\n",
       "  box-shadow: 2pt 2pt 4pt #999;\n",
       "  /* unfitted */\n",
       "  background: var(--sklearn-color-unfitted-level-0);\n",
       "  border: .5pt solid var(--sklearn-color-unfitted-level-3);\n",
       "}\n",
       "\n",
       ".sk-estimator-doc-link.fitted span {\n",
       "  /* fitted */\n",
       "  background: var(--sklearn-color-fitted-level-0);\n",
       "  border: var(--sklearn-color-fitted-level-3);\n",
       "}\n",
       "\n",
       ".sk-estimator-doc-link:hover span {\n",
       "  display: block;\n",
       "}\n",
       "\n",
       "/* \"?\"-specific style due to the `<a>` HTML tag */\n",
       "\n",
       "#sk-container-id-4 a.estimator_doc_link {\n",
       "  float: right;\n",
       "  font-size: 1rem;\n",
       "  line-height: 1em;\n",
       "  font-family: monospace;\n",
       "  background-color: var(--sklearn-color-background);\n",
       "  border-radius: 1rem;\n",
       "  height: 1rem;\n",
       "  width: 1rem;\n",
       "  text-decoration: none;\n",
       "  /* unfitted */\n",
       "  color: var(--sklearn-color-unfitted-level-1);\n",
       "  border: var(--sklearn-color-unfitted-level-1) 1pt solid;\n",
       "}\n",
       "\n",
       "#sk-container-id-4 a.estimator_doc_link.fitted {\n",
       "  /* fitted */\n",
       "  border: var(--sklearn-color-fitted-level-1) 1pt solid;\n",
       "  color: var(--sklearn-color-fitted-level-1);\n",
       "}\n",
       "\n",
       "/* On hover */\n",
       "#sk-container-id-4 a.estimator_doc_link:hover {\n",
       "  /* unfitted */\n",
       "  background-color: var(--sklearn-color-unfitted-level-3);\n",
       "  color: var(--sklearn-color-background);\n",
       "  text-decoration: none;\n",
       "}\n",
       "\n",
       "#sk-container-id-4 a.estimator_doc_link.fitted:hover {\n",
       "  /* fitted */\n",
       "  background-color: var(--sklearn-color-fitted-level-3);\n",
       "}\n",
       "</style><div id=\"sk-container-id-4\" class=\"sk-top-container\"><div class=\"sk-text-repr-fallback\"><pre>RandomForestRegressor(bootstrap=False, max_depth=49, max_features=&#x27;sqrt&#x27;,\n",
       "                      min_samples_leaf=10, min_samples_split=3,\n",
       "                      n_estimators=103, n_jobs=-1, random_state=42)</pre><b>In a Jupyter environment, please rerun this cell to show the HTML representation or trust the notebook. <br />On GitHub, the HTML representation is unable to render, please try loading this page with nbviewer.org.</b></div><div class=\"sk-container\" hidden><div class=\"sk-item\"><div class=\"sk-estimator fitted sk-toggleable\"><input class=\"sk-toggleable__control sk-hidden--visually\" id=\"sk-estimator-id-4\" type=\"checkbox\" checked><label for=\"sk-estimator-id-4\" class=\"sk-toggleable__label fitted sk-toggleable__label-arrow\"><div><div>RandomForestRegressor</div></div><div><a class=\"sk-estimator-doc-link fitted\" rel=\"noreferrer\" target=\"_blank\" href=\"https://scikit-learn.org/1.6/modules/generated/sklearn.ensemble.RandomForestRegressor.html\">?<span>Documentation for RandomForestRegressor</span></a><span class=\"sk-estimator-doc-link fitted\">i<span>Fitted</span></span></div></label><div class=\"sk-toggleable__content fitted\"><pre>RandomForestRegressor(bootstrap=False, max_depth=49, max_features=&#x27;sqrt&#x27;,\n",
       "                      min_samples_leaf=10, min_samples_split=3,\n",
       "                      n_estimators=103, n_jobs=-1, random_state=42)</pre></div> </div></div></div></div>"
      ],
      "text/plain": [
       "RandomForestRegressor(bootstrap=False, max_depth=49, max_features='sqrt',\n",
       "                      min_samples_leaf=10, min_samples_split=3,\n",
       "                      n_estimators=103, n_jobs=-1, random_state=42)"
      ]
     },
     "execution_count": 117,
     "metadata": {},
     "output_type": "execute_result"
    }
   ],
   "source": [
    "best_rf_model = RandomForestRegressor(\n",
    "    **study_rf.best_params,\n",
    "    random_state=RANDOM_STATE,\n",
    "    n_jobs=-1\n",
    ")\n",
    "best_rf_model.fit(X_train, y_train_ic50)"
   ]
  },
  {
   "cell_type": "markdown",
   "id": "5a097f92",
   "metadata": {},
   "source": [
    "#### Оценка модели на лучшем наборе данных"
   ]
  },
  {
   "cell_type": "code",
   "execution_count": 118,
   "id": "11aafaa5",
   "metadata": {},
   "outputs": [
    {
     "name": "stdout",
     "output_type": "stream",
     "text": [
      "\n",
      "Final Metrics on Test Set:\n",
      "R2: 0.2788\n",
      "RMSE: 86.8131\n",
      "MAE: 58.2149\n",
      "MAPE: 2.5048\n"
     ]
    }
   ],
   "source": [
    "y_pred_best_rf = best_rf_model.predict(X_test)\n",
    "\n",
    "final_metrics_rf = {metric_name: metric_func(y_test_ic50, y_pred_best_rf) \n",
    "                 for metric_name, metric_func in metrics.items()}\n",
    "\n",
    "print(\"\\nFinal Metrics on Test Set:\")\n",
    "for metric, value in final_metrics_rf.items():\n",
    "    print(f\"{metric}: {value:.4f}\")"
   ]
  },
  {
   "cell_type": "code",
   "execution_count": 119,
   "id": "9afa3a30",
   "metadata": {},
   "outputs": [
    {
     "data": {
      "image/png": "[encoded data removed]",
      "text/plain": [
       "<Figure size 1000x600 with 1 Axes>"
      ]
     },
     "metadata": {},
     "output_type": "display_data"
    }
   ],
   "source": [
    "plt.figure(figsize=(10, 6))\n",
    "plt.scatter(y_test_ic50, y_pred_best_rf, alpha=0.5)\n",
    "plt.plot([min(y_test_ic50), max(y_test_ic50)], \n",
    "         [min(y_test_ic50), max(y_test_ic50)], 'r--')\n",
    "plt.xlabel('True SI')\n",
    "plt.ylabel('Predicted SI')\n",
    "plt.title('True vs Predicted SI Values')\n",
    "plt.grid(True)\n",
    "plt.show()"
   ]
  },
  {
   "cell_type": "markdown",
   "id": "26250a08",
   "metadata": {},
   "source": [
    "#### Анализ важности признаков"
   ]
  },
  {
   "cell_type": "code",
   "execution_count": 120,
   "id": "1f9e8ddf",
   "metadata": {},
   "outputs": [
    {
     "data": {
      "image/png": "[encoded data removed]",
      "text/plain": [
       "<Figure size 1200x800 with 1 Axes>"
      ]
     },
     "metadata": {},
     "output_type": "display_data"
    }
   ],
   "source": [
    "if hasattr(best_rf_model, 'feature_importances_'):\n",
    "    importances = best_rf_model.feature_importances_\n",
    "    feature_names = X.columns if isinstance(X, pd.DataFrame) else [f\"Feature {i}\" for i in range(X.shape[1])]\n",
    "    \n",
    "    sorted_idx = importances.argsort()[::-1]\n",
    "    top_features = 20\n",
    "    \n",
    "    plt.figure(figsize=(12, 8))\n",
    "    plt.barh(range(top_features), importances[sorted_idx][:top_features], align='center')\n",
    "    plt.yticks(range(top_features), [feature_names[i] for i in sorted_idx[:top_features]])\n",
    "    plt.gca().invert_yaxis()\n",
    "    plt.xlabel('Feature Importance')\n",
    "    plt.title('Top Important Features for SI Prediction')\n",
    "    plt.tight_layout()\n",
    "    plt.show()"
   ]
  },
  {
   "cell_type": "markdown",
   "id": "e7ea6f07",
   "metadata": {},
   "source": [
    "### XGBoost"
   ]
  },
  {
   "cell_type": "code",
   "execution_count": 121,
   "id": "91140673",
   "metadata": {},
   "outputs": [],
   "source": [
    "def optimize_xgb(trial):\n",
    "    params = {\n",
    "        'n_estimators': trial.suggest_int('n_estimators', 100, 1000),\n",
    "        'max_depth': trial.suggest_int('max_depth', 3, 12),\n",
    "        'learning_rate': trial.suggest_float('learning_rate', 0.001, 0.3, log=True),\n",
    "        'subsample': trial.suggest_float('subsample', 0.5, 1.0),\n",
    "        'colsample_bytree': trial.suggest_float('colsample_bytree', 0.5, 1.0),\n",
    "        'gamma': trial.suggest_float('gamma', 0, 5),\n",
    "        'reg_alpha': trial.suggest_float('reg_alpha', 0, 10),\n",
    "        'reg_lambda': trial.suggest_float('reg_lambda', 0, 10)\n",
    "    }\n",
    "    \n",
    "    model = XGBRegressor(\n",
    "        **params,\n",
    "        random_state=RANDOM_STATE,\n",
    "        tree_method='exact',\n",
    "        enable_categorical=False\n",
    "    )\n",
    "    \n",
    "    r2_scores = cross_val_score(\n",
    "        model, X_train, y_train_ic50, \n",
    "        cv=CV_FOLDS_XGB, scoring='r2', n_jobs=-1\n",
    "    )\n",
    "    \n",
    "    return np.mean(r2_scores)\n"
   ]
  },
  {
   "cell_type": "code",
   "execution_count": 122,
   "id": "342d3e35",
   "metadata": {},
   "outputs": [
    {
     "name": "stderr",
     "output_type": "stream",
     "text": [
      "[I 2025-06-04 01:47:29,021] A new study created in memory with name: no-name-f4ef12d1-bcba-41e2-91d5-1ebecc608a3b\n",
      "[I 2025-06-04 01:47:32,751] Trial 0 finished with value: 0.16688579169485548 and parameters: {'n_estimators': 437, 'max_depth': 12, 'learning_rate': 0.06504856968981275, 'subsample': 0.7993292420985183, 'colsample_bytree': 0.5780093202212182, 'gamma': 0.7799726016810132, 'reg_alpha': 0.5808361216819946, 'reg_lambda': 8.661761457749352}. Best is trial 0 with value: 0.16688579169485548.\n",
      "[I 2025-06-04 01:47:39,423] Trial 1 finished with value: 0.20135319819385328 and parameters: {'n_estimators': 641, 'max_depth': 10, 'learning_rate': 0.001124579825911934, 'subsample': 0.9849549260809971, 'colsample_bytree': 0.9162213204002109, 'gamma': 1.0616955533913808, 'reg_alpha': 1.8182496720710062, 'reg_lambda': 1.8340450985343382}. Best is trial 1 with value: 0.20135319819385328.\n",
      "[I 2025-06-04 01:47:42,218] Trial 2 finished with value: 0.2493219519363999 and parameters: {'n_estimators': 374, 'max_depth': 8, 'learning_rate': 0.01174843954800703, 'subsample': 0.645614570099021, 'colsample_bytree': 0.8059264473611898, 'gamma': 0.6974693032602092, 'reg_alpha': 2.9214464853521815, 'reg_lambda': 3.663618432936917}. Best is trial 2 with value: 0.2493219519363999.\n",
      "[I 2025-06-04 01:47:47,093] Trial 3 finished with value: 0.2545821162159258 and parameters: {'n_estimators': 510, 'max_depth': 10, 'learning_rate': 0.003123317753376431, 'subsample': 0.7571172192068059, 'colsample_bytree': 0.7962072844310213, 'gamma': 0.23225206359998862, 'reg_alpha': 6.075448519014383, 'reg_lambda': 1.7052412368729153}. Best is trial 3 with value: 0.2545821162159258.\n",
      "[I 2025-06-04 01:47:48,488] Trial 4 finished with value: 0.1365967330002284 and parameters: {'n_estimators': 158, 'max_depth': 12, 'learning_rate': 0.24659691172104828, 'subsample': 0.9041986740582306, 'colsample_bytree': 0.6523068845866853, 'gamma': 0.48836057003191935, 'reg_alpha': 6.842330265121569, 'reg_lambda': 4.4015249373960135}. Best is trial 3 with value: 0.2545821162159258.\n",
      "[I 2025-06-04 01:47:49,831] Trial 5 finished with value: 0.07305083855465075 and parameters: {'n_estimators': 209, 'max_depth': 7, 'learning_rate': 0.0012167028814593455, 'subsample': 0.954660201039391, 'colsample_bytree': 0.6293899908000085, 'gamma': 3.31261142176991, 'reg_alpha': 3.1171107608941098, 'reg_lambda': 5.200680211778108}. Best is trial 3 with value: 0.2545821162159258.\n",
      "[I 2025-06-04 01:47:52,429] Trial 6 finished with value: 0.21976730370707828 and parameters: {'n_estimators': 592, 'max_depth': 4, 'learning_rate': 0.25221951700214296, 'subsample': 0.8875664116805573, 'colsample_bytree': 0.9697494707820946, 'gamma': 4.474136752138244, 'reg_alpha': 5.978999788110851, 'reg_lambda': 9.218742350231167}. Best is trial 3 with value: 0.2545821162159258.\n",
      "[I 2025-06-04 01:47:53,026] Trial 7 finished with value: 0.0647092332936072 and parameters: {'n_estimators': 179, 'max_depth': 4, 'learning_rate': 0.001294295611551122, 'subsample': 0.6626651653816322, 'colsample_bytree': 0.6943386448447411, 'gamma': 1.3567451588694794, 'reg_alpha': 8.287375091519294, 'reg_lambda': 3.567533266935893}. Best is trial 3 with value: 0.2545821162159258.\n",
      "[I 2025-06-04 01:47:54,901] Trial 8 finished with value: 0.17186055465979053 and parameters: {'n_estimators': 353, 'max_depth': 8, 'learning_rate': 0.0022340165853190056, 'subsample': 0.9010984903770198, 'colsample_bytree': 0.5372753218398854, 'gamma': 4.9344346830025865, 'reg_alpha': 7.722447692966574, 'reg_lambda': 1.987156815341724}. Best is trial 3 with value: 0.2545821162159258.\n",
      "[I 2025-06-04 01:47:56,188] Trial 9 finished with value: 0.20148624853491315 and parameters: {'n_estimators': 104, 'max_depth': 11, 'learning_rate': 0.0563600475052774, 'subsample': 0.8645035840204937, 'colsample_bytree': 0.8856351733429728, 'gamma': 0.3702232586704518, 'reg_alpha': 3.5846572854427263, 'reg_lambda': 1.1586905952512971}. Best is trial 3 with value: 0.2545821162159258.\n",
      "[I 2025-06-04 01:48:01,216] Trial 10 finished with value: 0.22969244335721126 and parameters: {'n_estimators': 930, 'max_depth': 6, 'learning_rate': 0.0057835683328601424, 'subsample': 0.5089809378074099, 'colsample_bytree': 0.7828065453407016, 'gamma': 2.13406447691657, 'reg_alpha': 9.597707459454199, 'reg_lambda': 0.11852595611645333}. Best is trial 3 with value: 0.2545821162159258.\n",
      "[I 2025-06-04 01:48:07,696] Trial 11 finished with value: 0.2525881816650973 and parameters: {'n_estimators': 751, 'max_depth': 9, 'learning_rate': 0.008262355712100416, 'subsample': 0.668335762954705, 'colsample_bytree': 0.7930679183446125, 'gamma': 1.9947625073276947, 'reg_alpha': 4.727140066579487, 'reg_lambda': 6.195339431335992}. Best is trial 3 with value: 0.2545821162159258.\n",
      "[I 2025-06-04 01:48:15,185] Trial 12 finished with value: 0.2682869762982426 and parameters: {'n_estimators': 766, 'max_depth': 10, 'learning_rate': 0.004595997806470931, 'subsample': 0.7038786117472828, 'colsample_bytree': 0.8265015800721067, 'gamma': 2.6388944651501602, 'reg_alpha': 4.687052188878424, 'reg_lambda': 6.768180580956152}. Best is trial 12 with value: 0.2682869762982426.\n",
      "[I 2025-06-04 01:48:22,526] Trial 13 finished with value: 0.26568981251514756 and parameters: {'n_estimators': 815, 'max_depth': 10, 'learning_rate': 0.003739539159196359, 'subsample': 0.7491340783908501, 'colsample_bytree': 0.7305508677576656, 'gamma': 3.042366074216407, 'reg_alpha': 5.296370870614441, 'reg_lambda': 7.093773974157525}. Best is trial 12 with value: 0.2682869762982426.\n",
      "[I 2025-06-04 01:48:29,545] Trial 14 finished with value: 0.21845034769579125 and parameters: {'n_estimators': 862, 'max_depth': 10, 'learning_rate': 0.035143503456448094, 'subsample': 0.5797654491534234, 'colsample_bytree': 0.7195937846887609, 'gamma': 3.43771702756768, 'reg_alpha': 4.621147584011281, 'reg_lambda': 7.3536083987197145}. Best is trial 12 with value: 0.2682869762982426.\n",
      "[I 2025-06-04 01:48:33,929] Trial 15 finished with value: 0.27952497931991804 and parameters: {'n_estimators': 759, 'max_depth': 6, 'learning_rate': 0.004591860059311716, 'subsample': 0.733664697406549, 'colsample_bytree': 0.8620313930247294, 'gamma': 3.2951430240448687, 'reg_alpha': 5.327661592887935, 'reg_lambda': 7.324921074487181}. Best is trial 15 with value: 0.27952497931991804.\n",
      "[I 2025-06-04 01:48:38,027] Trial 16 finished with value: 0.24013058094897036 and parameters: {'n_estimators': 698, 'max_depth': 6, 'learning_rate': 0.0201457236599948, 'subsample': 0.7204181752367321, 'colsample_bytree': 0.8600181263616459, 'gamma': 4.014388703576811, 'reg_alpha': 3.82673751010865, 'reg_lambda': 8.037577092654274}. Best is trial 15 with value: 0.27952497931991804.\n",
      "[I 2025-06-04 01:48:41,079] Trial 17 finished with value: 0.2683949574986185 and parameters: {'n_estimators': 979, 'max_depth': 3, 'learning_rate': 0.005893818302470388, 'subsample': 0.8277613402464759, 'colsample_bytree': 0.9927047016601879, 'gamma': 2.7045123535626026, 'reg_alpha': 1.418515957643181, 'reg_lambda': 9.717906088822144}. Best is trial 15 with value: 0.27952497931991804.\n",
      "[I 2025-06-04 01:48:44,202] Trial 18 finished with value: 0.24624051399972458 and parameters: {'n_estimators': 982, 'max_depth': 3, 'learning_rate': 0.01762010985756747, 'subsample': 0.8132394567758081, 'colsample_bytree': 0.9995173681601148, 'gamma': 3.7962911179892145, 'reg_alpha': 0.3630481323211825, 'reg_lambda': 9.958819709849937}. Best is trial 15 with value: 0.27952497931991804.\n",
      "[I 2025-06-04 01:48:48,696] Trial 19 finished with value: 0.26360118486394757 and parameters: {'n_estimators': 892, 'max_depth': 5, 'learning_rate': 0.008587460098486946, 'subsample': 0.8326807778953693, 'colsample_bytree': 0.9436923433524163, 'gamma': 1.7455198366464997, 'reg_alpha': 1.932293100196989, 'reg_lambda': 9.437799125359227}. Best is trial 15 with value: 0.27952497931991804.\n",
      "[I 2025-06-04 01:48:51,638] Trial 20 finished with value: 0.2666374409363397 and parameters: {'n_estimators': 988, 'max_depth': 3, 'learning_rate': 0.0024960088781226315, 'subsample': 0.6006818104614414, 'colsample_bytree': 0.8803609155918469, 'gamma': 2.6772933439968964, 'reg_alpha': 2.0888580627710223, 'reg_lambda': 8.122160264329292}. Best is trial 15 with value: 0.27952497931991804.\n",
      "[I 2025-06-04 01:48:56,048] Trial 21 finished with value: 0.27034901760227326 and parameters: {'n_estimators': 795, 'max_depth': 6, 'learning_rate': 0.005563858219366935, 'subsample': 0.7183473259707471, 'colsample_bytree': 0.8402466541710495, 'gamma': 2.6233863613697372, 'reg_alpha': 6.952006521945021, 'reg_lambda': 6.657170259524923}. Best is trial 15 with value: 0.27952497931991804.\n",
      "[I 2025-06-04 01:49:00,945] Trial 22 finished with value: 0.26170830676269785 and parameters: {'n_estimators': 815, 'max_depth': 6, 'learning_rate': 0.0066376152572875605, 'subsample': 0.7773640021565434, 'colsample_bytree': 0.9235528810399964, 'gamma': 2.892772739694231, 'reg_alpha': 7.362930879886083, 'reg_lambda': 6.141885657826246}. Best is trial 15 with value: 0.27952497931991804.\n",
      "[I 2025-06-04 01:49:04,170] Trial 23 finished with value: 0.25185010916597167 and parameters: {'n_estimators': 688, 'max_depth': 5, 'learning_rate': 0.013585580584981232, 'subsample': 0.714394618595209, 'colsample_bytree': 0.8531467756667764, 'gamma': 2.2962784665556977, 'reg_alpha': 8.916151918517702, 'reg_lambda': 5.420414199764686}. Best is trial 15 with value: 0.27952497931991804.\n",
      "[I 2025-06-04 01:49:11,201] Trial 24 finished with value: 0.281569629025595 and parameters: {'n_estimators': 921, 'max_depth': 7, 'learning_rate': 0.0019584372851699024, 'subsample': 0.8449638608200779, 'colsample_bytree': 0.9851899024509025, 'gamma': 3.6711056114312335, 'reg_alpha': 6.405301333656302, 'reg_lambda': 7.783119079108446}. Best is trial 24 with value: 0.281569629025595.\n",
      "[I 2025-06-04 01:49:16,998] Trial 25 finished with value: 0.27173372038580235 and parameters: {'n_estimators': 845, 'max_depth': 7, 'learning_rate': 0.0020181405553896456, 'subsample': 0.5989348742800626, 'colsample_bytree': 0.9074136202529428, 'gamma': 3.8370285162415936, 'reg_alpha': 6.4057216892336, 'reg_lambda': 8.098203389057574}. Best is trial 24 with value: 0.281569629025595.\n",
      "[I 2025-06-04 01:49:23,040] Trial 26 finished with value: 0.26613278265271856 and parameters: {'n_estimators': 884, 'max_depth': 7, 'learning_rate': 0.001758949346020811, 'subsample': 0.515810827673846, 'colsample_bytree': 0.9522946263297495, 'gamma': 4.070372561148509, 'reg_alpha': 6.058355243633594, 'reg_lambda': 7.702748785324124}. Best is trial 24 with value: 0.281569629025595.\n",
      "[I 2025-06-04 01:49:28,502] Trial 27 finished with value: 0.25621884546099316 and parameters: {'n_estimators': 712, 'max_depth': 8, 'learning_rate': 0.001912716028167799, 'subsample': 0.5677190661680723, 'colsample_bytree': 0.9145942595193255, 'gamma': 3.61703133127324, 'reg_alpha': 5.807094181034812, 'reg_lambda': 8.800977093163691}. Best is trial 24 with value: 0.281569629025595.\n",
      "[I 2025-06-04 01:49:32,854] Trial 28 finished with value: 0.2760219031674864 and parameters: {'n_estimators': 607, 'max_depth': 7, 'learning_rate': 0.0032518713763023586, 'subsample': 0.5997993553924983, 'colsample_bytree': 0.8941693040103588, 'gamma': 4.528864193295066, 'reg_alpha': 8.30105373558515, 'reg_lambda': 8.59114147016721}. Best is trial 24 with value: 0.281569629025595.\n",
      "[I 2025-06-04 01:49:36,021] Trial 29 finished with value: 0.27387656679799643 and parameters: {'n_estimators': 541, 'max_depth': 5, 'learning_rate': 0.003090366346298271, 'subsample': 0.932275184634352, 'colsample_bytree': 0.9747923537513805, 'gamma': 4.549948276265359, 'reg_alpha': 8.220348119044596, 'reg_lambda': 8.450424189543117}. Best is trial 24 with value: 0.281569629025595.\n",
      "[I 2025-06-04 01:49:40,784] Trial 30 finished with value: 0.27854647538937216 and parameters: {'n_estimators': 486, 'max_depth': 9, 'learning_rate': 0.003998164646650869, 'subsample': 0.6311119202506679, 'colsample_bytree': 0.9503215197404805, 'gamma': 4.361854075354108, 'reg_alpha': 9.588241124622115, 'reg_lambda': 8.798297160760026}. Best is trial 24 with value: 0.281569629025595.\n",
      "[I 2025-06-04 01:49:45,797] Trial 31 finished with value: 0.27867905372894797 and parameters: {'n_estimators': 499, 'max_depth': 9, 'learning_rate': 0.003952876977201004, 'subsample': 0.6356158005872792, 'colsample_bytree': 0.9397582029038873, 'gamma': 4.476126855644502, 'reg_alpha': 9.89581905662157, 'reg_lambda': 8.904043635629879}. Best is trial 24 with value: 0.281569629025595.\n",
      "[I 2025-06-04 01:49:49,155] Trial 32 finished with value: 0.2702421815620636 and parameters: {'n_estimators': 358, 'max_depth': 9, 'learning_rate': 0.004487678137408198, 'subsample': 0.6376583887536625, 'colsample_bytree': 0.94256617494119, 'gamma': 4.292909747903951, 'reg_alpha': 9.88531173115904, 'reg_lambda': 8.822067187876748}. Best is trial 24 with value: 0.281569629025595.\n",
      "[I 2025-06-04 01:49:53,709] Trial 33 finished with value: 0.15866174468688077 and parameters: {'n_estimators': 471, 'max_depth': 9, 'learning_rate': 0.0010271830164820894, 'subsample': 0.685975171656314, 'colsample_bytree': 0.9596492696613241, 'gamma': 4.9740380965007835, 'reg_alpha': 9.23639611419282, 'reg_lambda': 7.322716748009829}. Best is trial 24 with value: 0.281569629025595.\n",
      "[I 2025-06-04 01:49:57,946] Trial 34 finished with value: 0.27188129984685755 and parameters: {'n_estimators': 423, 'max_depth': 9, 'learning_rate': 0.010596988908822628, 'subsample': 0.7787600610872777, 'colsample_bytree': 0.9305218061773702, 'gamma': 4.259069118975693, 'reg_alpha': 9.860938514488351, 'reg_lambda': 9.126541185320333}. Best is trial 24 with value: 0.281569629025595.\n",
      "[I 2025-06-04 01:50:02,188] Trial 35 finished with value: 0.18580235248690213 and parameters: {'n_estimators': 431, 'max_depth': 11, 'learning_rate': 0.0014695850395765508, 'subsample': 0.5474431296585538, 'colsample_bytree': 0.9991918967607858, 'gamma': 3.33920471931536, 'reg_alpha': 8.865552838277555, 'reg_lambda': 5.993631009289448}. Best is trial 24 with value: 0.281569629025595.\n",
      "[I 2025-06-04 01:50:04,227] Trial 36 finished with value: 0.19354587312851462 and parameters: {'n_estimators': 266, 'max_depth': 8, 'learning_rate': 0.0025788101607166092, 'subsample': 0.6320973908362075, 'colsample_bytree': 0.8761670171833622, 'gamma': 3.102472536242579, 'reg_alpha': 5.4576831032899165, 'reg_lambda': 4.187029040833697}. Best is trial 24 with value: 0.281569629025595.\n",
      "[I 2025-06-04 01:50:10,487] Trial 37 finished with value: 0.25211100918469603 and parameters: {'n_estimators': 517, 'max_depth': 11, 'learning_rate': 0.023545646630672552, 'subsample': 0.7432741469653786, 'colsample_bytree': 0.9736313348629148, 'gamma': 4.668255843578962, 'reg_alpha': 4.0332551847434015, 'reg_lambda': 7.6925429964384655}. Best is trial 24 with value: 0.281569629025595.\n",
      "[I 2025-06-04 01:50:15,166] Trial 38 finished with value: 0.28135616767555377 and parameters: {'n_estimators': 623, 'max_depth': 8, 'learning_rate': 0.003925867369618708, 'subsample': 0.8603767798655431, 'colsample_bytree': 0.8211996048526236, 'gamma': 0.01333980638640675, 'reg_alpha': 6.953527302215038, 'reg_lambda': 9.385723319796607}. Best is trial 24 with value: 0.281569629025595.\n",
      "[I 2025-06-04 01:50:19,267] Trial 39 finished with value: 0.20607453007488186 and parameters: {'n_estimators': 642, 'max_depth': 8, 'learning_rate': 0.158934396070067, 'subsample': 0.975419047477103, 'colsample_bytree': 0.766922875108076, 'gamma': 0.7901729653647798, 'reg_alpha': 6.947737856090656, 'reg_lambda': 9.99344386466263}. Best is trial 24 with value: 0.281569629025595.\n",
      "[I 2025-06-04 01:50:23,187] Trial 40 finished with value: 0.2363692830374 and parameters: {'n_estimators': 596, 'max_depth': 7, 'learning_rate': 0.00911685802055535, 'subsample': 0.8589062031660673, 'colsample_bytree': 0.8198998412709311, 'gamma': 1.1801776222710183, 'reg_alpha': 7.639137969132389, 'reg_lambda': 3.0475815248481752}. Best is trial 24 with value: 0.281569629025595.\n",
      "[I 2025-06-04 01:50:27,575] Trial 41 finished with value: 0.27904083032432647 and parameters: {'n_estimators': 477, 'max_depth': 9, 'learning_rate': 0.004069499222564987, 'subsample': 0.9267870311674304, 'colsample_bytree': 0.9016551541758782, 'gamma': 4.168395210283687, 'reg_alpha': 6.472305733210127, 'reg_lambda': 9.204766239815935}. Best is trial 24 with value: 0.281569629025595.\n",
      "[I 2025-06-04 01:50:31,890] Trial 42 finished with value: 0.2705973071307679 and parameters: {'n_estimators': 561, 'max_depth': 8, 'learning_rate': 0.0028461515964617683, 'subsample': 0.8780905126935303, 'colsample_bytree': 0.8465030586238915, 'gamma': 3.612778047710999, 'reg_alpha': 6.277523112234428, 'reg_lambda': 9.337383090988078}. Best is trial 24 with value: 0.281569629025595.\n",
      "[I 2025-06-04 01:50:35,592] Trial 43 finished with value: 0.18051622044703186 and parameters: {'n_estimators': 394, 'max_depth': 9, 'learning_rate': 0.0014258443076448045, 'subsample': 0.9380890760360113, 'colsample_bytree': 0.9054286821549373, 'gamma': 3.9226486317211213, 'reg_alpha': 6.5256762541018825, 'reg_lambda': 9.381361371164939}. Best is trial 24 with value: 0.281569629025595.\n",
      "[I 2025-06-04 01:50:36,874] Trial 44 finished with value: 0.23883962130457997 and parameters: {'n_estimators': 288, 'max_depth': 7, 'learning_rate': 0.01322930882719294, 'subsample': 0.9211886078535518, 'colsample_bytree': 0.5007250058963767, 'gamma': 1.5891047014727697, 'reg_alpha': 5.422244080848226, 'reg_lambda': 8.31139293163854}. Best is trial 24 with value: 0.281569629025595.\n",
      "[I 2025-06-04 01:50:41,860] Trial 45 finished with value: 0.23882016914853957 and parameters: {'n_estimators': 651, 'max_depth': 8, 'learning_rate': 0.0073168714063521455, 'subsample': 0.9863784225635785, 'colsample_bytree': 0.8106090594636443, 'gamma': 4.716897574927792, 'reg_alpha': 7.495372050136814, 'reg_lambda': 7.554639603054056}. Best is trial 24 with value: 0.281569629025595.\n",
      "[I 2025-06-04 01:50:47,592] Trial 46 finished with value: 0.270660537354573 and parameters: {'n_estimators': 730, 'max_depth': 8, 'learning_rate': 0.00495389537658182, 'subsample': 0.8447842038942035, 'colsample_bytree': 0.8740775110117665, 'gamma': 4.171916089124381, 'reg_alpha': 5.025441575809166, 'reg_lambda': 6.612828419931577}. Best is trial 24 with value: 0.281569629025595.\n",
      "[I 2025-06-04 01:50:52,541] Trial 47 finished with value: 0.2786181592469138 and parameters: {'n_estimators': 938, 'max_depth': 6, 'learning_rate': 0.0035467685066138985, 'subsample': 0.9108798579000728, 'colsample_bytree': 0.7644377752508953, 'gamma': 3.5425788446259228, 'reg_alpha': 5.731310723754196, 'reg_lambda': 8.853574400231734}. Best is trial 24 with value: 0.281569629025595.\n",
      "[I 2025-06-04 01:50:57,279] Trial 48 finished with value: 0.2155110407051996 and parameters: {'n_estimators': 670, 'max_depth': 10, 'learning_rate': 0.0016218463210938647, 'subsample': 0.9606241533355824, 'colsample_bytree': 0.6234873022059475, 'gamma': 0.18429747029321852, 'reg_alpha': 4.433153419156752, 'reg_lambda': 9.58490532657785}. Best is trial 24 with value: 0.281569629025595.\n",
      "[I 2025-06-04 01:51:00,932] Trial 49 finished with value: 0.2524465683741255 and parameters: {'n_estimators': 569, 'max_depth': 7, 'learning_rate': 0.002188219148518632, 'subsample': 0.80183762194931, 'colsample_bytree': 0.8269737522920798, 'gamma': 3.159156430772392, 'reg_alpha': 7.127862836655921, 'reg_lambda': 5.616787381338312}. Best is trial 24 with value: 0.281569629025595.\n",
      "[I 2025-06-04 01:51:07,521] Trial 50 finished with value: 0.21187571605594116 and parameters: {'n_estimators': 620, 'max_depth': 12, 'learning_rate': 0.0011774302724975442, 'subsample': 0.880831203073714, 'colsample_bytree': 0.8973361272983525, 'gamma': 3.756581130844314, 'reg_alpha': 3.3510580271714554, 'reg_lambda': 6.993956456589345}. Best is trial 24 with value: 0.281569629025595.\n",
      "[I 2025-06-04 01:51:12,249] Trial 51 finished with value: 0.2799669795677081 and parameters: {'n_estimators': 927, 'max_depth': 6, 'learning_rate': 0.003358491648155874, 'subsample': 0.9085622074866506, 'colsample_bytree': 0.7662363566452558, 'gamma': 3.6170099141222396, 'reg_alpha': 5.684531181416745, 'reg_lambda': 9.06184135492443}. Best is trial 24 with value: 0.281569629025595.\n",
      "[I 2025-06-04 01:51:16,659] Trial 52 finished with value: 0.2703103441670256 and parameters: {'n_estimators': 945, 'max_depth': 6, 'learning_rate': 0.0041538300589898935, 'subsample': 0.8937732772062739, 'colsample_bytree': 0.6825941408678344, 'gamma': 2.9170290753204893, 'reg_alpha': 6.534826859607984, 'reg_lambda': 9.093154210687398}. Best is trial 24 with value: 0.281569629025595.\n",
      "[I 2025-06-04 01:51:19,971] Trial 53 finished with value: 0.2725509366976792 and parameters: {'n_estimators': 763, 'max_depth': 5, 'learning_rate': 0.002770623574488244, 'subsample': 0.9476798195979479, 'colsample_bytree': 0.7875369103381291, 'gamma': 3.2680461275238284, 'reg_alpha': 5.069459308865201, 'reg_lambda': 7.876966741573366}. Best is trial 24 with value: 0.281569629025595.\n",
      "[I 2025-06-04 01:51:22,873] Trial 54 finished with value: 0.26869783620481397 and parameters: {'n_estimators': 905, 'max_depth': 4, 'learning_rate': 0.006609841565559839, 'subsample': 0.8606146278477615, 'colsample_bytree': 0.7227817146364678, 'gamma': 0.012140799557676447, 'reg_alpha': 4.313823515964492, 'reg_lambda': 8.419452634264053}. Best is trial 24 with value: 0.281569629025595.\n",
      "[I 2025-06-04 01:51:27,110] Trial 55 finished with value: 0.2729551594362312 and parameters: {'n_estimators': 501, 'max_depth': 10, 'learning_rate': 0.004748421424487068, 'subsample': 0.7695917542175289, 'colsample_bytree': 0.7536037680160506, 'gamma': 4.785739368257365, 'reg_alpha': 5.706177372825339, 'reg_lambda': 9.78196561207373}. Best is trial 24 with value: 0.281569629025595.\n",
      "[I 2025-06-04 01:51:31,926] Trial 56 finished with value: 0.28204555916074303 and parameters: {'n_estimators': 854, 'max_depth': 6, 'learning_rate': 0.0023188203542189425, 'subsample': 0.8227011670245583, 'colsample_bytree': 0.8709961349141999, 'gamma': 4.089173783484256, 'reg_alpha': 6.733608072520585, 'reg_lambda': 9.194620464864967}. Best is trial 56 with value: 0.28204555916074303.\n",
      "[I 2025-06-04 01:51:36,747] Trial 57 finished with value: 0.2809010682384085 and parameters: {'n_estimators': 852, 'max_depth': 6, 'learning_rate': 0.0023118935641255555, 'subsample': 0.8255931027508616, 'colsample_bytree': 0.8631657093890237, 'gamma': 4.0336497161103155, 'reg_alpha': 7.956752741396995, 'reg_lambda': 9.563735677000528}. Best is trial 56 with value: 0.28204555916074303.\n",
      "[I 2025-06-04 01:51:41,701] Trial 58 finished with value: 0.2786116059745194 and parameters: {'n_estimators': 857, 'max_depth': 6, 'learning_rate': 0.002109308880525486, 'subsample': 0.8109620499186212, 'colsample_bytree': 0.8637490926195486, 'gamma': 3.7249100994694224, 'reg_alpha': 7.926719770687232, 'reg_lambda': 9.65388244913853}. Best is trial 56 with value: 0.28204555916074303.\n",
      "[I 2025-06-04 01:51:45,181] Trial 59 finished with value: 0.2288182550670384 and parameters: {'n_estimators': 790, 'max_depth': 5, 'learning_rate': 0.0012805416608833292, 'subsample': 0.8415735977384198, 'colsample_bytree': 0.8033821952063323, 'gamma': 3.4709807742168066, 'reg_alpha': 7.171925137470447, 'reg_lambda': 8.201386700597226}. Best is trial 56 with value: 0.28204555916074303.\n",
      "[I 2025-06-04 01:51:48,161] Trial 60 finished with value: 0.27024066565237964 and parameters: {'n_estimators': 830, 'max_depth': 4, 'learning_rate': 0.002397785382768578, 'subsample': 0.7902522654277168, 'colsample_bytree': 0.8379866108846346, 'gamma': 2.3676871629739384, 'reg_alpha': 6.759868554322465, 'reg_lambda': 9.494850174868828}. Best is trial 56 with value: 0.28204555916074303.\n",
      "[I 2025-06-04 01:51:52,837] Trial 61 finished with value: 0.2623696656481403 and parameters: {'n_estimators': 915, 'max_depth': 6, 'learning_rate': 0.001774543397029904, 'subsample': 0.7354983736932962, 'colsample_bytree': 0.7798970128266653, 'gamma': 4.0662710227897385, 'reg_alpha': 6.214992892197684, 'reg_lambda': 9.196658758832033}. Best is trial 56 with value: 0.28204555916074303.\n",
      "[I 2025-06-04 01:51:59,298] Trial 62 finished with value: 0.28505205288872854 and parameters: {'n_estimators': 951, 'max_depth': 7, 'learning_rate': 0.0032202404614925335, 'subsample': 0.8243480192928454, 'colsample_bytree': 0.8662343869964078, 'gamma': 3.970665961319744, 'reg_alpha': 7.934834934979859, 'reg_lambda': 9.963403828166713}. Best is trial 62 with value: 0.28505205288872854.\n",
      "[I 2025-06-04 01:52:05,772] Trial 63 finished with value: 0.2824789803952247 and parameters: {'n_estimators': 964, 'max_depth': 7, 'learning_rate': 0.0033485164507919903, 'subsample': 0.8249824232799065, 'colsample_bytree': 0.8563623800988894, 'gamma': 3.9291691565528386, 'reg_alpha': 8.086631672161687, 'reg_lambda': 9.978187123282357}. Best is trial 62 with value: 0.28505205288872854.\n",
      "[I 2025-06-04 01:52:12,200] Trial 64 finished with value: 0.2830712350166753 and parameters: {'n_estimators': 997, 'max_depth': 7, 'learning_rate': 0.003163020846829597, 'subsample': 0.824405233160849, 'colsample_bytree': 0.8327111601515556, 'gamma': 3.9300564848381763, 'reg_alpha': 8.127491086220838, 'reg_lambda': 9.517665661206024}. Best is trial 62 with value: 0.28505205288872854.\n",
      "[I 2025-06-04 01:52:18,809] Trial 65 finished with value: 0.22386591142350748 and parameters: {'n_estimators': 1000, 'max_depth': 7, 'learning_rate': 0.08603810104425795, 'subsample': 0.8248143525135637, 'colsample_bytree': 0.8371700351364079, 'gamma': 3.902970373523546, 'reg_alpha': 8.034589791066761, 'reg_lambda': 9.910528316373082}. Best is trial 62 with value: 0.28505205288872854.\n",
      "[I 2025-06-04 01:52:25,343] Trial 66 finished with value: 0.28445211173002877 and parameters: {'n_estimators': 959, 'max_depth': 7, 'learning_rate': 0.0024792579038749305, 'subsample': 0.8197479450422379, 'colsample_bytree': 0.8629096460921175, 'gamma': 3.985858760767646, 'reg_alpha': 8.31683945565806, 'reg_lambda': 9.980685286765636}. Best is trial 62 with value: 0.28505205288872854.\n",
      "[I 2025-06-04 01:52:31,530] Trial 67 finished with value: 0.2670519552061566 and parameters: {'n_estimators': 962, 'max_depth': 7, 'learning_rate': 0.005537158492788873, 'subsample': 0.8518438965014196, 'colsample_bytree': 0.8034846867157336, 'gamma': 0.688327060205665, 'reg_alpha': 8.57838703687606, 'reg_lambda': 9.915078078233826}. Best is trial 62 with value: 0.28505205288872854.\n",
      "[I 2025-06-04 01:52:37,585] Trial 68 finished with value: 0.2818364030336705 and parameters: {'n_estimators': 880, 'max_depth': 7, 'learning_rate': 0.0031809453060364246, 'subsample': 0.8719932216123869, 'colsample_bytree': 0.8860422671612844, 'gamma': 4.4334556203133495, 'reg_alpha': 8.486813261677941, 'reg_lambda': 8.60478022080974}. Best is trial 62 with value: 0.28505205288872854.\n",
      "[I 2025-06-04 01:52:43,878] Trial 69 finished with value: 0.2836768745099305 and parameters: {'n_estimators': 885, 'max_depth': 7, 'learning_rate': 0.0030120763779844938, 'subsample': 0.7594987716561099, 'colsample_bytree': 0.9234342048159385, 'gamma': 4.350607043408907, 'reg_alpha': 8.61250791223974, 'reg_lambda': 8.560824959048862}. Best is trial 62 with value: 0.28505205288872854.\n",
      "[I 2025-06-04 01:52:49,893] Trial 70 finished with value: 0.28399199737466396 and parameters: {'n_estimators': 886, 'max_depth': 7, 'learning_rate': 0.0030499399842044217, 'subsample': 0.7932530733406588, 'colsample_bytree': 0.8833998391064058, 'gamma': 4.413867326276, 'reg_alpha': 8.690051005094277, 'reg_lambda': 8.658288627114278}. Best is trial 62 with value: 0.28505205288872854.\n",
      "[I 2025-06-04 01:52:56,054] Trial 71 finished with value: 0.2834280089439568 and parameters: {'n_estimators': 876, 'max_depth': 7, 'learning_rate': 0.0028319131037200717, 'subsample': 0.7631858659401541, 'colsample_bytree': 0.8867962406291625, 'gamma': 4.3288215817974685, 'reg_alpha': 8.60884278997077, 'reg_lambda': 8.574018821555544}. Best is trial 62 with value: 0.28505205288872854.\n",
      "[I 2025-06-04 01:53:02,898] Trial 72 finished with value: 0.28661426843681986 and parameters: {'n_estimators': 970, 'max_depth': 7, 'learning_rate': 0.0026925219389744835, 'subsample': 0.7912795603754817, 'colsample_bytree': 0.9209305484417195, 'gamma': 4.283062266860302, 'reg_alpha': 9.057718274976278, 'reg_lambda': 8.596230556767097}. Best is trial 72 with value: 0.28661426843681986.\n",
      "[I 2025-06-04 01:53:09,843] Trial 73 finished with value: 0.2832033063132132 and parameters: {'n_estimators': 977, 'max_depth': 7, 'learning_rate': 0.0027850503146664434, 'subsample': 0.7633421098844317, 'colsample_bytree': 0.9172723223929338, 'gamma': 4.295490320699346, 'reg_alpha': 9.1574186742335, 'reg_lambda': 8.369463452458675}. Best is trial 72 with value: 0.28661426843681986.\n",
      "[I 2025-06-04 01:53:16,703] Trial 74 finished with value: 0.2848147870496904 and parameters: {'n_estimators': 963, 'max_depth': 7, 'learning_rate': 0.002891341043587134, 'subsample': 0.756813676822586, 'colsample_bytree': 0.923742533043795, 'gamma': 4.818550082172041, 'reg_alpha': 9.023500852709866, 'reg_lambda': 8.57199600465001}. Best is trial 72 with value: 0.28661426843681986.\n",
      "[I 2025-06-04 01:53:24,602] Trial 75 finished with value: 0.2815281345938493 and parameters: {'n_estimators': 959, 'max_depth': 8, 'learning_rate': 0.002696394321505062, 'subsample': 0.7626471753102592, 'colsample_bytree': 0.9281320121480483, 'gamma': 4.890713780525594, 'reg_alpha': 9.060565743313248, 'reg_lambda': 8.444119031194939}. Best is trial 72 with value: 0.28661426843681986.\n",
      "[I 2025-06-04 01:53:30,924] Trial 76 finished with value: 0.26900378243544 and parameters: {'n_estimators': 892, 'max_depth': 7, 'learning_rate': 0.0015499700514557567, 'subsample': 0.7898355554441797, 'colsample_bytree': 0.9144953770376006, 'gamma': 4.59821110788573, 'reg_alpha': 9.315429917001186, 'reg_lambda': 8.002241404228588}. Best is trial 72 with value: 0.28661426843681986.\n",
      "[I 2025-06-04 01:53:38,123] Trial 77 finished with value: 0.2823876424074128 and parameters: {'n_estimators': 973, 'max_depth': 7, 'learning_rate': 0.0018758102339432735, 'subsample': 0.7514224203360703, 'colsample_bytree': 0.9617177697574734, 'gamma': 4.245789778312213, 'reg_alpha': 8.70426676632463, 'reg_lambda': 7.352270108707673}. Best is trial 72 with value: 0.28661426843681986.\n",
      "[I 2025-06-04 01:53:45,517] Trial 78 finished with value: 0.2702150000553669 and parameters: {'n_estimators': 881, 'max_depth': 8, 'learning_rate': 0.0052575547568663155, 'subsample': 0.7833589811157393, 'colsample_bytree': 0.9314808799058533, 'gamma': 4.383056528218317, 'reg_alpha': 9.387257718602715, 'reg_lambda': 8.677284950037112}. Best is trial 72 with value: 0.28661426843681986.\n",
      "[I 2025-06-04 01:53:51,950] Trial 79 finished with value: 0.28351041715373515 and parameters: {'n_estimators': 943, 'max_depth': 7, 'learning_rate': 0.00286479630176561, 'subsample': 0.698038886342652, 'colsample_bytree': 0.8882522343147329, 'gamma': 4.861948369953912, 'reg_alpha': 9.026562292294798, 'reg_lambda': 8.213008059397785}. Best is trial 72 with value: 0.28661426843681986.\n",
      "[I 2025-06-04 01:53:58,248] Trial 80 finished with value: 0.2099007895984951 and parameters: {'n_estimators': 800, 'max_depth': 8, 'learning_rate': 0.03539099169573659, 'subsample': 0.7003160737673962, 'colsample_bytree': 0.8949465551629036, 'gamma': 4.816413911045545, 'reg_alpha': 8.824889111485325, 'reg_lambda': 4.912900546330623}. Best is trial 72 with value: 0.28661426843681986.\n",
      "[I 2025-06-04 01:54:04,960] Trial 81 finished with value: 0.236577078344755 and parameters: {'n_estimators': 940, 'max_depth': 7, 'learning_rate': 0.0026916340402964294, 'subsample': 0.8049667873957698, 'colsample_bytree': 0.9184873113811358, 'gamma': 4.542144945825951, 'reg_alpha': 9.567439442476822, 'reg_lambda': 0.10053952348239115}. Best is trial 72 with value: 0.28661426843681986.\n",
      "[I 2025-06-04 01:54:11,182] Trial 82 finished with value: 0.28440521329343693 and parameters: {'n_estimators': 909, 'max_depth': 7, 'learning_rate': 0.0029590612927462468, 'subsample': 0.7276758889382943, 'colsample_bytree': 0.8879697423840257, 'gamma': 4.676273105105064, 'reg_alpha': 9.100324249581172, 'reg_lambda': 8.229166145678454}. Best is trial 72 with value: 0.28661426843681986.\n",
      "[I 2025-06-04 01:54:17,382] Trial 83 finished with value: 0.2788619114044198 and parameters: {'n_estimators': 904, 'max_depth': 7, 'learning_rate': 0.003735061273487822, 'subsample': 0.6767551543991532, 'colsample_bytree': 0.885968409316448, 'gamma': 4.671354733934307, 'reg_alpha': 8.495518733266806, 'reg_lambda': 8.056463569035143}. Best is trial 72 with value: 0.28661426843681986.\n",
      "[I 2025-06-04 01:54:24,070] Trial 84 finished with value: 0.26585879889869907 and parameters: {'n_estimators': 920, 'max_depth': 7, 'learning_rate': 0.006389697625106318, 'subsample': 0.7368145636859645, 'colsample_bytree': 0.9375316053577497, 'gamma': 4.983916750246334, 'reg_alpha': 8.979758341993856, 'reg_lambda': 7.559919790961276}. Best is trial 72 with value: 0.28661426843681986.\n",
      "[I 2025-06-04 01:54:28,922] Trial 85 finished with value: 0.2672424875565097 and parameters: {'n_estimators': 832, 'max_depth': 6, 'learning_rate': 0.0017635582010591564, 'subsample': 0.7239806599108589, 'colsample_bytree': 0.8857625797403367, 'gamma': 4.811195538669279, 'reg_alpha': 8.353399846240437, 'reg_lambda': 6.997966852657997}. Best is trial 72 with value: 0.28661426843681986.\n",
      "[I 2025-06-04 01:54:35,874] Trial 86 finished with value: 0.2721823426614206 and parameters: {'n_estimators': 872, 'max_depth': 8, 'learning_rate': 0.002094305471829049, 'subsample': 0.6568268955613518, 'colsample_bytree': 0.9049619099886483, 'gamma': 4.389330971306369, 'reg_alpha': 9.653660439737845, 'reg_lambda': 2.3347599551906226}. Best is trial 72 with value: 0.28661426843681986.\n",
      "[I 2025-06-04 01:54:42,139] Trial 87 finished with value: 0.27959183896816114 and parameters: {'n_estimators': 948, 'max_depth': 7, 'learning_rate': 0.00453423657144645, 'subsample': 0.6916092739400416, 'colsample_bytree': 0.8505933434650451, 'gamma': 4.462732066593108, 'reg_alpha': 7.708044421378512, 'reg_lambda': 8.98450074062059}. Best is trial 72 with value: 0.28661426843681986.\n",
      "[I 2025-06-04 01:54:47,978] Trial 88 finished with value: 0.2841054937605979 and parameters: {'n_estimators': 925, 'max_depth': 6, 'learning_rate': 0.002964106825707565, 'subsample': 0.7719272066924711, 'colsample_bytree': 0.950195912949785, 'gamma': 4.621413193807341, 'reg_alpha': 8.764544989125444, 'reg_lambda': 7.7847765566598115}. Best is trial 72 with value: 0.28661426843681986.\n",
      "[I 2025-06-04 01:54:53,665] Trial 89 finished with value: 0.26652183216234626 and parameters: {'n_estimators': 902, 'max_depth': 6, 'learning_rate': 0.007932603832691383, 'subsample': 0.709791519736389, 'colsample_bytree': 0.9514169708144491, 'gamma': 4.6831222538639565, 'reg_alpha': 9.414278120932932, 'reg_lambda': 8.27151434939268}. Best is trial 72 with value: 0.28661426843681986.\n",
      "[I 2025-06-04 01:54:59,522] Trial 90 finished with value: 0.23533360941210138 and parameters: {'n_estimators': 939, 'max_depth': 6, 'learning_rate': 0.0010004188175979107, 'subsample': 0.7246503338962204, 'colsample_bytree': 0.9584214316004995, 'gamma': 4.887371369273483, 'reg_alpha': 8.77668391344367, 'reg_lambda': 7.748802554372651}. Best is trial 72 with value: 0.28661426843681986.\n",
      "[I 2025-06-04 01:55:06,874] Trial 91 finished with value: 0.2790698514509112 and parameters: {'n_estimators': 979, 'max_depth': 7, 'learning_rate': 0.003619755468432957, 'subsample': 0.7550500942314298, 'colsample_bytree': 0.9715201647133571, 'gamma': 4.577458272713709, 'reg_alpha': 8.647988963568706, 'reg_lambda': 8.638123324886013}. Best is trial 72 with value: 0.28661426843681986.\n",
      "[I 2025-06-04 01:55:14,004] Trial 92 finished with value: 0.28190227894420056 and parameters: {'n_estimators': 918, 'max_depth': 8, 'learning_rate': 0.003080400655441086, 'subsample': 0.794436735693962, 'colsample_bytree': 0.8742901229026826, 'gamma': 4.208068447497228, 'reg_alpha': 9.139253142849041, 'reg_lambda': 8.876891119864654}. Best is trial 72 with value: 0.28661426843681986.\n",
      "[I 2025-06-04 01:55:20,078] Trial 93 finished with value: 0.25365117402219395 and parameters: {'n_estimators': 876, 'max_depth': 7, 'learning_rate': 0.00251199448478107, 'subsample': 0.7735274747886477, 'colsample_bytree': 0.9102765024088991, 'gamma': 4.768801148476926, 'reg_alpha': 8.306289292745674, 'reg_lambda': 0.5626209292882169}. Best is trial 72 with value: 0.28661426843681986.\n",
      "[I 2025-06-04 01:55:26,440] Trial 94 finished with value: 0.2772013867120388 and parameters: {'n_estimators': 833, 'max_depth': 7, 'learning_rate': 0.004333854380553245, 'subsample': 0.7805956320058353, 'colsample_bytree': 0.9876032988020788, 'gamma': 4.366379951335196, 'reg_alpha': 9.60962114506081, 'reg_lambda': 7.946390071448127}. Best is trial 72 with value: 0.28661426843681986.\n",
      "[I 2025-06-04 01:55:32,216] Trial 95 finished with value: 0.28492722091057204 and parameters: {'n_estimators': 955, 'max_depth': 6, 'learning_rate': 0.002446109234938202, 'subsample': 0.7456585355454152, 'colsample_bytree': 0.9255182459617427, 'gamma': 4.609706089603959, 'reg_alpha': 9.977553150751998, 'reg_lambda': 8.534908850507026}. Best is trial 72 with value: 0.28661426843681986.\n",
      "[I 2025-06-04 01:55:37,293] Trial 96 finished with value: 0.2794239536633317 and parameters: {'n_estimators': 958, 'max_depth': 5, 'learning_rate': 0.0019723639350487307, 'subsample': 0.8134471325960132, 'colsample_bytree': 0.9433888272760448, 'gamma': 4.991801558386873, 'reg_alpha': 9.775654456523853, 'reg_lambda': 7.157665075564318}. Best is trial 72 with value: 0.28661426843681986.\n",
      "[I 2025-06-04 01:55:43,237] Trial 97 finished with value: 0.27471209280233344 and parameters: {'n_estimators': 999, 'max_depth': 6, 'learning_rate': 0.001557958024888315, 'subsample': 0.7384195737465118, 'colsample_bytree': 0.9201581924491562, 'gamma': 4.621440982618138, 'reg_alpha': 9.998327638112858, 'reg_lambda': 6.486382771460034}. Best is trial 72 with value: 0.28661426843681986.\n",
      "[I 2025-06-04 01:55:48,864] Trial 98 finished with value: 0.26194165882459475 and parameters: {'n_estimators': 928, 'max_depth': 6, 'learning_rate': 0.001387580836468286, 'subsample': 0.747120412286378, 'colsample_bytree': 0.9325748736121376, 'gamma': 4.51490681559596, 'reg_alpha': 9.009668786185056, 'reg_lambda': 7.515784079941067}. Best is trial 72 with value: 0.28661426843681986.\n",
      "[I 2025-06-04 01:55:54,208] Trial 99 finished with value: 0.27919113770118253 and parameters: {'n_estimators': 897, 'max_depth': 6, 'learning_rate': 0.0023535923788820835, 'subsample': 0.7281121104863933, 'colsample_bytree': 0.8682390019544929, 'gamma': 4.865979566563657, 'reg_alpha': 9.401471391768336, 'reg_lambda': 8.16002744678146}. Best is trial 72 with value: 0.28661426843681986.\n"
     ]
    }
   ],
   "source": [
    "study_xgb = optuna.create_study(\n",
    "    direction='maximize',\n",
    "    sampler=TPESampler(seed=RANDOM_STATE)\n",
    ")\n",
    "study_xgb.optimize(optimize_xgb, n_trials=N_TRIALS_XGB)"
   ]
  },
  {
   "cell_type": "code",
   "execution_count": 123,
   "id": "d4b4101f",
   "metadata": {},
   "outputs": [
    {
     "name": "stdout",
     "output_type": "stream",
     "text": [
      "Лучшие параметры для XGBoost:\n",
      "{'n_estimators': 970, 'max_depth': 7, 'learning_rate': 0.0026925219389744835, 'subsample': 0.7912795603754817, 'colsample_bytree': 0.9209305484417195, 'gamma': 4.283062266860302, 'reg_alpha': 9.057718274976278, 'reg_lambda': 8.596230556767097}\n",
      "Лучший R2: 0.2866\n"
     ]
    },
    {
     "data": {
      "application/vnd.plotly.v1+json": {
       "config": {
        "plotlyServerURL": "https://plot.ly"
       },
       "data": [
        {
         "mode": "markers",
         "name": "Objective Value",
         "type": "scatter",
         "x": [
          0,
          1,
          2,
          3,
          4,
          5,
          6,
          7,
          8,
          9,
          10,
          11,
          12,
          13,
          14,
          15,
          16,
          17,
          18,
          19,
          20,
          21,
          22,
          23,
          24,
          25,
          26,
          27,
          28,
          29,
          30,
          31,
          32,
          33,
          34,
          35,
          36,
          37,
          38,
          39,
          40,
          41,
          42,
          43,
          44,
          45,
          46,
          47,
          48,
          49,
          50,
          51,
          52,
          53,
          54,
          55,
          56,
          57,
          58,
          59,
          60,
          61,
          62,
          63,
          64,
          65,
          66,
          67,
          68,
          69,
          70,
          71,
          72,
          73,
          74,
          75,
          76,
          77,
          78,
          79,
          80,
          81,
          82,
          83,
          84,
          85,
          86,
          87,
          88,
          89,
          90,
          91,
          92,
          93,
          94,
          95,
          96,
          97,
          98,
          99
         ],
         "y": [
          0.16688579169485548,
          0.20135319819385328,
          0.2493219519363999,
          0.2545821162159258,
          0.1365967330002284,
          0.07305083855465075,
          0.21976730370707828,
          0.0647092332936072,
          0.17186055465979053,
          0.20148624853491315,
          0.22969244335721126,
          0.2525881816650973,
          0.2682869762982426,
          0.26568981251514756,
          0.21845034769579125,
          0.27952497931991804,
          0.24013058094897036,
          0.2683949574986185,
          0.24624051399972458,
          0.26360118486394757,
          0.2666374409363397,
          0.27034901760227326,
          0.26170830676269785,
          0.25185010916597167,
          0.281569629025595,
          0.27173372038580235,
          0.26613278265271856,
          0.25621884546099316,
          0.2760219031674864,
          0.27387656679799643,
          0.27854647538937216,
          0.27867905372894797,
          0.2702421815620636,
          0.15866174468688077,
          0.27188129984685755,
          0.18580235248690213,
          0.19354587312851462,
          0.25211100918469603,
          0.28135616767555377,
          0.20607453007488186,
          0.2363692830374,
          0.27904083032432647,
          0.2705973071307679,
          0.18051622044703186,
          0.23883962130457997,
          0.23882016914853957,
          0.270660537354573,
          0.2786181592469138,
          0.2155110407051996,
          0.2524465683741255,
          0.21187571605594116,
          0.2799669795677081,
          0.2703103441670256,
          0.2725509366976792,
          0.26869783620481397,
          0.2729551594362312,
          0.28204555916074303,
          0.2809010682384085,
          0.2786116059745194,
          0.2288182550670384,
          0.27024066565237964,
          0.2623696656481403,
          0.28505205288872854,
          0.2824789803952247,
          0.2830712350166753,
          0.22386591142350748,
          0.28445211173002877,
          0.2670519552061566,
          0.2818364030336705,
          0.2836768745099305,
          0.28399199737466396,
          0.2834280089439568,
          0.28661426843681986,
          0.2832033063132132,
          0.2848147870496904,
          0.2815281345938493,
          0.26900378243544,
          0.2823876424074128,
          0.2702150000553669,
          0.28351041715373515,
          0.2099007895984951,
          0.236577078344755,
          0.28440521329343693,
          0.2788619114044198,
          0.26585879889869907,
          0.2672424875565097,
          0.2721823426614206,
          0.27959183896816114,
          0.2841054937605979,
          0.26652183216234626,
          0.23533360941210138,
          0.2790698514509112,
          0.28190227894420056,
          0.25365117402219395,
          0.2772013867120388,
          0.28492722091057204,
          0.2794239536633317,
          0.27471209280233344,
          0.26194165882459475,
          0.27919113770118253
         ]
        },
        {
         "mode": "lines",
         "name": "Best Value",
         "type": "scatter",
         "x": [
          0,
          1,
          2,
          3,
          4,
          5,
          6,
          7,
          8,
          9,
          10,
          11,
          12,
          13,
          14,
          15,
          16,
          17,
          18,
          19,
          20,
          21,
          22,
          23,
          24,
          25,
          26,
          27,
          28,
          29,
          30,
          31,
          32,
          33,
          34,
          35,
          36,
          37,
          38,
          39,
          40,
          41,
          42,
          43,
          44,
          45,
          46,
          47,
          48,
          49,
          50,
          51,
          52,
          53,
          54,
          55,
          56,
          57,
          58,
          59,
          60,
          61,
          62,
          63,
          64,
          65,
          66,
          67,
          68,
          69,
          70,
          71,
          72,
          73,
          74,
          75,
          76,
          77,
          78,
          79,
          80,
          81,
          82,
          83,
          84,
          85,
          86,
          87,
          88,
          89,
          90,
          91,
          92,
          93,
          94,
          95,
          96,
          97,
          98,
          99
         ],
         "y": [
          0.16688579169485548,
          0.20135319819385328,
          0.2493219519363999,
          0.2545821162159258,
          0.2545821162159258,
          0.2545821162159258,
          0.2545821162159258,
          0.2545821162159258,
          0.2545821162159258,
          0.2545821162159258,
          0.2545821162159258,
          0.2545821162159258,
          0.2682869762982426,
          0.2682869762982426,
          0.2682869762982426,
          0.27952497931991804,
          0.27952497931991804,
          0.27952497931991804,
          0.27952497931991804,
          0.27952497931991804,
          0.27952497931991804,
          0.27952497931991804,
          0.27952497931991804,
          0.27952497931991804,
          0.281569629025595,
          0.281569629025595,
          0.281569629025595,
          0.281569629025595,
          0.281569629025595,
          0.281569629025595,
          0.281569629025595,
          0.281569629025595,
          0.281569629025595,
          0.281569629025595,
          0.281569629025595,
          0.281569629025595,
          0.281569629025595,
          0.281569629025595,
          0.281569629025595,
          0.281569629025595,
          0.281569629025595,
          0.281569629025595,
          0.281569629025595,
          0.281569629025595,
          0.281569629025595,
          0.281569629025595,
          0.281569629025595,
          0.281569629025595,
          0.281569629025595,
          0.281569629025595,
          0.281569629025595,
          0.281569629025595,
          0.281569629025595,
          0.281569629025595,
          0.281569629025595,
          0.281569629025595,
          0.28204555916074303,
          0.28204555916074303,
          0.28204555916074303,
          0.28204555916074303,
          0.28204555916074303,
          0.28204555916074303,
          0.28505205288872854,
          0.28505205288872854,
          0.28505205288872854,
          0.28505205288872854,
          0.28505205288872854,
          0.28505205288872854,
          0.28505205288872854,
          0.28505205288872854,
          0.28505205288872854,
          0.28505205288872854,
          0.28661426843681986,
          0.28661426843681986,
          0.28661426843681986,
          0.28661426843681986,
          0.28661426843681986,
          0.28661426843681986,
          0.28661426843681986,
          0.28661426843681986,
          0.28661426843681986,
          0.28661426843681986,
          0.28661426843681986,
          0.28661426843681986,
          0.28661426843681986,
          0.28661426843681986,
          0.28661426843681986,
          0.28661426843681986,
          0.28661426843681986,
          0.28661426843681986,
          0.28661426843681986,
          0.28661426843681986,
          0.28661426843681986,
          0.28661426843681986,
          0.28661426843681986,
          0.28661426843681986,
          0.28661426843681986,
          0.28661426843681986,
          0.28661426843681986,
          0.28661426843681986
         ]
        },
        {
         "marker": {
          "color": "#cccccc"
         },
         "mode": "markers",
         "name": "Infeasible Trial",
         "showlegend": false,
         "type": "scatter",
         "x": [],
         "y": []
        }
       ],
       "layout": {
        "template": {
         "data": {
          "bar": [
           {
            "error_x": {
             "color": "#2a3f5f"
            },
            "error_y": {
             "color": "#2a3f5f"
            },
            "marker": {
             "line": {
              "color": "#E5ECF6",
              "width": 0.5
             },
             "pattern": {
              "fillmode": "overlay",
              "size": 10,
              "solidity": 0.2
             }
            },
            "type": "bar"
           }
          ],
          "barpolar": [
           {
            "marker": {
             "line": {
              "color": "#E5ECF6",
              "width": 0.5
             },
             "pattern": {
              "fillmode": "overlay",
              "size": 10,
              "solidity": 0.2
             }
            },
            "type": "barpolar"
           }
          ],
          "carpet": [
           {
            "aaxis": {
             "endlinecolor": "#2a3f5f",
             "gridcolor": "white",
             "linecolor": "white",
             "minorgridcolor": "white",
             "startlinecolor": "#2a3f5f"
            },
            "baxis": {
             "endlinecolor": "#2a3f5f",
             "gridcolor": "white",
             "linecolor": "white",
             "minorgridcolor": "white",
             "startlinecolor": "#2a3f5f"
            },
            "type": "carpet"
           }
          ],
          "choropleth": [
           {
            "colorbar": {
             "outlinewidth": 0,
             "ticks": ""
            },
            "type": "choropleth"
           }
          ],
          "contour": [
           {
            "colorbar": {
             "outlinewidth": 0,
             "ticks": ""
            },
            "colorscale": [
             [
              0,
              "#0d0887"
             ],
             [
              0.1111111111111111,
              "#46039f"
             ],
             [
              0.2222222222222222,
              "#7201a8"
             ],
             [
              0.3333333333333333,
              "#9c179e"
             ],
             [
              0.4444444444444444,
              "#bd3786"
             ],
             [
              0.5555555555555556,
              "#d8576b"
             ],
             [
              0.6666666666666666,
              "#ed7953"
             ],
             [
              0.7777777777777778,
              "#fb9f3a"
             ],
             [
              0.8888888888888888,
              "#fdca26"
             ],
             [
              1,
              "#f0f921"
             ]
            ],
            "type": "contour"
           }
          ],
          "contourcarpet": [
           {
            "colorbar": {
             "outlinewidth": 0,
             "ticks": ""
            },
            "type": "contourcarpet"
           }
          ],
          "heatmap": [
           {
            "colorbar": {
             "outlinewidth": 0,
             "ticks": ""
            },
            "colorscale": [
             [
              0,
              "#0d0887"
             ],
             [
              0.1111111111111111,
              "#46039f"
             ],
             [
              0.2222222222222222,
              "#7201a8"
             ],
             [
              0.3333333333333333,
              "#9c179e"
             ],
             [
              0.4444444444444444,
              "#bd3786"
             ],
             [
              0.5555555555555556,
              "#d8576b"
             ],
             [
              0.6666666666666666,
              "#ed7953"
             ],
             [
              0.7777777777777778,
              "#fb9f3a"
             ],
             [
              0.8888888888888888,
              "#fdca26"
             ],
             [
              1,
              "#f0f921"
             ]
            ],
            "type": "heatmap"
           }
          ],
          "histogram": [
           {
            "marker": {
             "pattern": {
              "fillmode": "overlay",
              "size": 10,
              "solidity": 0.2
             }
            },
            "type": "histogram"
           }
          ],
          "histogram2d": [
           {
            "colorbar": {
             "outlinewidth": 0,
             "ticks": ""
            },
            "colorscale": [
             [
              0,
              "#0d0887"
             ],
             [
              0.1111111111111111,
              "#46039f"
             ],
             [
              0.2222222222222222,
              "#7201a8"
             ],
             [
              0.3333333333333333,
              "#9c179e"
             ],
             [
              0.4444444444444444,
              "#bd3786"
             ],
             [
              0.5555555555555556,
              "#d8576b"
             ],
             [
              0.6666666666666666,
              "#ed7953"
             ],
             [
              0.7777777777777778,
              "#fb9f3a"
             ],
             [
              0.8888888888888888,
              "#fdca26"
             ],
             [
              1,
              "#f0f921"
             ]
            ],
            "type": "histogram2d"
           }
          ],
          "histogram2dcontour": [
           {
            "colorbar": {
             "outlinewidth": 0,
             "ticks": ""
            },
            "colorscale": [
             [
              0,
              "#0d0887"
             ],
             [
              0.1111111111111111,
              "#46039f"
             ],
             [
              0.2222222222222222,
              "#7201a8"
             ],
             [
              0.3333333333333333,
              "#9c179e"
             ],
             [
              0.4444444444444444,
              "#bd3786"
             ],
             [
              0.5555555555555556,
              "#d8576b"
             ],
             [
              0.6666666666666666,
              "#ed7953"
             ],
             [
              0.7777777777777778,
              "#fb9f3a"
             ],
             [
              0.8888888888888888,
              "#fdca26"
             ],
             [
              1,
              "#f0f921"
             ]
            ],
            "type": "histogram2dcontour"
           }
          ],
          "mesh3d": [
           {
            "colorbar": {
             "outlinewidth": 0,
             "ticks": ""
            },
            "type": "mesh3d"
           }
          ],
          "parcoords": [
           {
            "line": {
             "colorbar": {
              "outlinewidth": 0,
              "ticks": ""
             }
            },
            "type": "parcoords"
           }
          ],
          "pie": [
           {
            "automargin": true,
            "type": "pie"
           }
          ],
          "scatter": [
           {
            "fillpattern": {
             "fillmode": "overlay",
             "size": 10,
             "solidity": 0.2
            },
            "type": "scatter"
           }
          ],
          "scatter3d": [
           {
            "line": {
             "colorbar": {
              "outlinewidth": 0,
              "ticks": ""
             }
            },
            "marker": {
             "colorbar": {
              "outlinewidth": 0,
              "ticks": ""
             }
            },
            "type": "scatter3d"
           }
          ],
          "scattercarpet": [
           {
            "marker": {
             "colorbar": {
              "outlinewidth": 0,
              "ticks": ""
             }
            },
            "type": "scattercarpet"
           }
          ],
          "scattergeo": [
           {
            "marker": {
             "colorbar": {
              "outlinewidth": 0,
              "ticks": ""
             }
            },
            "type": "scattergeo"
           }
          ],
          "scattergl": [
           {
            "marker": {
             "colorbar": {
              "outlinewidth": 0,
              "ticks": ""
             }
            },
            "type": "scattergl"
           }
          ],
          "scattermap": [
           {
            "marker": {
             "colorbar": {
              "outlinewidth": 0,
              "ticks": ""
             }
            },
            "type": "scattermap"
           }
          ],
          "scattermapbox": [
           {
            "marker": {
             "colorbar": {
              "outlinewidth": 0,
              "ticks": ""
             }
            },
            "type": "scattermapbox"
           }
          ],
          "scatterpolar": [
           {
            "marker": {
             "colorbar": {
              "outlinewidth": 0,
              "ticks": ""
             }
            },
            "type": "scatterpolar"
           }
          ],
          "scatterpolargl": [
           {
            "marker": {
             "colorbar": {
              "outlinewidth": 0,
              "ticks": ""
             }
            },
            "type": "scatterpolargl"
           }
          ],
          "scatterternary": [
           {
            "marker": {
             "colorbar": {
              "outlinewidth": 0,
              "ticks": ""
             }
            },
            "type": "scatterternary"
           }
          ],
          "surface": [
           {
            "colorbar": {
             "outlinewidth": 0,
             "ticks": ""
            },
            "colorscale": [
             [
              0,
              "#0d0887"
             ],
             [
              0.1111111111111111,
              "#46039f"
             ],
             [
              0.2222222222222222,
              "#7201a8"
             ],
             [
              0.3333333333333333,
              "#9c179e"
             ],
             [
              0.4444444444444444,
              "#bd3786"
             ],
             [
              0.5555555555555556,
              "#d8576b"
             ],
             [
              0.6666666666666666,
              "#ed7953"
             ],
             [
              0.7777777777777778,
              "#fb9f3a"
             ],
             [
              0.8888888888888888,
              "#fdca26"
             ],
             [
              1,
              "#f0f921"
             ]
            ],
            "type": "surface"
           }
          ],
          "table": [
           {
            "cells": {
             "fill": {
              "color": "#EBF0F8"
             },
             "line": {
              "color": "white"
             }
            },
            "header": {
             "fill": {
              "color": "#C8D4E3"
             },
             "line": {
              "color": "white"
             }
            },
            "type": "table"
           }
          ]
         },
         "layout": {
          "annotationdefaults": {
           "arrowcolor": "#2a3f5f",
           "arrowhead": 0,
           "arrowwidth": 1
          },
          "autotypenumbers": "strict",
          "coloraxis": {
           "colorbar": {
            "outlinewidth": 0,
            "ticks": ""
           }
          },
          "colorscale": {
           "diverging": [
            [
             0,
             "#8e0152"
            ],
            [
             0.1,
             "#c51b7d"
            ],
            [
             0.2,
             "#de77ae"
            ],
            [
             0.3,
             "#f1b6da"
            ],
            [
             0.4,
             "#fde0ef"
            ],
            [
             0.5,
             "#f7f7f7"
            ],
            [
             0.6,
             "#e6f5d0"
            ],
            [
             0.7,
             "#b8e186"
            ],
            [
             0.8,
             "#7fbc41"
            ],
            [
             0.9,
             "#4d9221"
            ],
            [
             1,
             "#276419"
            ]
           ],
           "sequential": [
            [
             0,
             "#0d0887"
            ],
            [
             0.1111111111111111,
             "#46039f"
            ],
            [
             0.2222222222222222,
             "#7201a8"
            ],
            [
             0.3333333333333333,
             "#9c179e"
            ],
            [
             0.4444444444444444,
             "#bd3786"
            ],
            [
             0.5555555555555556,
             "#d8576b"
            ],
            [
             0.6666666666666666,
             "#ed7953"
            ],
            [
             0.7777777777777778,
             "#fb9f3a"
            ],
            [
             0.8888888888888888,
             "#fdca26"
            ],
            [
             1,
             "#f0f921"
            ]
           ],
           "sequentialminus": [
            [
             0,
             "#0d0887"
            ],
            [
             0.1111111111111111,
             "#46039f"
            ],
            [
             0.2222222222222222,
             "#7201a8"
            ],
            [
             0.3333333333333333,
             "#9c179e"
            ],
            [
             0.4444444444444444,
             "#bd3786"
            ],
            [
             0.5555555555555556,
             "#d8576b"
            ],
            [
             0.6666666666666666,
             "#ed7953"
            ],
            [
             0.7777777777777778,
             "#fb9f3a"
            ],
            [
             0.8888888888888888,
             "#fdca26"
            ],
            [
             1,
             "#f0f921"
            ]
           ]
          },
          "colorway": [
           "#636efa",
           "#EF553B",
           "#00cc96",
           "#ab63fa",
           "#FFA15A",
           "#19d3f3",
           "#FF6692",
           "#B6E880",
           "#FF97FF",
           "#FECB52"
          ],
          "font": {
           "color": "#2a3f5f"
          },
          "geo": {
           "bgcolor": "white",
           "lakecolor": "white",
           "landcolor": "#E5ECF6",
           "showlakes": true,
           "showland": true,
           "subunitcolor": "white"
          },
          "hoverlabel": {
           "align": "left"
          },
          "hovermode": "closest",
          "mapbox": {
           "style": "light"
          },
          "paper_bgcolor": "white",
          "plot_bgcolor": "#E5ECF6",
          "polar": {
           "angularaxis": {
            "gridcolor": "white",
            "linecolor": "white",
            "ticks": ""
           },
           "bgcolor": "#E5ECF6",
           "radialaxis": {
            "gridcolor": "white",
            "linecolor": "white",
            "ticks": ""
           }
          },
          "scene": {
           "xaxis": {
            "backgroundcolor": "#E5ECF6",
            "gridcolor": "white",
            "gridwidth": 2,
            "linecolor": "white",
            "showbackground": true,
            "ticks": "",
            "zerolinecolor": "white"
           },
           "yaxis": {
            "backgroundcolor": "#E5ECF6",
            "gridcolor": "white",
            "gridwidth": 2,
            "linecolor": "white",
            "showbackground": true,
            "ticks": "",
            "zerolinecolor": "white"
           },
           "zaxis": {
            "backgroundcolor": "#E5ECF6",
            "gridcolor": "white",
            "gridwidth": 2,
            "linecolor": "white",
            "showbackground": true,
            "ticks": "",
            "zerolinecolor": "white"
           }
          },
          "shapedefaults": {
           "line": {
            "color": "#2a3f5f"
           }
          },
          "ternary": {
           "aaxis": {
            "gridcolor": "white",
            "linecolor": "white",
            "ticks": ""
           },
           "baxis": {
            "gridcolor": "white",
            "linecolor": "white",
            "ticks": ""
           },
           "bgcolor": "#E5ECF6",
           "caxis": {
            "gridcolor": "white",
            "linecolor": "white",
            "ticks": ""
           }
          },
          "title": {
           "x": 0.05
          },
          "xaxis": {
           "automargin": true,
           "gridcolor": "white",
           "linecolor": "white",
           "ticks": "",
           "title": {
            "standoff": 15
           },
           "zerolinecolor": "white",
           "zerolinewidth": 2
          },
          "yaxis": {
           "automargin": true,
           "gridcolor": "white",
           "linecolor": "white",
           "ticks": "",
           "title": {
            "standoff": 15
           },
           "zerolinecolor": "white",
           "zerolinewidth": 2
          }
         }
        },
        "title": {
         "text": "Optimization History Plot"
        },
        "xaxis": {
         "title": {
          "text": "Trial"
         }
        },
        "yaxis": {
         "title": {
          "text": "Objective Value"
         }
        }
       }
      }
     },
     "metadata": {},
     "output_type": "display_data"
    },
    {
     "data": {
      "application/vnd.plotly.v1+json": {
       "config": {
        "plotlyServerURL": "https://plot.ly"
       },
       "data": [
        {
         "cliponaxis": false,
         "hovertemplate": [
          "reg_lambda (FloatDistribution): 0.020301993522146827<extra></extra>",
          "gamma (FloatDistribution): 0.027146503257801317<extra></extra>",
          "subsample (FloatDistribution): 0.03479655902269491<extra></extra>",
          "reg_alpha (FloatDistribution): 0.040217807637236355<extra></extra>",
          "learning_rate (FloatDistribution): 0.06566479210330198<extra></extra>",
          "colsample_bytree (FloatDistribution): 0.08922588339137241<extra></extra>",
          "max_depth (IntDistribution): 0.10092984350402041<extra></extra>",
          "n_estimators (IntDistribution): 0.6217166175614258<extra></extra>"
         ],
         "name": "Objective Value",
         "orientation": "h",
         "text": [
          "0.02",
          "0.03",
          "0.03",
          "0.04",
          "0.07",
          "0.09",
          "0.10",
          "0.62"
         ],
         "textposition": "outside",
         "type": "bar",
         "x": [
          0.020301993522146827,
          0.027146503257801317,
          0.03479655902269491,
          0.040217807637236355,
          0.06566479210330198,
          0.08922588339137241,
          0.10092984350402041,
          0.6217166175614258
         ],
         "y": [
          "reg_lambda",
          "gamma",
          "subsample",
          "reg_alpha",
          "learning_rate",
          "colsample_bytree",
          "max_depth",
          "n_estimators"
         ]
        }
       ],
       "layout": {
        "template": {
         "data": {
          "bar": [
           {
            "error_x": {
             "color": "#2a3f5f"
            },
            "error_y": {
             "color": "#2a3f5f"
            },
            "marker": {
             "line": {
              "color": "#E5ECF6",
              "width": 0.5
             },
             "pattern": {
              "fillmode": "overlay",
              "size": 10,
              "solidity": 0.2
             }
            },
            "type": "bar"
           }
          ],
          "barpolar": [
           {
            "marker": {
             "line": {
              "color": "#E5ECF6",
              "width": 0.5
             },
             "pattern": {
              "fillmode": "overlay",
              "size": 10,
              "solidity": 0.2
             }
            },
            "type": "barpolar"
           }
          ],
          "carpet": [
           {
            "aaxis": {
             "endlinecolor": "#2a3f5f",
             "gridcolor": "white",
             "linecolor": "white",
             "minorgridcolor": "white",
             "startlinecolor": "#2a3f5f"
            },
            "baxis": {
             "endlinecolor": "#2a3f5f",
             "gridcolor": "white",
             "linecolor": "white",
             "minorgridcolor": "white",
             "startlinecolor": "#2a3f5f"
            },
            "type": "carpet"
           }
          ],
          "choropleth": [
           {
            "colorbar": {
             "outlinewidth": 0,
             "ticks": ""
            },
            "type": "choropleth"
           }
          ],
          "contour": [
           {
            "colorbar": {
             "outlinewidth": 0,
             "ticks": ""
            },
            "colorscale": [
             [
              0,
              "#0d0887"
             ],
             [
              0.1111111111111111,
              "#46039f"
             ],
             [
              0.2222222222222222,
              "#7201a8"
             ],
             [
              0.3333333333333333,
              "#9c179e"
             ],
             [
              0.4444444444444444,
              "#bd3786"
             ],
             [
              0.5555555555555556,
              "#d8576b"
             ],
             [
              0.6666666666666666,
              "#ed7953"
             ],
             [
              0.7777777777777778,
              "#fb9f3a"
             ],
             [
              0.8888888888888888,
              "#fdca26"
             ],
             [
              1,
              "#f0f921"
             ]
            ],
            "type": "contour"
           }
          ],
          "contourcarpet": [
           {
            "colorbar": {
             "outlinewidth": 0,
             "ticks": ""
            },
            "type": "contourcarpet"
           }
          ],
          "heatmap": [
           {
            "colorbar": {
             "outlinewidth": 0,
             "ticks": ""
            },
            "colorscale": [
             [
              0,
              "#0d0887"
             ],
             [
              0.1111111111111111,
              "#46039f"
             ],
             [
              0.2222222222222222,
              "#7201a8"
             ],
             [
              0.3333333333333333,
              "#9c179e"
             ],
             [
              0.4444444444444444,
              "#bd3786"
             ],
             [
              0.5555555555555556,
              "#d8576b"
             ],
             [
              0.6666666666666666,
              "#ed7953"
             ],
             [
              0.7777777777777778,
              "#fb9f3a"
             ],
             [
              0.8888888888888888,
              "#fdca26"
             ],
             [
              1,
              "#f0f921"
             ]
            ],
            "type": "heatmap"
           }
          ],
          "histogram": [
           {
            "marker": {
             "pattern": {
              "fillmode": "overlay",
              "size": 10,
              "solidity": 0.2
             }
            },
            "type": "histogram"
           }
          ],
          "histogram2d": [
           {
            "colorbar": {
             "outlinewidth": 0,
             "ticks": ""
            },
            "colorscale": [
             [
              0,
              "#0d0887"
             ],
             [
              0.1111111111111111,
              "#46039f"
             ],
             [
              0.2222222222222222,
              "#7201a8"
             ],
             [
              0.3333333333333333,
              "#9c179e"
             ],
             [
              0.4444444444444444,
              "#bd3786"
             ],
             [
              0.5555555555555556,
              "#d8576b"
             ],
             [
              0.6666666666666666,
              "#ed7953"
             ],
             [
              0.7777777777777778,
              "#fb9f3a"
             ],
             [
              0.8888888888888888,
              "#fdca26"
             ],
             [
              1,
              "#f0f921"
             ]
            ],
            "type": "histogram2d"
           }
          ],
          "histogram2dcontour": [
           {
            "colorbar": {
             "outlinewidth": 0,
             "ticks": ""
            },
            "colorscale": [
             [
              0,
              "#0d0887"
             ],
             [
              0.1111111111111111,
              "#46039f"
             ],
             [
              0.2222222222222222,
              "#7201a8"
             ],
             [
              0.3333333333333333,
              "#9c179e"
             ],
             [
              0.4444444444444444,
              "#bd3786"
             ],
             [
              0.5555555555555556,
              "#d8576b"
             ],
             [
              0.6666666666666666,
              "#ed7953"
             ],
             [
              0.7777777777777778,
              "#fb9f3a"
             ],
             [
              0.8888888888888888,
              "#fdca26"
             ],
             [
              1,
              "#f0f921"
             ]
            ],
            "type": "histogram2dcontour"
           }
          ],
          "mesh3d": [
           {
            "colorbar": {
             "outlinewidth": 0,
             "ticks": ""
            },
            "type": "mesh3d"
           }
          ],
          "parcoords": [
           {
            "line": {
             "colorbar": {
              "outlinewidth": 0,
              "ticks": ""
             }
            },
            "type": "parcoords"
           }
          ],
          "pie": [
           {
            "automargin": true,
            "type": "pie"
           }
          ],
          "scatter": [
           {
            "fillpattern": {
             "fillmode": "overlay",
             "size": 10,
             "solidity": 0.2
            },
            "type": "scatter"
           }
          ],
          "scatter3d": [
           {
            "line": {
             "colorbar": {
              "outlinewidth": 0,
              "ticks": ""
             }
            },
            "marker": {
             "colorbar": {
              "outlinewidth": 0,
              "ticks": ""
             }
            },
            "type": "scatter3d"
           }
          ],
          "scattercarpet": [
           {
            "marker": {
             "colorbar": {
              "outlinewidth": 0,
              "ticks": ""
             }
            },
            "type": "scattercarpet"
           }
          ],
          "scattergeo": [
           {
            "marker": {
             "colorbar": {
              "outlinewidth": 0,
              "ticks": ""
             }
            },
            "type": "scattergeo"
           }
          ],
          "scattergl": [
           {
            "marker": {
             "colorbar": {
              "outlinewidth": 0,
              "ticks": ""
             }
            },
            "type": "scattergl"
           }
          ],
          "scattermap": [
           {
            "marker": {
             "colorbar": {
              "outlinewidth": 0,
              "ticks": ""
             }
            },
            "type": "scattermap"
           }
          ],
          "scattermapbox": [
           {
            "marker": {
             "colorbar": {
              "outlinewidth": 0,
              "ticks": ""
             }
            },
            "type": "scattermapbox"
           }
          ],
          "scatterpolar": [
           {
            "marker": {
             "colorbar": {
              "outlinewidth": 0,
              "ticks": ""
             }
            },
            "type": "scatterpolar"
           }
          ],
          "scatterpolargl": [
           {
            "marker": {
             "colorbar": {
              "outlinewidth": 0,
              "ticks": ""
             }
            },
            "type": "scatterpolargl"
           }
          ],
          "scatterternary": [
           {
            "marker": {
             "colorbar": {
              "outlinewidth": 0,
              "ticks": ""
             }
            },
            "type": "scatterternary"
           }
          ],
          "surface": [
           {
            "colorbar": {
             "outlinewidth": 0,
             "ticks": ""
            },
            "colorscale": [
             [
              0,
              "#0d0887"
             ],
             [
              0.1111111111111111,
              "#46039f"
             ],
             [
              0.2222222222222222,
              "#7201a8"
             ],
             [
              0.3333333333333333,
              "#9c179e"
             ],
             [
              0.4444444444444444,
              "#bd3786"
             ],
             [
              0.5555555555555556,
              "#d8576b"
             ],
             [
              0.6666666666666666,
              "#ed7953"
             ],
             [
              0.7777777777777778,
              "#fb9f3a"
             ],
             [
              0.8888888888888888,
              "#fdca26"
             ],
             [
              1,
              "#f0f921"
             ]
            ],
            "type": "surface"
           }
          ],
          "table": [
           {
            "cells": {
             "fill": {
              "color": "#EBF0F8"
             },
             "line": {
              "color": "white"
             }
            },
            "header": {
             "fill": {
              "color": "#C8D4E3"
             },
             "line": {
              "color": "white"
             }
            },
            "type": "table"
           }
          ]
         },
         "layout": {
          "annotationdefaults": {
           "arrowcolor": "#2a3f5f",
           "arrowhead": 0,
           "arrowwidth": 1
          },
          "autotypenumbers": "strict",
          "coloraxis": {
           "colorbar": {
            "outlinewidth": 0,
            "ticks": ""
           }
          },
          "colorscale": {
           "diverging": [
            [
             0,
             "#8e0152"
            ],
            [
             0.1,
             "#c51b7d"
            ],
            [
             0.2,
             "#de77ae"
            ],
            [
             0.3,
             "#f1b6da"
            ],
            [
             0.4,
             "#fde0ef"
            ],
            [
             0.5,
             "#f7f7f7"
            ],
            [
             0.6,
             "#e6f5d0"
            ],
            [
             0.7,
             "#b8e186"
            ],
            [
             0.8,
             "#7fbc41"
            ],
            [
             0.9,
             "#4d9221"
            ],
            [
             1,
             "#276419"
            ]
           ],
           "sequential": [
            [
             0,
             "#0d0887"
            ],
            [
             0.1111111111111111,
             "#46039f"
            ],
            [
             0.2222222222222222,
             "#7201a8"
            ],
            [
             0.3333333333333333,
             "#9c179e"
            ],
            [
             0.4444444444444444,
             "#bd3786"
            ],
            [
             0.5555555555555556,
             "#d8576b"
            ],
            [
             0.6666666666666666,
             "#ed7953"
            ],
            [
             0.7777777777777778,
             "#fb9f3a"
            ],
            [
             0.8888888888888888,
             "#fdca26"
            ],
            [
             1,
             "#f0f921"
            ]
           ],
           "sequentialminus": [
            [
             0,
             "#0d0887"
            ],
            [
             0.1111111111111111,
             "#46039f"
            ],
            [
             0.2222222222222222,
             "#7201a8"
            ],
            [
             0.3333333333333333,
             "#9c179e"
            ],
            [
             0.4444444444444444,
             "#bd3786"
            ],
            [
             0.5555555555555556,
             "#d8576b"
            ],
            [
             0.6666666666666666,
             "#ed7953"
            ],
            [
             0.7777777777777778,
             "#fb9f3a"
            ],
            [
             0.8888888888888888,
             "#fdca26"
            ],
            [
             1,
             "#f0f921"
            ]
           ]
          },
          "colorway": [
           "#636efa",
           "#EF553B",
           "#00cc96",
           "#ab63fa",
           "#FFA15A",
           "#19d3f3",
           "#FF6692",
           "#B6E880",
           "#FF97FF",
           "#FECB52"
          ],
          "font": {
           "color": "#2a3f5f"
          },
          "geo": {
           "bgcolor": "white",
           "lakecolor": "white",
           "landcolor": "#E5ECF6",
           "showlakes": true,
           "showland": true,
           "subunitcolor": "white"
          },
          "hoverlabel": {
           "align": "left"
          },
          "hovermode": "closest",
          "mapbox": {
           "style": "light"
          },
          "paper_bgcolor": "white",
          "plot_bgcolor": "#E5ECF6",
          "polar": {
           "angularaxis": {
            "gridcolor": "white",
            "linecolor": "white",
            "ticks": ""
           },
           "bgcolor": "#E5ECF6",
           "radialaxis": {
            "gridcolor": "white",
            "linecolor": "white",
            "ticks": ""
           }
          },
          "scene": {
           "xaxis": {
            "backgroundcolor": "#E5ECF6",
            "gridcolor": "white",
            "gridwidth": 2,
            "linecolor": "white",
            "showbackground": true,
            "ticks": "",
            "zerolinecolor": "white"
           },
           "yaxis": {
            "backgroundcolor": "#E5ECF6",
            "gridcolor": "white",
            "gridwidth": 2,
            "linecolor": "white",
            "showbackground": true,
            "ticks": "",
            "zerolinecolor": "white"
           },
           "zaxis": {
            "backgroundcolor": "#E5ECF6",
            "gridcolor": "white",
            "gridwidth": 2,
            "linecolor": "white",
            "showbackground": true,
            "ticks": "",
            "zerolinecolor": "white"
           }
          },
          "shapedefaults": {
           "line": {
            "color": "#2a3f5f"
           }
          },
          "ternary": {
           "aaxis": {
            "gridcolor": "white",
            "linecolor": "white",
            "ticks": ""
           },
           "baxis": {
            "gridcolor": "white",
            "linecolor": "white",
            "ticks": ""
           },
           "bgcolor": "#E5ECF6",
           "caxis": {
            "gridcolor": "white",
            "linecolor": "white",
            "ticks": ""
           }
          },
          "title": {
           "x": 0.05
          },
          "xaxis": {
           "automargin": true,
           "gridcolor": "white",
           "linecolor": "white",
           "ticks": "",
           "title": {
            "standoff": 15
           },
           "zerolinecolor": "white",
           "zerolinewidth": 2
          },
          "yaxis": {
           "automargin": true,
           "gridcolor": "white",
           "linecolor": "white",
           "ticks": "",
           "title": {
            "standoff": 15
           },
           "zerolinecolor": "white",
           "zerolinewidth": 2
          }
         }
        },
        "title": {
         "text": "Hyperparameter Importances"
        },
        "xaxis": {
         "title": {
          "text": "Hyperparameter Importance"
         }
        },
        "yaxis": {
         "title": {
          "text": "Hyperparameter"
         }
        }
       }
      }
     },
     "metadata": {},
     "output_type": "display_data"
    }
   ],
   "source": [
    "print(f\"Лучшие параметры для XGBoost:\")\n",
    "print(study_xgb.best_params)\n",
    "print(f\"Лучший R2: {study_xgb.best_value:.4f}\")\n",
    "\n",
    "fig = optuna.visualization.plot_optimization_history(study_xgb)\n",
    "fig.show()\n",
    "\n",
    "fig = optuna.visualization.plot_param_importances(study_xgb)\n",
    "fig.show()"
   ]
  },
  {
   "cell_type": "code",
   "execution_count": 124,
   "id": "b8e6a5cc",
   "metadata": {},
   "outputs": [
    {
     "data": {
      "text/html": [
       "<style>#sk-container-id-5 {\n",
       "  /* Definition of color scheme common for light and dark mode */\n",
       "  --sklearn-color-text: #000;\n",
       "  --sklearn-color-text-muted: #666;\n",
       "  --sklearn-color-line: gray;\n",
       "  /* Definition of color scheme for unfitted estimators */\n",
       "  --sklearn-color-unfitted-level-0: #fff5e6;\n",
       "  --sklearn-color-unfitted-level-1: #f6e4d2;\n",
       "  --sklearn-color-unfitted-level-2: #ffe0b3;\n",
       "  --sklearn-color-unfitted-level-3: chocolate;\n",
       "  /* Definition of color scheme for fitted estimators */\n",
       "  --sklearn-color-fitted-level-0: #f0f8ff;\n",
       "  --sklearn-color-fitted-level-1: #d4ebff;\n",
       "  --sklearn-color-fitted-level-2: #b3dbfd;\n",
       "  --sklearn-color-fitted-level-3: cornflowerblue;\n",
       "\n",
       "  /* Specific color for light theme */\n",
       "  --sklearn-color-text-on-default-background: var(--sg-text-color, var(--theme-code-foreground, var(--jp-content-font-color1, black)));\n",
       "  --sklearn-color-background: var(--sg-background-color, var(--theme-background, var(--jp-layout-color0, white)));\n",
       "  --sklearn-color-border-box: var(--sg-text-color, var(--theme-code-foreground, var(--jp-content-font-color1, black)));\n",
       "  --sklearn-color-icon: #696969;\n",
       "\n",
       "  @media (prefers-color-scheme: dark) {\n",
       "    /* Redefinition of color scheme for dark theme */\n",
       "    --sklearn-color-text-on-default-background: var(--sg-text-color, var(--theme-code-foreground, var(--jp-content-font-color1, white)));\n",
       "    --sklearn-color-background: var(--sg-background-color, var(--theme-background, var(--jp-layout-color0, #111)));\n",
       "    --sklearn-color-border-box: var(--sg-text-color, var(--theme-code-foreground, var(--jp-content-font-color1, white)));\n",
       "    --sklearn-color-icon: #878787;\n",
       "  }\n",
       "}\n",
       "\n",
       "#sk-container-id-5 {\n",
       "  color: var(--sklearn-color-text);\n",
       "}\n",
       "\n",
       "#sk-container-id-5 pre {\n",
       "  padding: 0;\n",
       "}\n",
       "\n",
       "#sk-container-id-5 input.sk-hidden--visually {\n",
       "  border: 0;\n",
       "  clip: rect(1px 1px 1px 1px);\n",
       "  clip: rect(1px, 1px, 1px, 1px);\n",
       "  height: 1px;\n",
       "  margin: -1px;\n",
       "  overflow: hidden;\n",
       "  padding: 0;\n",
       "  position: absolute;\n",
       "  width: 1px;\n",
       "}\n",
       "\n",
       "#sk-container-id-5 div.sk-dashed-wrapped {\n",
       "  border: 1px dashed var(--sklearn-color-line);\n",
       "  margin: 0 0.4em 0.5em 0.4em;\n",
       "  box-sizing: border-box;\n",
       "  padding-bottom: 0.4em;\n",
       "  background-color: var(--sklearn-color-background);\n",
       "}\n",
       "\n",
       "#sk-container-id-5 div.sk-container {\n",
       "  /* jupyter's `normalize.less` sets `[hidden] { display: none; }`\n",
       "     but bootstrap.min.css set `[hidden] { display: none !important; }`\n",
       "     so we also need the `!important` here to be able to override the\n",
       "     default hidden behavior on the sphinx rendered scikit-learn.org.\n",
       "     See: https://github.com/scikit-learn/scikit-learn/issues/21755 */\n",
       "  display: inline-block !important;\n",
       "  position: relative;\n",
       "}\n",
       "\n",
       "#sk-container-id-5 div.sk-text-repr-fallback {\n",
       "  display: none;\n",
       "}\n",
       "\n",
       "div.sk-parallel-item,\n",
       "div.sk-serial,\n",
       "div.sk-item {\n",
       "  /* draw centered vertical line to link estimators */\n",
       "  background-image: linear-gradient(var(--sklearn-color-text-on-default-background), var(--sklearn-color-text-on-default-background));\n",
       "  background-size: 2px 100%;\n",
       "  background-repeat: no-repeat;\n",
       "  background-position: center center;\n",
       "}\n",
       "\n",
       "/* Parallel-specific style estimator block */\n",
       "\n",
       "#sk-container-id-5 div.sk-parallel-item::after {\n",
       "  content: \"\";\n",
       "  width: 100%;\n",
       "  border-bottom: 2px solid var(--sklearn-color-text-on-default-background);\n",
       "  flex-grow: 1;\n",
       "}\n",
       "\n",
       "#sk-container-id-5 div.sk-parallel {\n",
       "  display: flex;\n",
       "  align-items: stretch;\n",
       "  justify-content: center;\n",
       "  background-color: var(--sklearn-color-background);\n",
       "  position: relative;\n",
       "}\n",
       "\n",
       "#sk-container-id-5 div.sk-parallel-item {\n",
       "  display: flex;\n",
       "  flex-direction: column;\n",
       "}\n",
       "\n",
       "#sk-container-id-5 div.sk-parallel-item:first-child::after {\n",
       "  align-self: flex-end;\n",
       "  width: 50%;\n",
       "}\n",
       "\n",
       "#sk-container-id-5 div.sk-parallel-item:last-child::after {\n",
       "  align-self: flex-start;\n",
       "  width: 50%;\n",
       "}\n",
       "\n",
       "#sk-container-id-5 div.sk-parallel-item:only-child::after {\n",
       "  width: 0;\n",
       "}\n",
       "\n",
       "/* Serial-specific style estimator block */\n",
       "\n",
       "#sk-container-id-5 div.sk-serial {\n",
       "  display: flex;\n",
       "  flex-direction: column;\n",
       "  align-items: center;\n",
       "  background-color: var(--sklearn-color-background);\n",
       "  padding-right: 1em;\n",
       "  padding-left: 1em;\n",
       "}\n",
       "\n",
       "\n",
       "/* Toggleable style: style used for estimator/Pipeline/ColumnTransformer box that is\n",
       "clickable and can be expanded/collapsed.\n",
       "- Pipeline and ColumnTransformer use this feature and define the default style\n",
       "- Estimators will overwrite some part of the style using the `sk-estimator` class\n",
       "*/\n",
       "\n",
       "/* Pipeline and ColumnTransformer style (default) */\n",
       "\n",
       "#sk-container-id-5 div.sk-toggleable {\n",
       "  /* Default theme specific background. It is overwritten whether we have a\n",
       "  specific estimator or a Pipeline/ColumnTransformer */\n",
       "  background-color: var(--sklearn-color-background);\n",
       "}\n",
       "\n",
       "/* Toggleable label */\n",
       "#sk-container-id-5 label.sk-toggleable__label {\n",
       "  cursor: pointer;\n",
       "  display: flex;\n",
       "  width: 100%;\n",
       "  margin-bottom: 0;\n",
       "  padding: 0.5em;\n",
       "  box-sizing: border-box;\n",
       "  text-align: center;\n",
       "  align-items: start;\n",
       "  justify-content: space-between;\n",
       "  gap: 0.5em;\n",
       "}\n",
       "\n",
       "#sk-container-id-5 label.sk-toggleable__label .caption {\n",
       "  font-size: 0.6rem;\n",
       "  font-weight: lighter;\n",
       "  color: var(--sklearn-color-text-muted);\n",
       "}\n",
       "\n",
       "#sk-container-id-5 label.sk-toggleable__label-arrow:before {\n",
       "  /* Arrow on the left of the label */\n",
       "  content: \"▸\";\n",
       "  float: left;\n",
       "  margin-right: 0.25em;\n",
       "  color: var(--sklearn-color-icon);\n",
       "}\n",
       "\n",
       "#sk-container-id-5 label.sk-toggleable__label-arrow:hover:before {\n",
       "  color: var(--sklearn-color-text);\n",
       "}\n",
       "\n",
       "/* Toggleable content - dropdown */\n",
       "\n",
       "#sk-container-id-5 div.sk-toggleable__content {\n",
       "  max-height: 0;\n",
       "  max-width: 0;\n",
       "  overflow: hidden;\n",
       "  text-align: left;\n",
       "  /* unfitted */\n",
       "  background-color: var(--sklearn-color-unfitted-level-0);\n",
       "}\n",
       "\n",
       "#sk-container-id-5 div.sk-toggleable__content.fitted {\n",
       "  /* fitted */\n",
       "  background-color: var(--sklearn-color-fitted-level-0);\n",
       "}\n",
       "\n",
       "#sk-container-id-5 div.sk-toggleable__content pre {\n",
       "  margin: 0.2em;\n",
       "  border-radius: 0.25em;\n",
       "  color: var(--sklearn-color-text);\n",
       "  /* unfitted */\n",
       "  background-color: var(--sklearn-color-unfitted-level-0);\n",
       "}\n",
       "\n",
       "#sk-container-id-5 div.sk-toggleable__content.fitted pre {\n",
       "  /* unfitted */\n",
       "  background-color: var(--sklearn-color-fitted-level-0);\n",
       "}\n",
       "\n",
       "#sk-container-id-5 input.sk-toggleable__control:checked~div.sk-toggleable__content {\n",
       "  /* Expand drop-down */\n",
       "  max-height: 200px;\n",
       "  max-width: 100%;\n",
       "  overflow: auto;\n",
       "}\n",
       "\n",
       "#sk-container-id-5 input.sk-toggleable__control:checked~label.sk-toggleable__label-arrow:before {\n",
       "  content: \"▾\";\n",
       "}\n",
       "\n",
       "/* Pipeline/ColumnTransformer-specific style */\n",
       "\n",
       "#sk-container-id-5 div.sk-label input.sk-toggleable__control:checked~label.sk-toggleable__label {\n",
       "  color: var(--sklearn-color-text);\n",
       "  background-color: var(--sklearn-color-unfitted-level-2);\n",
       "}\n",
       "\n",
       "#sk-container-id-5 div.sk-label.fitted input.sk-toggleable__control:checked~label.sk-toggleable__label {\n",
       "  background-color: var(--sklearn-color-fitted-level-2);\n",
       "}\n",
       "\n",
       "/* Estimator-specific style */\n",
       "\n",
       "/* Colorize estimator box */\n",
       "#sk-container-id-5 div.sk-estimator input.sk-toggleable__control:checked~label.sk-toggleable__label {\n",
       "  /* unfitted */\n",
       "  background-color: var(--sklearn-color-unfitted-level-2);\n",
       "}\n",
       "\n",
       "#sk-container-id-5 div.sk-estimator.fitted input.sk-toggleable__control:checked~label.sk-toggleable__label {\n",
       "  /* fitted */\n",
       "  background-color: var(--sklearn-color-fitted-level-2);\n",
       "}\n",
       "\n",
       "#sk-container-id-5 div.sk-label label.sk-toggleable__label,\n",
       "#sk-container-id-5 div.sk-label label {\n",
       "  /* The background is the default theme color */\n",
       "  color: var(--sklearn-color-text-on-default-background);\n",
       "}\n",
       "\n",
       "/* On hover, darken the color of the background */\n",
       "#sk-container-id-5 div.sk-label:hover label.sk-toggleable__label {\n",
       "  color: var(--sklearn-color-text);\n",
       "  background-color: var(--sklearn-color-unfitted-level-2);\n",
       "}\n",
       "\n",
       "/* Label box, darken color on hover, fitted */\n",
       "#sk-container-id-5 div.sk-label.fitted:hover label.sk-toggleable__label.fitted {\n",
       "  color: var(--sklearn-color-text);\n",
       "  background-color: var(--sklearn-color-fitted-level-2);\n",
       "}\n",
       "\n",
       "/* Estimator label */\n",
       "\n",
       "#sk-container-id-5 div.sk-label label {\n",
       "  font-family: monospace;\n",
       "  font-weight: bold;\n",
       "  display: inline-block;\n",
       "  line-height: 1.2em;\n",
       "}\n",
       "\n",
       "#sk-container-id-5 div.sk-label-container {\n",
       "  text-align: center;\n",
       "}\n",
       "\n",
       "/* Estimator-specific */\n",
       "#sk-container-id-5 div.sk-estimator {\n",
       "  font-family: monospace;\n",
       "  border: 1px dotted var(--sklearn-color-border-box);\n",
       "  border-radius: 0.25em;\n",
       "  box-sizing: border-box;\n",
       "  margin-bottom: 0.5em;\n",
       "  /* unfitted */\n",
       "  background-color: var(--sklearn-color-unfitted-level-0);\n",
       "}\n",
       "\n",
       "#sk-container-id-5 div.sk-estimator.fitted {\n",
       "  /* fitted */\n",
       "  background-color: var(--sklearn-color-fitted-level-0);\n",
       "}\n",
       "\n",
       "/* on hover */\n",
       "#sk-container-id-5 div.sk-estimator:hover {\n",
       "  /* unfitted */\n",
       "  background-color: var(--sklearn-color-unfitted-level-2);\n",
       "}\n",
       "\n",
       "#sk-container-id-5 div.sk-estimator.fitted:hover {\n",
       "  /* fitted */\n",
       "  background-color: var(--sklearn-color-fitted-level-2);\n",
       "}\n",
       "\n",
       "/* Specification for estimator info (e.g. \"i\" and \"?\") */\n",
       "\n",
       "/* Common style for \"i\" and \"?\" */\n",
       "\n",
       ".sk-estimator-doc-link,\n",
       "a:link.sk-estimator-doc-link,\n",
       "a:visited.sk-estimator-doc-link {\n",
       "  float: right;\n",
       "  font-size: smaller;\n",
       "  line-height: 1em;\n",
       "  font-family: monospace;\n",
       "  background-color: var(--sklearn-color-background);\n",
       "  border-radius: 1em;\n",
       "  height: 1em;\n",
       "  width: 1em;\n",
       "  text-decoration: none !important;\n",
       "  margin-left: 0.5em;\n",
       "  text-align: center;\n",
       "  /* unfitted */\n",
       "  border: var(--sklearn-color-unfitted-level-1) 1pt solid;\n",
       "  color: var(--sklearn-color-unfitted-level-1);\n",
       "}\n",
       "\n",
       ".sk-estimator-doc-link.fitted,\n",
       "a:link.sk-estimator-doc-link.fitted,\n",
       "a:visited.sk-estimator-doc-link.fitted {\n",
       "  /* fitted */\n",
       "  border: var(--sklearn-color-fitted-level-1) 1pt solid;\n",
       "  color: var(--sklearn-color-fitted-level-1);\n",
       "}\n",
       "\n",
       "/* On hover */\n",
       "div.sk-estimator:hover .sk-estimator-doc-link:hover,\n",
       ".sk-estimator-doc-link:hover,\n",
       "div.sk-label-container:hover .sk-estimator-doc-link:hover,\n",
       ".sk-estimator-doc-link:hover {\n",
       "  /* unfitted */\n",
       "  background-color: var(--sklearn-color-unfitted-level-3);\n",
       "  color: var(--sklearn-color-background);\n",
       "  text-decoration: none;\n",
       "}\n",
       "\n",
       "div.sk-estimator.fitted:hover .sk-estimator-doc-link.fitted:hover,\n",
       ".sk-estimator-doc-link.fitted:hover,\n",
       "div.sk-label-container:hover .sk-estimator-doc-link.fitted:hover,\n",
       ".sk-estimator-doc-link.fitted:hover {\n",
       "  /* fitted */\n",
       "  background-color: var(--sklearn-color-fitted-level-3);\n",
       "  color: var(--sklearn-color-background);\n",
       "  text-decoration: none;\n",
       "}\n",
       "\n",
       "/* Span, style for the box shown on hovering the info icon */\n",
       ".sk-estimator-doc-link span {\n",
       "  display: none;\n",
       "  z-index: 9999;\n",
       "  position: relative;\n",
       "  font-weight: normal;\n",
       "  right: .2ex;\n",
       "  padding: .5ex;\n",
       "  margin: .5ex;\n",
       "  width: min-content;\n",
       "  min-width: 20ex;\n",
       "  max-width: 50ex;\n",
       "  color: var(--sklearn-color-text);\n",
       "  box-shadow: 2pt 2pt 4pt #999;\n",
       "  /* unfitted */\n",
       "  background: var(--sklearn-color-unfitted-level-0);\n",
       "  border: .5pt solid var(--sklearn-color-unfitted-level-3);\n",
       "}\n",
       "\n",
       ".sk-estimator-doc-link.fitted span {\n",
       "  /* fitted */\n",
       "  background: var(--sklearn-color-fitted-level-0);\n",
       "  border: var(--sklearn-color-fitted-level-3);\n",
       "}\n",
       "\n",
       ".sk-estimator-doc-link:hover span {\n",
       "  display: block;\n",
       "}\n",
       "\n",
       "/* \"?\"-specific style due to the `<a>` HTML tag */\n",
       "\n",
       "#sk-container-id-5 a.estimator_doc_link {\n",
       "  float: right;\n",
       "  font-size: 1rem;\n",
       "  line-height: 1em;\n",
       "  font-family: monospace;\n",
       "  background-color: var(--sklearn-color-background);\n",
       "  border-radius: 1rem;\n",
       "  height: 1rem;\n",
       "  width: 1rem;\n",
       "  text-decoration: none;\n",
       "  /* unfitted */\n",
       "  color: var(--sklearn-color-unfitted-level-1);\n",
       "  border: var(--sklearn-color-unfitted-level-1) 1pt solid;\n",
       "}\n",
       "\n",
       "#sk-container-id-5 a.estimator_doc_link.fitted {\n",
       "  /* fitted */\n",
       "  border: var(--sklearn-color-fitted-level-1) 1pt solid;\n",
       "  color: var(--sklearn-color-fitted-level-1);\n",
       "}\n",
       "\n",
       "/* On hover */\n",
       "#sk-container-id-5 a.estimator_doc_link:hover {\n",
       "  /* unfitted */\n",
       "  background-color: var(--sklearn-color-unfitted-level-3);\n",
       "  color: var(--sklearn-color-background);\n",
       "  text-decoration: none;\n",
       "}\n",
       "\n",
       "#sk-container-id-5 a.estimator_doc_link.fitted:hover {\n",
       "  /* fitted */\n",
       "  background-color: var(--sklearn-color-fitted-level-3);\n",
       "}\n",
       "</style><div id=\"sk-container-id-5\" class=\"sk-top-container\"><div class=\"sk-text-repr-fallback\"><pre>XGBRegressor(base_score=None, booster=None, callbacks=None,\n",
       "             colsample_bylevel=None, colsample_bynode=None,\n",
       "             colsample_bytree=0.9209305484417195, device=None,\n",
       "             early_stopping_rounds=None, enable_categorical=False,\n",
       "             eval_metric=None, feature_types=None, feature_weights=None,\n",
       "             gamma=4.283062266860302, grow_policy=None, importance_type=None,\n",
       "             interaction_constraints=None, learning_rate=0.0026925219389744835,\n",
       "             max_bin=None, max_cat_threshold=None, max_cat_to_onehot=None,\n",
       "             max_delta_step=None, max_depth=7, max_leaves=None,\n",
       "             min_child_weight=None, missing=nan, monotone_constraints=None,\n",
       "             multi_strategy=None, n_estimators=970, n_jobs=-1,\n",
       "             num_parallel_tree=None, ...)</pre><b>In a Jupyter environment, please rerun this cell to show the HTML representation or trust the notebook. <br />On GitHub, the HTML representation is unable to render, please try loading this page with nbviewer.org.</b></div><div class=\"sk-container\" hidden><div class=\"sk-item\"><div class=\"sk-estimator fitted sk-toggleable\"><input class=\"sk-toggleable__control sk-hidden--visually\" id=\"sk-estimator-id-5\" type=\"checkbox\" checked><label for=\"sk-estimator-id-5\" class=\"sk-toggleable__label fitted sk-toggleable__label-arrow\"><div><div>XGBRegressor</div></div><div><a class=\"sk-estimator-doc-link fitted\" rel=\"noreferrer\" target=\"_blank\" href=\"https://xgboost.readthedocs.io/en/release_3.0.0/python/python_api.html#xgboost.XGBRegressor\">?<span>Documentation for XGBRegressor</span></a><span class=\"sk-estimator-doc-link fitted\">i<span>Fitted</span></span></div></label><div class=\"sk-toggleable__content fitted\"><pre>XGBRegressor(base_score=None, booster=None, callbacks=None,\n",
       "             colsample_bylevel=None, colsample_bynode=None,\n",
       "             colsample_bytree=0.9209305484417195, device=None,\n",
       "             early_stopping_rounds=None, enable_categorical=False,\n",
       "             eval_metric=None, feature_types=None, feature_weights=None,\n",
       "             gamma=4.283062266860302, grow_policy=None, importance_type=None,\n",
       "             interaction_constraints=None, learning_rate=0.0026925219389744835,\n",
       "             max_bin=None, max_cat_threshold=None, max_cat_to_onehot=None,\n",
       "             max_delta_step=None, max_depth=7, max_leaves=None,\n",
       "             min_child_weight=None, missing=nan, monotone_constraints=None,\n",
       "             multi_strategy=None, n_estimators=970, n_jobs=-1,\n",
       "             num_parallel_tree=None, ...)</pre></div> </div></div></div></div>"
      ],
      "text/plain": [
       "XGBRegressor(base_score=None, booster=None, callbacks=None,\n",
       "             colsample_bylevel=None, colsample_bynode=None,\n",
       "             colsample_bytree=0.9209305484417195, device=None,\n",
       "             early_stopping_rounds=None, enable_categorical=False,\n",
       "             eval_metric=None, feature_types=None, feature_weights=None,\n",
       "             gamma=4.283062266860302, grow_policy=None, importance_type=None,\n",
       "             interaction_constraints=None, learning_rate=0.0026925219389744835,\n",
       "             max_bin=None, max_cat_threshold=None, max_cat_to_onehot=None,\n",
       "             max_delta_step=None, max_depth=7, max_leaves=None,\n",
       "             min_child_weight=None, missing=nan, monotone_constraints=None,\n",
       "             multi_strategy=None, n_estimators=970, n_jobs=-1,\n",
       "             num_parallel_tree=None, ...)"
      ]
     },
     "execution_count": 124,
     "metadata": {},
     "output_type": "execute_result"
    }
   ],
   "source": [
    "best_xgb_model = XGBRegressor(\n",
    "    **study_xgb.best_params,\n",
    "    random_state=RANDOM_STATE,\n",
    "    n_jobs=-1\n",
    ")\n",
    "best_xgb_model.fit(X_train, y_train_ic50)"
   ]
  },
  {
   "cell_type": "markdown",
   "id": "2dbaa654",
   "metadata": {},
   "source": [
    "#### Оценка модели на лучшем наборе данных"
   ]
  },
  {
   "cell_type": "code",
   "execution_count": 125,
   "id": "e40e2ddb",
   "metadata": {},
   "outputs": [
    {
     "name": "stdout",
     "output_type": "stream",
     "text": [
      "\n",
      "Final Metrics on Test Set:\n",
      "R2: 0.3702\n",
      "RMSE: 81.1254\n",
      "MAE: 50.3477\n",
      "MAPE: 1.5746\n"
     ]
    }
   ],
   "source": [
    "y_pred_best_xgb = best_xgb_model.predict(X_test)\n",
    "\n",
    "final_metrics_xgb = {metric_name: metric_func(y_test_ic50, y_pred_best_xgb) \n",
    "                 for metric_name, metric_func in metrics.items()}\n",
    "\n",
    "print(\"\\nFinal Metrics on Test Set:\")\n",
    "for metric, value in final_metrics_xgb.items():\n",
    "    print(f\"{metric}: {value:.4f}\")"
   ]
  },
  {
   "cell_type": "code",
   "execution_count": 126,
   "id": "4430b001",
   "metadata": {},
   "outputs": [
    {
     "data": {
      "image/png": "[encoded data removed]",
      "text/plain": [
       "<Figure size 1000x600 with 1 Axes>"
      ]
     },
     "metadata": {},
     "output_type": "display_data"
    }
   ],
   "source": [
    "plt.figure(figsize=(10, 6))\n",
    "plt.scatter(y_test_ic50, y_pred_best_xgb, alpha=0.5)\n",
    "plt.plot([min(y_test_ic50), max(y_test_ic50)], \n",
    "         [min(y_test_ic50), max(y_test_ic50)], 'r--')\n",
    "plt.xlabel('True SI')\n",
    "plt.ylabel('Predicted SI')\n",
    "plt.title('True vs Predicted SI Values')\n",
    "plt.grid(True)\n",
    "plt.show()"
   ]
  },
  {
   "cell_type": "markdown",
   "id": "c9f8bd3a",
   "metadata": {},
   "source": [
    "#### Анализ важности признаков"
   ]
  },
  {
   "cell_type": "code",
   "execution_count": 127,
   "id": "0022d91b",
   "metadata": {},
   "outputs": [
    {
     "data": {
      "image/png": "[encoded data removed]",
      "text/plain": [
       "<Figure size 1200x800 with 1 Axes>"
      ]
     },
     "metadata": {},
     "output_type": "display_data"
    }
   ],
   "source": [
    "if hasattr(best_xgb_model, 'feature_importances_'):\n",
    "    importances = best_xgb_model.feature_importances_\n",
    "    feature_names = X.columns if isinstance(X, pd.DataFrame) else [f\"Feature {i}\" for i in range(X.shape[1])]\n",
    "    \n",
    "    sorted_idx = importances.argsort()[::-1]\n",
    "    top_features = 20\n",
    "    \n",
    "    plt.figure(figsize=(12, 8))\n",
    "    plt.barh(range(top_features), importances[sorted_idx][:top_features], align='center')\n",
    "    plt.yticks(range(top_features), [feature_names[i] for i in sorted_idx[:top_features]])\n",
    "    plt.gca().invert_yaxis()\n",
    "    plt.xlabel('Feature Importance')\n",
    "    plt.title('Top Important Features for SI Prediction')\n",
    "    plt.tight_layout()\n",
    "    plt.savefig('ic50_feature_importance.png')\n",
    "    plt.show()"
   ]
  },
  {
   "cell_type": "markdown",
   "id": "6f0831ad",
   "metadata": {},
   "source": [
    "### SVR"
   ]
  },
  {
   "cell_type": "code",
   "execution_count": 131,
   "id": "ead683c8",
   "metadata": {},
   "outputs": [],
   "source": [
    "def optimize_svr(trial):\n",
    "    params = {\n",
    "        'C': trial.suggest_float('C', 0.1, 100, log=True),\n",
    "        'epsilon': trial.suggest_float('epsilon', 0.001, 1, log=True),\n",
    "        'kernel': trial.suggest_categorical('kernel', ['rbf']),\n",
    "        'gamma': trial.suggest_float('gamma', 0.001, 10, log=True)\n",
    "    }\n",
    "    \n",
    "    if params['kernel'] == 'poly':\n",
    "        params['degree'] = trial.suggest_int('degree', 2, 5)\n",
    "    \n",
    "    model = SVR(**params)\n",
    "    \n",
    "    r2_scores = cross_val_score(\n",
    "        model, X_train, y_train_ic50, \n",
    "        cv=CV_FOLDS_SVR, scoring='r2', n_jobs=-1\n",
    "    )\n",
    "    \n",
    "    return np.mean(r2_scores)\n"
   ]
  },
  {
   "cell_type": "code",
   "execution_count": 132,
   "id": "476d3e7d",
   "metadata": {},
   "outputs": [
    {
     "name": "stderr",
     "output_type": "stream",
     "text": [
      "[I 2025-06-04 01:58:12,515] A new study created in memory with name: no-name-7481509e-71b3-48a1-9e26-071b6d110726\n",
      "[I 2025-06-04 01:58:14,679] Trial 0 finished with value: -0.20894228897201605 and parameters: {'C': 1.3292918943162164, 'epsilon': 0.7114476009343417, 'kernel': 'rbf', 'gamma': 0.847180141881998}. Best is trial 0 with value: -0.20894228897201605.\n",
      "[I 2025-06-04 01:58:15,853] Trial 1 finished with value: 0.03640710820818118 and parameters: {'C': 6.251373574521747, 'epsilon': 0.0029380279387035343, 'kernel': 'rbf', 'gamma': 0.004207053950287938}. Best is trial 1 with value: 0.03640710820818118.\n",
      "[I 2025-06-04 01:58:15,940] Trial 2 finished with value: -0.20907038140542866 and parameters: {'C': 0.14936568554617632, 'epsilon': 0.39676050770529864, 'kernel': 'rbf', 'gamma': 0.25378155082656645}. Best is trial 1 with value: 0.03640710820818118.\n",
      "[I 2025-06-04 01:58:16,005] Trial 3 finished with value: -0.1962480397089014 and parameters: {'C': 13.311216080736884, 'epsilon': 0.00115279871282324, 'kernel': 'rbf', 'gamma': 7.5794799533480015}. Best is trial 1 with value: 0.03640710820818118.\n",
      "[I 2025-06-04 01:58:16,079] Trial 4 finished with value: 0.13022776284084184 and parameters: {'C': 31.428808908401084, 'epsilon': 0.004335281794951566, 'kernel': 'rbf', 'gamma': 0.005337032762603957}. Best is trial 4 with value: 0.13022776284084184.\n",
      "[I 2025-06-04 01:58:16,156] Trial 5 finished with value: -0.20973611465289332 and parameters: {'C': 0.35498788321965025, 'epsilon': 0.008179499475211672, 'kernel': 'rbf', 'gamma': 0.12561043700013563}. Best is trial 4 with value: 0.13022776284084184.\n",
      "[I 2025-06-04 01:58:16,230] Trial 6 finished with value: -0.20898679940524686 and parameters: {'C': 1.9762189340280072, 'epsilon': 0.007476312062252299, 'kernel': 'rbf', 'gamma': 0.280163515871626}. Best is trial 4 with value: 0.13022776284084184.\n",
      "[I 2025-06-04 01:58:16,307] Trial 7 finished with value: -0.2080599811378502 and parameters: {'C': 0.262108787826544, 'epsilon': 0.007523742884534853, 'kernel': 'rbf', 'gamma': 0.029204338471814112}. Best is trial 4 with value: 0.13022776284084184.\n",
      "[I 2025-06-04 01:58:16,381] Trial 8 finished with value: -0.07588248795733132 and parameters: {'C': 2.334586407601623, 'epsilon': 0.22673986523780396, 'kernel': 'rbf', 'gamma': 0.006290644294586149}. Best is trial 4 with value: 0.13022776284084184.\n",
      "[I 2025-06-04 01:58:16,455] Trial 9 finished with value: 0.05477419207578331 and parameters: {'C': 3.4890188454913864, 'epsilon': 0.05987474910461401, 'kernel': 'rbf', 'gamma': 0.0015339162591163618}. Best is trial 4 with value: 0.13022776284084184.\n",
      "[I 2025-06-04 01:58:16,546] Trial 10 finished with value: 0.13658593278404338 and parameters: {'C': 85.89902259876388, 'epsilon': 0.0474845902492875, 'kernel': 'rbf', 'gamma': 0.017471923369123416}. Best is trial 10 with value: 0.13658593278404338.\n",
      "[I 2025-06-04 01:58:16,626] Trial 11 finished with value: 0.09743166754119295 and parameters: {'C': 72.09809176013978, 'epsilon': 0.04536280294652723, 'kernel': 'rbf', 'gamma': 0.022091585004767586}. Best is trial 10 with value: 0.13658593278404338.\n",
      "[I 2025-06-04 01:58:16,717] Trial 12 finished with value: 0.11867063947957401 and parameters: {'C': 91.69642965656132, 'epsilon': 0.10323823300534066, 'kernel': 'rbf', 'gamma': 0.021836383093975117}. Best is trial 10 with value: 0.13658593278404338.\n",
      "[I 2025-06-04 01:58:16,796] Trial 13 finished with value: 0.11949232765828008 and parameters: {'C': 31.381017128597325, 'epsilon': 0.01232668255169294, 'kernel': 'rbf', 'gamma': 0.0010862107477327167}. Best is trial 10 with value: 0.13658593278404338.\n",
      "[I 2025-06-04 01:58:16,884] Trial 14 finished with value: 0.10296521201295954 and parameters: {'C': 24.820762449519997, 'epsilon': 0.02009411184641338, 'kernel': 'rbf', 'gamma': 0.007085282393568237}. Best is trial 10 with value: 0.13658593278404338.\n",
      "[I 2025-06-04 01:58:16,979] Trial 15 finished with value: -0.07042734520404434 and parameters: {'C': 40.529736084958216, 'epsilon': 0.0022877359307757732, 'kernel': 'rbf', 'gamma': 0.05753415151459024}. Best is trial 10 with value: 0.13658593278404338.\n",
      "[I 2025-06-04 01:58:17,071] Trial 16 finished with value: 0.08810882111740799 and parameters: {'C': 12.294768399850462, 'epsilon': 0.022451745969289467, 'kernel': 'rbf', 'gamma': 0.0033975342241624414}. Best is trial 10 with value: 0.13658593278404338.\n",
      "[I 2025-06-04 01:58:17,251] Trial 17 finished with value: 0.1684558920048455 and parameters: {'C': 99.0779522464687, 'epsilon': 0.1208514196513123, 'kernel': 'rbf', 'gamma': 0.01252967750721644}. Best is trial 17 with value: 0.1684558920048455.\n",
      "[I 2025-06-04 01:58:17,343] Trial 18 finished with value: -0.047617342968909425 and parameters: {'C': 94.40004682634948, 'epsilon': 0.1717129141741991, 'kernel': 'rbf', 'gamma': 1.4810456320082142}. Best is trial 17 with value: 0.1684558920048455.\n",
      "[I 2025-06-04 01:58:17,435] Trial 19 finished with value: -0.03616410958911762 and parameters: {'C': 12.436759475489861, 'epsilon': 0.08975267671618109, 'kernel': 'rbf', 'gamma': 0.01455358406762433}. Best is trial 17 with value: 0.1684558920048455.\n",
      "[I 2025-06-04 01:58:17,527] Trial 20 finished with value: -0.20883232135592505 and parameters: {'C': 0.8488426612763342, 'epsilon': 0.033821426259438056, 'kernel': 'rbf', 'gamma': 0.09078123908333847}. Best is trial 17 with value: 0.1684558920048455.\n",
      "[I 2025-06-04 01:58:17,616] Trial 21 finished with value: 0.11381457123787417 and parameters: {'C': 44.35637533112202, 'epsilon': 0.1290716762030204, 'kernel': 'rbf', 'gamma': 0.013212193561666174}. Best is trial 17 with value: 0.1684558920048455.\n",
      "[I 2025-06-04 01:58:17,697] Trial 22 finished with value: 0.15267947265309184 and parameters: {'C': 51.75947377675894, 'epsilon': 0.27123150241948585, 'kernel': 'rbf', 'gamma': 0.002708624778105873}. Best is trial 17 with value: 0.1684558920048455.\n",
      "[I 2025-06-04 01:58:17,786] Trial 23 finished with value: 0.15648839089914562 and parameters: {'C': 61.04546981693904, 'epsilon': 0.3027884107061463, 'kernel': 'rbf', 'gamma': 0.0020363183540285028}. Best is trial 17 with value: 0.1684558920048455.\n",
      "[I 2025-06-04 01:58:17,867] Trial 24 finished with value: 0.15312575733335992 and parameters: {'C': 53.55848200954839, 'epsilon': 0.9305363490429615, 'kernel': 'rbf', 'gamma': 0.0021992686160733463}. Best is trial 17 with value: 0.1684558920048455.\n",
      "[I 2025-06-04 01:58:17,947] Trial 25 finished with value: 0.11354615662246666 and parameters: {'C': 18.822220249563294, 'epsilon': 0.9545950967079924, 'kernel': 'rbf', 'gamma': 0.001869884959457944}. Best is trial 17 with value: 0.1684558920048455.\n",
      "[I 2025-06-04 01:58:18,037] Trial 26 finished with value: -0.024592219530860104 and parameters: {'C': 6.322075850241975, 'epsilon': 0.5190816303363666, 'kernel': 'rbf', 'gamma': 0.007974568574846902}. Best is trial 17 with value: 0.1684558920048455.\n",
      "[I 2025-06-04 01:58:18,117] Trial 27 finished with value: 0.15228343429976504 and parameters: {'C': 53.478578161134294, 'epsilon': 0.42530984976604147, 'kernel': 'rbf', 'gamma': 0.002103683499371805}. Best is trial 17 with value: 0.1684558920048455.\n",
      "[I 2025-06-04 01:58:18,199] Trial 28 finished with value: 0.09340420172010924 and parameters: {'C': 6.9827729833198875, 'epsilon': 0.2872235271587188, 'kernel': 'rbf', 'gamma': 0.0010045669728484864}. Best is trial 17 with value: 0.1684558920048455.\n",
      "[I 2025-06-04 01:58:18,281] Trial 29 finished with value: -0.14611154216345906 and parameters: {'C': 19.75802389189972, 'epsilon': 0.5648106198534678, 'kernel': 'rbf', 'gamma': 0.05757638887648674}. Best is trial 17 with value: 0.1684558920048455.\n"
     ]
    }
   ],
   "source": [
    "study_svr = optuna.create_study(\n",
    "    direction='maximize',\n",
    "    sampler=TPESampler(seed=RANDOM_STATE)\n",
    ")\n",
    "study_svr.optimize(optimize_svr, n_trials=N_TRIALS_SVR)"
   ]
  },
  {
   "cell_type": "code",
   "execution_count": 134,
   "id": "0ae3ffb8",
   "metadata": {},
   "outputs": [
    {
     "name": "stdout",
     "output_type": "stream",
     "text": [
      "Лучшие параметры для SVR:\n",
      "{'C': 99.0779522464687, 'epsilon': 0.1208514196513123, 'kernel': 'rbf', 'gamma': 0.01252967750721644}\n",
      "Лучший R2: 0.1685\n"
     ]
    },
    {
     "data": {
      "application/vnd.plotly.v1+json": {
       "config": {
        "plotlyServerURL": "https://plot.ly"
       },
       "data": [
        {
         "mode": "markers",
         "name": "Objective Value",
         "type": "scatter",
         "x": [
          0,
          1,
          2,
          3,
          4,
          5,
          6,
          7,
          8,
          9,
          10,
          11,
          12,
          13,
          14,
          15,
          16,
          17,
          18,
          19,
          20,
          21,
          22,
          23,
          24,
          25,
          26,
          27,
          28,
          29
         ],
         "y": [
          -0.20894228897201605,
          0.03640710820818118,
          -0.20907038140542866,
          -0.1962480397089014,
          0.13022776284084184,
          -0.20973611465289332,
          -0.20898679940524686,
          -0.2080599811378502,
          -0.07588248795733132,
          0.05477419207578331,
          0.13658593278404338,
          0.09743166754119295,
          0.11867063947957401,
          0.11949232765828008,
          0.10296521201295954,
          -0.07042734520404434,
          0.08810882111740799,
          0.1684558920048455,
          -0.047617342968909425,
          -0.03616410958911762,
          -0.20883232135592505,
          0.11381457123787417,
          0.15267947265309184,
          0.15648839089914562,
          0.15312575733335992,
          0.11354615662246666,
          -0.024592219530860104,
          0.15228343429976504,
          0.09340420172010924,
          -0.14611154216345906
         ]
        },
        {
         "mode": "lines",
         "name": "Best Value",
         "type": "scatter",
         "x": [
          0,
          1,
          2,
          3,
          4,
          5,
          6,
          7,
          8,
          9,
          10,
          11,
          12,
          13,
          14,
          15,
          16,
          17,
          18,
          19,
          20,
          21,
          22,
          23,
          24,
          25,
          26,
          27,
          28,
          29
         ],
         "y": [
          -0.20894228897201605,
          0.03640710820818118,
          0.03640710820818118,
          0.03640710820818118,
          0.13022776284084184,
          0.13022776284084184,
          0.13022776284084184,
          0.13022776284084184,
          0.13022776284084184,
          0.13022776284084184,
          0.13658593278404338,
          0.13658593278404338,
          0.13658593278404338,
          0.13658593278404338,
          0.13658593278404338,
          0.13658593278404338,
          0.13658593278404338,
          0.1684558920048455,
          0.1684558920048455,
          0.1684558920048455,
          0.1684558920048455,
          0.1684558920048455,
          0.1684558920048455,
          0.1684558920048455,
          0.1684558920048455,
          0.1684558920048455,
          0.1684558920048455,
          0.1684558920048455,
          0.1684558920048455,
          0.1684558920048455
         ]
        },
        {
         "marker": {
          "color": "#cccccc"
         },
         "mode": "markers",
         "name": "Infeasible Trial",
         "showlegend": false,
         "type": "scatter",
         "x": [],
         "y": []
        }
       ],
       "layout": {
        "template": {
         "data": {
          "bar": [
           {
            "error_x": {
             "color": "#2a3f5f"
            },
            "error_y": {
             "color": "#2a3f5f"
            },
            "marker": {
             "line": {
              "color": "#E5ECF6",
              "width": 0.5
             },
             "pattern": {
              "fillmode": "overlay",
              "size": 10,
              "solidity": 0.2
             }
            },
            "type": "bar"
           }
          ],
          "barpolar": [
           {
            "marker": {
             "line": {
              "color": "#E5ECF6",
              "width": 0.5
             },
             "pattern": {
              "fillmode": "overlay",
              "size": 10,
              "solidity": 0.2
             }
            },
            "type": "barpolar"
           }
          ],
          "carpet": [
           {
            "aaxis": {
             "endlinecolor": "#2a3f5f",
             "gridcolor": "white",
             "linecolor": "white",
             "minorgridcolor": "white",
             "startlinecolor": "#2a3f5f"
            },
            "baxis": {
             "endlinecolor": "#2a3f5f",
             "gridcolor": "white",
             "linecolor": "white",
             "minorgridcolor": "white",
             "startlinecolor": "#2a3f5f"
            },
            "type": "carpet"
           }
          ],
          "choropleth": [
           {
            "colorbar": {
             "outlinewidth": 0,
             "ticks": ""
            },
            "type": "choropleth"
           }
          ],
          "contour": [
           {
            "colorbar": {
             "outlinewidth": 0,
             "ticks": ""
            },
            "colorscale": [
             [
              0,
              "#0d0887"
             ],
             [
              0.1111111111111111,
              "#46039f"
             ],
             [
              0.2222222222222222,
              "#7201a8"
             ],
             [
              0.3333333333333333,
              "#9c179e"
             ],
             [
              0.4444444444444444,
              "#bd3786"
             ],
             [
              0.5555555555555556,
              "#d8576b"
             ],
             [
              0.6666666666666666,
              "#ed7953"
             ],
             [
              0.7777777777777778,
              "#fb9f3a"
             ],
             [
              0.8888888888888888,
              "#fdca26"
             ],
             [
              1,
              "#f0f921"
             ]
            ],
            "type": "contour"
           }
          ],
          "contourcarpet": [
           {
            "colorbar": {
             "outlinewidth": 0,
             "ticks": ""
            },
            "type": "contourcarpet"
           }
          ],
          "heatmap": [
           {
            "colorbar": {
             "outlinewidth": 0,
             "ticks": ""
            },
            "colorscale": [
             [
              0,
              "#0d0887"
             ],
             [
              0.1111111111111111,
              "#46039f"
             ],
             [
              0.2222222222222222,
              "#7201a8"
             ],
             [
              0.3333333333333333,
              "#9c179e"
             ],
             [
              0.4444444444444444,
              "#bd3786"
             ],
             [
              0.5555555555555556,
              "#d8576b"
             ],
             [
              0.6666666666666666,
              "#ed7953"
             ],
             [
              0.7777777777777778,
              "#fb9f3a"
             ],
             [
              0.8888888888888888,
              "#fdca26"
             ],
             [
              1,
              "#f0f921"
             ]
            ],
            "type": "heatmap"
           }
          ],
          "histogram": [
           {
            "marker": {
             "pattern": {
              "fillmode": "overlay",
              "size": 10,
              "solidity": 0.2
             }
            },
            "type": "histogram"
           }
          ],
          "histogram2d": [
           {
            "colorbar": {
             "outlinewidth": 0,
             "ticks": ""
            },
            "colorscale": [
             [
              0,
              "#0d0887"
             ],
             [
              0.1111111111111111,
              "#46039f"
             ],
             [
              0.2222222222222222,
              "#7201a8"
             ],
             [
              0.3333333333333333,
              "#9c179e"
             ],
             [
              0.4444444444444444,
              "#bd3786"
             ],
             [
              0.5555555555555556,
              "#d8576b"
             ],
             [
              0.6666666666666666,
              "#ed7953"
             ],
             [
              0.7777777777777778,
              "#fb9f3a"
             ],
             [
              0.8888888888888888,
              "#fdca26"
             ],
             [
              1,
              "#f0f921"
             ]
            ],
            "type": "histogram2d"
           }
          ],
          "histogram2dcontour": [
           {
            "colorbar": {
             "outlinewidth": 0,
             "ticks": ""
            },
            "colorscale": [
             [
              0,
              "#0d0887"
             ],
             [
              0.1111111111111111,
              "#46039f"
             ],
             [
              0.2222222222222222,
              "#7201a8"
             ],
             [
              0.3333333333333333,
              "#9c179e"
             ],
             [
              0.4444444444444444,
              "#bd3786"
             ],
             [
              0.5555555555555556,
              "#d8576b"
             ],
             [
              0.6666666666666666,
              "#ed7953"
             ],
             [
              0.7777777777777778,
              "#fb9f3a"
             ],
             [
              0.8888888888888888,
              "#fdca26"
             ],
             [
              1,
              "#f0f921"
             ]
            ],
            "type": "histogram2dcontour"
           }
          ],
          "mesh3d": [
           {
            "colorbar": {
             "outlinewidth": 0,
             "ticks": ""
            },
            "type": "mesh3d"
           }
          ],
          "parcoords": [
           {
            "line": {
             "colorbar": {
              "outlinewidth": 0,
              "ticks": ""
             }
            },
            "type": "parcoords"
           }
          ],
          "pie": [
           {
            "automargin": true,
            "type": "pie"
           }
          ],
          "scatter": [
           {
            "fillpattern": {
             "fillmode": "overlay",
             "size": 10,
             "solidity": 0.2
            },
            "type": "scatter"
           }
          ],
          "scatter3d": [
           {
            "line": {
             "colorbar": {
              "outlinewidth": 0,
              "ticks": ""
             }
            },
            "marker": {
             "colorbar": {
              "outlinewidth": 0,
              "ticks": ""
             }
            },
            "type": "scatter3d"
           }
          ],
          "scattercarpet": [
           {
            "marker": {
             "colorbar": {
              "outlinewidth": 0,
              "ticks": ""
             }
            },
            "type": "scattercarpet"
           }
          ],
          "scattergeo": [
           {
            "marker": {
             "colorbar": {
              "outlinewidth": 0,
              "ticks": ""
             }
            },
            "type": "scattergeo"
           }
          ],
          "scattergl": [
           {
            "marker": {
             "colorbar": {
              "outlinewidth": 0,
              "ticks": ""
             }
            },
            "type": "scattergl"
           }
          ],
          "scattermap": [
           {
            "marker": {
             "colorbar": {
              "outlinewidth": 0,
              "ticks": ""
             }
            },
            "type": "scattermap"
           }
          ],
          "scattermapbox": [
           {
            "marker": {
             "colorbar": {
              "outlinewidth": 0,
              "ticks": ""
             }
            },
            "type": "scattermapbox"
           }
          ],
          "scatterpolar": [
           {
            "marker": {
             "colorbar": {
              "outlinewidth": 0,
              "ticks": ""
             }
            },
            "type": "scatterpolar"
           }
          ],
          "scatterpolargl": [
           {
            "marker": {
             "colorbar": {
              "outlinewidth": 0,
              "ticks": ""
             }
            },
            "type": "scatterpolargl"
           }
          ],
          "scatterternary": [
           {
            "marker": {
             "colorbar": {
              "outlinewidth": 0,
              "ticks": ""
             }
            },
            "type": "scatterternary"
           }
          ],
          "surface": [
           {
            "colorbar": {
             "outlinewidth": 0,
             "ticks": ""
            },
            "colorscale": [
             [
              0,
              "#0d0887"
             ],
             [
              0.1111111111111111,
              "#46039f"
             ],
             [
              0.2222222222222222,
              "#7201a8"
             ],
             [
              0.3333333333333333,
              "#9c179e"
             ],
             [
              0.4444444444444444,
              "#bd3786"
             ],
             [
              0.5555555555555556,
              "#d8576b"
             ],
             [
              0.6666666666666666,
              "#ed7953"
             ],
             [
              0.7777777777777778,
              "#fb9f3a"
             ],
             [
              0.8888888888888888,
              "#fdca26"
             ],
             [
              1,
              "#f0f921"
             ]
            ],
            "type": "surface"
           }
          ],
          "table": [
           {
            "cells": {
             "fill": {
              "color": "#EBF0F8"
             },
             "line": {
              "color": "white"
             }
            },
            "header": {
             "fill": {
              "color": "#C8D4E3"
             },
             "line": {
              "color": "white"
             }
            },
            "type": "table"
           }
          ]
         },
         "layout": {
          "annotationdefaults": {
           "arrowcolor": "#2a3f5f",
           "arrowhead": 0,
           "arrowwidth": 1
          },
          "autotypenumbers": "strict",
          "coloraxis": {
           "colorbar": {
            "outlinewidth": 0,
            "ticks": ""
           }
          },
          "colorscale": {
           "diverging": [
            [
             0,
             "#8e0152"
            ],
            [
             0.1,
             "#c51b7d"
            ],
            [
             0.2,
             "#de77ae"
            ],
            [
             0.3,
             "#f1b6da"
            ],
            [
             0.4,
             "#fde0ef"
            ],
            [
             0.5,
             "#f7f7f7"
            ],
            [
             0.6,
             "#e6f5d0"
            ],
            [
             0.7,
             "#b8e186"
            ],
            [
             0.8,
             "#7fbc41"
            ],
            [
             0.9,
             "#4d9221"
            ],
            [
             1,
             "#276419"
            ]
           ],
           "sequential": [
            [
             0,
             "#0d0887"
            ],
            [
             0.1111111111111111,
             "#46039f"
            ],
            [
             0.2222222222222222,
             "#7201a8"
            ],
            [
             0.3333333333333333,
             "#9c179e"
            ],
            [
             0.4444444444444444,
             "#bd3786"
            ],
            [
             0.5555555555555556,
             "#d8576b"
            ],
            [
             0.6666666666666666,
             "#ed7953"
            ],
            [
             0.7777777777777778,
             "#fb9f3a"
            ],
            [
             0.8888888888888888,
             "#fdca26"
            ],
            [
             1,
             "#f0f921"
            ]
           ],
           "sequentialminus": [
            [
             0,
             "#0d0887"
            ],
            [
             0.1111111111111111,
             "#46039f"
            ],
            [
             0.2222222222222222,
             "#7201a8"
            ],
            [
             0.3333333333333333,
             "#9c179e"
            ],
            [
             0.4444444444444444,
             "#bd3786"
            ],
            [
             0.5555555555555556,
             "#d8576b"
            ],
            [
             0.6666666666666666,
             "#ed7953"
            ],
            [
             0.7777777777777778,
             "#fb9f3a"
            ],
            [
             0.8888888888888888,
             "#fdca26"
            ],
            [
             1,
             "#f0f921"
            ]
           ]
          },
          "colorway": [
           "#636efa",
           "#EF553B",
           "#00cc96",
           "#ab63fa",
           "#FFA15A",
           "#19d3f3",
           "#FF6692",
           "#B6E880",
           "#FF97FF",
           "#FECB52"
          ],
          "font": {
           "color": "#2a3f5f"
          },
          "geo": {
           "bgcolor": "white",
           "lakecolor": "white",
           "landcolor": "#E5ECF6",
           "showlakes": true,
           "showland": true,
           "subunitcolor": "white"
          },
          "hoverlabel": {
           "align": "left"
          },
          "hovermode": "closest",
          "mapbox": {
           "style": "light"
          },
          "paper_bgcolor": "white",
          "plot_bgcolor": "#E5ECF6",
          "polar": {
           "angularaxis": {
            "gridcolor": "white",
            "linecolor": "white",
            "ticks": ""
           },
           "bgcolor": "#E5ECF6",
           "radialaxis": {
            "gridcolor": "white",
            "linecolor": "white",
            "ticks": ""
           }
          },
          "scene": {
           "xaxis": {
            "backgroundcolor": "#E5ECF6",
            "gridcolor": "white",
            "gridwidth": 2,
            "linecolor": "white",
            "showbackground": true,
            "ticks": "",
            "zerolinecolor": "white"
           },
           "yaxis": {
            "backgroundcolor": "#E5ECF6",
            "gridcolor": "white",
            "gridwidth": 2,
            "linecolor": "white",
            "showbackground": true,
            "ticks": "",
            "zerolinecolor": "white"
           },
           "zaxis": {
            "backgroundcolor": "#E5ECF6",
            "gridcolor": "white",
            "gridwidth": 2,
            "linecolor": "white",
            "showbackground": true,
            "ticks": "",
            "zerolinecolor": "white"
           }
          },
          "shapedefaults": {
           "line": {
            "color": "#2a3f5f"
           }
          },
          "ternary": {
           "aaxis": {
            "gridcolor": "white",
            "linecolor": "white",
            "ticks": ""
           },
           "baxis": {
            "gridcolor": "white",
            "linecolor": "white",
            "ticks": ""
           },
           "bgcolor": "#E5ECF6",
           "caxis": {
            "gridcolor": "white",
            "linecolor": "white",
            "ticks": ""
           }
          },
          "title": {
           "x": 0.05
          },
          "xaxis": {
           "automargin": true,
           "gridcolor": "white",
           "linecolor": "white",
           "ticks": "",
           "title": {
            "standoff": 15
           },
           "zerolinecolor": "white",
           "zerolinewidth": 2
          },
          "yaxis": {
           "automargin": true,
           "gridcolor": "white",
           "linecolor": "white",
           "ticks": "",
           "title": {
            "standoff": 15
           },
           "zerolinecolor": "white",
           "zerolinewidth": 2
          }
         }
        },
        "title": {
         "text": "Optimization History Plot"
        },
        "xaxis": {
         "title": {
          "text": "Trial"
         }
        },
        "yaxis": {
         "title": {
          "text": "Objective Value"
         }
        }
       }
      }
     },
     "metadata": {},
     "output_type": "display_data"
    },
    {
     "data": {
      "application/vnd.plotly.v1+json": {
       "config": {
        "plotlyServerURL": "https://plot.ly"
       },
       "data": [
        {
         "cliponaxis": false,
         "hovertemplate": [
          "kernel (CategoricalDistribution): 0.0<extra></extra>",
          "epsilon (FloatDistribution): 0.03862615174769692<extra></extra>",
          "gamma (FloatDistribution): 0.2239559897852155<extra></extra>",
          "C (FloatDistribution): 0.7374178584670875<extra></extra>"
         ],
         "name": "Objective Value",
         "orientation": "h",
         "text": [
          "<0.01",
          "0.04",
          "0.22",
          "0.74"
         ],
         "textposition": "outside",
         "type": "bar",
         "x": [
          0,
          0.03862615174769692,
          0.2239559897852155,
          0.7374178584670875
         ],
         "y": [
          "kernel",
          "epsilon",
          "gamma",
          "C"
         ]
        }
       ],
       "layout": {
        "template": {
         "data": {
          "bar": [
           {
            "error_x": {
             "color": "#2a3f5f"
            },
            "error_y": {
             "color": "#2a3f5f"
            },
            "marker": {
             "line": {
              "color": "#E5ECF6",
              "width": 0.5
             },
             "pattern": {
              "fillmode": "overlay",
              "size": 10,
              "solidity": 0.2
             }
            },
            "type": "bar"
           }
          ],
          "barpolar": [
           {
            "marker": {
             "line": {
              "color": "#E5ECF6",
              "width": 0.5
             },
             "pattern": {
              "fillmode": "overlay",
              "size": 10,
              "solidity": 0.2
             }
            },
            "type": "barpolar"
           }
          ],
          "carpet": [
           {
            "aaxis": {
             "endlinecolor": "#2a3f5f",
             "gridcolor": "white",
             "linecolor": "white",
             "minorgridcolor": "white",
             "startlinecolor": "#2a3f5f"
            },
            "baxis": {
             "endlinecolor": "#2a3f5f",
             "gridcolor": "white",
             "linecolor": "white",
             "minorgridcolor": "white",
             "startlinecolor": "#2a3f5f"
            },
            "type": "carpet"
           }
          ],
          "choropleth": [
           {
            "colorbar": {
             "outlinewidth": 0,
             "ticks": ""
            },
            "type": "choropleth"
           }
          ],
          "contour": [
           {
            "colorbar": {
             "outlinewidth": 0,
             "ticks": ""
            },
            "colorscale": [
             [
              0,
              "#0d0887"
             ],
             [
              0.1111111111111111,
              "#46039f"
             ],
             [
              0.2222222222222222,
              "#7201a8"
             ],
             [
              0.3333333333333333,
              "#9c179e"
             ],
             [
              0.4444444444444444,
              "#bd3786"
             ],
             [
              0.5555555555555556,
              "#d8576b"
             ],
             [
              0.6666666666666666,
              "#ed7953"
             ],
             [
              0.7777777777777778,
              "#fb9f3a"
             ],
             [
              0.8888888888888888,
              "#fdca26"
             ],
             [
              1,
              "#f0f921"
             ]
            ],
            "type": "contour"
           }
          ],
          "contourcarpet": [
           {
            "colorbar": {
             "outlinewidth": 0,
             "ticks": ""
            },
            "type": "contourcarpet"
           }
          ],
          "heatmap": [
           {
            "colorbar": {
             "outlinewidth": 0,
             "ticks": ""
            },
            "colorscale": [
             [
              0,
              "#0d0887"
             ],
             [
              0.1111111111111111,
              "#46039f"
             ],
             [
              0.2222222222222222,
              "#7201a8"
             ],
             [
              0.3333333333333333,
              "#9c179e"
             ],
             [
              0.4444444444444444,
              "#bd3786"
             ],
             [
              0.5555555555555556,
              "#d8576b"
             ],
             [
              0.6666666666666666,
              "#ed7953"
             ],
             [
              0.7777777777777778,
              "#fb9f3a"
             ],
             [
              0.8888888888888888,
              "#fdca26"
             ],
             [
              1,
              "#f0f921"
             ]
            ],
            "type": "heatmap"
           }
          ],
          "histogram": [
           {
            "marker": {
             "pattern": {
              "fillmode": "overlay",
              "size": 10,
              "solidity": 0.2
             }
            },
            "type": "histogram"
           }
          ],
          "histogram2d": [
           {
            "colorbar": {
             "outlinewidth": 0,
             "ticks": ""
            },
            "colorscale": [
             [
              0,
              "#0d0887"
             ],
             [
              0.1111111111111111,
              "#46039f"
             ],
             [
              0.2222222222222222,
              "#7201a8"
             ],
             [
              0.3333333333333333,
              "#9c179e"
             ],
             [
              0.4444444444444444,
              "#bd3786"
             ],
             [
              0.5555555555555556,
              "#d8576b"
             ],
             [
              0.6666666666666666,
              "#ed7953"
             ],
             [
              0.7777777777777778,
              "#fb9f3a"
             ],
             [
              0.8888888888888888,
              "#fdca26"
             ],
             [
              1,
              "#f0f921"
             ]
            ],
            "type": "histogram2d"
           }
          ],
          "histogram2dcontour": [
           {
            "colorbar": {
             "outlinewidth": 0,
             "ticks": ""
            },
            "colorscale": [
             [
              0,
              "#0d0887"
             ],
             [
              0.1111111111111111,
              "#46039f"
             ],
             [
              0.2222222222222222,
              "#7201a8"
             ],
             [
              0.3333333333333333,
              "#9c179e"
             ],
             [
              0.4444444444444444,
              "#bd3786"
             ],
             [
              0.5555555555555556,
              "#d8576b"
             ],
             [
              0.6666666666666666,
              "#ed7953"
             ],
             [
              0.7777777777777778,
              "#fb9f3a"
             ],
             [
              0.8888888888888888,
              "#fdca26"
             ],
             [
              1,
              "#f0f921"
             ]
            ],
            "type": "histogram2dcontour"
           }
          ],
          "mesh3d": [
           {
            "colorbar": {
             "outlinewidth": 0,
             "ticks": ""
            },
            "type": "mesh3d"
           }
          ],
          "parcoords": [
           {
            "line": {
             "colorbar": {
              "outlinewidth": 0,
              "ticks": ""
             }
            },
            "type": "parcoords"
           }
          ],
          "pie": [
           {
            "automargin": true,
            "type": "pie"
           }
          ],
          "scatter": [
           {
            "fillpattern": {
             "fillmode": "overlay",
             "size": 10,
             "solidity": 0.2
            },
            "type": "scatter"
           }
          ],
          "scatter3d": [
           {
            "line": {
             "colorbar": {
              "outlinewidth": 0,
              "ticks": ""
             }
            },
            "marker": {
             "colorbar": {
              "outlinewidth": 0,
              "ticks": ""
             }
            },
            "type": "scatter3d"
           }
          ],
          "scattercarpet": [
           {
            "marker": {
             "colorbar": {
              "outlinewidth": 0,
              "ticks": ""
             }
            },
            "type": "scattercarpet"
           }
          ],
          "scattergeo": [
           {
            "marker": {
             "colorbar": {
              "outlinewidth": 0,
              "ticks": ""
             }
            },
            "type": "scattergeo"
           }
          ],
          "scattergl": [
           {
            "marker": {
             "colorbar": {
              "outlinewidth": 0,
              "ticks": ""
             }
            },
            "type": "scattergl"
           }
          ],
          "scattermap": [
           {
            "marker": {
             "colorbar": {
              "outlinewidth": 0,
              "ticks": ""
             }
            },
            "type": "scattermap"
           }
          ],
          "scattermapbox": [
           {
            "marker": {
             "colorbar": {
              "outlinewidth": 0,
              "ticks": ""
             }
            },
            "type": "scattermapbox"
           }
          ],
          "scatterpolar": [
           {
            "marker": {
             "colorbar": {
              "outlinewidth": 0,
              "ticks": ""
             }
            },
            "type": "scatterpolar"
           }
          ],
          "scatterpolargl": [
           {
            "marker": {
             "colorbar": {
              "outlinewidth": 0,
              "ticks": ""
             }
            },
            "type": "scatterpolargl"
           }
          ],
          "scatterternary": [
           {
            "marker": {
             "colorbar": {
              "outlinewidth": 0,
              "ticks": ""
             }
            },
            "type": "scatterternary"
           }
          ],
          "surface": [
           {
            "colorbar": {
             "outlinewidth": 0,
             "ticks": ""
            },
            "colorscale": [
             [
              0,
              "#0d0887"
             ],
             [
              0.1111111111111111,
              "#46039f"
             ],
             [
              0.2222222222222222,
              "#7201a8"
             ],
             [
              0.3333333333333333,
              "#9c179e"
             ],
             [
              0.4444444444444444,
              "#bd3786"
             ],
             [
              0.5555555555555556,
              "#d8576b"
             ],
             [
              0.6666666666666666,
              "#ed7953"
             ],
             [
              0.7777777777777778,
              "#fb9f3a"
             ],
             [
              0.8888888888888888,
              "#fdca26"
             ],
             [
              1,
              "#f0f921"
             ]
            ],
            "type": "surface"
           }
          ],
          "table": [
           {
            "cells": {
             "fill": {
              "color": "#EBF0F8"
             },
             "line": {
              "color": "white"
             }
            },
            "header": {
             "fill": {
              "color": "#C8D4E3"
             },
             "line": {
              "color": "white"
             }
            },
            "type": "table"
           }
          ]
         },
         "layout": {
          "annotationdefaults": {
           "arrowcolor": "#2a3f5f",
           "arrowhead": 0,
           "arrowwidth": 1
          },
          "autotypenumbers": "strict",
          "coloraxis": {
           "colorbar": {
            "outlinewidth": 0,
            "ticks": ""
           }
          },
          "colorscale": {
           "diverging": [
            [
             0,
             "#8e0152"
            ],
            [
             0.1,
             "#c51b7d"
            ],
            [
             0.2,
             "#de77ae"
            ],
            [
             0.3,
             "#f1b6da"
            ],
            [
             0.4,
             "#fde0ef"
            ],
            [
             0.5,
             "#f7f7f7"
            ],
            [
             0.6,
             "#e6f5d0"
            ],
            [
             0.7,
             "#b8e186"
            ],
            [
             0.8,
             "#7fbc41"
            ],
            [
             0.9,
             "#4d9221"
            ],
            [
             1,
             "#276419"
            ]
           ],
           "sequential": [
            [
             0,
             "#0d0887"
            ],
            [
             0.1111111111111111,
             "#46039f"
            ],
            [
             0.2222222222222222,
             "#7201a8"
            ],
            [
             0.3333333333333333,
             "#9c179e"
            ],
            [
             0.4444444444444444,
             "#bd3786"
            ],
            [
             0.5555555555555556,
             "#d8576b"
            ],
            [
             0.6666666666666666,
             "#ed7953"
            ],
            [
             0.7777777777777778,
             "#fb9f3a"
            ],
            [
             0.8888888888888888,
             "#fdca26"
            ],
            [
             1,
             "#f0f921"
            ]
           ],
           "sequentialminus": [
            [
             0,
             "#0d0887"
            ],
            [
             0.1111111111111111,
             "#46039f"
            ],
            [
             0.2222222222222222,
             "#7201a8"
            ],
            [
             0.3333333333333333,
             "#9c179e"
            ],
            [
             0.4444444444444444,
             "#bd3786"
            ],
            [
             0.5555555555555556,
             "#d8576b"
            ],
            [
             0.6666666666666666,
             "#ed7953"
            ],
            [
             0.7777777777777778,
             "#fb9f3a"
            ],
            [
             0.8888888888888888,
             "#fdca26"
            ],
            [
             1,
             "#f0f921"
            ]
           ]
          },
          "colorway": [
           "#636efa",
           "#EF553B",
           "#00cc96",
           "#ab63fa",
           "#FFA15A",
           "#19d3f3",
           "#FF6692",
           "#B6E880",
           "#FF97FF",
           "#FECB52"
          ],
          "font": {
           "color": "#2a3f5f"
          },
          "geo": {
           "bgcolor": "white",
           "lakecolor": "white",
           "landcolor": "#E5ECF6",
           "showlakes": true,
           "showland": true,
           "subunitcolor": "white"
          },
          "hoverlabel": {
           "align": "left"
          },
          "hovermode": "closest",
          "mapbox": {
           "style": "light"
          },
          "paper_bgcolor": "white",
          "plot_bgcolor": "#E5ECF6",
          "polar": {
           "angularaxis": {
            "gridcolor": "white",
            "linecolor": "white",
            "ticks": ""
           },
           "bgcolor": "#E5ECF6",
           "radialaxis": {
            "gridcolor": "white",
            "linecolor": "white",
            "ticks": ""
           }
          },
          "scene": {
           "xaxis": {
            "backgroundcolor": "#E5ECF6",
            "gridcolor": "white",
            "gridwidth": 2,
            "linecolor": "white",
            "showbackground": true,
            "ticks": "",
            "zerolinecolor": "white"
           },
           "yaxis": {
            "backgroundcolor": "#E5ECF6",
            "gridcolor": "white",
            "gridwidth": 2,
            "linecolor": "white",
            "showbackground": true,
            "ticks": "",
            "zerolinecolor": "white"
           },
           "zaxis": {
            "backgroundcolor": "#E5ECF6",
            "gridcolor": "white",
            "gridwidth": 2,
            "linecolor": "white",
            "showbackground": true,
            "ticks": "",
            "zerolinecolor": "white"
           }
          },
          "shapedefaults": {
           "line": {
            "color": "#2a3f5f"
           }
          },
          "ternary": {
           "aaxis": {
            "gridcolor": "white",
            "linecolor": "white",
            "ticks": ""
           },
           "baxis": {
            "gridcolor": "white",
            "linecolor": "white",
            "ticks": ""
           },
           "bgcolor": "#E5ECF6",
           "caxis": {
            "gridcolor": "white",
            "linecolor": "white",
            "ticks": ""
           }
          },
          "title": {
           "x": 0.05
          },
          "xaxis": {
           "automargin": true,
           "gridcolor": "white",
           "linecolor": "white",
           "ticks": "",
           "title": {
            "standoff": 15
           },
           "zerolinecolor": "white",
           "zerolinewidth": 2
          },
          "yaxis": {
           "automargin": true,
           "gridcolor": "white",
           "linecolor": "white",
           "ticks": "",
           "title": {
            "standoff": 15
           },
           "zerolinecolor": "white",
           "zerolinewidth": 2
          }
         }
        },
        "title": {
         "text": "Hyperparameter Importances"
        },
        "xaxis": {
         "title": {
          "text": "Hyperparameter Importance"
         }
        },
        "yaxis": {
         "title": {
          "text": "Hyperparameter"
         }
        }
       }
      }
     },
     "metadata": {},
     "output_type": "display_data"
    }
   ],
   "source": [
    "print(f\"Лучшие параметры для SVR:\")\n",
    "print(study_svr.best_params)\n",
    "print(f\"Лучший R2: {study_svr.best_value:.4f}\")\n",
    "\n",
    "fig = optuna.visualization.plot_optimization_history(study_svr)\n",
    "fig.show()\n",
    "\n",
    "fig = optuna.visualization.plot_param_importances(study_svr)\n",
    "fig.show()"
   ]
  },
  {
   "cell_type": "code",
   "execution_count": 135,
   "id": "541d16fd",
   "metadata": {},
   "outputs": [
    {
     "data": {
      "text/html": [
       "<style>#sk-container-id-6 {\n",
       "  /* Definition of color scheme common for light and dark mode */\n",
       "  --sklearn-color-text: #000;\n",
       "  --sklearn-color-text-muted: #666;\n",
       "  --sklearn-color-line: gray;\n",
       "  /* Definition of color scheme for unfitted estimators */\n",
       "  --sklearn-color-unfitted-level-0: #fff5e6;\n",
       "  --sklearn-color-unfitted-level-1: #f6e4d2;\n",
       "  --sklearn-color-unfitted-level-2: #ffe0b3;\n",
       "  --sklearn-color-unfitted-level-3: chocolate;\n",
       "  /* Definition of color scheme for fitted estimators */\n",
       "  --sklearn-color-fitted-level-0: #f0f8ff;\n",
       "  --sklearn-color-fitted-level-1: #d4ebff;\n",
       "  --sklearn-color-fitted-level-2: #b3dbfd;\n",
       "  --sklearn-color-fitted-level-3: cornflowerblue;\n",
       "\n",
       "  /* Specific color for light theme */\n",
       "  --sklearn-color-text-on-default-background: var(--sg-text-color, var(--theme-code-foreground, var(--jp-content-font-color1, black)));\n",
       "  --sklearn-color-background: var(--sg-background-color, var(--theme-background, var(--jp-layout-color0, white)));\n",
       "  --sklearn-color-border-box: var(--sg-text-color, var(--theme-code-foreground, var(--jp-content-font-color1, black)));\n",
       "  --sklearn-color-icon: #696969;\n",
       "\n",
       "  @media (prefers-color-scheme: dark) {\n",
       "    /* Redefinition of color scheme for dark theme */\n",
       "    --sklearn-color-text-on-default-background: var(--sg-text-color, var(--theme-code-foreground, var(--jp-content-font-color1, white)));\n",
       "    --sklearn-color-background: var(--sg-background-color, var(--theme-background, var(--jp-layout-color0, #111)));\n",
       "    --sklearn-color-border-box: var(--sg-text-color, var(--theme-code-foreground, var(--jp-content-font-color1, white)));\n",
       "    --sklearn-color-icon: #878787;\n",
       "  }\n",
       "}\n",
       "\n",
       "#sk-container-id-6 {\n",
       "  color: var(--sklearn-color-text);\n",
       "}\n",
       "\n",
       "#sk-container-id-6 pre {\n",
       "  padding: 0;\n",
       "}\n",
       "\n",
       "#sk-container-id-6 input.sk-hidden--visually {\n",
       "  border: 0;\n",
       "  clip: rect(1px 1px 1px 1px);\n",
       "  clip: rect(1px, 1px, 1px, 1px);\n",
       "  height: 1px;\n",
       "  margin: -1px;\n",
       "  overflow: hidden;\n",
       "  padding: 0;\n",
       "  position: absolute;\n",
       "  width: 1px;\n",
       "}\n",
       "\n",
       "#sk-container-id-6 div.sk-dashed-wrapped {\n",
       "  border: 1px dashed var(--sklearn-color-line);\n",
       "  margin: 0 0.4em 0.5em 0.4em;\n",
       "  box-sizing: border-box;\n",
       "  padding-bottom: 0.4em;\n",
       "  background-color: var(--sklearn-color-background);\n",
       "}\n",
       "\n",
       "#sk-container-id-6 div.sk-container {\n",
       "  /* jupyter's `normalize.less` sets `[hidden] { display: none; }`\n",
       "     but bootstrap.min.css set `[hidden] { display: none !important; }`\n",
       "     so we also need the `!important` here to be able to override the\n",
       "     default hidden behavior on the sphinx rendered scikit-learn.org.\n",
       "     See: https://github.com/scikit-learn/scikit-learn/issues/21755 */\n",
       "  display: inline-block !important;\n",
       "  position: relative;\n",
       "}\n",
       "\n",
       "#sk-container-id-6 div.sk-text-repr-fallback {\n",
       "  display: none;\n",
       "}\n",
       "\n",
       "div.sk-parallel-item,\n",
       "div.sk-serial,\n",
       "div.sk-item {\n",
       "  /* draw centered vertical line to link estimators */\n",
       "  background-image: linear-gradient(var(--sklearn-color-text-on-default-background), var(--sklearn-color-text-on-default-background));\n",
       "  background-size: 2px 100%;\n",
       "  background-repeat: no-repeat;\n",
       "  background-position: center center;\n",
       "}\n",
       "\n",
       "/* Parallel-specific style estimator block */\n",
       "\n",
       "#sk-container-id-6 div.sk-parallel-item::after {\n",
       "  content: \"\";\n",
       "  width: 100%;\n",
       "  border-bottom: 2px solid var(--sklearn-color-text-on-default-background);\n",
       "  flex-grow: 1;\n",
       "}\n",
       "\n",
       "#sk-container-id-6 div.sk-parallel {\n",
       "  display: flex;\n",
       "  align-items: stretch;\n",
       "  justify-content: center;\n",
       "  background-color: var(--sklearn-color-background);\n",
       "  position: relative;\n",
       "}\n",
       "\n",
       "#sk-container-id-6 div.sk-parallel-item {\n",
       "  display: flex;\n",
       "  flex-direction: column;\n",
       "}\n",
       "\n",
       "#sk-container-id-6 div.sk-parallel-item:first-child::after {\n",
       "  align-self: flex-end;\n",
       "  width: 50%;\n",
       "}\n",
       "\n",
       "#sk-container-id-6 div.sk-parallel-item:last-child::after {\n",
       "  align-self: flex-start;\n",
       "  width: 50%;\n",
       "}\n",
       "\n",
       "#sk-container-id-6 div.sk-parallel-item:only-child::after {\n",
       "  width: 0;\n",
       "}\n",
       "\n",
       "/* Serial-specific style estimator block */\n",
       "\n",
       "#sk-container-id-6 div.sk-serial {\n",
       "  display: flex;\n",
       "  flex-direction: column;\n",
       "  align-items: center;\n",
       "  background-color: var(--sklearn-color-background);\n",
       "  padding-right: 1em;\n",
       "  padding-left: 1em;\n",
       "}\n",
       "\n",
       "\n",
       "/* Toggleable style: style used for estimator/Pipeline/ColumnTransformer box that is\n",
       "clickable and can be expanded/collapsed.\n",
       "- Pipeline and ColumnTransformer use this feature and define the default style\n",
       "- Estimators will overwrite some part of the style using the `sk-estimator` class\n",
       "*/\n",
       "\n",
       "/* Pipeline and ColumnTransformer style (default) */\n",
       "\n",
       "#sk-container-id-6 div.sk-toggleable {\n",
       "  /* Default theme specific background. It is overwritten whether we have a\n",
       "  specific estimator or a Pipeline/ColumnTransformer */\n",
       "  background-color: var(--sklearn-color-background);\n",
       "}\n",
       "\n",
       "/* Toggleable label */\n",
       "#sk-container-id-6 label.sk-toggleable__label {\n",
       "  cursor: pointer;\n",
       "  display: flex;\n",
       "  width: 100%;\n",
       "  margin-bottom: 0;\n",
       "  padding: 0.5em;\n",
       "  box-sizing: border-box;\n",
       "  text-align: center;\n",
       "  align-items: start;\n",
       "  justify-content: space-between;\n",
       "  gap: 0.5em;\n",
       "}\n",
       "\n",
       "#sk-container-id-6 label.sk-toggleable__label .caption {\n",
       "  font-size: 0.6rem;\n",
       "  font-weight: lighter;\n",
       "  color: var(--sklearn-color-text-muted);\n",
       "}\n",
       "\n",
       "#sk-container-id-6 label.sk-toggleable__label-arrow:before {\n",
       "  /* Arrow on the left of the label */\n",
       "  content: \"▸\";\n",
       "  float: left;\n",
       "  margin-right: 0.25em;\n",
       "  color: var(--sklearn-color-icon);\n",
       "}\n",
       "\n",
       "#sk-container-id-6 label.sk-toggleable__label-arrow:hover:before {\n",
       "  color: var(--sklearn-color-text);\n",
       "}\n",
       "\n",
       "/* Toggleable content - dropdown */\n",
       "\n",
       "#sk-container-id-6 div.sk-toggleable__content {\n",
       "  max-height: 0;\n",
       "  max-width: 0;\n",
       "  overflow: hidden;\n",
       "  text-align: left;\n",
       "  /* unfitted */\n",
       "  background-color: var(--sklearn-color-unfitted-level-0);\n",
       "}\n",
       "\n",
       "#sk-container-id-6 div.sk-toggleable__content.fitted {\n",
       "  /* fitted */\n",
       "  background-color: var(--sklearn-color-fitted-level-0);\n",
       "}\n",
       "\n",
       "#sk-container-id-6 div.sk-toggleable__content pre {\n",
       "  margin: 0.2em;\n",
       "  border-radius: 0.25em;\n",
       "  color: var(--sklearn-color-text);\n",
       "  /* unfitted */\n",
       "  background-color: var(--sklearn-color-unfitted-level-0);\n",
       "}\n",
       "\n",
       "#sk-container-id-6 div.sk-toggleable__content.fitted pre {\n",
       "  /* unfitted */\n",
       "  background-color: var(--sklearn-color-fitted-level-0);\n",
       "}\n",
       "\n",
       "#sk-container-id-6 input.sk-toggleable__control:checked~div.sk-toggleable__content {\n",
       "  /* Expand drop-down */\n",
       "  max-height: 200px;\n",
       "  max-width: 100%;\n",
       "  overflow: auto;\n",
       "}\n",
       "\n",
       "#sk-container-id-6 input.sk-toggleable__control:checked~label.sk-toggleable__label-arrow:before {\n",
       "  content: \"▾\";\n",
       "}\n",
       "\n",
       "/* Pipeline/ColumnTransformer-specific style */\n",
       "\n",
       "#sk-container-id-6 div.sk-label input.sk-toggleable__control:checked~label.sk-toggleable__label {\n",
       "  color: var(--sklearn-color-text);\n",
       "  background-color: var(--sklearn-color-unfitted-level-2);\n",
       "}\n",
       "\n",
       "#sk-container-id-6 div.sk-label.fitted input.sk-toggleable__control:checked~label.sk-toggleable__label {\n",
       "  background-color: var(--sklearn-color-fitted-level-2);\n",
       "}\n",
       "\n",
       "/* Estimator-specific style */\n",
       "\n",
       "/* Colorize estimator box */\n",
       "#sk-container-id-6 div.sk-estimator input.sk-toggleable__control:checked~label.sk-toggleable__label {\n",
       "  /* unfitted */\n",
       "  background-color: var(--sklearn-color-unfitted-level-2);\n",
       "}\n",
       "\n",
       "#sk-container-id-6 div.sk-estimator.fitted input.sk-toggleable__control:checked~label.sk-toggleable__label {\n",
       "  /* fitted */\n",
       "  background-color: var(--sklearn-color-fitted-level-2);\n",
       "}\n",
       "\n",
       "#sk-container-id-6 div.sk-label label.sk-toggleable__label,\n",
       "#sk-container-id-6 div.sk-label label {\n",
       "  /* The background is the default theme color */\n",
       "  color: var(--sklearn-color-text-on-default-background);\n",
       "}\n",
       "\n",
       "/* On hover, darken the color of the background */\n",
       "#sk-container-id-6 div.sk-label:hover label.sk-toggleable__label {\n",
       "  color: var(--sklearn-color-text);\n",
       "  background-color: var(--sklearn-color-unfitted-level-2);\n",
       "}\n",
       "\n",
       "/* Label box, darken color on hover, fitted */\n",
       "#sk-container-id-6 div.sk-label.fitted:hover label.sk-toggleable__label.fitted {\n",
       "  color: var(--sklearn-color-text);\n",
       "  background-color: var(--sklearn-color-fitted-level-2);\n",
       "}\n",
       "\n",
       "/* Estimator label */\n",
       "\n",
       "#sk-container-id-6 div.sk-label label {\n",
       "  font-family: monospace;\n",
       "  font-weight: bold;\n",
       "  display: inline-block;\n",
       "  line-height: 1.2em;\n",
       "}\n",
       "\n",
       "#sk-container-id-6 div.sk-label-container {\n",
       "  text-align: center;\n",
       "}\n",
       "\n",
       "/* Estimator-specific */\n",
       "#sk-container-id-6 div.sk-estimator {\n",
       "  font-family: monospace;\n",
       "  border: 1px dotted var(--sklearn-color-border-box);\n",
       "  border-radius: 0.25em;\n",
       "  box-sizing: border-box;\n",
       "  margin-bottom: 0.5em;\n",
       "  /* unfitted */\n",
       "  background-color: var(--sklearn-color-unfitted-level-0);\n",
       "}\n",
       "\n",
       "#sk-container-id-6 div.sk-estimator.fitted {\n",
       "  /* fitted */\n",
       "  background-color: var(--sklearn-color-fitted-level-0);\n",
       "}\n",
       "\n",
       "/* on hover */\n",
       "#sk-container-id-6 div.sk-estimator:hover {\n",
       "  /* unfitted */\n",
       "  background-color: var(--sklearn-color-unfitted-level-2);\n",
       "}\n",
       "\n",
       "#sk-container-id-6 div.sk-estimator.fitted:hover {\n",
       "  /* fitted */\n",
       "  background-color: var(--sklearn-color-fitted-level-2);\n",
       "}\n",
       "\n",
       "/* Specification for estimator info (e.g. \"i\" and \"?\") */\n",
       "\n",
       "/* Common style for \"i\" and \"?\" */\n",
       "\n",
       ".sk-estimator-doc-link,\n",
       "a:link.sk-estimator-doc-link,\n",
       "a:visited.sk-estimator-doc-link {\n",
       "  float: right;\n",
       "  font-size: smaller;\n",
       "  line-height: 1em;\n",
       "  font-family: monospace;\n",
       "  background-color: var(--sklearn-color-background);\n",
       "  border-radius: 1em;\n",
       "  height: 1em;\n",
       "  width: 1em;\n",
       "  text-decoration: none !important;\n",
       "  margin-left: 0.5em;\n",
       "  text-align: center;\n",
       "  /* unfitted */\n",
       "  border: var(--sklearn-color-unfitted-level-1) 1pt solid;\n",
       "  color: var(--sklearn-color-unfitted-level-1);\n",
       "}\n",
       "\n",
       ".sk-estimator-doc-link.fitted,\n",
       "a:link.sk-estimator-doc-link.fitted,\n",
       "a:visited.sk-estimator-doc-link.fitted {\n",
       "  /* fitted */\n",
       "  border: var(--sklearn-color-fitted-level-1) 1pt solid;\n",
       "  color: var(--sklearn-color-fitted-level-1);\n",
       "}\n",
       "\n",
       "/* On hover */\n",
       "div.sk-estimator:hover .sk-estimator-doc-link:hover,\n",
       ".sk-estimator-doc-link:hover,\n",
       "div.sk-label-container:hover .sk-estimator-doc-link:hover,\n",
       ".sk-estimator-doc-link:hover {\n",
       "  /* unfitted */\n",
       "  background-color: var(--sklearn-color-unfitted-level-3);\n",
       "  color: var(--sklearn-color-background);\n",
       "  text-decoration: none;\n",
       "}\n",
       "\n",
       "div.sk-estimator.fitted:hover .sk-estimator-doc-link.fitted:hover,\n",
       ".sk-estimator-doc-link.fitted:hover,\n",
       "div.sk-label-container:hover .sk-estimator-doc-link.fitted:hover,\n",
       ".sk-estimator-doc-link.fitted:hover {\n",
       "  /* fitted */\n",
       "  background-color: var(--sklearn-color-fitted-level-3);\n",
       "  color: var(--sklearn-color-background);\n",
       "  text-decoration: none;\n",
       "}\n",
       "\n",
       "/* Span, style for the box shown on hovering the info icon */\n",
       ".sk-estimator-doc-link span {\n",
       "  display: none;\n",
       "  z-index: 9999;\n",
       "  position: relative;\n",
       "  font-weight: normal;\n",
       "  right: .2ex;\n",
       "  padding: .5ex;\n",
       "  margin: .5ex;\n",
       "  width: min-content;\n",
       "  min-width: 20ex;\n",
       "  max-width: 50ex;\n",
       "  color: var(--sklearn-color-text);\n",
       "  box-shadow: 2pt 2pt 4pt #999;\n",
       "  /* unfitted */\n",
       "  background: var(--sklearn-color-unfitted-level-0);\n",
       "  border: .5pt solid var(--sklearn-color-unfitted-level-3);\n",
       "}\n",
       "\n",
       ".sk-estimator-doc-link.fitted span {\n",
       "  /* fitted */\n",
       "  background: var(--sklearn-color-fitted-level-0);\n",
       "  border: var(--sklearn-color-fitted-level-3);\n",
       "}\n",
       "\n",
       ".sk-estimator-doc-link:hover span {\n",
       "  display: block;\n",
       "}\n",
       "\n",
       "/* \"?\"-specific style due to the `<a>` HTML tag */\n",
       "\n",
       "#sk-container-id-6 a.estimator_doc_link {\n",
       "  float: right;\n",
       "  font-size: 1rem;\n",
       "  line-height: 1em;\n",
       "  font-family: monospace;\n",
       "  background-color: var(--sklearn-color-background);\n",
       "  border-radius: 1rem;\n",
       "  height: 1rem;\n",
       "  width: 1rem;\n",
       "  text-decoration: none;\n",
       "  /* unfitted */\n",
       "  color: var(--sklearn-color-unfitted-level-1);\n",
       "  border: var(--sklearn-color-unfitted-level-1) 1pt solid;\n",
       "}\n",
       "\n",
       "#sk-container-id-6 a.estimator_doc_link.fitted {\n",
       "  /* fitted */\n",
       "  border: var(--sklearn-color-fitted-level-1) 1pt solid;\n",
       "  color: var(--sklearn-color-fitted-level-1);\n",
       "}\n",
       "\n",
       "/* On hover */\n",
       "#sk-container-id-6 a.estimator_doc_link:hover {\n",
       "  /* unfitted */\n",
       "  background-color: var(--sklearn-color-unfitted-level-3);\n",
       "  color: var(--sklearn-color-background);\n",
       "  text-decoration: none;\n",
       "}\n",
       "\n",
       "#sk-container-id-6 a.estimator_doc_link.fitted:hover {\n",
       "  /* fitted */\n",
       "  background-color: var(--sklearn-color-fitted-level-3);\n",
       "}\n",
       "</style><div id=\"sk-container-id-6\" class=\"sk-top-container\"><div class=\"sk-text-repr-fallback\"><pre>SVR(C=99.0779522464687, epsilon=0.1208514196513123, gamma=0.01252967750721644)</pre><b>In a Jupyter environment, please rerun this cell to show the HTML representation or trust the notebook. <br />On GitHub, the HTML representation is unable to render, please try loading this page with nbviewer.org.</b></div><div class=\"sk-container\" hidden><div class=\"sk-item\"><div class=\"sk-estimator fitted sk-toggleable\"><input class=\"sk-toggleable__control sk-hidden--visually\" id=\"sk-estimator-id-6\" type=\"checkbox\" checked><label for=\"sk-estimator-id-6\" class=\"sk-toggleable__label fitted sk-toggleable__label-arrow\"><div><div>SVR</div></div><div><a class=\"sk-estimator-doc-link fitted\" rel=\"noreferrer\" target=\"_blank\" href=\"https://scikit-learn.org/1.6/modules/generated/sklearn.svm.SVR.html\">?<span>Documentation for SVR</span></a><span class=\"sk-estimator-doc-link fitted\">i<span>Fitted</span></span></div></label><div class=\"sk-toggleable__content fitted\"><pre>SVR(C=99.0779522464687, epsilon=0.1208514196513123, gamma=0.01252967750721644)</pre></div> </div></div></div></div>"
      ],
      "text/plain": [
       "SVR(C=99.0779522464687, epsilon=0.1208514196513123, gamma=0.01252967750721644)"
      ]
     },
     "execution_count": 135,
     "metadata": {},
     "output_type": "execute_result"
    }
   ],
   "source": [
    "best_svr_model = SVR(\n",
    "    **study_svr.best_params\n",
    ")\n",
    "best_svr_model.fit(X_train, y_train_ic50)"
   ]
  },
  {
   "cell_type": "markdown",
   "id": "3fcbabba",
   "metadata": {},
   "source": [
    "#### Оценка модели на лучшем наборе данных"
   ]
  },
  {
   "cell_type": "code",
   "execution_count": 136,
   "id": "b6333d4d",
   "metadata": {},
   "outputs": [
    {
     "name": "stdout",
     "output_type": "stream",
     "text": [
      "\n",
      "Final Metrics on Test Set:\n",
      "R2: 0.2163\n",
      "RMSE: 90.4937\n",
      "MAE: 54.3287\n",
      "MAPE: 1.5887\n"
     ]
    }
   ],
   "source": [
    "y_pred_best_svr = best_svr_model.predict(X_test)\n",
    "\n",
    "final_metrics_svr = {metric_name: metric_func(y_test_ic50, y_pred_best_svr) \n",
    "                 for metric_name, metric_func in metrics.items()}\n",
    "\n",
    "print(\"\\nFinal Metrics on Test Set:\")\n",
    "for metric, value in final_metrics_svr.items():\n",
    "    print(f\"{metric}: {value:.4f}\")"
   ]
  },
  {
   "cell_type": "code",
   "execution_count": 137,
   "id": "133984ae",
   "metadata": {},
   "outputs": [
    {
     "data": {
      "image/png": "[encoded data removed]",
      "text/plain": [
       "<Figure size 1000x600 with 1 Axes>"
      ]
     },
     "metadata": {},
     "output_type": "display_data"
    }
   ],
   "source": [
    "plt.figure(figsize=(10, 6))\n",
    "plt.scatter(y_test_ic50, y_pred_best_svr, alpha=0.5)\n",
    "plt.plot([min(y_test_ic50), max(y_test_ic50)], \n",
    "         [min(y_test_ic50), max(y_test_ic50)], 'r--')\n",
    "plt.xlabel('True SI')\n",
    "plt.ylabel('Predicted SI')\n",
    "plt.title('True vs Predicted SI Values')\n",
    "plt.grid(True)\n",
    "plt.show()"
   ]
  },
  {
   "cell_type": "markdown",
   "id": "87a7dd94",
   "metadata": {},
   "source": [
    "#### Анализ важности признаков"
   ]
  },
  {
   "cell_type": "code",
   "execution_count": 138,
   "id": "48d4e676",
   "metadata": {},
   "outputs": [],
   "source": [
    "if hasattr(best_svr_model, 'feature_importances_'):\n",
    "    importances = best_svr_model.feature_importances_\n",
    "    feature_names = X.columns if isinstance(X, pd.DataFrame) else [f\"Feature {i}\" for i in range(X.shape[1])]\n",
    "    \n",
    "    sorted_idx = importances.argsort()[::-1]\n",
    "    top_features = 20\n",
    "    \n",
    "    plt.figure(figsize=(12, 8))\n",
    "    plt.barh(range(top_features), importances[sorted_idx][:top_features], align='center')\n",
    "    plt.yticks(range(top_features), [feature_names[i] for i in sorted_idx[:top_features]])\n",
    "    plt.gca().invert_yaxis()\n",
    "    plt.xlabel('Feature Importance')\n",
    "    plt.title('Top Important Features for SI Prediction')\n",
    "    plt.tight_layout()\n",
    "    plt.show()"
   ]
  },
  {
   "cell_type": "markdown",
   "id": "841b6143",
   "metadata": {},
   "source": [
    "## Сравнение моделей"
   ]
  },
  {
   "cell_type": "code",
   "execution_count": 139,
   "id": "e070a47e",
   "metadata": {},
   "outputs": [],
   "source": [
    "metrics_comparisson = {\n",
    "    \"RF\": final_metrics_rf,\n",
    "    \"XGB\": final_metrics_xgb,\n",
    "    \"SVR\": final_metrics_svr\n",
    "}\n",
    "\n",
    "df_metrics = pd.DataFrame(metrics_comparisson)"
   ]
  },
  {
   "cell_type": "code",
   "execution_count": 140,
   "id": "e0e512c0",
   "metadata": {},
   "outputs": [
    {
     "data": {
      "text/html": [
       "<div>\n",
       "<style scoped>\n",
       "    .dataframe tbody tr th:only-of-type {\n",
       "        vertical-align: middle;\n",
       "    }\n",
       "\n",
       "    .dataframe tbody tr th {\n",
       "        vertical-align: top;\n",
       "    }\n",
       "\n",
       "    .dataframe thead th {\n",
       "        text-align: right;\n",
       "    }\n",
       "</style>\n",
       "<table border=\"1\" class=\"dataframe\">\n",
       "  <thead>\n",
       "    <tr style=\"text-align: right;\">\n",
       "      <th></th>\n",
       "      <th>RF</th>\n",
       "      <th>XGB</th>\n",
       "      <th>SVR</th>\n",
       "    </tr>\n",
       "  </thead>\n",
       "  <tbody>\n",
       "    <tr>\n",
       "      <th>R2</th>\n",
       "      <td>0.278785</td>\n",
       "      <td>0.370194</td>\n",
       "      <td>0.216336</td>\n",
       "    </tr>\n",
       "    <tr>\n",
       "      <th>RMSE</th>\n",
       "      <td>86.813123</td>\n",
       "      <td>81.125364</td>\n",
       "      <td>90.493658</td>\n",
       "    </tr>\n",
       "    <tr>\n",
       "      <th>MAE</th>\n",
       "      <td>58.214873</td>\n",
       "      <td>50.347651</td>\n",
       "      <td>54.328711</td>\n",
       "    </tr>\n",
       "    <tr>\n",
       "      <th>MAPE</th>\n",
       "      <td>2.504802</td>\n",
       "      <td>1.574592</td>\n",
       "      <td>1.588681</td>\n",
       "    </tr>\n",
       "  </tbody>\n",
       "</table>\n",
       "</div>"
      ],
      "text/plain": [
       "             RF        XGB        SVR\n",
       "R2     0.278785   0.370194   0.216336\n",
       "RMSE  86.813123  81.125364  90.493658\n",
       "MAE   58.214873  50.347651  54.328711\n",
       "MAPE   2.504802   1.574592   1.588681"
      ]
     },
     "execution_count": 140,
     "metadata": {},
     "output_type": "execute_result"
    }
   ],
   "source": [
    "df_metrics"
   ]
  },
  {
   "cell_type": "code",
   "execution_count": 141,
   "id": "485de52c",
   "metadata": {},
   "outputs": [
    {
     "name": "stderr",
     "output_type": "stream",
     "text": [
      "/opt/anaconda3/envs/arima-env/lib/python3.11/site-packages/seaborn/axisgrid.py:854: FutureWarning:\n",
      "\n",
      "\n",
      "\n",
      "The `ci` parameter is deprecated. Use `errorbar=None` for the same effect.\n",
      "\n",
      "\n",
      "/opt/anaconda3/envs/arima-env/lib/python3.11/site-packages/seaborn/axisgrid.py:854: FutureWarning:\n",
      "\n",
      "\n",
      "\n",
      "Passing `palette` without assigning `hue` is deprecated and will be removed in v0.14.0. Assign the `x` variable to `hue` and set `legend=False` for the same effect.\n",
      "\n",
      "\n",
      "/opt/anaconda3/envs/arima-env/lib/python3.11/site-packages/seaborn/axisgrid.py:854: FutureWarning:\n",
      "\n",
      "\n",
      "\n",
      "The `ci` parameter is deprecated. Use `errorbar=None` for the same effect.\n",
      "\n",
      "\n",
      "/opt/anaconda3/envs/arima-env/lib/python3.11/site-packages/seaborn/axisgrid.py:854: FutureWarning:\n",
      "\n",
      "\n",
      "\n",
      "Passing `palette` without assigning `hue` is deprecated and will be removed in v0.14.0. Assign the `x` variable to `hue` and set `legend=False` for the same effect.\n",
      "\n",
      "\n",
      "/opt/anaconda3/envs/arima-env/lib/python3.11/site-packages/seaborn/axisgrid.py:854: FutureWarning:\n",
      "\n",
      "\n",
      "\n",
      "The `ci` parameter is deprecated. Use `errorbar=None` for the same effect.\n",
      "\n",
      "\n",
      "/opt/anaconda3/envs/arima-env/lib/python3.11/site-packages/seaborn/axisgrid.py:854: FutureWarning:\n",
      "\n",
      "\n",
      "\n",
      "Passing `palette` without assigning `hue` is deprecated and will be removed in v0.14.0. Assign the `x` variable to `hue` and set `legend=False` for the same effect.\n",
      "\n",
      "\n",
      "/opt/anaconda3/envs/arima-env/lib/python3.11/site-packages/seaborn/axisgrid.py:854: FutureWarning:\n",
      "\n",
      "\n",
      "\n",
      "The `ci` parameter is deprecated. Use `errorbar=None` for the same effect.\n",
      "\n",
      "\n",
      "/opt/anaconda3/envs/arima-env/lib/python3.11/site-packages/seaborn/axisgrid.py:854: FutureWarning:\n",
      "\n",
      "\n",
      "\n",
      "Passing `palette` without assigning `hue` is deprecated and will be removed in v0.14.0. Assign the `x` variable to `hue` and set `legend=False` for the same effect.\n",
      "\n",
      "\n"
     ]
    },
    {
     "data": {
      "image/png": "[encoded data removed]",
      "text/plain": [
       "<Figure size 600x600 with 4 Axes>"
      ]
     },
     "metadata": {},
     "output_type": "display_data"
    }
   ],
   "source": [
    "plot_data = df_metrics.T.reset_index().melt(id_vars='index', var_name='Metric', value_name='Value')\n",
    "\n",
    "palette = sns.color_palette(\"viridis\", n_colors=len(plot_data['index'].unique()))\n",
    "\n",
    "g = sns.FacetGrid(plot_data, col=\"Metric\", col_wrap=2, sharey=False)\n",
    "g.map_dataframe(sns.barplot, x=\"index\", y=\"Value\", palette=palette, ci=None)\n",
    "g.set_titles(\"{col_name}\")\n",
    "\n",
    "for ax in g.axes:\n",
    "    for p in ax.patches:\n",
    "        ax.annotate(f\"{p.get_height():.2f}\", \n",
    "                    (p.get_x() + p.get_width() / 2., p.get_height()),\n",
    "                    ha='center', va='center', fontsize=10, color='black', xytext=(0, 5),\n",
    "                    textcoords='offset points')\n",
    "\n",
    "g.tight_layout()\n",
    "plt.show()"
   ]
  },
  {
   "cell_type": "markdown",
   "id": "88c8b0fc",
   "metadata": {},
   "source": [
    "Очевидно, Random Forest является лучшей моделью"
   ]
  }
 ],
 "metadata": {
  "kernelspec": {
   "display_name": "arima-env",
   "language": "python",
   "name": "python3"
  },
  "language_info": {
   "codemirror_mode": {
    "name": "ipython",
    "version": 3
   },
   "file_extension": ".py",
   "mimetype": "text/x-python",
   "name": "python",
   "nbconvert_exporter": "python",
   "pygments_lexer": "ipython3",
   "version": "3.11.8"
  }
 },
 "nbformat": 4,
 "nbformat_minor": 5
}
